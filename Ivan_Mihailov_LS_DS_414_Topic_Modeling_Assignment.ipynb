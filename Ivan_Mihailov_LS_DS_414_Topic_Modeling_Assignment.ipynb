{
  "nbformat": 4,
  "nbformat_minor": 0,
  "metadata": {
    "kernelspec": {
      "display_name": "py37  (Python3)",
      "language": "python",
      "name": "py37"
    },
    "language_info": {
      "codemirror_mode": {
        "name": "ipython",
        "version": 3
      },
      "file_extension": ".py",
      "mimetype": "text/x-python",
      "name": "python",
      "nbconvert_exporter": "python",
      "pygments_lexer": "ipython3",
      "version": "3.7.0"
    },
    "colab": {
      "name": "Ivan_Mihailov_LS_DS_414_Topic_Modeling_Assignment.ipynb",
      "provenance": [],
      "collapsed_sections": [],
      "include_colab_link": true
    }
  },
  "cells": [
    {
      "cell_type": "markdown",
      "metadata": {
        "id": "view-in-github",
        "colab_type": "text"
      },
      "source": [
        "<a href=\"https://colab.research.google.com/github/ivan-mihailov/LS-Unit-4-Sprint-1/blob/main/Ivan_Mihailov_LS_DS_414_Topic_Modeling_Assignment.ipynb\" target=\"_parent\"><img src=\"https://colab.research.google.com/assets/colab-badge.svg\" alt=\"Open In Colab\"/></a>"
      ]
    },
    {
      "cell_type": "markdown",
      "metadata": {
        "id": "5utTU63WzGd3"
      },
      "source": [
        "<img align=\"left\" src=\"https://lever-client-logos.s3.amazonaws.com/864372b1-534c-480e-acd5-9711f850815c-1524247202159.png\" width=200>\n",
        "<br></br>\n",
        "<br></br>\n",
        "\n",
        "# Topic Modeling\n",
        "## *Data Science Unit 4 Sprint 1 Assignment 4*\n",
        "\n",
        "**Analyze a corpus of Amazon reviews from Unit 4 Sprint 1 Module 1's using topic modeling: \n",
        "\n",
        "- Load in the Amazon Review dataset\n",
        "- Clean the dataset \n",
        "- Vectorize the dataset \n",
        "- Fit a Gensim LDA topic model on Amazon Reviews\n",
        "- Select appropriate number of topics\n",
        "- Create some dope visualization of the topics\n",
        "- Write a few bullets on your findings in markdown at the end\n",
        "- **Note**: You don't *have* to use generators for this assignment"
      ]
    },
    {
      "cell_type": "code",
      "metadata": {
        "colab": {
          "base_uri": "https://localhost:8080/"
        },
        "id": "c_L4bKk_4E84",
        "outputId": "c2646bb3-d54d-4201-c0d1-b87058006992"
      },
      "source": [
        "!git clone https://github.com/LambdaSchool/DS-Unit-4-Sprint-1-NLP.git"
      ],
      "execution_count": 2,
      "outputs": [
        {
          "output_type": "stream",
          "text": [
            "Cloning into 'DS-Unit-4-Sprint-1-NLP'...\n",
            "remote: Enumerating objects: 1528, done.\u001b[K\n",
            "remote: Total 1528 (delta 0), reused 0 (delta 0), pack-reused 1528\u001b[K\n",
            "Receiving objects: 100% (1528/1528), 56.37 MiB | 22.12 MiB/s, done.\n",
            "Resolving deltas: 100% (169/169), done.\n"
          ],
          "name": "stdout"
        }
      ]
    },
    {
      "cell_type": "code",
      "metadata": {
        "id": "IrHhaizu3ghr"
      },
      "source": [
        "!pip install pyLDAvis"
      ],
      "execution_count": null,
      "outputs": []
    },
    {
      "cell_type": "code",
      "metadata": {
        "id": "1ZoYw_O0_0jF"
      },
      "source": [
        "!pip install pandarallel==1.4.8"
      ],
      "execution_count": null,
      "outputs": []
    },
    {
      "cell_type": "code",
      "metadata": {
        "id": "rXrXC0mrzGd5"
      },
      "source": [
        "import re\n",
        "import pandas as pd\n",
        "import numpy as np\n",
        "import matplotlib.pyplot as plt\n",
        "from sklearn.feature_extraction.text import CountVectorizer, TfidfVectorizer\n",
        "\n",
        "import spacy\n",
        "spacy.util.fix_random_seed(0)\n",
        "\n",
        "import pyLDAvis\n",
        "import pyLDAvis.gensim_models \n",
        "\n",
        "import gensim\n",
        "import gensim.corpora as corpora\n",
        "from gensim.utils import simple_preprocess\n",
        "from gensim.models import CoherenceModel\n",
        "\n",
        "from pandarallel import pandarallel\n",
        "\n",
        "%matplotlib inline\n",
        "\n",
        "import warnings\n",
        "warnings.filterwarnings(\"ignore\")"
      ],
      "execution_count": null,
      "outputs": []
    },
    {
      "cell_type": "markdown",
      "metadata": {
        "id": "x9ph4ZzpzGd6"
      },
      "source": [
        "----\n",
        "### Load the Amazon Review corpus \n",
        "This dataset is located in the Sprint 1 Module 1 directory. \n",
        "\n",
        "If the provided relative path doesn't work for you, then you'll have to provide the file path so pandas can read in the file."
      ]
    },
    {
      "cell_type": "code",
      "metadata": {
        "colab": {
          "base_uri": "https://localhost:8080/"
        },
        "id": "7__zXIF_504B",
        "outputId": "23bc7ec4-925a-4bc2-debc-cb6a97cb0f61"
      },
      "source": [
        "!unzip '/content/DS-Unit-4-Sprint-1-NLP/module1-text-data/data/Datafiniti_Amazon_Consumer_Reviews_of_Amazon_Products_May19.csv.zip'"
      ],
      "execution_count": 5,
      "outputs": [
        {
          "output_type": "stream",
          "text": [
            "Archive:  /content/DS-Unit-4-Sprint-1-NLP/module1-text-data/data/Datafiniti_Amazon_Consumer_Reviews_of_Amazon_Products_May19.csv.zip\n",
            "replace Datafiniti_Amazon_Consumer_Reviews_of_Amazon_Products_May19.csv? [y]es, [n]o, [A]ll, [N]one, [r]ename: y\n",
            "  inflating: Datafiniti_Amazon_Consumer_Reviews_of_Amazon_Products_May19.csv  \n",
            "   creating: __MACOSX/\n",
            "  inflating: __MACOSX/._Datafiniti_Amazon_Consumer_Reviews_of_Amazon_Products_May19.csv  \n"
          ],
          "name": "stdout"
        }
      ]
    },
    {
      "cell_type": "code",
      "metadata": {
        "id": "Ov482n4pzGd6"
      },
      "source": [
        "data_path = \"/content/Datafiniti_Amazon_Consumer_Reviews_of_Amazon_Products_May19.csv\"\n",
        "df = pd.read_csv(data_path)"
      ],
      "execution_count": 4,
      "outputs": []
    },
    {
      "cell_type": "code",
      "metadata": {
        "id": "-yZZEwZNzGd7"
      },
      "source": [
        "df.head(2)"
      ],
      "execution_count": null,
      "outputs": []
    },
    {
      "cell_type": "markdown",
      "metadata": {
        "id": "kdwr6x8PzGd7"
      },
      "source": [
        "----\n",
        "\n",
        "### Clean data\n",
        "\n",
        "- Create a function called `clean_data` that uses regex expressions to clean your data in preparation for the vectorizer. \n",
        "\n",
        "- Save the clean text data to a column in your dataframe named `clean_text`\n",
        "\n",
        "- Feel free to re-use old code that you have written in previous modules  "
      ]
    },
    {
      "cell_type": "code",
      "metadata": {
        "colab": {
          "base_uri": "https://localhost:8080/"
        },
        "id": "g5cL1Amq8iT_",
        "outputId": "69c994d9-816c-4338-91ef-1867ff1ed630"
      },
      "source": [
        "df.shape"
      ],
      "execution_count": 5,
      "outputs": [
        {
          "output_type": "execute_result",
          "data": {
            "text/plain": [
              "(28332, 24)"
            ]
          },
          "metadata": {
            "tags": []
          },
          "execution_count": 5
        }
      ]
    },
    {
      "cell_type": "code",
      "metadata": {
        "colab": {
          "base_uri": "https://localhost:8080/",
          "height": 35
        },
        "id": "dgW6kglx8T_l",
        "outputId": "fa360652-d3c3-48ed-94df-53fe42153e1f"
      },
      "source": [
        "df['reviews.text'][8505]"
      ],
      "execution_count": 20,
      "outputs": [
        {
          "output_type": "execute_result",
          "data": {
            "application/vnd.google.colaboratory.intrinsic+json": {
              "type": "string"
            },
            "text/plain": [
              "'Have had zero issues with longevity or voltage. As good as the major brand batteries'"
            ]
          },
          "metadata": {
            "tags": []
          },
          "execution_count": 20
        }
      ]
    },
    {
      "cell_type": "code",
      "metadata": {
        "deletable": false,
        "nbgrader": {
          "cell_type": "code",
          "checksum": "a2513c0ebd04cf8645fe0a1feb1e1a36",
          "grade": false,
          "grade_id": "cell-fa0950cfe5ef7725",
          "locked": false,
          "schema_version": 3,
          "solution": true,
          "task": false
        },
        "id": "4xo_hkHKzGd7"
      },
      "source": [
        "def clean_data(text):\n",
        "  \"\"\"\n",
        "  Cleans data to remove unwanted characters and punctuation.\n",
        "  \"\"\"\n",
        "  # remove newline and '\\xa0' characters\n",
        "  text = \" \".join(text.split())\n",
        "  # remove punctuation\n",
        "  text = re.sub('[^a-zA-Z$ 0-9]', '', text)\n",
        "  # remove any double whitespaces created by cleaning\n",
        "  text = re.sub(\"[ ]{2,}\", ' ', text)\n",
        "\n",
        "  return text.lower()"
      ],
      "execution_count": 6,
      "outputs": []
    },
    {
      "cell_type": "code",
      "metadata": {
        "deletable": false,
        "nbgrader": {
          "cell_type": "code",
          "checksum": "a6ceefe5476e71efcb3d36c3e203616f",
          "grade": false,
          "grade_id": "cell-5b8e2bc0f9a745f3",
          "locked": false,
          "schema_version": 3,
          "solution": true,
          "task": false
        },
        "id": "H693L3fJzGd8"
      },
      "source": [
        "# save to cleaned review articles to a feature named `clean_text`\n",
        "df['clean_text'] = df['reviews.text'].apply(clean_data)"
      ],
      "execution_count": 7,
      "outputs": []
    },
    {
      "cell_type": "code",
      "metadata": {
        "id": "5FMvAhkBzGd8"
      },
      "source": [
        "alphebetical_chars = [\"ABCDEFGHIJKLMNOP\"]\n",
        "# check if any of these alphabetical chars exist in your clean chars\n",
        "assert df.clean_text.isin(alphebetical_chars).sum() == 0, \"Did you case normalize your text inside of your clean_data function?\""
      ],
      "execution_count": 8,
      "outputs": []
    },
    {
      "cell_type": "markdown",
      "metadata": {
        "id": "kzqt1ainzGd8"
      },
      "source": [
        "------\n",
        "\n",
        "## Determine number of topics\n",
        "\n",
        "We are going to run an experiment to determine how many topics exists within the `primaryCategories` of `Electronics`. This is the largest primary category containing nearly 14K documents, so we should have plenty of data. \n",
        "\n",
        "Just as we did in the guided project, we'll be running a gridseach over the number of topics and scoring each model using the Coherence metric to determine which number of topics we should use. \n"
      ]
    },
    {
      "cell_type": "code",
      "metadata": {
        "id": "3jrHewGbzGd9"
      },
      "source": [
        "# create a mask for docs that are in the Electronics primaryCategories - save result to `electronics_mask`\n",
        "electronics_mask = df.primaryCategories.isin([\"Electronics\"])\n",
        "\n",
        "# use msak to isolate all the documents in the Electronics primaryCategories - save result to `df_electronics`\n",
        "df_electronics = df[electronics_mask]"
      ],
      "execution_count": 9,
      "outputs": []
    },
    {
      "cell_type": "code",
      "metadata": {
        "colab": {
          "base_uri": "https://localhost:8080/",
          "height": 378
        },
        "id": "peb18zW3zGd9",
        "outputId": "951c83b3-2413-47b8-e36c-b633f219c35c"
      },
      "source": [
        "df_electronics.head(3)"
      ],
      "execution_count": 10,
      "outputs": [
        {
          "output_type": "execute_result",
          "data": {
            "text/html": [
              "<div>\n",
              "<style scoped>\n",
              "    .dataframe tbody tr th:only-of-type {\n",
              "        vertical-align: middle;\n",
              "    }\n",
              "\n",
              "    .dataframe tbody tr th {\n",
              "        vertical-align: top;\n",
              "    }\n",
              "\n",
              "    .dataframe thead th {\n",
              "        text-align: right;\n",
              "    }\n",
              "</style>\n",
              "<table border=\"1\" class=\"dataframe\">\n",
              "  <thead>\n",
              "    <tr style=\"text-align: right;\">\n",
              "      <th></th>\n",
              "      <th>id</th>\n",
              "      <th>dateAdded</th>\n",
              "      <th>dateUpdated</th>\n",
              "      <th>name</th>\n",
              "      <th>asins</th>\n",
              "      <th>brand</th>\n",
              "      <th>categories</th>\n",
              "      <th>primaryCategories</th>\n",
              "      <th>imageURLs</th>\n",
              "      <th>keys</th>\n",
              "      <th>manufacturer</th>\n",
              "      <th>manufacturerNumber</th>\n",
              "      <th>reviews.date</th>\n",
              "      <th>reviews.dateSeen</th>\n",
              "      <th>reviews.didPurchase</th>\n",
              "      <th>reviews.doRecommend</th>\n",
              "      <th>reviews.id</th>\n",
              "      <th>reviews.numHelpful</th>\n",
              "      <th>reviews.rating</th>\n",
              "      <th>reviews.sourceURLs</th>\n",
              "      <th>reviews.text</th>\n",
              "      <th>reviews.title</th>\n",
              "      <th>reviews.username</th>\n",
              "      <th>sourceURLs</th>\n",
              "      <th>clean_text</th>\n",
              "    </tr>\n",
              "  </thead>\n",
              "  <tbody>\n",
              "    <tr>\n",
              "      <th>8343</th>\n",
              "      <td>AVpe7nGV1cnluZ0-aG2o</td>\n",
              "      <td>2014-10-28T11:14:38Z</td>\n",
              "      <td>2019-04-25T09:05:28Z</td>\n",
              "      <td>AmazonBasics Nylon CD/DVD Binder (400 Capacity)</td>\n",
              "      <td>B00DIHVMEA,B00EZ1ZTV0</td>\n",
              "      <td>Amazonbasics</td>\n",
              "      <td>Audio &amp; Video Accessories,TV, Video &amp; Home Aud...</td>\n",
              "      <td>Electronics</td>\n",
              "      <td>http://ecx.images-amazon.com/images/I/41jQha7Z...</td>\n",
              "      <td>amazonbasicsnyloncddvdbinder400capacity/b00ez1...</td>\n",
              "      <td>AmazonBasics</td>\n",
              "      <td>YBB12400R2</td>\n",
              "      <td>2017-11-12T00:00:00.000Z</td>\n",
              "      <td>2019-03-25T00:00:00Z</td>\n",
              "      <td>NaN</td>\n",
              "      <td>NaN</td>\n",
              "      <td>NaN</td>\n",
              "      <td>NaN</td>\n",
              "      <td>5</td>\n",
              "      <td>https://www.ebay.com/itm/Amazonbasics-Nylon-Cd...</td>\n",
              "      <td>Great case to keep everything in its place! My...</td>\n",
              "      <td>Excellent product</td>\n",
              "      <td>qs341_5</td>\n",
              "      <td>https://www.ebay.com/itm/AmazonBasics-Nylon-CD...</td>\n",
              "      <td>great case to keep everything in its place my ...</td>\n",
              "    </tr>\n",
              "    <tr>\n",
              "      <th>8344</th>\n",
              "      <td>AVpe7nGV1cnluZ0-aG2o</td>\n",
              "      <td>2014-10-28T11:14:38Z</td>\n",
              "      <td>2019-04-25T09:05:28Z</td>\n",
              "      <td>AmazonBasics Nylon CD/DVD Binder (400 Capacity)</td>\n",
              "      <td>B00DIHVMEA,B00EZ1ZTV0</td>\n",
              "      <td>Amazonbasics</td>\n",
              "      <td>Audio &amp; Video Accessories,TV, Video &amp; Home Aud...</td>\n",
              "      <td>Electronics</td>\n",
              "      <td>http://ecx.images-amazon.com/images/I/41jQha7Z...</td>\n",
              "      <td>amazonbasicsnyloncddvdbinder400capacity/b00ez1...</td>\n",
              "      <td>AmazonBasics</td>\n",
              "      <td>YBB12400R2</td>\n",
              "      <td>2014-06-14T05:00:00Z</td>\n",
              "      <td>2014-08-28T00:00:00Z</td>\n",
              "      <td>NaN</td>\n",
              "      <td>NaN</td>\n",
              "      <td>NaN</td>\n",
              "      <td>NaN</td>\n",
              "      <td>5</td>\n",
              "      <td>http://www.amazon.co.uk/gp/product-reviews/B00...</td>\n",
              "      <td>After discarding and getting rid of broken cd ...</td>\n",
              "      <td>It was a much needed storage</td>\n",
              "      <td>Diablita</td>\n",
              "      <td>https://www.ebay.com/itm/AmazonBasics-Nylon-CD...</td>\n",
              "      <td>after discarding and getting rid of broken cd ...</td>\n",
              "    </tr>\n",
              "    <tr>\n",
              "      <th>8345</th>\n",
              "      <td>AVpe7nGV1cnluZ0-aG2o</td>\n",
              "      <td>2014-10-28T11:14:38Z</td>\n",
              "      <td>2019-04-25T09:05:28Z</td>\n",
              "      <td>AmazonBasics Nylon CD/DVD Binder (400 Capacity)</td>\n",
              "      <td>B00DIHVMEA,B00EZ1ZTV0</td>\n",
              "      <td>Amazonbasics</td>\n",
              "      <td>Audio &amp; Video Accessories,TV, Video &amp; Home Aud...</td>\n",
              "      <td>Electronics</td>\n",
              "      <td>http://ecx.images-amazon.com/images/I/41jQha7Z...</td>\n",
              "      <td>amazonbasicsnyloncddvdbinder400capacity/b00ez1...</td>\n",
              "      <td>AmazonBasics</td>\n",
              "      <td>YBB12400R2</td>\n",
              "      <td>2019-02-15T00:00:00.000Z</td>\n",
              "      <td>2019-03-25T00:00:00Z</td>\n",
              "      <td>NaN</td>\n",
              "      <td>NaN</td>\n",
              "      <td>NaN</td>\n",
              "      <td>NaN</td>\n",
              "      <td>5</td>\n",
              "      <td>https://www.ebay.com/itm/Amazonbasics-Nylon-Cd...</td>\n",
              "      <td>A few dollars more, but I am boycotting amazon</td>\n",
              "      <td>it was worth it</td>\n",
              "      <td>coldbloodblazing</td>\n",
              "      <td>https://www.ebay.com/itm/AmazonBasics-Nylon-CD...</td>\n",
              "      <td>a few dollars more but i am boycotting amazon</td>\n",
              "    </tr>\n",
              "  </tbody>\n",
              "</table>\n",
              "</div>"
            ],
            "text/plain": [
              "                        id  ...                                         clean_text\n",
              "8343  AVpe7nGV1cnluZ0-aG2o  ...  great case to keep everything in its place my ...\n",
              "8344  AVpe7nGV1cnluZ0-aG2o  ...  after discarding and getting rid of broken cd ...\n",
              "8345  AVpe7nGV1cnluZ0-aG2o  ...      a few dollars more but i am boycotting amazon\n",
              "\n",
              "[3 rows x 25 columns]"
            ]
          },
          "metadata": {
            "tags": []
          },
          "execution_count": 10
        }
      ]
    },
    {
      "cell_type": "markdown",
      "metadata": {
        "id": "FfZWF0I9zGd-"
      },
      "source": [
        "------\n",
        "### Tokenize your documents \n",
        "\n",
        "Remember that you'll need to use the [**corpora**](https://radimrehurek.com/gensim/corpora/dictionary.html) class from the Gensim library. So definitely check out the docs to learn more about this tool. There is an example on how to do this in the guided project.\n",
        "\n",
        "But before we can use the [**corpora**](https://radimrehurek.com/gensim/corpora/dictionary.html) class, we must first tokenize our articles. \n",
        "\n"
      ]
    },
    {
      "cell_type": "code",
      "metadata": {
        "deletable": false,
        "nbgrader": {
          "cell_type": "code",
          "checksum": "2f9f136b6fa56339c87e209fe6f2f12d",
          "grade": false,
          "grade_id": "cell-d7d585b64d6f0119",
          "locked": false,
          "schema_version": 3,
          "solution": true,
          "task": false
        },
        "colab": {
          "base_uri": "https://localhost:8080/"
        },
        "id": "U09bIhGizGd-",
        "outputId": "2f5aa9d1-e6e4-4d66-f68d-d0b04a0d1973"
      },
      "source": [
        "# identify how many processors your machine has - save the result to `n_processors`\n",
        "\n",
        "# subtract 1 from n_processors - save the result to `nb_workers`\n",
        "\n",
        "# initialize just like we did in the guided project\n",
        "# COLAB only has 2 processors, set nb_workers=2 and hope that it doesn't crash your notebook (otherwise don't use this tool)\n",
        "pandarallel.initialize(progress_bar=True, nb_workers=2)"
      ],
      "execution_count": 11,
      "outputs": [
        {
          "output_type": "stream",
          "text": [
            "INFO: Pandarallel will run on 2 workers.\n",
            "INFO: Pandarallel will use Memory file system to transfer data between the main process and workers.\n"
          ],
          "name": "stdout"
        }
      ]
    },
    {
      "cell_type": "code",
      "metadata": {
        "id": "nUPIrjOB_-BR"
      },
      "source": [
        "!python -m spacy download en_core_web_lg"
      ],
      "execution_count": null,
      "outputs": []
    },
    {
      "cell_type": "code",
      "metadata": {
        "id": "t6pNnk3vzGd-"
      },
      "source": [
        "# load in the spaCy language model\n",
        "nlp = spacy.load(\"en_core_web_lg\")"
      ],
      "execution_count": 12,
      "outputs": []
    },
    {
      "cell_type": "code",
      "metadata": {
        "id": "CRZTecyQBMPV"
      },
      "source": [
        "def tokenizer(text):\n",
        "  lemmas = []\n",
        "  for token in nlp(text):\n",
        "    if (token.is_stop == False) & (token.is_punct == False) & (token.is_space == False):\n",
        "      lemmas.append(token.lemma_.lower())\n",
        "  return lemmas"
      ],
      "execution_count": 13,
      "outputs": []
    },
    {
      "cell_type": "code",
      "metadata": {
        "colab": {
          "base_uri": "https://localhost:8080/"
        },
        "id": "da4bSEKizGd-",
        "outputId": "7bad102e-eeda-41dd-8999-0c46257d0748"
      },
      "source": [
        "%%time\n",
        "# create our tokens in the form of lemmas \n",
        "df_electronics['lemmas'] = df_electronics['clean_text'].parallel_apply(tokenizer)"
      ],
      "execution_count": 14,
      "outputs": [
        {
          "output_type": "stream",
          "text": [
            "   0.00%                                          |        0 /     6998 |      \n",
            "   0.00%                                          |        0 /     6997 |      \b\b\b\b\b\b\b\b\b\b\b\b\b\b\b\b\b\b\b\b\b\b\b\b\b\b\b\b\b\b\b\b\b\b\b\b\b\b\b\b\b\b\b\b\b\b\b\b\b\b\b\b\b\b\b\b\b\b\b\b\b\b\b\b\b\b\b\b\b\b\b\b\b\b\b\b\b\b\b\u001bM   0.00%                                          |        0 /     6998 |      \n",
            "   0.99%                                          |       69 /     6997 |      \b\b\b\b\b\b\b\b\b\b\b\b\b\b\b\b\b\b\b\b\b\b\b\b\b\b\b\b\b\b\b\b\b\b\b\b\b\b\b\b\b\b\b\b\b\b\b\b\b\b\b\b\b\b\b\b\b\b\b\b\b\b\b\b\b\b\b\b\b\b\b\b\b\b\b\b\b\b\b\u001bM   0.00%                                          |        0 /     6998 |      \n",
            "   1.26%                                          |       88 /     6997 |      \b\b\b\b\b\b\b\b\b\b\b\b\b\b\b\b\b\b\b\b\b\b\b\b\b\b\b\b\b\b\b\b\b\b\b\b\b\b\b\b\b\b\b\b\b\b\b\b\b\b\b\b\b\b\b\b\b\b\b\b\b\b\b\b\b\b\b\b\b\b\b\b\b\b\b\b\b\b\b\u001bM   0.00%                                          |        0 /     6998 |      \n",
            "   1.61%                                          |      113 /     6997 |      \b\b\b\b\b\b\b\b\b\b\b\b\b\b\b\b\b\b\b\b\b\b\b\b\b\b\b\b\b\b\b\b\b\b\b\b\b\b\b\b\b\b\b\b\b\b\b\b\b\b\b\b\b\b\b\b\b\b\b\b\b\b\b\b\b\b\b\b\b\b\b\b\b\b\b\b\b\b\b\u001bM   0.99%                                          |       69 /     6998 |      \n",
            "   1.82%                                          |      127 /     6997 |      \b\b\b\b\b\b\b\b\b\b\b\b\b\b\b\b\b\b\b\b\b\b\b\b\b\b\b\b\b\b\b\b\b\b\b\b\b\b\b\b\b\b\b\b\b\b\b\b\b\b\b\b\b\b\b\b\b\b\b\b\b\b\b\b\b\b\b\b\b\b\b\b\b\b\b\b\b\b\b\u001bM   1.07%                                          |       75 /     6998 |      \n",
            "   1.99%                                          |      139 /     6997 |      \b\b\b\b\b\b\b\b\b\b\b\b\b\b\b\b\b\b\b\b\b\b\b\b\b\b\b\b\b\b\b\b\b\b\b\b\b\b\b\b\b\b\b\b\b\b\b\b\b\b\b\b\b\b\b\b\b\b\b\b\b\b\b\b\b\b\b\b\b\b\b\b\b\b\b\b\b\b\b\u001bM   1.31%                                          |       92 /     6998 |      \n",
            "   2.19%                                          |      153 /     6997 |      \b\b\b\b\b\b\b\b\b\b\b\b\b\b\b\b\b\b\b\b\b\b\b\b\b\b\b\b\b\b\b\b\b\b\b\b\b\b\b\b\b\b\b\b\b\b\b\b\b\b\b\b\b\b\b\b\b\b\b\b\b\b\b\b\b\b\b\b\b\b\b\b\b\b\b\b\b\b\b\u001bM   1.49%                                          |      104 /     6998 |      \n",
            "   2.33%                                          |      163 /     6997 |      \b\b\b\b\b\b\b\b\b\b\b\b\b\b\b\b\b\b\b\b\b\b\b\b\b\b\b\b\b\b\b\b\b\b\b\b\b\b\b\b\b\b\b\b\b\b\b\b\b\b\b\b\b\b\b\b\b\b\b\b\b\b\b\b\b\b\b\b\b\b\b\b\b\b\b\b\b\b\b\u001bM   1.67%                                          |      117 /     6998 |      \n",
            "   2.54% :                                        |      178 /     6997 |      \b\b\b\b\b\b\b\b\b\b\b\b\b\b\b\b\b\b\b\b\b\b\b\b\b\b\b\b\b\b\b\b\b\b\b\b\b\b\b\b\b\b\b\b\b\b\b\b\b\b\b\b\b\b\b\b\b\b\b\b\b\b\b\b\b\b\b\b\b\b\b\b\b\b\b\b\b\b\b\u001bM   1.87%                                          |      131 /     6998 |      \n",
            "   2.76% :                                        |      193 /     6997 |      \b\b\b\b\b\b\b\b\b\b\b\b\b\b\b\b\b\b\b\b\b\b\b\b\b\b\b\b\b\b\b\b\b\b\b\b\b\b\b\b\b\b\b\b\b\b\b\b\b\b\b\b\b\b\b\b\b\b\b\b\b\b\b\b\b\b\b\b\b\b\b\b\b\b\b\b\b\b\b\u001bM   2.01%                                          |      141 /     6998 |      \n",
            "   2.96% :                                        |      207 /     6997 |      \b\b\b\b\b\b\b\b\b\b\b\b\b\b\b\b\b\b\b\b\b\b\b\b\b\b\b\b\b\b\b\b\b\b\b\b\b\b\b\b\b\b\b\b\b\b\b\b\b\b\b\b\b\b\b\b\b\b\b\b\b\b\b\b\b\b\b\b\b\b\b\b\b\b\b\b\b\b\b\u001bM   2.13%                                          |      149 /     6998 |      \n",
            "   3.17% :                                        |      222 /     6997 |      \b\b\b\b\b\b\b\b\b\b\b\b\b\b\b\b\b\b\b\b\b\b\b\b\b\b\b\b\b\b\b\b\b\b\b\b\b\b\b\b\b\b\b\b\b\b\b\b\b\b\b\b\b\b\b\b\b\b\b\b\b\b\b\b\b\b\b\b\b\b\b\b\b\b\b\b\b\b\b\u001bM   2.21%                                          |      155 /     6998 |      \n",
            "   3.36% :                                        |      235 /     6997 |      \b\b\b\b\b\b\b\b\b\b\b\b\b\b\b\b\b\b\b\b\b\b\b\b\b\b\b\b\b\b\b\b\b\b\b\b\b\b\b\b\b\b\b\b\b\b\b\b\b\b\b\b\b\b\b\b\b\b\b\b\b\b\b\b\b\b\b\b\b\b\b\b\b\b\b\b\b\b\b\u001bM   2.36%                                          |      165 /     6998 |      \n",
            "   3.57% :                                        |      250 /     6997 |      \b\b\b\b\b\b\b\b\b\b\b\b\b\b\b\b\b\b\b\b\b\b\b\b\b\b\b\b\b\b\b\b\b\b\b\b\b\b\b\b\b\b\b\b\b\b\b\b\b\b\b\b\b\b\b\b\b\b\b\b\b\b\b\b\b\b\b\b\b\b\b\b\b\b\b\b\b\b\b\u001bM   2.57% :                                        |      180 /     6998 |      \n",
            "   3.77% :                                        |      264 /     6997 |      \b\b\b\b\b\b\b\b\b\b\b\b\b\b\b\b\b\b\b\b\b\b\b\b\b\b\b\b\b\b\b\b\b\b\b\b\b\b\b\b\b\b\b\b\b\b\b\b\b\b\b\b\b\b\b\b\b\b\b\b\b\b\b\b\b\b\b\b\b\b\b\b\b\b\b\b\b\b\b\u001bM   2.76% :                                        |      193 /     6998 |      \n",
            "   3.97% :                                        |      278 /     6997 |      \b\b\b\b\b\b\b\b\b\b\b\b\b\b\b\b\b\b\b\b\b\b\b\b\b\b\b\b\b\b\b\b\b\b\b\b\b\b\b\b\b\b\b\b\b\b\b\b\b\b\b\b\b\b\b\b\b\b\b\b\b\b\b\b\b\b\b\b\b\b\b\b\b\b\b\b\b\b\b\u001bM   2.92% :                                        |      204 /     6998 |      \n",
            "   4.14% :                                        |      290 /     6997 |      \b\b\b\b\b\b\b\b\b\b\b\b\b\b\b\b\b\b\b\b\b\b\b\b\b\b\b\b\b\b\b\b\b\b\b\b\b\b\b\b\b\b\b\b\b\b\b\b\b\b\b\b\b\b\b\b\b\b\b\b\b\b\b\b\b\b\b\b\b\b\b\b\b\b\b\b\b\b\b\u001bM   3.09% :                                        |      216 /     6998 |      \n",
            "   4.37% :                                        |      306 /     6997 |      \b\b\b\b\b\b\b\b\b\b\b\b\b\b\b\b\b\b\b\b\b\b\b\b\b\b\b\b\b\b\b\b\b\b\b\b\b\b\b\b\b\b\b\b\b\b\b\b\b\b\b\b\b\b\b\b\b\b\b\b\b\b\b\b\b\b\b\b\b\b\b\b\b\b\b\b\b\b\b\u001bM   3.24% :                                        |      227 /     6998 |      \n",
            "   4.60% :                                        |      322 /     6997 |      \b\b\b\b\b\b\b\b\b\b\b\b\b\b\b\b\b\b\b\b\b\b\b\b\b\b\b\b\b\b\b\b\b\b\b\b\b\b\b\b\b\b\b\b\b\b\b\b\b\b\b\b\b\b\b\b\b\b\b\b\b\b\b\b\b\b\b\b\b\b\b\b\b\b\b\b\b\b\b\u001bM   3.46% :                                        |      242 /     6998 |      \n",
            "   4.80% :                                        |      336 /     6997 |      \b\b\b\b\b\b\b\b\b\b\b\b\b\b\b\b\b\b\b\b\b\b\b\b\b\b\b\b\b\b\b\b\b\b\b\b\b\b\b\b\b\b\b\b\b\b\b\b\b\b\b\b\b\b\b\b\b\b\b\b\b\b\b\b\b\b\b\b\b\b\b\b\b\b\b\b\b\b\b\u001bM   3.62% :                                        |      253 /     6998 |      \n",
            "   4.99% :                                        |      349 /     6997 |      \b\b\b\b\b\b\b\b\b\b\b\b\b\b\b\b\b\b\b\b\b\b\b\b\b\b\b\b\b\b\b\b\b\b\b\b\b\b\b\b\b\b\b\b\b\b\b\b\b\b\b\b\b\b\b\b\b\b\b\b\b\b\b\b\b\b\b\b\b\b\b\b\b\b\b\b\b\b\b\u001bM   3.82% :                                        |      267 /     6998 |      \n",
            "   5.22% ::                                       |      365 /     6997 |      \b\b\b\b\b\b\b\b\b\b\b\b\b\b\b\b\b\b\b\b\b\b\b\b\b\b\b\b\b\b\b\b\b\b\b\b\b\b\b\b\b\b\b\b\b\b\b\b\b\b\b\b\b\b\b\b\b\b\b\b\b\b\b\b\b\b\b\b\b\b\b\b\b\b\b\b\b\b\b\u001bM   4.00% :                                        |      280 /     6998 |      \n",
            "   5.42% ::                                       |      379 /     6997 |      \b\b\b\b\b\b\b\b\b\b\b\b\b\b\b\b\b\b\b\b\b\b\b\b\b\b\b\b\b\b\b\b\b\b\b\b\b\b\b\b\b\b\b\b\b\b\b\b\b\b\b\b\b\b\b\b\b\b\b\b\b\b\b\b\b\b\b\b\b\b\b\b\b\b\b\b\b\b\b\u001bM   4.19% :                                        |      293 /     6998 |      \n",
            "   5.63% ::                                       |      394 /     6997 |      \b\b\b\b\b\b\b\b\b\b\b\b\b\b\b\b\b\b\b\b\b\b\b\b\b\b\b\b\b\b\b\b\b\b\b\b\b\b\b\b\b\b\b\b\b\b\b\b\b\b\b\b\b\b\b\b\b\b\b\b\b\b\b\b\b\b\b\b\b\b\b\b\b\b\b\b\b\b\b\u001bM   4.36% :                                        |      305 /     6998 |      \n",
            "   5.85% ::                                       |      409 /     6997 |      \b\b\b\b\b\b\b\b\b\b\b\b\b\b\b\b\b\b\b\b\b\b\b\b\b\b\b\b\b\b\b\b\b\b\b\b\b\b\b\b\b\b\b\b\b\b\b\b\b\b\b\b\b\b\b\b\b\b\b\b\b\b\b\b\b\b\b\b\b\b\b\b\b\b\b\b\b\b\b\u001bM   4.49% :                                        |      314 /     6998 |      \n",
            "   6.03% ::                                       |      422 /     6997 |      \b\b\b\b\b\b\b\b\b\b\b\b\b\b\b\b\b\b\b\b\b\b\b\b\b\b\b\b\b\b\b\b\b\b\b\b\b\b\b\b\b\b\b\b\b\b\b\b\b\b\b\b\b\b\b\b\b\b\b\b\b\b\b\b\b\b\b\b\b\b\b\b\b\b\b\b\b\b\b\u001bM   4.66% :                                        |      326 /     6998 |      \n",
            "   6.25% ::                                       |      437 /     6997 |      \b\b\b\b\b\b\b\b\b\b\b\b\b\b\b\b\b\b\b\b\b\b\b\b\b\b\b\b\b\b\b\b\b\b\b\b\b\b\b\b\b\b\b\b\b\b\b\b\b\b\b\b\b\b\b\b\b\b\b\b\b\b\b\b\b\b\b\b\b\b\b\b\b\b\b\b\b\b\b\u001bM   4.80% :                                        |      336 /     6998 |      \n",
            "   6.45% ::                                       |      451 /     6997 |      \b\b\b\b\b\b\b\b\b\b\b\b\b\b\b\b\b\b\b\b\b\b\b\b\b\b\b\b\b\b\b\b\b\b\b\b\b\b\b\b\b\b\b\b\b\b\b\b\b\b\b\b\b\b\b\b\b\b\b\b\b\b\b\b\b\b\b\b\b\b\b\b\b\b\b\b\b\b\b\u001bM   5.02% ::                                       |      351 /     6998 |      \n",
            "   6.66% ::                                       |      466 /     6997 |      \b\b\b\b\b\b\b\b\b\b\b\b\b\b\b\b\b\b\b\b\b\b\b\b\b\b\b\b\b\b\b\b\b\b\b\b\b\b\b\b\b\b\b\b\b\b\b\b\b\b\b\b\b\b\b\b\b\b\b\b\b\b\b\b\b\b\b\b\b\b\b\b\b\b\b\b\b\b\b\u001bM   5.22% ::                                       |      365 /     6998 |      \n",
            "   6.86% ::                                       |      480 /     6997 |      \b\b\b\b\b\b\b\b\b\b\b\b\b\b\b\b\b\b\b\b\b\b\b\b\b\b\b\b\b\b\b\b\b\b\b\b\b\b\b\b\b\b\b\b\b\b\b\b\b\b\b\b\b\b\b\b\b\b\b\b\b\b\b\b\b\b\b\b\b\b\b\b\b\b\b\b\b\b\b\u001bM   5.37% ::                                       |      376 /     6998 |      \n",
            "   7.05% ::                                       |      493 /     6997 |      \b\b\b\b\b\b\b\b\b\b\b\b\b\b\b\b\b\b\b\b\b\b\b\b\b\b\b\b\b\b\b\b\b\b\b\b\b\b\b\b\b\b\b\b\b\b\b\b\b\b\b\b\b\b\b\b\b\b\b\b\b\b\b\b\b\b\b\b\b\b\b\b\b\b\b\b\b\b\b\u001bM   5.57% ::                                       |      390 /     6998 |      \n",
            "   7.26% ::                                       |      508 /     6997 |      \b\b\b\b\b\b\b\b\b\b\b\b\b\b\b\b\b\b\b\b\b\b\b\b\b\b\b\b\b\b\b\b\b\b\b\b\b\b\b\b\b\b\b\b\b\b\b\b\b\b\b\b\b\b\b\b\b\b\b\b\b\b\b\b\b\b\b\b\b\b\b\b\b\b\b\b\b\b\b\u001bM   5.73% ::                                       |      401 /     6998 |      \n",
            "   7.45% ::                                       |      521 /     6997 |      \b\b\b\b\b\b\b\b\b\b\b\b\b\b\b\b\b\b\b\b\b\b\b\b\b\b\b\b\b\b\b\b\b\b\b\b\b\b\b\b\b\b\b\b\b\b\b\b\b\b\b\b\b\b\b\b\b\b\b\b\b\b\b\b\b\b\b\b\b\b\b\b\b\b\b\b\b\b\b\u001bM   5.87% ::                                       |      411 /     6998 |      \n",
            "   7.63% :::                                      |      534 /     6997 |      \b\b\b\b\b\b\b\b\b\b\b\b\b\b\b\b\b\b\b\b\b\b\b\b\b\b\b\b\b\b\b\b\b\b\b\b\b\b\b\b\b\b\b\b\b\b\b\b\b\b\b\b\b\b\b\b\b\b\b\b\b\b\b\b\b\b\b\b\b\b\b\b\b\b\b\b\b\b\b\u001bM   6.06% ::                                       |      424 /     6998 |      \n",
            "   7.85% :::                                      |      549 /     6997 |      \b\b\b\b\b\b\b\b\b\b\b\b\b\b\b\b\b\b\b\b\b\b\b\b\b\b\b\b\b\b\b\b\b\b\b\b\b\b\b\b\b\b\b\b\b\b\b\b\b\b\b\b\b\b\b\b\b\b\b\b\b\b\b\b\b\b\b\b\b\b\b\b\b\b\b\b\b\b\b\u001bM   6.26% ::                                       |      438 /     6998 |      \n",
            "   8.03% :::                                      |      562 /     6997 |      \b\b\b\b\b\b\b\b\b\b\b\b\b\b\b\b\b\b\b\b\b\b\b\b\b\b\b\b\b\b\b\b\b\b\b\b\b\b\b\b\b\b\b\b\b\b\b\b\b\b\b\b\b\b\b\b\b\b\b\b\b\b\b\b\b\b\b\b\b\b\b\b\b\b\b\b\b\b\b\u001bM   6.47% ::                                       |      453 /     6998 |      \n",
            "   8.25% :::                                      |      577 /     6997 |      \b\b\b\b\b\b\b\b\b\b\b\b\b\b\b\b\b\b\b\b\b\b\b\b\b\b\b\b\b\b\b\b\b\b\b\b\b\b\b\b\b\b\b\b\b\b\b\b\b\b\b\b\b\b\b\b\b\b\b\b\b\b\b\b\b\b\b\b\b\b\b\b\b\b\b\b\b\b\b\u001bM   6.67% ::                                       |      467 /     6998 |      \n",
            "   8.45% :::                                      |      591 /     6997 |      \b\b\b\b\b\b\b\b\b\b\b\b\b\b\b\b\b\b\b\b\b\b\b\b\b\b\b\b\b\b\b\b\b\b\b\b\b\b\b\b\b\b\b\b\b\b\b\b\b\b\b\b\b\b\b\b\b\b\b\b\b\b\b\b\b\b\b\b\b\b\b\b\b\b\b\b\b\b\b\u001bM   6.84% ::                                       |      479 /     6998 |      \n",
            "   8.63% :::                                      |      604 /     6997 |      \b\b\b\b\b\b\b\b\b\b\b\b\b\b\b\b\b\b\b\b\b\b\b\b\b\b\b\b\b\b\b\b\b\b\b\b\b\b\b\b\b\b\b\b\b\b\b\b\b\b\b\b\b\b\b\b\b\b\b\b\b\b\b\b\b\b\b\b\b\b\b\b\b\b\b\b\b\b\b\u001bM   7.06% ::                                       |      494 /     6998 |      \n",
            "   8.83% :::                                      |      618 /     6997 |      \b\b\b\b\b\b\b\b\b\b\b\b\b\b\b\b\b\b\b\b\b\b\b\b\b\b\b\b\b\b\b\b\b\b\b\b\b\b\b\b\b\b\b\b\b\b\b\b\b\b\b\b\b\b\b\b\b\b\b\b\b\b\b\b\b\b\b\b\b\b\b\b\b\b\b\b\b\b\b\u001bM   7.22% ::                                       |      505 /     6998 |      \n",
            "   9.02% :::                                      |      631 /     6997 |      \b\b\b\b\b\b\b\b\b\b\b\b\b\b\b\b\b\b\b\b\b\b\b\b\b\b\b\b\b\b\b\b\b\b\b\b\b\b\b\b\b\b\b\b\b\b\b\b\b\b\b\b\b\b\b\b\b\b\b\b\b\b\b\b\b\b\b\b\b\b\b\b\b\b\b\b\b\b\b\u001bM   7.39% ::                                       |      517 /     6998 |      \n",
            "   9.25% :::                                      |      647 /     6997 |      \b\b\b\b\b\b\b\b\b\b\b\b\b\b\b\b\b\b\b\b\b\b\b\b\b\b\b\b\b\b\b\b\b\b\b\b\b\b\b\b\b\b\b\b\b\b\b\b\b\b\b\b\b\b\b\b\b\b\b\b\b\b\b\b\b\b\b\b\b\b\b\b\b\b\b\b\b\b\b\u001bM   7.57% :::                                      |      530 /     6998 |      \n",
            "   9.45% :::                                      |      661 /     6997 |      \b\b\b\b\b\b\b\b\b\b\b\b\b\b\b\b\b\b\b\b\b\b\b\b\b\b\b\b\b\b\b\b\b\b\b\b\b\b\b\b\b\b\b\b\b\b\b\b\b\b\b\b\b\b\b\b\b\b\b\b\b\b\b\b\b\b\b\b\b\b\b\b\b\b\b\b\b\b\b\u001bM   7.76% :::                                      |      543 /     6998 |      \n",
            "   9.63% :::                                      |      674 /     6997 |      \b\b\b\b\b\b\b\b\b\b\b\b\b\b\b\b\b\b\b\b\b\b\b\b\b\b\b\b\b\b\b\b\b\b\b\b\b\b\b\b\b\b\b\b\b\b\b\b\b\b\b\b\b\b\b\b\b\b\b\b\b\b\b\b\b\b\b\b\b\b\b\b\b\b\b\b\b\b\b\u001bM   7.93% :::                                      |      555 /     6998 |      \n",
            "   9.82% :::                                      |      687 /     6997 |      \b\b\b\b\b\b\b\b\b\b\b\b\b\b\b\b\b\b\b\b\b\b\b\b\b\b\b\b\b\b\b\b\b\b\b\b\b\b\b\b\b\b\b\b\b\b\b\b\b\b\b\b\b\b\b\b\b\b\b\b\b\b\b\b\b\b\b\b\b\b\b\b\b\b\b\b\b\b\b\u001bM   8.16% :::                                      |      571 /     6998 |      \n",
            "  10.02% ::::                                     |      701 /     6997 |      \b\b\b\b\b\b\b\b\b\b\b\b\b\b\b\b\b\b\b\b\b\b\b\b\b\b\b\b\b\b\b\b\b\b\b\b\b\b\b\b\b\b\b\b\b\b\b\b\b\b\b\b\b\b\b\b\b\b\b\b\b\b\b\b\b\b\b\b\b\b\b\b\b\b\b\b\b\b\b\u001bM   8.35% :::                                      |      584 /     6998 |      \n",
            "  10.23% ::::                                     |      716 /     6997 |      \b\b\b\b\b\b\b\b\b\b\b\b\b\b\b\b\b\b\b\b\b\b\b\b\b\b\b\b\b\b\b\b\b\b\b\b\b\b\b\b\b\b\b\b\b\b\b\b\b\b\b\b\b\b\b\b\b\b\b\b\b\b\b\b\b\b\b\b\b\b\b\b\b\b\b\b\b\b\b\u001bM   8.55% :::                                      |      598 /     6998 |      \n",
            "  10.43% ::::                                     |      730 /     6997 |      \b\b\b\b\b\b\b\b\b\b\b\b\b\b\b\b\b\b\b\b\b\b\b\b\b\b\b\b\b\b\b\b\b\b\b\b\b\b\b\b\b\b\b\b\b\b\b\b\b\b\b\b\b\b\b\b\b\b\b\b\b\b\b\b\b\b\b\b\b\b\b\b\b\b\b\b\b\b\b\u001bM   8.70% :::                                      |      609 /     6998 |      \n",
            "  10.60% ::::                                     |      742 /     6997 |      \b\b\b\b\b\b\b\b\b\b\b\b\b\b\b\b\b\b\b\b\b\b\b\b\b\b\b\b\b\b\b\b\b\b\b\b\b\b\b\b\b\b\b\b\b\b\b\b\b\b\b\b\b\b\b\b\b\b\b\b\b\b\b\b\b\b\b\b\b\b\b\b\b\b\b\b\b\b\b\u001bM   8.90% :::                                      |      623 /     6998 |      \n",
            "  10.79% ::::                                     |      755 /     6997 |      \b\b\b\b\b\b\b\b\b\b\b\b\b\b\b\b\b\b\b\b\b\b\b\b\b\b\b\b\b\b\b\b\b\b\b\b\b\b\b\b\b\b\b\b\b\b\b\b\b\b\b\b\b\b\b\b\b\b\b\b\b\b\b\b\b\b\b\b\b\b\b\b\b\b\b\b\b\b\b\u001bM   9.03% :::                                      |      632 /     6998 |      \n",
            "  10.98% ::::                                     |      768 /     6997 |      \b\b\b\b\b\b\b\b\b\b\b\b\b\b\b\b\b\b\b\b\b\b\b\b\b\b\b\b\b\b\b\b\b\b\b\b\b\b\b\b\b\b\b\b\b\b\b\b\b\b\b\b\b\b\b\b\b\b\b\b\b\b\b\b\b\b\b\b\b\b\b\b\b\b\b\b\b\b\b\u001bM   9.20% :::                                      |      644 /     6998 |      \n",
            "  11.16% ::::                                     |      781 /     6997 |      \b\b\b\b\b\b\b\b\b\b\b\b\b\b\b\b\b\b\b\b\b\b\b\b\b\b\b\b\b\b\b\b\b\b\b\b\b\b\b\b\b\b\b\b\b\b\b\b\b\b\b\b\b\b\b\b\b\b\b\b\b\b\b\b\b\b\b\b\b\b\b\b\b\b\b\b\b\b\b\u001bM   9.39% :::                                      |      657 /     6998 |      \n",
            "  11.36% ::::                                     |      795 /     6997 |      \b\b\b\b\b\b\b\b\b\b\b\b\b\b\b\b\b\b\b\b\b\b\b\b\b\b\b\b\b\b\b\b\b\b\b\b\b\b\b\b\b\b\b\b\b\b\b\b\b\b\b\b\b\b\b\b\b\b\b\b\b\b\b\b\b\b\b\b\b\b\b\b\b\b\b\b\b\b\b\u001bM   9.53% :::                                      |      667 /     6998 |      \n",
            "  11.58% ::::                                     |      810 /     6997 |      \b\b\b\b\b\b\b\b\b\b\b\b\b\b\b\b\b\b\b\b\b\b\b\b\b\b\b\b\b\b\b\b\b\b\b\b\b\b\b\b\b\b\b\b\b\b\b\b\b\b\b\b\b\b\b\b\b\b\b\b\b\b\b\b\b\b\b\b\b\b\b\b\b\b\b\b\b\b\b\u001bM   9.72% :::                                      |      680 /     6998 |      \n",
            "  11.78% ::::                                     |      824 /     6997 |      \b\b\b\b\b\b\b\b\b\b\b\b\b\b\b\b\b\b\b\b\b\b\b\b\b\b\b\b\b\b\b\b\b\b\b\b\b\b\b\b\b\b\b\b\b\b\b\b\b\b\b\b\b\b\b\b\b\b\b\b\b\b\b\b\b\b\b\b\b\b\b\b\b\b\b\b\b\b\b\u001bM   9.92% :::                                      |      694 /     6998 |      \n",
            "  11.99% ::::                                     |      839 /     6997 |      \b\b\b\b\b\b\b\b\b\b\b\b\b\b\b\b\b\b\b\b\b\b\b\b\b\b\b\b\b\b\b\b\b\b\b\b\b\b\b\b\b\b\b\b\b\b\b\b\b\b\b\b\b\b\b\b\b\b\b\b\b\b\b\b\b\b\b\b\b\b\b\b\b\b\b\b\b\b\b\u001bM  10.06% ::::                                     |      704 /     6998 |      \n",
            "  12.19% ::::                                     |      853 /     6997 |      \b\b\b\b\b\b\b\b\b\b\b\b\b\b\b\b\b\b\b\b\b\b\b\b\b\b\b\b\b\b\b\b\b\b\b\b\b\b\b\b\b\b\b\b\b\b\b\b\b\b\b\b\b\b\b\b\b\b\b\b\b\b\b\b\b\b\b\b\b\b\b\b\b\b\b\b\b\b\b\u001bM  10.22% ::::                                     |      715 /     6998 |      \n",
            "  12.35% ::::                                     |      864 /     6997 |      \b\b\b\b\b\b\b\b\b\b\b\b\b\b\b\b\b\b\b\b\b\b\b\b\b\b\b\b\b\b\b\b\b\b\b\b\b\b\b\b\b\b\b\b\b\b\b\b\b\b\b\b\b\b\b\b\b\b\b\b\b\b\b\b\b\b\b\b\b\b\b\b\b\b\b\b\b\b\b\u001bM  10.36% ::::                                     |      725 /     6998 |      \n",
            "  12.53% :::::                                    |      877 /     6997 |      \b\b\b\b\b\b\b\b\b\b\b\b\b\b\b\b\b\b\b\b\b\b\b\b\b\b\b\b\b\b\b\b\b\b\b\b\b\b\b\b\b\b\b\b\b\b\b\b\b\b\b\b\b\b\b\b\b\b\b\b\b\b\b\b\b\b\b\b\b\b\b\b\b\b\b\b\b\b\b\u001bM  10.55% ::::                                     |      738 /     6998 |      \n",
            "  12.73% :::::                                    |      891 /     6997 |      \b\b\b\b\b\b\b\b\b\b\b\b\b\b\b\b\b\b\b\b\b\b\b\b\b\b\b\b\b\b\b\b\b\b\b\b\b\b\b\b\b\b\b\b\b\b\b\b\b\b\b\b\b\b\b\b\b\b\b\b\b\b\b\b\b\b\b\b\b\b\b\b\b\b\b\b\b\b\b\u001bM  10.73% ::::                                     |      751 /     6998 |      \n",
            "  12.96% :::::                                    |      907 /     6997 |      \b\b\b\b\b\b\b\b\b\b\b\b\b\b\b\b\b\b\b\b\b\b\b\b\b\b\b\b\b\b\b\b\b\b\b\b\b\b\b\b\b\b\b\b\b\b\b\b\b\b\b\b\b\b\b\b\b\b\b\b\b\b\b\b\b\b\b\b\b\b\b\b\b\b\b\b\b\b\b\u001bM  10.93% ::::                                     |      765 /     6998 |      \n",
            "  13.16% :::::                                    |      921 /     6997 |      \b\b\b\b\b\b\b\b\b\b\b\b\b\b\b\b\b\b\b\b\b\b\b\b\b\b\b\b\b\b\b\b\b\b\b\b\b\b\b\b\b\b\b\b\b\b\b\b\b\b\b\b\b\b\b\b\b\b\b\b\b\b\b\b\b\b\b\b\b\b\b\b\b\b\b\b\b\b\b\u001bM  11.07% ::::                                     |      775 /     6998 |      \n",
            "  13.36% :::::                                    |      935 /     6997 |      \b\b\b\b\b\b\b\b\b\b\b\b\b\b\b\b\b\b\b\b\b\b\b\b\b\b\b\b\b\b\b\b\b\b\b\b\b\b\b\b\b\b\b\b\b\b\b\b\b\b\b\b\b\b\b\b\b\b\b\b\b\b\b\b\b\b\b\b\b\b\b\b\b\b\b\b\b\b\b\u001bM  11.19% ::::                                     |      783 /     6998 |      \n",
            "  13.53% :::::                                    |      947 /     6997 |      \b\b\b\b\b\b\b\b\b\b\b\b\b\b\b\b\b\b\b\b\b\b\b\b\b\b\b\b\b\b\b\b\b\b\b\b\b\b\b\b\b\b\b\b\b\b\b\b\b\b\b\b\b\b\b\b\b\b\b\b\b\b\b\b\b\b\b\b\b\b\b\b\b\b\b\b\b\b\b\u001bM  11.32% ::::                                     |      792 /     6998 |      \n",
            "  13.76% :::::                                    |      963 /     6997 |      \b\b\b\b\b\b\b\b\b\b\b\b\b\b\b\b\b\b\b\b\b\b\b\b\b\b\b\b\b\b\b\b\b\b\b\b\b\b\b\b\b\b\b\b\b\b\b\b\b\b\b\b\b\b\b\b\b\b\b\b\b\b\b\b\b\b\b\b\b\b\b\b\b\b\b\b\b\b\b\u001bM  11.52% ::::                                     |      806 /     6998 |      \n",
            "  13.99% :::::                                    |      979 /     6997 |      \b\b\b\b\b\b\b\b\b\b\b\b\b\b\b\b\b\b\b\b\b\b\b\b\b\b\b\b\b\b\b\b\b\b\b\b\b\b\b\b\b\b\b\b\b\b\b\b\b\b\b\b\b\b\b\b\b\b\b\b\b\b\b\b\b\b\b\b\b\b\b\b\b\b\b\b\b\b\b\u001bM  11.67% ::::                                     |      817 /     6998 |      \n",
            "  14.21% :::::                                    |      994 /     6997 |      \b\b\b\b\b\b\b\b\b\b\b\b\b\b\b\b\b\b\b\b\b\b\b\b\b\b\b\b\b\b\b\b\b\b\b\b\b\b\b\b\b\b\b\b\b\b\b\b\b\b\b\b\b\b\b\b\b\b\b\b\b\b\b\b\b\b\b\b\b\b\b\b\b\b\b\b\b\b\b\u001bM  11.87% ::::                                     |      831 /     6998 |      \n",
            "  14.41% :::::                                    |     1008 /     6997 |      \b\b\b\b\b\b\b\b\b\b\b\b\b\b\b\b\b\b\b\b\b\b\b\b\b\b\b\b\b\b\b\b\b\b\b\b\b\b\b\b\b\b\b\b\b\b\b\b\b\b\b\b\b\b\b\b\b\b\b\b\b\b\b\b\b\b\b\b\b\b\b\b\b\b\b\b\b\b\b\u001bM  12.05% ::::                                     |      843 /     6998 |      \n",
            "  14.62% :::::                                    |     1023 /     6997 |      \b\b\b\b\b\b\b\b\b\b\b\b\b\b\b\b\b\b\b\b\b\b\b\b\b\b\b\b\b\b\b\b\b\b\b\b\b\b\b\b\b\b\b\b\b\b\b\b\b\b\b\b\b\b\b\b\b\b\b\b\b\b\b\b\b\b\b\b\b\b\b\b\b\b\b\b\b\b\b\u001bM  12.22% ::::                                     |      855 /     6998 |      \n",
            "  14.82% :::::                                    |     1037 /     6997 |      \b\b\b\b\b\b\b\b\b\b\b\b\b\b\b\b\b\b\b\b\b\b\b\b\b\b\b\b\b\b\b\b\b\b\b\b\b\b\b\b\b\b\b\b\b\b\b\b\b\b\b\b\b\b\b\b\b\b\b\b\b\b\b\b\b\b\b\b\b\b\b\b\b\b\b\b\b\b\b\u001bM  12.39% ::::                                     |      867 /     6998 |      \n",
            "  15.05% ::::::                                   |     1053 /     6997 |      \b\b\b\b\b\b\b\b\b\b\b\b\b\b\b\b\b\b\b\b\b\b\b\b\b\b\b\b\b\b\b\b\b\b\b\b\b\b\b\b\b\b\b\b\b\b\b\b\b\b\b\b\b\b\b\b\b\b\b\b\b\b\b\b\b\b\b\b\b\b\b\b\b\b\b\b\b\b\b\u001bM  12.50% :::::                                    |      875 /     6998 |      \n",
            "  15.26% ::::::                                   |     1068 /     6997 |      \b\b\b\b\b\b\b\b\b\b\b\b\b\b\b\b\b\b\b\b\b\b\b\b\b\b\b\b\b\b\b\b\b\b\b\b\b\b\b\b\b\b\b\b\b\b\b\b\b\b\b\b\b\b\b\b\b\b\b\b\b\b\b\b\b\b\b\b\b\b\b\b\b\b\b\b\b\b\b\u001bM  12.66% :::::                                    |      886 /     6998 |      \n",
            "  15.46% ::::::                                   |     1082 /     6997 |      \b\b\b\b\b\b\b\b\b\b\b\b\b\b\b\b\b\b\b\b\b\b\b\b\b\b\b\b\b\b\b\b\b\b\b\b\b\b\b\b\b\b\b\b\b\b\b\b\b\b\b\b\b\b\b\b\b\b\b\b\b\b\b\b\b\b\b\b\b\b\b\b\b\b\b\b\b\b\b\u001bM  12.80% :::::                                    |      896 /     6998 |      \n",
            "  15.65% ::::::                                   |     1095 /     6997 |      \b\b\b\b\b\b\b\b\b\b\b\b\b\b\b\b\b\b\b\b\b\b\b\b\b\b\b\b\b\b\b\b\b\b\b\b\b\b\b\b\b\b\b\b\b\b\b\b\b\b\b\b\b\b\b\b\b\b\b\b\b\b\b\b\b\b\b\b\b\b\b\b\b\b\b\b\b\b\b\u001bM  12.98% :::::                                    |      908 /     6998 |      \n",
            "  15.85% ::::::                                   |     1109 /     6997 |      \b\b\b\b\b\b\b\b\b\b\b\b\b\b\b\b\b\b\b\b\b\b\b\b\b\b\b\b\b\b\b\b\b\b\b\b\b\b\b\b\b\b\b\b\b\b\b\b\b\b\b\b\b\b\b\b\b\b\b\b\b\b\b\b\b\b\b\b\b\b\b\b\b\b\b\b\b\b\b\u001bM  13.12% :::::                                    |      918 /     6998 |      \n",
            "  16.05% ::::::                                   |     1123 /     6997 |      \b\b\b\b\b\b\b\b\b\b\b\b\b\b\b\b\b\b\b\b\b\b\b\b\b\b\b\b\b\b\b\b\b\b\b\b\b\b\b\b\b\b\b\b\b\b\b\b\b\b\b\b\b\b\b\b\b\b\b\b\b\b\b\b\b\b\b\b\b\b\b\b\b\b\b\b\b\b\b\u001bM  13.29% :::::                                    |      930 /     6998 |      \n",
            "  16.28% ::::::                                   |     1139 /     6997 |      \b\b\b\b\b\b\b\b\b\b\b\b\b\b\b\b\b\b\b\b\b\b\b\b\b\b\b\b\b\b\b\b\b\b\b\b\b\b\b\b\b\b\b\b\b\b\b\b\b\b\b\b\b\b\b\b\b\b\b\b\b\b\b\b\b\b\b\b\b\b\b\b\b\b\b\b\b\b\b\u001bM  13.45% :::::                                    |      941 /     6998 |      \n",
            "  16.51% ::::::                                   |     1155 /     6997 |      \b\b\b\b\b\b\b\b\b\b\b\b\b\b\b\b\b\b\b\b\b\b\b\b\b\b\b\b\b\b\b\b\b\b\b\b\b\b\b\b\b\b\b\b\b\b\b\b\b\b\b\b\b\b\b\b\b\b\b\b\b\b\b\b\b\b\b\b\b\b\b\b\b\b\b\b\b\b\b\u001bM  13.60% :::::                                    |      952 /     6998 |      \n",
            "  16.72% ::::::                                   |     1170 /     6997 |      \b\b\b\b\b\b\b\b\b\b\b\b\b\b\b\b\b\b\b\b\b\b\b\b\b\b\b\b\b\b\b\b\b\b\b\b\b\b\b\b\b\b\b\b\b\b\b\b\b\b\b\b\b\b\b\b\b\b\b\b\b\b\b\b\b\b\b\b\b\b\b\b\b\b\b\b\b\b\b\u001bM  13.79% :::::                                    |      965 /     6998 |      \n",
            "  16.92% ::::::                                   |     1184 /     6997 |      \b\b\b\b\b\b\b\b\b\b\b\b\b\b\b\b\b\b\b\b\b\b\b\b\b\b\b\b\b\b\b\b\b\b\b\b\b\b\b\b\b\b\b\b\b\b\b\b\b\b\b\b\b\b\b\b\b\b\b\b\b\b\b\b\b\b\b\b\b\b\b\b\b\b\b\b\b\b\b\u001bM  13.96% :::::                                    |      977 /     6998 |      \n",
            "  17.14% ::::::                                   |     1199 /     6997 |      \b\b\b\b\b\b\b\b\b\b\b\b\b\b\b\b\b\b\b\b\b\b\b\b\b\b\b\b\b\b\b\b\b\b\b\b\b\b\b\b\b\b\b\b\b\b\b\b\b\b\b\b\b\b\b\b\b\b\b\b\b\b\b\b\b\b\b\b\b\b\b\b\b\b\b\b\b\b\b\u001bM  14.15% :::::                                    |      990 /     6998 |      \n",
            "  17.38% ::::::                                   |     1216 /     6997 |      \b\b\b\b\b\b\b\b\b\b\b\b\b\b\b\b\b\b\b\b\b\b\b\b\b\b\b\b\b\b\b\b\b\b\b\b\b\b\b\b\b\b\b\b\b\b\b\b\b\b\b\b\b\b\b\b\b\b\b\b\b\b\b\b\b\b\b\b\b\b\b\b\b\b\b\b\b\b\b\u001bM  14.30% :::::                                    |     1001 /     6998 |      \n",
            "  17.61% :::::::                                  |     1232 /     6997 |      \b\b\b\b\b\b\b\b\b\b\b\b\b\b\b\b\b\b\b\b\b\b\b\b\b\b\b\b\b\b\b\b\b\b\b\b\b\b\b\b\b\b\b\b\b\b\b\b\b\b\b\b\b\b\b\b\b\b\b\b\b\b\b\b\b\b\b\b\b\b\b\b\b\b\b\b\b\b\b\u001bM  14.48% :::::                                    |     1013 /     6998 |      \n",
            "  17.82% :::::::                                  |     1247 /     6997 |      \b\b\b\b\b\b\b\b\b\b\b\b\b\b\b\b\b\b\b\b\b\b\b\b\b\b\b\b\b\b\b\b\b\b\b\b\b\b\b\b\b\b\b\b\b\b\b\b\b\b\b\b\b\b\b\b\b\b\b\b\b\b\b\b\b\b\b\b\b\b\b\b\b\b\b\b\b\b\b\u001bM  14.63% :::::                                    |     1024 /     6998 |      \n",
            "  18.05% :::::::                                  |     1263 /     6997 |      \b\b\b\b\b\b\b\b\b\b\b\b\b\b\b\b\b\b\b\b\b\b\b\b\b\b\b\b\b\b\b\b\b\b\b\b\b\b\b\b\b\b\b\b\b\b\b\b\b\b\b\b\b\b\b\b\b\b\b\b\b\b\b\b\b\b\b\b\b\b\b\b\b\b\b\b\b\b\b\u001bM  14.83% :::::                                    |     1038 /     6998 |      \n",
            "  18.26% :::::::                                  |     1278 /     6997 |      \b\b\b\b\b\b\b\b\b\b\b\b\b\b\b\b\b\b\b\b\b\b\b\b\b\b\b\b\b\b\b\b\b\b\b\b\b\b\b\b\b\b\b\b\b\b\b\b\b\b\b\b\b\b\b\b\b\b\b\b\b\b\b\b\b\b\b\b\b\b\b\b\b\b\b\b\b\b\b\u001bM  15.06% ::::::                                   |     1054 /     6998 |      \n",
            "  18.47% :::::::                                  |     1292 /     6997 |      \b\b\b\b\b\b\b\b\b\b\b\b\b\b\b\b\b\b\b\b\b\b\b\b\b\b\b\b\b\b\b\b\b\b\b\b\b\b\b\b\b\b\b\b\b\b\b\b\b\b\b\b\b\b\b\b\b\b\b\b\b\b\b\b\b\b\b\b\b\b\b\b\b\b\b\b\b\b\b\u001bM  15.25% ::::::                                   |     1067 /     6998 |      \n",
            "  18.68% :::::::                                  |     1307 /     6997 |      \b\b\b\b\b\b\b\b\b\b\b\b\b\b\b\b\b\b\b\b\b\b\b\b\b\b\b\b\b\b\b\b\b\b\b\b\b\b\b\b\b\b\b\b\b\b\b\b\b\b\b\b\b\b\b\b\b\b\b\b\b\b\b\b\b\b\b\b\b\b\b\b\b\b\b\b\b\b\b\u001bM  15.43% ::::::                                   |     1080 /     6998 |      \n",
            "  18.89% :::::::                                  |     1322 /     6997 |      \b\b\b\b\b\b\b\b\b\b\b\b\b\b\b\b\b\b\b\b\b\b\b\b\b\b\b\b\b\b\b\b\b\b\b\b\b\b\b\b\b\b\b\b\b\b\b\b\b\b\b\b\b\b\b\b\b\b\b\b\b\b\b\b\b\b\b\b\b\b\b\b\b\b\b\b\b\b\b\u001bM  15.60% ::::::                                   |     1092 /     6998 |      \n",
            "  19.09% :::::::                                  |     1336 /     6997 |      \b\b\b\b\b\b\b\b\b\b\b\b\b\b\b\b\b\b\b\b\b\b\b\b\b\b\b\b\b\b\b\b\b\b\b\b\b\b\b\b\b\b\b\b\b\b\b\b\b\b\b\b\b\b\b\b\b\b\b\b\b\b\b\b\b\b\b\b\b\b\b\b\b\b\b\b\b\b\b\u001bM  15.78% ::::::                                   |     1104 /     6998 |      \n",
            "  19.28% :::::::                                  |     1349 /     6997 |      \b\b\b\b\b\b\b\b\b\b\b\b\b\b\b\b\b\b\b\b\b\b\b\b\b\b\b\b\b\b\b\b\b\b\b\b\b\b\b\b\b\b\b\b\b\b\b\b\b\b\b\b\b\b\b\b\b\b\b\b\b\b\b\b\b\b\b\b\b\b\b\b\b\b\b\b\b\b\b\u001bM  15.98% ::::::                                   |     1118 /     6998 |      \n",
            "  19.51% :::::::                                  |     1365 /     6997 |      \b\b\b\b\b\b\b\b\b\b\b\b\b\b\b\b\b\b\b\b\b\b\b\b\b\b\b\b\b\b\b\b\b\b\b\b\b\b\b\b\b\b\b\b\b\b\b\b\b\b\b\b\b\b\b\b\b\b\b\b\b\b\b\b\b\b\b\b\b\b\b\b\b\b\b\b\b\b\b\u001bM  16.16% ::::::                                   |     1131 /     6998 |      \n",
            "  19.71% :::::::                                  |     1379 /     6997 |      \b\b\b\b\b\b\b\b\b\b\b\b\b\b\b\b\b\b\b\b\b\b\b\b\b\b\b\b\b\b\b\b\b\b\b\b\b\b\b\b\b\b\b\b\b\b\b\b\b\b\b\b\b\b\b\b\b\b\b\b\b\b\b\b\b\b\b\b\b\b\b\b\b\b\b\b\b\b\b\u001bM  16.29% ::::::                                   |     1140 /     6998 |      \n",
            "  19.92% :::::::                                  |     1394 /     6997 |      \b\b\b\b\b\b\b\b\b\b\b\b\b\b\b\b\b\b\b\b\b\b\b\b\b\b\b\b\b\b\b\b\b\b\b\b\b\b\b\b\b\b\b\b\b\b\b\b\b\b\b\b\b\b\b\b\b\b\b\b\b\b\b\b\b\b\b\b\b\b\b\b\b\b\b\b\b\b\b\u001bM  16.48% ::::::                                   |     1153 /     6998 |      \n",
            "  20.12% ::::::::                                 |     1408 /     6997 |      \b\b\b\b\b\b\b\b\b\b\b\b\b\b\b\b\b\b\b\b\b\b\b\b\b\b\b\b\b\b\b\b\b\b\b\b\b\b\b\b\b\b\b\b\b\b\b\b\b\b\b\b\b\b\b\b\b\b\b\b\b\b\b\b\b\b\b\b\b\b\b\b\b\b\b\b\b\b\b\u001bM  16.66% ::::::                                   |     1166 /     6998 |      \n",
            "  20.37% ::::::::                                 |     1425 /     6997 |      \b\b\b\b\b\b\b\b\b\b\b\b\b\b\b\b\b\b\b\b\b\b\b\b\b\b\b\b\b\b\b\b\b\b\b\b\b\b\b\b\b\b\b\b\b\b\b\b\b\b\b\b\b\b\b\b\b\b\b\b\b\b\b\b\b\b\b\b\b\b\b\b\b\b\b\b\b\b\b\u001bM  16.82% ::::::                                   |     1177 /     6998 |      \n",
            "  20.57% ::::::::                                 |     1439 /     6997 |      \b\b\b\b\b\b\b\b\b\b\b\b\b\b\b\b\b\b\b\b\b\b\b\b\b\b\b\b\b\b\b\b\b\b\b\b\b\b\b\b\b\b\b\b\b\b\b\b\b\b\b\b\b\b\b\b\b\b\b\b\b\b\b\b\b\b\b\b\b\b\b\b\b\b\b\b\b\b\b\u001bM  16.98% ::::::                                   |     1188 /     6998 |      \n",
            "  20.78% ::::::::                                 |     1454 /     6997 |      \b\b\b\b\b\b\b\b\b\b\b\b\b\b\b\b\b\b\b\b\b\b\b\b\b\b\b\b\b\b\b\b\b\b\b\b\b\b\b\b\b\b\b\b\b\b\b\b\b\b\b\b\b\b\b\b\b\b\b\b\b\b\b\b\b\b\b\b\b\b\b\b\b\b\b\b\b\b\b\u001bM  17.12% ::::::                                   |     1198 /     6998 |      \n",
            "  20.98% ::::::::                                 |     1468 /     6997 |      \b\b\b\b\b\b\b\b\b\b\b\b\b\b\b\b\b\b\b\b\b\b\b\b\b\b\b\b\b\b\b\b\b\b\b\b\b\b\b\b\b\b\b\b\b\b\b\b\b\b\b\b\b\b\b\b\b\b\b\b\b\b\b\b\b\b\b\b\b\b\b\b\b\b\b\b\b\b\b\u001bM  17.28% ::::::                                   |     1209 /     6998 |      \n",
            "  21.18% ::::::::                                 |     1482 /     6997 |      \b\b\b\b\b\b\b\b\b\b\b\b\b\b\b\b\b\b\b\b\b\b\b\b\b\b\b\b\b\b\b\b\b\b\b\b\b\b\b\b\b\b\b\b\b\b\b\b\b\b\b\b\b\b\b\b\b\b\b\b\b\b\b\b\b\b\b\b\b\b\b\b\b\b\b\b\b\b\b\u001bM  17.46% ::::::                                   |     1222 /     6998 |      \n",
            "  21.38% ::::::::                                 |     1496 /     6997 |      \b\b\b\b\b\b\b\b\b\b\b\b\b\b\b\b\b\b\b\b\b\b\b\b\b\b\b\b\b\b\b\b\b\b\b\b\b\b\b\b\b\b\b\b\b\b\b\b\b\b\b\b\b\b\b\b\b\b\b\b\b\b\b\b\b\b\b\b\b\b\b\b\b\b\b\b\b\b\b\u001bM  17.66% :::::::                                  |     1236 /     6998 |      \n",
            "  21.59% ::::::::                                 |     1511 /     6997 |      \b\b\b\b\b\b\b\b\b\b\b\b\b\b\b\b\b\b\b\b\b\b\b\b\b\b\b\b\b\b\b\b\b\b\b\b\b\b\b\b\b\b\b\b\b\b\b\b\b\b\b\b\b\b\b\b\b\b\b\b\b\b\b\b\b\b\b\b\b\b\b\b\b\b\b\b\b\b\b\u001bM  17.83% :::::::                                  |     1248 /     6998 |      \n",
            "  21.80% ::::::::                                 |     1525 /     6997 |      \b\b\b\b\b\b\b\b\b\b\b\b\b\b\b\b\b\b\b\b\b\b\b\b\b\b\b\b\b\b\b\b\b\b\b\b\b\b\b\b\b\b\b\b\b\b\b\b\b\b\b\b\b\b\b\b\b\b\b\b\b\b\b\b\b\b\b\b\b\b\b\b\b\b\b\b\b\b\b\u001bM  18.02% :::::::                                  |     1261 /     6998 |      \n",
            "  22.00% ::::::::                                 |     1539 /     6997 |      \b\b\b\b\b\b\b\b\b\b\b\b\b\b\b\b\b\b\b\b\b\b\b\b\b\b\b\b\b\b\b\b\b\b\b\b\b\b\b\b\b\b\b\b\b\b\b\b\b\b\b\b\b\b\b\b\b\b\b\b\b\b\b\b\b\b\b\b\b\b\b\b\b\b\b\b\b\b\b\u001bM  18.19% :::::::                                  |     1273 /     6998 |      \n",
            "  22.22% ::::::::                                 |     1555 /     6997 |      \b\b\b\b\b\b\b\b\b\b\b\b\b\b\b\b\b\b\b\b\b\b\b\b\b\b\b\b\b\b\b\b\b\b\b\b\b\b\b\b\b\b\b\b\b\b\b\b\b\b\b\b\b\b\b\b\b\b\b\b\b\b\b\b\b\b\b\b\b\b\b\b\b\b\b\b\b\b\b\u001bM  18.35% :::::::                                  |     1284 /     6998 |      \n",
            "  22.42% ::::::::                                 |     1569 /     6997 |      \b\b\b\b\b\b\b\b\b\b\b\b\b\b\b\b\b\b\b\b\b\b\b\b\b\b\b\b\b\b\b\b\b\b\b\b\b\b\b\b\b\b\b\b\b\b\b\b\b\b\b\b\b\b\b\b\b\b\b\b\b\b\b\b\b\b\b\b\b\b\b\b\b\b\b\b\b\b\b\u001bM  18.35% :::::::                                  |     1284 /     6998 |      \n",
            "  22.84% :::::::::                                |     1598 /     6997 |      \b\b\b\b\b\b\b\b\b\b\b\b\b\b\b\b\b\b\b\b\b\b\b\b\b\b\b\b\b\b\b\b\b\b\b\b\b\b\b\b\b\b\b\b\b\b\b\b\b\b\b\b\b\b\b\b\b\b\b\b\b\b\b\b\b\b\b\b\b\b\b\b\b\b\b\b\b\b\b\u001bM  18.65% :::::::                                  |     1305 /     6998 |      \n",
            "  22.84% :::::::::                                |     1598 /     6997 |      \b\b\b\b\b\b\b\b\b\b\b\b\b\b\b\b\b\b\b\b\b\b\b\b\b\b\b\b\b\b\b\b\b\b\b\b\b\b\b\b\b\b\b\b\b\b\b\b\b\b\b\b\b\b\b\b\b\b\b\b\b\b\b\b\b\b\b\b\b\b\b\b\b\b\b\b\b\b\b\u001bM  18.81% :::::::                                  |     1316 /     6998 |      \n",
            "  23.04% :::::::::                                |     1612 /     6997 |      \b\b\b\b\b\b\b\b\b\b\b\b\b\b\b\b\b\b\b\b\b\b\b\b\b\b\b\b\b\b\b\b\b\b\b\b\b\b\b\b\b\b\b\b\b\b\b\b\b\b\b\b\b\b\b\b\b\b\b\b\b\b\b\b\b\b\b\b\b\b\b\b\b\b\b\b\b\b\b\u001bM  18.96% :::::::                                  |     1327 /     6998 |      \n",
            "  23.22% :::::::::                                |     1625 /     6997 |      \b\b\b\b\b\b\b\b\b\b\b\b\b\b\b\b\b\b\b\b\b\b\b\b\b\b\b\b\b\b\b\b\b\b\b\b\b\b\b\b\b\b\b\b\b\b\b\b\b\b\b\b\b\b\b\b\b\b\b\b\b\b\b\b\b\b\b\b\b\b\b\b\b\b\b\b\b\b\b\u001bM  19.13% :::::::                                  |     1339 /     6998 |      \n",
            "  23.41% :::::::::                                |     1638 /     6997 |      \b\b\b\b\b\b\b\b\b\b\b\b\b\b\b\b\b\b\b\b\b\b\b\b\b\b\b\b\b\b\b\b\b\b\b\b\b\b\b\b\b\b\b\b\b\b\b\b\b\b\b\b\b\b\b\b\b\b\b\b\b\b\b\b\b\b\b\b\b\b\b\b\b\b\b\b\b\b\b\u001bM  19.32% :::::::                                  |     1352 /     6998 |      \n",
            "  23.60% :::::::::                                |     1651 /     6997 |      \b\b\b\b\b\b\b\b\b\b\b\b\b\b\b\b\b\b\b\b\b\b\b\b\b\b\b\b\b\b\b\b\b\b\b\b\b\b\b\b\b\b\b\b\b\b\b\b\b\b\b\b\b\b\b\b\b\b\b\b\b\b\b\b\b\b\b\b\b\b\b\b\b\b\b\b\b\b\b\u001bM  19.52% :::::::                                  |     1366 /     6998 |      \n",
            "  23.78% :::::::::                                |     1664 /     6997 |      \b\b\b\b\b\b\b\b\b\b\b\b\b\b\b\b\b\b\b\b\b\b\b\b\b\b\b\b\b\b\b\b\b\b\b\b\b\b\b\b\b\b\b\b\b\b\b\b\b\b\b\b\b\b\b\b\b\b\b\b\b\b\b\b\b\b\b\b\b\b\b\b\b\b\b\b\b\b\b\u001bM  19.72% :::::::                                  |     1380 /     6998 |      \n",
            "  23.97% :::::::::                                |     1677 /     6997 |      \b\b\b\b\b\b\b\b\b\b\b\b\b\b\b\b\b\b\b\b\b\b\b\b\b\b\b\b\b\b\b\b\b\b\b\b\b\b\b\b\b\b\b\b\b\b\b\b\b\b\b\b\b\b\b\b\b\b\b\b\b\b\b\b\b\b\b\b\b\b\b\b\b\b\b\b\b\b\b\u001bM  19.91% :::::::                                  |     1393 /     6998 |      \n",
            "  24.18% :::::::::                                |     1692 /     6997 |      \b\b\b\b\b\b\b\b\b\b\b\b\b\b\b\b\b\b\b\b\b\b\b\b\b\b\b\b\b\b\b\b\b\b\b\b\b\b\b\b\b\b\b\b\b\b\b\b\b\b\b\b\b\b\b\b\b\b\b\b\b\b\b\b\b\b\b\b\b\b\b\b\b\b\b\b\b\b\b\u001bM  20.12% ::::::::                                 |     1408 /     6998 |      \n",
            "  24.40% :::::::::                                |     1707 /     6997 |      \b\b\b\b\b\b\b\b\b\b\b\b\b\b\b\b\b\b\b\b\b\b\b\b\b\b\b\b\b\b\b\b\b\b\b\b\b\b\b\b\b\b\b\b\b\b\b\b\b\b\b\b\b\b\b\b\b\b\b\b\b\b\b\b\b\b\b\b\b\b\b\b\b\b\b\b\b\b\b\u001bM  20.32% ::::::::                                 |     1422 /     6998 |      \n",
            "  24.61% :::::::::                                |     1722 /     6997 |      \b\b\b\b\b\b\b\b\b\b\b\b\b\b\b\b\b\b\b\b\b\b\b\b\b\b\b\b\b\b\b\b\b\b\b\b\b\b\b\b\b\b\b\b\b\b\b\b\b\b\b\b\b\b\b\b\b\b\b\b\b\b\b\b\b\b\b\b\b\b\b\b\b\b\b\b\b\b\b\u001bM  20.55% ::::::::                                 |     1438 /     6998 |      \n",
            "  24.82% :::::::::                                |     1737 /     6997 |      \b\b\b\b\b\b\b\b\b\b\b\b\b\b\b\b\b\b\b\b\b\b\b\b\b\b\b\b\b\b\b\b\b\b\b\b\b\b\b\b\b\b\b\b\b\b\b\b\b\b\b\b\b\b\b\b\b\b\b\b\b\b\b\b\b\b\b\b\b\b\b\b\b\b\b\b\b\b\b\u001bM  20.72% ::::::::                                 |     1450 /     6998 |      \n",
            "  25.01% ::::::::::                               |     1750 /     6997 |      \b\b\b\b\b\b\b\b\b\b\b\b\b\b\b\b\b\b\b\b\b\b\b\b\b\b\b\b\b\b\b\b\b\b\b\b\b\b\b\b\b\b\b\b\b\b\b\b\b\b\b\b\b\b\b\b\b\b\b\b\b\b\b\b\b\b\b\b\b\b\b\b\b\b\b\b\b\b\b\u001bM  20.92% ::::::::                                 |     1464 /     6998 |      \n",
            "  25.18% ::::::::::                               |     1762 /     6997 |      \b\b\b\b\b\b\b\b\b\b\b\b\b\b\b\b\b\b\b\b\b\b\b\b\b\b\b\b\b\b\b\b\b\b\b\b\b\b\b\b\b\b\b\b\b\b\b\b\b\b\b\b\b\b\b\b\b\b\b\b\b\b\b\b\b\b\b\b\b\b\b\b\b\b\b\b\b\b\b\u001bM  21.13% ::::::::                                 |     1479 /     6998 |      \n",
            "  25.38% ::::::::::                               |     1776 /     6997 |      \b\b\b\b\b\b\b\b\b\b\b\b\b\b\b\b\b\b\b\b\b\b\b\b\b\b\b\b\b\b\b\b\b\b\b\b\b\b\b\b\b\b\b\b\b\b\b\b\b\b\b\b\b\b\b\b\b\b\b\b\b\b\b\b\b\b\b\b\b\b\b\b\b\b\b\b\b\b\b\u001bM  21.31% ::::::::                                 |     1491 /     6998 |      \n",
            "  25.57% ::::::::::                               |     1789 /     6997 |      \b\b\b\b\b\b\b\b\b\b\b\b\b\b\b\b\b\b\b\b\b\b\b\b\b\b\b\b\b\b\b\b\b\b\b\b\b\b\b\b\b\b\b\b\b\b\b\b\b\b\b\b\b\b\b\b\b\b\b\b\b\b\b\b\b\b\b\b\b\b\b\b\b\b\b\b\b\b\b\u001bM  21.48% ::::::::                                 |     1503 /     6998 |      \n",
            "  25.75% ::::::::::                               |     1802 /     6997 |      \b\b\b\b\b\b\b\b\b\b\b\b\b\b\b\b\b\b\b\b\b\b\b\b\b\b\b\b\b\b\b\b\b\b\b\b\b\b\b\b\b\b\b\b\b\b\b\b\b\b\b\b\b\b\b\b\b\b\b\b\b\b\b\b\b\b\b\b\b\b\b\b\b\b\b\b\b\b\b\u001bM  21.66% ::::::::                                 |     1516 /     6998 |      \n",
            "  25.97% ::::::::::                               |     1817 /     6997 |      \b\b\b\b\b\b\b\b\b\b\b\b\b\b\b\b\b\b\b\b\b\b\b\b\b\b\b\b\b\b\b\b\b\b\b\b\b\b\b\b\b\b\b\b\b\b\b\b\b\b\b\b\b\b\b\b\b\b\b\b\b\b\b\b\b\b\b\b\b\b\b\b\b\b\b\b\b\b\b\u001bM  21.85% ::::::::                                 |     1529 /     6998 |      \n",
            "  26.14% ::::::::::                               |     1829 /     6997 |      \b\b\b\b\b\b\b\b\b\b\b\b\b\b\b\b\b\b\b\b\b\b\b\b\b\b\b\b\b\b\b\b\b\b\b\b\b\b\b\b\b\b\b\b\b\b\b\b\b\b\b\b\b\b\b\b\b\b\b\b\b\b\b\b\b\b\b\b\b\b\b\b\b\b\b\b\b\b\b\u001bM  22.08% ::::::::                                 |     1545 /     6998 |      \n",
            "  26.33% ::::::::::                               |     1842 /     6997 |      \b\b\b\b\b\b\b\b\b\b\b\b\b\b\b\b\b\b\b\b\b\b\b\b\b\b\b\b\b\b\b\b\b\b\b\b\b\b\b\b\b\b\b\b\b\b\b\b\b\b\b\b\b\b\b\b\b\b\b\b\b\b\b\b\b\b\b\b\b\b\b\b\b\b\b\b\b\b\b\u001bM  22.25% ::::::::                                 |     1557 /     6998 |      \n",
            "  26.47% ::::::::::                               |     1852 /     6997 |      \b\b\b\b\b\b\b\b\b\b\b\b\b\b\b\b\b\b\b\b\b\b\b\b\b\b\b\b\b\b\b\b\b\b\b\b\b\b\b\b\b\b\b\b\b\b\b\b\b\b\b\b\b\b\b\b\b\b\b\b\b\b\b\b\b\b\b\b\b\b\b\b\b\b\b\b\b\b\b\u001bM  22.46% ::::::::                                 |     1572 /     6998 |      \n",
            "  26.65% ::::::::::                               |     1865 /     6997 |      \b\b\b\b\b\b\b\b\b\b\b\b\b\b\b\b\b\b\b\b\b\b\b\b\b\b\b\b\b\b\b\b\b\b\b\b\b\b\b\b\b\b\b\b\b\b\b\b\b\b\b\b\b\b\b\b\b\b\b\b\b\b\b\b\b\b\b\b\b\b\b\b\b\b\b\b\b\b\b\u001bM  22.65% :::::::::                                |     1585 /     6998 |      \n",
            "  26.83% ::::::::::                               |     1877 /     6997 |      \b\b\b\b\b\b\b\b\b\b\b\b\b\b\b\b\b\b\b\b\b\b\b\b\b\b\b\b\b\b\b\b\b\b\b\b\b\b\b\b\b\b\b\b\b\b\b\b\b\b\b\b\b\b\b\b\b\b\b\b\b\b\b\b\b\b\b\b\b\b\b\b\b\b\b\b\b\b\b\u001bM  22.82% :::::::::                                |     1597 /     6998 |      \n",
            "  27.00% ::::::::::                               |     1889 /     6997 |      \b\b\b\b\b\b\b\b\b\b\b\b\b\b\b\b\b\b\b\b\b\b\b\b\b\b\b\b\b\b\b\b\b\b\b\b\b\b\b\b\b\b\b\b\b\b\b\b\b\b\b\b\b\b\b\b\b\b\b\b\b\b\b\b\b\b\b\b\b\b\b\b\b\b\b\b\b\b\b\u001bM  22.96% :::::::::                                |     1607 /     6998 |      \n",
            "  27.17% ::::::::::                               |     1901 /     6997 |      \b\b\b\b\b\b\b\b\b\b\b\b\b\b\b\b\b\b\b\b\b\b\b\b\b\b\b\b\b\b\b\b\b\b\b\b\b\b\b\b\b\b\b\b\b\b\b\b\b\b\b\b\b\b\b\b\b\b\b\b\b\b\b\b\b\b\b\b\b\b\b\b\b\b\b\b\b\b\b\u001bM  23.14% :::::::::                                |     1619 /     6998 |      \n",
            "  27.37% ::::::::::                               |     1915 /     6997 |      \b\b\b\b\b\b\b\b\b\b\b\b\b\b\b\b\b\b\b\b\b\b\b\b\b\b\b\b\b\b\b\b\b\b\b\b\b\b\b\b\b\b\b\b\b\b\b\b\b\b\b\b\b\b\b\b\b\b\b\b\b\b\b\b\b\b\b\b\b\b\b\b\b\b\b\b\b\b\b\u001bM  23.32% :::::::::                                |     1632 /     6998 |      \n",
            "  27.57% :::::::::::                              |     1929 /     6997 |      \b\b\b\b\b\b\b\b\b\b\b\b\b\b\b\b\b\b\b\b\b\b\b\b\b\b\b\b\b\b\b\b\b\b\b\b\b\b\b\b\b\b\b\b\b\b\b\b\b\b\b\b\b\b\b\b\b\b\b\b\b\b\b\b\b\b\b\b\b\b\b\b\b\b\b\b\b\b\b\u001bM  23.54% :::::::::                                |     1647 /     6998 |      \n",
            "  27.77% :::::::::::                              |     1943 /     6997 |      \b\b\b\b\b\b\b\b\b\b\b\b\b\b\b\b\b\b\b\b\b\b\b\b\b\b\b\b\b\b\b\b\b\b\b\b\b\b\b\b\b\b\b\b\b\b\b\b\b\b\b\b\b\b\b\b\b\b\b\b\b\b\b\b\b\b\b\b\b\b\b\b\b\b\b\b\b\b\b\u001bM  23.75% :::::::::                                |     1662 /     6998 |      \n",
            "  27.98% :::::::::::                              |     1958 /     6997 |      \b\b\b\b\b\b\b\b\b\b\b\b\b\b\b\b\b\b\b\b\b\b\b\b\b\b\b\b\b\b\b\b\b\b\b\b\b\b\b\b\b\b\b\b\b\b\b\b\b\b\b\b\b\b\b\b\b\b\b\b\b\b\b\b\b\b\b\b\b\b\b\b\b\b\b\b\b\b\b\u001bM  23.95% :::::::::                                |     1676 /     6998 |      \n",
            "  28.17% :::::::::::                              |     1971 /     6997 |      \b\b\b\b\b\b\b\b\b\b\b\b\b\b\b\b\b\b\b\b\b\b\b\b\b\b\b\b\b\b\b\b\b\b\b\b\b\b\b\b\b\b\b\b\b\b\b\b\b\b\b\b\b\b\b\b\b\b\b\b\b\b\b\b\b\b\b\b\b\b\b\b\b\b\b\b\b\b\b\u001bM  24.16% :::::::::                                |     1691 /     6998 |      \n",
            "  28.38% :::::::::::                              |     1986 /     6997 |      \b\b\b\b\b\b\b\b\b\b\b\b\b\b\b\b\b\b\b\b\b\b\b\b\b\b\b\b\b\b\b\b\b\b\b\b\b\b\b\b\b\b\b\b\b\b\b\b\b\b\b\b\b\b\b\b\b\b\b\b\b\b\b\b\b\b\b\b\b\b\b\b\b\b\b\b\b\b\b\u001bM  24.38% :::::::::                                |     1706 /     6998 |      \n",
            "  28.60% :::::::::::                              |     2001 /     6997 |      \b\b\b\b\b\b\b\b\b\b\b\b\b\b\b\b\b\b\b\b\b\b\b\b\b\b\b\b\b\b\b\b\b\b\b\b\b\b\b\b\b\b\b\b\b\b\b\b\b\b\b\b\b\b\b\b\b\b\b\b\b\b\b\b\b\b\b\b\b\b\b\b\b\b\b\b\b\b\b\u001bM  24.58% :::::::::                                |     1720 /     6998 |      \n",
            "  28.81% :::::::::::                              |     2016 /     6997 |      \b\b\b\b\b\b\b\b\b\b\b\b\b\b\b\b\b\b\b\b\b\b\b\b\b\b\b\b\b\b\b\b\b\b\b\b\b\b\b\b\b\b\b\b\b\b\b\b\b\b\b\b\b\b\b\b\b\b\b\b\b\b\b\b\b\b\b\b\b\b\b\b\b\b\b\b\b\b\b\u001bM  24.75% :::::::::                                |     1732 /     6998 |      \n",
            "  29.01% :::::::::::                              |     2030 /     6997 |      \b\b\b\b\b\b\b\b\b\b\b\b\b\b\b\b\b\b\b\b\b\b\b\b\b\b\b\b\b\b\b\b\b\b\b\b\b\b\b\b\b\b\b\b\b\b\b\b\b\b\b\b\b\b\b\b\b\b\b\b\b\b\b\b\b\b\b\b\b\b\b\b\b\b\b\b\b\b\b\u001bM  24.88% :::::::::                                |     1741 /     6998 |      \n",
            "  29.23% :::::::::::                              |     2045 /     6997 |      \b\b\b\b\b\b\b\b\b\b\b\b\b\b\b\b\b\b\b\b\b\b\b\b\b\b\b\b\b\b\b\b\b\b\b\b\b\b\b\b\b\b\b\b\b\b\b\b\b\b\b\b\b\b\b\b\b\b\b\b\b\b\b\b\b\b\b\b\b\b\b\b\b\b\b\b\b\b\b\u001bM  25.08% ::::::::::                               |     1755 /     6998 |      \n",
            "  29.41% :::::::::::                              |     2058 /     6997 |      \b\b\b\b\b\b\b\b\b\b\b\b\b\b\b\b\b\b\b\b\b\b\b\b\b\b\b\b\b\b\b\b\b\b\b\b\b\b\b\b\b\b\b\b\b\b\b\b\b\b\b\b\b\b\b\b\b\b\b\b\b\b\b\b\b\b\b\b\b\b\b\b\b\b\b\b\b\b\b\u001bM  25.24% ::::::::::                               |     1766 /     6998 |      \n",
            "  29.64% :::::::::::                              |     2074 /     6997 |      \b\b\b\b\b\b\b\b\b\b\b\b\b\b\b\b\b\b\b\b\b\b\b\b\b\b\b\b\b\b\b\b\b\b\b\b\b\b\b\b\b\b\b\b\b\b\b\b\b\b\b\b\b\b\b\b\b\b\b\b\b\b\b\b\b\b\b\b\b\b\b\b\b\b\b\b\b\b\b\u001bM  25.41% ::::::::::                               |     1778 /     6998 |      \n",
            "  29.86% :::::::::::                              |     2089 /     6997 |      \b\b\b\b\b\b\b\b\b\b\b\b\b\b\b\b\b\b\b\b\b\b\b\b\b\b\b\b\b\b\b\b\b\b\b\b\b\b\b\b\b\b\b\b\b\b\b\b\b\b\b\b\b\b\b\b\b\b\b\b\b\b\b\b\b\b\b\b\b\b\b\b\b\b\b\b\b\b\b\u001bM  25.62% ::::::::::                               |     1793 /     6998 |      \n",
            "  30.08% ::::::::::::                             |     2105 /     6997 |      \b\b\b\b\b\b\b\b\b\b\b\b\b\b\b\b\b\b\b\b\b\b\b\b\b\b\b\b\b\b\b\b\b\b\b\b\b\b\b\b\b\b\b\b\b\b\b\b\b\b\b\b\b\b\b\b\b\b\b\b\b\b\b\b\b\b\b\b\b\b\b\b\b\b\b\b\b\b\b\u001bM  25.79% ::::::::::                               |     1805 /     6998 |      \n",
            "  30.27% ::::::::::::                             |     2118 /     6997 |      \b\b\b\b\b\b\b\b\b\b\b\b\b\b\b\b\b\b\b\b\b\b\b\b\b\b\b\b\b\b\b\b\b\b\b\b\b\b\b\b\b\b\b\b\b\b\b\b\b\b\b\b\b\b\b\b\b\b\b\b\b\b\b\b\b\b\b\b\b\b\b\b\b\b\b\b\b\b\b\u001bM  26.01% ::::::::::                               |     1820 /     6998 |      \n",
            "  30.47% ::::::::::::                             |     2132 /     6997 |      \b\b\b\b\b\b\b\b\b\b\b\b\b\b\b\b\b\b\b\b\b\b\b\b\b\b\b\b\b\b\b\b\b\b\b\b\b\b\b\b\b\b\b\b\b\b\b\b\b\b\b\b\b\b\b\b\b\b\b\b\b\b\b\b\b\b\b\b\b\b\b\b\b\b\b\b\b\b\b\u001bM  26.19% ::::::::::                               |     1833 /     6998 |      \n",
            "  30.70% ::::::::::::                             |     2148 /     6997 |      \b\b\b\b\b\b\b\b\b\b\b\b\b\b\b\b\b\b\b\b\b\b\b\b\b\b\b\b\b\b\b\b\b\b\b\b\b\b\b\b\b\b\b\b\b\b\b\b\b\b\b\b\b\b\b\b\b\b\b\b\b\b\b\b\b\b\b\b\b\b\b\b\b\b\b\b\b\b\b\u001bM  26.38% ::::::::::                               |     1846 /     6998 |      \n",
            "  30.93% ::::::::::::                             |     2164 /     6997 |      \b\b\b\b\b\b\b\b\b\b\b\b\b\b\b\b\b\b\b\b\b\b\b\b\b\b\b\b\b\b\b\b\b\b\b\b\b\b\b\b\b\b\b\b\b\b\b\b\b\b\b\b\b\b\b\b\b\b\b\b\b\b\b\b\b\b\b\b\b\b\b\b\b\b\b\b\b\b\b\u001bM  26.61% ::::::::::                               |     1862 /     6998 |      \n",
            "  31.17% ::::::::::::                             |     2181 /     6997 |      \b\b\b\b\b\b\b\b\b\b\b\b\b\b\b\b\b\b\b\b\b\b\b\b\b\b\b\b\b\b\b\b\b\b\b\b\b\b\b\b\b\b\b\b\b\b\b\b\b\b\b\b\b\b\b\b\b\b\b\b\b\b\b\b\b\b\b\b\b\b\b\b\b\b\b\b\b\b\b\u001bM  26.79% ::::::::::                               |     1875 /     6998 |      \n",
            "  31.36% ::::::::::::                             |     2194 /     6997 |      \b\b\b\b\b\b\b\b\b\b\b\b\b\b\b\b\b\b\b\b\b\b\b\b\b\b\b\b\b\b\b\b\b\b\b\b\b\b\b\b\b\b\b\b\b\b\b\b\b\b\b\b\b\b\b\b\b\b\b\b\b\b\b\b\b\b\b\b\b\b\b\b\b\b\b\b\b\b\b\u001bM  26.99% ::::::::::                               |     1889 /     6998 |      \n",
            "  31.56% ::::::::::::                             |     2208 /     6997 |      \b\b\b\b\b\b\b\b\b\b\b\b\b\b\b\b\b\b\b\b\b\b\b\b\b\b\b\b\b\b\b\b\b\b\b\b\b\b\b\b\b\b\b\b\b\b\b\b\b\b\b\b\b\b\b\b\b\b\b\b\b\b\b\b\b\b\b\b\b\b\b\b\b\b\b\b\b\b\b\u001bM  27.22% ::::::::::                               |     1905 /     6998 |      \n",
            "  31.73% ::::::::::::                             |     2220 /     6997 |      \b\b\b\b\b\b\b\b\b\b\b\b\b\b\b\b\b\b\b\b\b\b\b\b\b\b\b\b\b\b\b\b\b\b\b\b\b\b\b\b\b\b\b\b\b\b\b\b\b\b\b\b\b\b\b\b\b\b\b\b\b\b\b\b\b\b\b\b\b\b\b\b\b\b\b\b\b\b\b\u001bM  27.45% ::::::::::                               |     1921 /     6998 |      \n",
            "  31.93% ::::::::::::                             |     2234 /     6997 |      \b\b\b\b\b\b\b\b\b\b\b\b\b\b\b\b\b\b\b\b\b\b\b\b\b\b\b\b\b\b\b\b\b\b\b\b\b\b\b\b\b\b\b\b\b\b\b\b\b\b\b\b\b\b\b\b\b\b\b\b\b\b\b\b\b\b\b\b\b\b\b\b\b\b\b\b\b\b\b\u001bM  27.64% :::::::::::                              |     1934 /     6998 |      \n",
            "  32.11% ::::::::::::                             |     2247 /     6997 |      \b\b\b\b\b\b\b\b\b\b\b\b\b\b\b\b\b\b\b\b\b\b\b\b\b\b\b\b\b\b\b\b\b\b\b\b\b\b\b\b\b\b\b\b\b\b\b\b\b\b\b\b\b\b\b\b\b\b\b\b\b\b\b\b\b\b\b\b\b\b\b\b\b\b\b\b\b\b\b\u001bM  27.82% :::::::::::                              |     1947 /     6998 |      \n",
            "  32.33% ::::::::::::                             |     2262 /     6997 |      \b\b\b\b\b\b\b\b\b\b\b\b\b\b\b\b\b\b\b\b\b\b\b\b\b\b\b\b\b\b\b\b\b\b\b\b\b\b\b\b\b\b\b\b\b\b\b\b\b\b\b\b\b\b\b\b\b\b\b\b\b\b\b\b\b\b\b\b\b\b\b\b\b\b\b\b\b\b\b\u001bM  28.02% :::::::::::                              |     1961 /     6998 |      \n",
            "  32.53% :::::::::::::                            |     2276 /     6997 |      \b\b\b\b\b\b\b\b\b\b\b\b\b\b\b\b\b\b\b\b\b\b\b\b\b\b\b\b\b\b\b\b\b\b\b\b\b\b\b\b\b\b\b\b\b\b\b\b\b\b\b\b\b\b\b\b\b\b\b\b\b\b\b\b\b\b\b\b\b\b\b\b\b\b\b\b\b\b\b\u001bM  28.19% :::::::::::                              |     1973 /     6998 |      \n",
            "  32.73% :::::::::::::                            |     2290 /     6997 |      \b\b\b\b\b\b\b\b\b\b\b\b\b\b\b\b\b\b\b\b\b\b\b\b\b\b\b\b\b\b\b\b\b\b\b\b\b\b\b\b\b\b\b\b\b\b\b\b\b\b\b\b\b\b\b\b\b\b\b\b\b\b\b\b\b\b\b\b\b\b\b\b\b\b\b\b\b\b\b\u001bM  28.39% :::::::::::                              |     1987 /     6998 |      \n",
            "  32.96% :::::::::::::                            |     2306 /     6997 |      \b\b\b\b\b\b\b\b\b\b\b\b\b\b\b\b\b\b\b\b\b\b\b\b\b\b\b\b\b\b\b\b\b\b\b\b\b\b\b\b\b\b\b\b\b\b\b\b\b\b\b\b\b\b\b\b\b\b\b\b\b\b\b\b\b\b\b\b\b\b\b\b\b\b\b\b\b\b\b\u001bM  28.57% :::::::::::                              |     1999 /     6998 |      \n",
            "  33.17% :::::::::::::                            |     2321 /     6997 |      \b\b\b\b\b\b\b\b\b\b\b\b\b\b\b\b\b\b\b\b\b\b\b\b\b\b\b\b\b\b\b\b\b\b\b\b\b\b\b\b\b\b\b\b\b\b\b\b\b\b\b\b\b\b\b\b\b\b\b\b\b\b\b\b\b\b\b\b\b\b\b\b\b\b\b\b\b\b\b\u001bM  28.79% :::::::::::                              |     2015 /     6998 |      \n",
            "  33.37% :::::::::::::                            |     2335 /     6997 |      \b\b\b\b\b\b\b\b\b\b\b\b\b\b\b\b\b\b\b\b\b\b\b\b\b\b\b\b\b\b\b\b\b\b\b\b\b\b\b\b\b\b\b\b\b\b\b\b\b\b\b\b\b\b\b\b\b\b\b\b\b\b\b\b\b\b\b\b\b\b\b\b\b\b\b\b\b\b\b\u001bM  28.97% :::::::::::                              |     2027 /     6998 |      \n",
            "  33.56% :::::::::::::                            |     2348 /     6997 |      \b\b\b\b\b\b\b\b\b\b\b\b\b\b\b\b\b\b\b\b\b\b\b\b\b\b\b\b\b\b\b\b\b\b\b\b\b\b\b\b\b\b\b\b\b\b\b\b\b\b\b\b\b\b\b\b\b\b\b\b\b\b\b\b\b\b\b\b\b\b\b\b\b\b\b\b\b\b\b\u001bM  29.22% :::::::::::                              |     2045 /     6998 |      \n",
            "  33.76% :::::::::::::                            |     2362 /     6997 |      \b\b\b\b\b\b\b\b\b\b\b\b\b\b\b\b\b\b\b\b\b\b\b\b\b\b\b\b\b\b\b\b\b\b\b\b\b\b\b\b\b\b\b\b\b\b\b\b\b\b\b\b\b\b\b\b\b\b\b\b\b\b\b\b\b\b\b\b\b\b\b\b\b\b\b\b\b\b\b\u001bM  29.41% :::::::::::                              |     2058 /     6998 |      \n",
            "  33.96% :::::::::::::                            |     2376 /     6997 |      \b\b\b\b\b\b\b\b\b\b\b\b\b\b\b\b\b\b\b\b\b\b\b\b\b\b\b\b\b\b\b\b\b\b\b\b\b\b\b\b\b\b\b\b\b\b\b\b\b\b\b\b\b\b\b\b\b\b\b\b\b\b\b\b\b\b\b\b\b\b\b\b\b\b\b\b\b\b\b\u001bM  29.58% :::::::::::                              |     2070 /     6998 |      \n",
            "  34.16% :::::::::::::                            |     2390 /     6997 |      \b\b\b\b\b\b\b\b\b\b\b\b\b\b\b\b\b\b\b\b\b\b\b\b\b\b\b\b\b\b\b\b\b\b\b\b\b\b\b\b\b\b\b\b\b\b\b\b\b\b\b\b\b\b\b\b\b\b\b\b\b\b\b\b\b\b\b\b\b\b\b\b\b\b\b\b\b\b\b\u001bM  29.74% :::::::::::                              |     2081 /     6998 |      \n",
            "  34.37% :::::::::::::                            |     2405 /     6997 |      \b\b\b\b\b\b\b\b\b\b\b\b\b\b\b\b\b\b\b\b\b\b\b\b\b\b\b\b\b\b\b\b\b\b\b\b\b\b\b\b\b\b\b\b\b\b\b\b\b\b\b\b\b\b\b\b\b\b\b\b\b\b\b\b\b\b\b\b\b\b\b\b\b\b\b\b\b\b\b\u001bM  29.94% :::::::::::                              |     2095 /     6998 |      \n",
            "  34.59% :::::::::::::                            |     2420 /     6997 |      \b\b\b\b\b\b\b\b\b\b\b\b\b\b\b\b\b\b\b\b\b\b\b\b\b\b\b\b\b\b\b\b\b\b\b\b\b\b\b\b\b\b\b\b\b\b\b\b\b\b\b\b\b\b\b\b\b\b\b\b\b\b\b\b\b\b\b\b\b\b\b\b\b\b\b\b\b\b\b\u001bM  30.14% ::::::::::::                             |     2109 /     6998 |      \n",
            "  34.80% :::::::::::::                            |     2435 /     6997 |      \b\b\b\b\b\b\b\b\b\b\b\b\b\b\b\b\b\b\b\b\b\b\b\b\b\b\b\b\b\b\b\b\b\b\b\b\b\b\b\b\b\b\b\b\b\b\b\b\b\b\b\b\b\b\b\b\b\b\b\b\b\b\b\b\b\b\b\b\b\b\b\b\b\b\b\b\b\b\b\u001bM  30.38% ::::::::::::                             |     2126 /     6998 |      \n",
            "  34.97% :::::::::::::                            |     2447 /     6997 |      \b\b\b\b\b\b\b\b\b\b\b\b\b\b\b\b\b\b\b\b\b\b\b\b\b\b\b\b\b\b\b\b\b\b\b\b\b\b\b\b\b\b\b\b\b\b\b\b\b\b\b\b\b\b\b\b\b\b\b\b\b\b\b\b\b\b\b\b\b\b\b\b\b\b\b\b\b\b\b\u001bM  30.62% ::::::::::::                             |     2143 /     6998 |      \n",
            "  35.16% ::::::::::::::                           |     2460 /     6997 |      \b\b\b\b\b\b\b\b\b\b\b\b\b\b\b\b\b\b\b\b\b\b\b\b\b\b\b\b\b\b\b\b\b\b\b\b\b\b\b\b\b\b\b\b\b\b\b\b\b\b\b\b\b\b\b\b\b\b\b\b\b\b\b\b\b\b\b\b\b\b\b\b\b\b\b\b\b\b\b\u001bM  30.82% ::::::::::::                             |     2157 /     6998 |      \n",
            "  35.34% ::::::::::::::                           |     2473 /     6997 |      \b\b\b\b\b\b\b\b\b\b\b\b\b\b\b\b\b\b\b\b\b\b\b\b\b\b\b\b\b\b\b\b\b\b\b\b\b\b\b\b\b\b\b\b\b\b\b\b\b\b\b\b\b\b\b\b\b\b\b\b\b\b\b\b\b\b\b\b\b\b\b\b\b\b\b\b\b\b\b\u001bM  30.99% ::::::::::::                             |     2169 /     6998 |      \n",
            "  35.56% ::::::::::::::                           |     2488 /     6997 |      \b\b\b\b\b\b\b\b\b\b\b\b\b\b\b\b\b\b\b\b\b\b\b\b\b\b\b\b\b\b\b\b\b\b\b\b\b\b\b\b\b\b\b\b\b\b\b\b\b\b\b\b\b\b\b\b\b\b\b\b\b\b\b\b\b\b\b\b\b\b\b\b\b\b\b\b\b\b\b\u001bM  31.17% ::::::::::::                             |     2181 /     6998 |      \n",
            "  35.74% ::::::::::::::                           |     2501 /     6997 |      \b\b\b\b\b\b\b\b\b\b\b\b\b\b\b\b\b\b\b\b\b\b\b\b\b\b\b\b\b\b\b\b\b\b\b\b\b\b\b\b\b\b\b\b\b\b\b\b\b\b\b\b\b\b\b\b\b\b\b\b\b\b\b\b\b\b\b\b\b\b\b\b\b\b\b\b\b\b\b\u001bM  31.38% ::::::::::::                             |     2196 /     6998 |      \n",
            "  35.90% ::::::::::::::                           |     2512 /     6997 |      \b\b\b\b\b\b\b\b\b\b\b\b\b\b\b\b\b\b\b\b\b\b\b\b\b\b\b\b\b\b\b\b\b\b\b\b\b\b\b\b\b\b\b\b\b\b\b\b\b\b\b\b\b\b\b\b\b\b\b\b\b\b\b\b\b\b\b\b\b\b\b\b\b\b\b\b\b\b\b\u001bM  31.58% ::::::::::::                             |     2210 /     6998 |      \n",
            "  36.10% ::::::::::::::                           |     2526 /     6997 |      \b\b\b\b\b\b\b\b\b\b\b\b\b\b\b\b\b\b\b\b\b\b\b\b\b\b\b\b\b\b\b\b\b\b\b\b\b\b\b\b\b\b\b\b\b\b\b\b\b\b\b\b\b\b\b\b\b\b\b\b\b\b\b\b\b\b\b\b\b\b\b\b\b\b\b\b\b\b\b\u001bM  31.79% ::::::::::::                             |     2225 /     6998 |      \n",
            "  36.33% ::::::::::::::                           |     2542 /     6997 |      \b\b\b\b\b\b\b\b\b\b\b\b\b\b\b\b\b\b\b\b\b\b\b\b\b\b\b\b\b\b\b\b\b\b\b\b\b\b\b\b\b\b\b\b\b\b\b\b\b\b\b\b\b\b\b\b\b\b\b\b\b\b\b\b\b\b\b\b\b\b\b\b\b\b\b\b\b\b\b\u001bM  31.99% ::::::::::::                             |     2239 /     6998 |      \n",
            "  36.54% ::::::::::::::                           |     2557 /     6997 |      \b\b\b\b\b\b\b\b\b\b\b\b\b\b\b\b\b\b\b\b\b\b\b\b\b\b\b\b\b\b\b\b\b\b\b\b\b\b\b\b\b\b\b\b\b\b\b\b\b\b\b\b\b\b\b\b\b\b\b\b\b\b\b\b\b\b\b\b\b\b\b\b\b\b\b\b\b\b\b\u001bM  32.19% ::::::::::::                             |     2253 /     6998 |      \n",
            "  36.74% ::::::::::::::                           |     2571 /     6997 |      \b\b\b\b\b\b\b\b\b\b\b\b\b\b\b\b\b\b\b\b\b\b\b\b\b\b\b\b\b\b\b\b\b\b\b\b\b\b\b\b\b\b\b\b\b\b\b\b\b\b\b\b\b\b\b\b\b\b\b\b\b\b\b\b\b\b\b\b\b\b\b\b\b\b\b\b\b\b\b\u001bM  32.39% ::::::::::::                             |     2267 /     6998 |      \n",
            "  36.93% ::::::::::::::                           |     2584 /     6997 |      \b\b\b\b\b\b\b\b\b\b\b\b\b\b\b\b\b\b\b\b\b\b\b\b\b\b\b\b\b\b\b\b\b\b\b\b\b\b\b\b\b\b\b\b\b\b\b\b\b\b\b\b\b\b\b\b\b\b\b\b\b\b\b\b\b\b\b\b\b\b\b\b\b\b\b\b\b\b\b\u001bM  32.57% :::::::::::::                            |     2279 /     6998 |      \n",
            "  37.13% ::::::::::::::                           |     2598 /     6997 |      \b\b\b\b\b\b\b\b\b\b\b\b\b\b\b\b\b\b\b\b\b\b\b\b\b\b\b\b\b\b\b\b\b\b\b\b\b\b\b\b\b\b\b\b\b\b\b\b\b\b\b\b\b\b\b\b\b\b\b\b\b\b\b\b\b\b\b\b\b\b\b\b\b\b\b\b\b\b\b\u001bM  32.77% :::::::::::::                            |     2293 /     6998 |      \n",
            "  37.33% ::::::::::::::                           |     2612 /     6997 |      \b\b\b\b\b\b\b\b\b\b\b\b\b\b\b\b\b\b\b\b\b\b\b\b\b\b\b\b\b\b\b\b\b\b\b\b\b\b\b\b\b\b\b\b\b\b\b\b\b\b\b\b\b\b\b\b\b\b\b\b\b\b\b\b\b\b\b\b\b\b\b\b\b\b\b\b\b\b\b\u001bM  32.97% :::::::::::::                            |     2307 /     6998 |      \n",
            "  37.56% :::::::::::::::                          |     2628 /     6997 |      \b\b\b\b\b\b\b\b\b\b\b\b\b\b\b\b\b\b\b\b\b\b\b\b\b\b\b\b\b\b\b\b\b\b\b\b\b\b\b\b\b\b\b\b\b\b\b\b\b\b\b\b\b\b\b\b\b\b\b\b\b\b\b\b\b\b\b\b\b\b\b\b\b\b\b\b\b\b\b\u001bM  33.18% :::::::::::::                            |     2322 /     6998 |      \n",
            "  37.77% :::::::::::::::                          |     2643 /     6997 |      \b\b\b\b\b\b\b\b\b\b\b\b\b\b\b\b\b\b\b\b\b\b\b\b\b\b\b\b\b\b\b\b\b\b\b\b\b\b\b\b\b\b\b\b\b\b\b\b\b\b\b\b\b\b\b\b\b\b\b\b\b\b\b\b\b\b\b\b\b\b\b\b\b\b\b\b\b\b\b\u001bM  33.40% :::::::::::::                            |     2337 /     6998 |      \n",
            "  37.93% :::::::::::::::                          |     2654 /     6997 |      \b\b\b\b\b\b\b\b\b\b\b\b\b\b\b\b\b\b\b\b\b\b\b\b\b\b\b\b\b\b\b\b\b\b\b\b\b\b\b\b\b\b\b\b\b\b\b\b\b\b\b\b\b\b\b\b\b\b\b\b\b\b\b\b\b\b\b\b\b\b\b\b\b\b\b\b\b\b\b\u001bM  33.60% :::::::::::::                            |     2351 /     6998 |      \n",
            "  38.12% :::::::::::::::                          |     2667 /     6997 |      \b\b\b\b\b\b\b\b\b\b\b\b\b\b\b\b\b\b\b\b\b\b\b\b\b\b\b\b\b\b\b\b\b\b\b\b\b\b\b\b\b\b\b\b\b\b\b\b\b\b\b\b\b\b\b\b\b\b\b\b\b\b\b\b\b\b\b\b\b\b\b\b\b\b\b\b\b\b\b\u001bM  33.81% :::::::::::::                            |     2366 /     6998 |      \n",
            "  38.33% :::::::::::::::                          |     2682 /     6997 |      \b\b\b\b\b\b\b\b\b\b\b\b\b\b\b\b\b\b\b\b\b\b\b\b\b\b\b\b\b\b\b\b\b\b\b\b\b\b\b\b\b\b\b\b\b\b\b\b\b\b\b\b\b\b\b\b\b\b\b\b\b\b\b\b\b\b\b\b\b\b\b\b\b\b\b\b\b\b\b\u001bM  34.00% :::::::::::::                            |     2379 /     6998 |      \n",
            "  38.50% :::::::::::::::                          |     2694 /     6997 |      \b\b\b\b\b\b\b\b\b\b\b\b\b\b\b\b\b\b\b\b\b\b\b\b\b\b\b\b\b\b\b\b\b\b\b\b\b\b\b\b\b\b\b\b\b\b\b\b\b\b\b\b\b\b\b\b\b\b\b\b\b\b\b\b\b\b\b\b\b\b\b\b\b\b\b\b\b\b\b\u001bM  34.17% :::::::::::::                            |     2391 /     6998 |      \n",
            "  38.69% :::::::::::::::                          |     2707 /     6997 |      \b\b\b\b\b\b\b\b\b\b\b\b\b\b\b\b\b\b\b\b\b\b\b\b\b\b\b\b\b\b\b\b\b\b\b\b\b\b\b\b\b\b\b\b\b\b\b\b\b\b\b\b\b\b\b\b\b\b\b\b\b\b\b\b\b\b\b\b\b\b\b\b\b\b\b\b\b\b\b\u001bM  34.35% :::::::::::::                            |     2404 /     6998 |      \n",
            "  38.87% :::::::::::::::                          |     2720 /     6997 |      \b\b\b\b\b\b\b\b\b\b\b\b\b\b\b\b\b\b\b\b\b\b\b\b\b\b\b\b\b\b\b\b\b\b\b\b\b\b\b\b\b\b\b\b\b\b\b\b\b\b\b\b\b\b\b\b\b\b\b\b\b\b\b\b\b\b\b\b\b\b\b\b\b\b\b\b\b\b\b\u001bM  34.58% :::::::::::::                            |     2420 /     6998 |      \n",
            "  39.07% :::::::::::::::                          |     2734 /     6997 |      \b\b\b\b\b\b\b\b\b\b\b\b\b\b\b\b\b\b\b\b\b\b\b\b\b\b\b\b\b\b\b\b\b\b\b\b\b\b\b\b\b\b\b\b\b\b\b\b\b\b\b\b\b\b\b\b\b\b\b\b\b\b\b\b\b\b\b\b\b\b\b\b\b\b\b\b\b\b\b\u001bM  34.77% :::::::::::::                            |     2433 /     6998 |      \n",
            "  39.27% :::::::::::::::                          |     2748 /     6997 |      \b\b\b\b\b\b\b\b\b\b\b\b\b\b\b\b\b\b\b\b\b\b\b\b\b\b\b\b\b\b\b\b\b\b\b\b\b\b\b\b\b\b\b\b\b\b\b\b\b\b\b\b\b\b\b\b\b\b\b\b\b\b\b\b\b\b\b\b\b\b\b\b\b\b\b\b\b\b\b\u001bM  35.00% :::::::::::::                            |     2449 /     6998 |      \n",
            "  39.45% :::::::::::::::                          |     2760 /     6997 |      \b\b\b\b\b\b\b\b\b\b\b\b\b\b\b\b\b\b\b\b\b\b\b\b\b\b\b\b\b\b\b\b\b\b\b\b\b\b\b\b\b\b\b\b\b\b\b\b\b\b\b\b\b\b\b\b\b\b\b\b\b\b\b\b\b\b\b\b\b\b\b\b\b\b\b\b\b\b\b\u001bM  35.20% ::::::::::::::                           |     2463 /     6998 |      \n",
            "  39.66% :::::::::::::::                          |     2775 /     6997 |      \b\b\b\b\b\b\b\b\b\b\b\b\b\b\b\b\b\b\b\b\b\b\b\b\b\b\b\b\b\b\b\b\b\b\b\b\b\b\b\b\b\b\b\b\b\b\b\b\b\b\b\b\b\b\b\b\b\b\b\b\b\b\b\b\b\b\b\b\b\b\b\b\b\b\b\b\b\b\b\u001bM  35.38% ::::::::::::::                           |     2476 /     6998 |      \n",
            "  39.85% :::::::::::::::                          |     2788 /     6997 |      \b\b\b\b\b\b\b\b\b\b\b\b\b\b\b\b\b\b\b\b\b\b\b\b\b\b\b\b\b\b\b\b\b\b\b\b\b\b\b\b\b\b\b\b\b\b\b\b\b\b\b\b\b\b\b\b\b\b\b\b\b\b\b\b\b\b\b\b\b\b\b\b\b\b\b\b\b\b\b\u001bM  35.61% ::::::::::::::                           |     2492 /     6998 |      \n",
            "  40.02% ::::::::::::::::                         |     2800 /     6997 |      \b\b\b\b\b\b\b\b\b\b\b\b\b\b\b\b\b\b\b\b\b\b\b\b\b\b\b\b\b\b\b\b\b\b\b\b\b\b\b\b\b\b\b\b\b\b\b\b\b\b\b\b\b\b\b\b\b\b\b\b\b\b\b\b\b\b\b\b\b\b\b\b\b\b\b\b\b\b\b\u001bM  35.61% ::::::::::::::                           |     2492 /     6998 |      \n",
            "  40.47% ::::::::::::::::                         |     2832 /     6997 |      \b\b\b\b\b\b\b\b\b\b\b\b\b\b\b\b\b\b\b\b\b\b\b\b\b\b\b\b\b\b\b\b\b\b\b\b\b\b\b\b\b\b\b\b\b\b\b\b\b\b\b\b\b\b\b\b\b\b\b\b\b\b\b\b\b\b\b\b\b\b\b\b\b\b\b\b\b\b\b\u001bM  35.61% ::::::::::::::                           |     2492 /     6998 |      \n",
            "  40.87% ::::::::::::::::                         |     2860 /     6997 |      \b\b\b\b\b\b\b\b\b\b\b\b\b\b\b\b\b\b\b\b\b\b\b\b\b\b\b\b\b\b\b\b\b\b\b\b\b\b\b\b\b\b\b\b\b\b\b\b\b\b\b\b\b\b\b\b\b\b\b\b\b\b\b\b\b\b\b\b\b\b\b\b\b\b\b\b\b\b\b\u001bM  35.90% ::::::::::::::                           |     2512 /     6998 |      \n",
            "  40.87% ::::::::::::::::                         |     2860 /     6997 |      \b\b\b\b\b\b\b\b\b\b\b\b\b\b\b\b\b\b\b\b\b\b\b\b\b\b\b\b\b\b\b\b\b\b\b\b\b\b\b\b\b\b\b\b\b\b\b\b\b\b\b\b\b\b\b\b\b\b\b\b\b\b\b\b\b\b\b\b\b\b\b\b\b\b\b\b\b\b\b\u001bM  36.10% ::::::::::::::                           |     2526 /     6998 |      \n",
            "  41.10% ::::::::::::::::                         |     2876 /     6997 |      \b\b\b\b\b\b\b\b\b\b\b\b\b\b\b\b\b\b\b\b\b\b\b\b\b\b\b\b\b\b\b\b\b\b\b\b\b\b\b\b\b\b\b\b\b\b\b\b\b\b\b\b\b\b\b\b\b\b\b\b\b\b\b\b\b\b\b\b\b\b\b\b\b\b\b\b\b\b\b\u001bM  36.31% ::::::::::::::                           |     2541 /     6998 |      \n",
            "  41.30% ::::::::::::::::                         |     2890 /     6997 |      \b\b\b\b\b\b\b\b\b\b\b\b\b\b\b\b\b\b\b\b\b\b\b\b\b\b\b\b\b\b\b\b\b\b\b\b\b\b\b\b\b\b\b\b\b\b\b\b\b\b\b\b\b\b\b\b\b\b\b\b\b\b\b\b\b\b\b\b\b\b\b\b\b\b\b\b\b\b\b\u001bM  36.52% ::::::::::::::                           |     2556 /     6998 |      \n",
            "  41.52% ::::::::::::::::                         |     2905 /     6997 |      \b\b\b\b\b\b\b\b\b\b\b\b\b\b\b\b\b\b\b\b\b\b\b\b\b\b\b\b\b\b\b\b\b\b\b\b\b\b\b\b\b\b\b\b\b\b\b\b\b\b\b\b\b\b\b\b\b\b\b\b\b\b\b\b\b\b\b\b\b\b\b\b\b\b\b\b\b\b\b\u001bM  36.72% ::::::::::::::                           |     2570 /     6998 |      \n",
            "  41.75% ::::::::::::::::                         |     2921 /     6997 |      \b\b\b\b\b\b\b\b\b\b\b\b\b\b\b\b\b\b\b\b\b\b\b\b\b\b\b\b\b\b\b\b\b\b\b\b\b\b\b\b\b\b\b\b\b\b\b\b\b\b\b\b\b\b\b\b\b\b\b\b\b\b\b\b\b\b\b\b\b\b\b\b\b\b\b\b\b\b\b\u001bM  36.95% ::::::::::::::                           |     2586 /     6998 |      \n",
            "  41.95% ::::::::::::::::                         |     2935 /     6997 |      \b\b\b\b\b\b\b\b\b\b\b\b\b\b\b\b\b\b\b\b\b\b\b\b\b\b\b\b\b\b\b\b\b\b\b\b\b\b\b\b\b\b\b\b\b\b\b\b\b\b\b\b\b\b\b\b\b\b\b\b\b\b\b\b\b\b\b\b\b\b\b\b\b\b\b\b\b\b\b\u001bM  37.17% ::::::::::::::                           |     2601 /     6998 |      \n",
            "  42.12% ::::::::::::::::                         |     2947 /     6997 |      \b\b\b\b\b\b\b\b\b\b\b\b\b\b\b\b\b\b\b\b\b\b\b\b\b\b\b\b\b\b\b\b\b\b\b\b\b\b\b\b\b\b\b\b\b\b\b\b\b\b\b\b\b\b\b\b\b\b\b\b\b\b\b\b\b\b\b\b\b\b\b\b\b\b\b\b\b\b\b\u001bM  37.38% ::::::::::::::                           |     2616 /     6998 |      \n",
            "  42.30% ::::::::::::::::                         |     2960 /     6997 |      \b\b\b\b\b\b\b\b\b\b\b\b\b\b\b\b\b\b\b\b\b\b\b\b\b\b\b\b\b\b\b\b\b\b\b\b\b\b\b\b\b\b\b\b\b\b\b\b\b\b\b\b\b\b\b\b\b\b\b\b\b\b\b\b\b\b\b\b\b\b\b\b\b\b\b\b\b\b\b\u001bM  37.60% :::::::::::::::                          |     2631 /     6998 |      \n",
            "  42.49% ::::::::::::::::                         |     2973 /     6997 |      \b\b\b\b\b\b\b\b\b\b\b\b\b\b\b\b\b\b\b\b\b\b\b\b\b\b\b\b\b\b\b\b\b\b\b\b\b\b\b\b\b\b\b\b\b\b\b\b\b\b\b\b\b\b\b\b\b\b\b\b\b\b\b\b\b\b\b\b\b\b\b\b\b\b\b\b\b\b\b\u001bM  37.83% :::::::::::::::                          |     2647 /     6998 |      \n",
            "  42.65% :::::::::::::::::                        |     2984 /     6997 |      \b\b\b\b\b\b\b\b\b\b\b\b\b\b\b\b\b\b\b\b\b\b\b\b\b\b\b\b\b\b\b\b\b\b\b\b\b\b\b\b\b\b\b\b\b\b\b\b\b\b\b\b\b\b\b\b\b\b\b\b\b\b\b\b\b\b\b\b\b\b\b\b\b\b\b\b\b\b\b\u001bM  38.04% :::::::::::::::                          |     2662 /     6998 |      \n",
            "  42.86% :::::::::::::::::                        |     2999 /     6997 |      \b\b\b\b\b\b\b\b\b\b\b\b\b\b\b\b\b\b\b\b\b\b\b\b\b\b\b\b\b\b\b\b\b\b\b\b\b\b\b\b\b\b\b\b\b\b\b\b\b\b\b\b\b\b\b\b\b\b\b\b\b\b\b\b\b\b\b\b\b\b\b\b\b\b\b\b\b\b\b\u001bM  38.24% :::::::::::::::                          |     2676 /     6998 |      \n",
            "  43.03% :::::::::::::::::                        |     3011 /     6997 |      \b\b\b\b\b\b\b\b\b\b\b\b\b\b\b\b\b\b\b\b\b\b\b\b\b\b\b\b\b\b\b\b\b\b\b\b\b\b\b\b\b\b\b\b\b\b\b\b\b\b\b\b\b\b\b\b\b\b\b\b\b\b\b\b\b\b\b\b\b\b\b\b\b\b\b\b\b\b\b\u001bM  38.45% :::::::::::::::                          |     2691 /     6998 |      \n",
            "  43.19% :::::::::::::::::                        |     3022 /     6997 |      \b\b\b\b\b\b\b\b\b\b\b\b\b\b\b\b\b\b\b\b\b\b\b\b\b\b\b\b\b\b\b\b\b\b\b\b\b\b\b\b\b\b\b\b\b\b\b\b\b\b\b\b\b\b\b\b\b\b\b\b\b\b\b\b\b\b\b\b\b\b\b\b\b\b\b\b\b\b\b\u001bM  38.64% :::::::::::::::                          |     2704 /     6998 |      \n",
            "  43.39% :::::::::::::::::                        |     3036 /     6997 |      \b\b\b\b\b\b\b\b\b\b\b\b\b\b\b\b\b\b\b\b\b\b\b\b\b\b\b\b\b\b\b\b\b\b\b\b\b\b\b\b\b\b\b\b\b\b\b\b\b\b\b\b\b\b\b\b\b\b\b\b\b\b\b\b\b\b\b\b\b\b\b\b\b\b\b\b\b\b\b\u001bM  38.84% :::::::::::::::                          |     2718 /     6998 |      \n",
            "  43.56% :::::::::::::::::                        |     3048 /     6997 |      \b\b\b\b\b\b\b\b\b\b\b\b\b\b\b\b\b\b\b\b\b\b\b\b\b\b\b\b\b\b\b\b\b\b\b\b\b\b\b\b\b\b\b\b\b\b\b\b\b\b\b\b\b\b\b\b\b\b\b\b\b\b\b\b\b\b\b\b\b\b\b\b\b\b\b\b\b\b\b\u001bM  39.08% :::::::::::::::                          |     2735 /     6998 |      \n",
            "  43.75% :::::::::::::::::                        |     3061 /     6997 |      \b\b\b\b\b\b\b\b\b\b\b\b\b\b\b\b\b\b\b\b\b\b\b\b\b\b\b\b\b\b\b\b\b\b\b\b\b\b\b\b\b\b\b\b\b\b\b\b\b\b\b\b\b\b\b\b\b\b\b\b\b\b\b\b\b\b\b\b\b\b\b\b\b\b\b\b\b\b\b\u001bM  39.30% :::::::::::::::                          |     2750 /     6998 |      \n",
            "  43.90% :::::::::::::::::                        |     3072 /     6997 |      \b\b\b\b\b\b\b\b\b\b\b\b\b\b\b\b\b\b\b\b\b\b\b\b\b\b\b\b\b\b\b\b\b\b\b\b\b\b\b\b\b\b\b\b\b\b\b\b\b\b\b\b\b\b\b\b\b\b\b\b\b\b\b\b\b\b\b\b\b\b\b\b\b\b\b\b\b\b\b\u001bM  39.51% :::::::::::::::                          |     2765 /     6998 |      \n",
            "  44.10% :::::::::::::::::                        |     3086 /     6997 |      \b\b\b\b\b\b\b\b\b\b\b\b\b\b\b\b\b\b\b\b\b\b\b\b\b\b\b\b\b\b\b\b\b\b\b\b\b\b\b\b\b\b\b\b\b\b\b\b\b\b\b\b\b\b\b\b\b\b\b\b\b\b\b\b\b\b\b\b\b\b\b\b\b\b\b\b\b\b\b\u001bM  39.74% :::::::::::::::                          |     2781 /     6998 |      \n",
            "  44.30% :::::::::::::::::                        |     3100 /     6997 |      \b\b\b\b\b\b\b\b\b\b\b\b\b\b\b\b\b\b\b\b\b\b\b\b\b\b\b\b\b\b\b\b\b\b\b\b\b\b\b\b\b\b\b\b\b\b\b\b\b\b\b\b\b\b\b\b\b\b\b\b\b\b\b\b\b\b\b\b\b\b\b\b\b\b\b\b\b\b\b\u001bM  39.90% :::::::::::::::                          |     2792 /     6998 |      \n",
            "  44.49% :::::::::::::::::                        |     3113 /     6997 |      \b\b\b\b\b\b\b\b\b\b\b\b\b\b\b\b\b\b\b\b\b\b\b\b\b\b\b\b\b\b\b\b\b\b\b\b\b\b\b\b\b\b\b\b\b\b\b\b\b\b\b\b\b\b\b\b\b\b\b\b\b\b\b\b\b\b\b\b\b\b\b\b\b\b\b\b\b\b\b\u001bM  40.13% ::::::::::::::::                         |     2808 /     6998 |      \n",
            "  44.66% :::::::::::::::::                        |     3125 /     6997 |      \b\b\b\b\b\b\b\b\b\b\b\b\b\b\b\b\b\b\b\b\b\b\b\b\b\b\b\b\b\b\b\b\b\b\b\b\b\b\b\b\b\b\b\b\b\b\b\b\b\b\b\b\b\b\b\b\b\b\b\b\b\b\b\b\b\b\b\b\b\b\b\b\b\b\b\b\b\b\b\u001bM  40.31% ::::::::::::::::                         |     2821 /     6998 |      \n",
            "  44.86% :::::::::::::::::                        |     3139 /     6997 |      \b\b\b\b\b\b\b\b\b\b\b\b\b\b\b\b\b\b\b\b\b\b\b\b\b\b\b\b\b\b\b\b\b\b\b\b\b\b\b\b\b\b\b\b\b\b\b\b\b\b\b\b\b\b\b\b\b\b\b\b\b\b\b\b\b\b\b\b\b\b\b\b\b\b\b\b\b\b\b\u001bM  40.48% ::::::::::::::::                         |     2833 /     6998 |      \n",
            "  45.09% ::::::::::::::::::                       |     3155 /     6997 |      \b\b\b\b\b\b\b\b\b\b\b\b\b\b\b\b\b\b\b\b\b\b\b\b\b\b\b\b\b\b\b\b\b\b\b\b\b\b\b\b\b\b\b\b\b\b\b\b\b\b\b\b\b\b\b\b\b\b\b\b\b\b\b\b\b\b\b\b\b\b\b\b\b\b\b\b\b\b\b\u001bM  40.67% ::::::::::::::::                         |     2846 /     6998 |      \n",
            "  45.29% ::::::::::::::::::                       |     3169 /     6997 |      \b\b\b\b\b\b\b\b\b\b\b\b\b\b\b\b\b\b\b\b\b\b\b\b\b\b\b\b\b\b\b\b\b\b\b\b\b\b\b\b\b\b\b\b\b\b\b\b\b\b\b\b\b\b\b\b\b\b\b\b\b\b\b\b\b\b\b\b\b\b\b\b\b\b\b\b\b\b\b\u001bM  40.85% ::::::::::::::::                         |     2859 /     6998 |      \n",
            "  45.48% ::::::::::::::::::                       |     3182 /     6997 |      \b\b\b\b\b\b\b\b\b\b\b\b\b\b\b\b\b\b\b\b\b\b\b\b\b\b\b\b\b\b\b\b\b\b\b\b\b\b\b\b\b\b\b\b\b\b\b\b\b\b\b\b\b\b\b\b\b\b\b\b\b\b\b\b\b\b\b\b\b\b\b\b\b\b\b\b\b\b\b\u001bM  41.07% ::::::::::::::::                         |     2874 /     6998 |      \n",
            "  45.68% ::::::::::::::::::                       |     3196 /     6997 |      \b\b\b\b\b\b\b\b\b\b\b\b\b\b\b\b\b\b\b\b\b\b\b\b\b\b\b\b\b\b\b\b\b\b\b\b\b\b\b\b\b\b\b\b\b\b\b\b\b\b\b\b\b\b\b\b\b\b\b\b\b\b\b\b\b\b\b\b\b\b\b\b\b\b\b\b\b\b\b\u001bM  41.25% ::::::::::::::::                         |     2887 /     6998 |      \n",
            "  45.85% ::::::::::::::::::                       |     3208 /     6997 |      \b\b\b\b\b\b\b\b\b\b\b\b\b\b\b\b\b\b\b\b\b\b\b\b\b\b\b\b\b\b\b\b\b\b\b\b\b\b\b\b\b\b\b\b\b\b\b\b\b\b\b\b\b\b\b\b\b\b\b\b\b\b\b\b\b\b\b\b\b\b\b\b\b\b\b\b\b\b\b\u001bM  41.47% ::::::::::::::::                         |     2902 /     6998 |      \n",
            "  46.05% ::::::::::::::::::                       |     3222 /     6997 |      \b\b\b\b\b\b\b\b\b\b\b\b\b\b\b\b\b\b\b\b\b\b\b\b\b\b\b\b\b\b\b\b\b\b\b\b\b\b\b\b\b\b\b\b\b\b\b\b\b\b\b\b\b\b\b\b\b\b\b\b\b\b\b\b\b\b\b\b\b\b\b\b\b\b\b\b\b\b\b\u001bM  41.64% ::::::::::::::::                         |     2914 /     6998 |      \n",
            "  46.23% ::::::::::::::::::                       |     3235 /     6997 |      \b\b\b\b\b\b\b\b\b\b\b\b\b\b\b\b\b\b\b\b\b\b\b\b\b\b\b\b\b\b\b\b\b\b\b\b\b\b\b\b\b\b\b\b\b\b\b\b\b\b\b\b\b\b\b\b\b\b\b\b\b\b\b\b\b\b\b\b\b\b\b\b\b\b\b\b\b\b\b\u001bM  42.00% ::::::::::::::::                         |     2939 /     6998 |      \n",
            "  46.23% ::::::::::::::::::                       |     3235 /     6997 |      \b\b\b\b\b\b\b\b\b\b\b\b\b\b\b\b\b\b\b\b\b\b\b\b\b\b\b\b\b\b\b\b\b\b\b\b\b\b\b\b\b\b\b\b\b\b\b\b\b\b\b\b\b\b\b\b\b\b\b\b\b\b\b\b\b\b\b\b\b\b\b\b\b\b\b\b\b\b\b\u001bM  42.00% ::::::::::::::::                         |     2939 /     6998 |      \n",
            "  46.49% ::::::::::::::::::                       |     3253 /     6997 |      \b\b\b\b\b\b\b\b\b\b\b\b\b\b\b\b\b\b\b\b\b\b\b\b\b\b\b\b\b\b\b\b\b\b\b\b\b\b\b\b\b\b\b\b\b\b\b\b\b\b\b\b\b\b\b\b\b\b\b\b\b\b\b\b\b\b\b\b\b\b\b\b\b\b\b\b\b\b\b\u001bM  42.21% ::::::::::::::::                         |     2954 /     6998 |      \n",
            "  46.72% ::::::::::::::::::                       |     3269 /     6997 |      \b\b\b\b\b\b\b\b\b\b\b\b\b\b\b\b\b\b\b\b\b\b\b\b\b\b\b\b\b\b\b\b\b\b\b\b\b\b\b\b\b\b\b\b\b\b\b\b\b\b\b\b\b\b\b\b\b\b\b\b\b\b\b\b\b\b\b\b\b\b\b\b\b\b\b\b\b\b\b\u001bM  42.38% ::::::::::::::::                         |     2966 /     6998 |      \n",
            "  46.88% ::::::::::::::::::                       |     3280 /     6997 |      \b\b\b\b\b\b\b\b\b\b\b\b\b\b\b\b\b\b\b\b\b\b\b\b\b\b\b\b\b\b\b\b\b\b\b\b\b\b\b\b\b\b\b\b\b\b\b\b\b\b\b\b\b\b\b\b\b\b\b\b\b\b\b\b\b\b\b\b\b\b\b\b\b\b\b\b\b\b\b\u001bM  42.58% :::::::::::::::::                        |     2980 /     6998 |      \n",
            "  47.06% ::::::::::::::::::                       |     3293 /     6997 |      \b\b\b\b\b\b\b\b\b\b\b\b\b\b\b\b\b\b\b\b\b\b\b\b\b\b\b\b\b\b\b\b\b\b\b\b\b\b\b\b\b\b\b\b\b\b\b\b\b\b\b\b\b\b\b\b\b\b\b\b\b\b\b\b\b\b\b\b\b\b\b\b\b\b\b\b\b\b\b\u001bM  42.77% :::::::::::::::::                        |     2993 /     6998 |      \n",
            "  47.26% ::::::::::::::::::                       |     3307 /     6997 |      \b\b\b\b\b\b\b\b\b\b\b\b\b\b\b\b\b\b\b\b\b\b\b\b\b\b\b\b\b\b\b\b\b\b\b\b\b\b\b\b\b\b\b\b\b\b\b\b\b\b\b\b\b\b\b\b\b\b\b\b\b\b\b\b\b\b\b\b\b\b\b\b\b\b\b\b\b\b\b\u001bM  42.97% :::::::::::::::::                        |     3007 /     6998 |      \n",
            "  47.41% ::::::::::::::::::                       |     3317 /     6997 |      \b\b\b\b\b\b\b\b\b\b\b\b\b\b\b\b\b\b\b\b\b\b\b\b\b\b\b\b\b\b\b\b\b\b\b\b\b\b\b\b\b\b\b\b\b\b\b\b\b\b\b\b\b\b\b\b\b\b\b\b\b\b\b\b\b\b\b\b\b\b\b\b\b\b\b\b\b\b\b\u001bM  43.14% :::::::::::::::::                        |     3019 /     6998 |      \n",
            "  47.56% :::::::::::::::::::                      |     3328 /     6997 |      \b\b\b\b\b\b\b\b\b\b\b\b\b\b\b\b\b\b\b\b\b\b\b\b\b\b\b\b\b\b\b\b\b\b\b\b\b\b\b\b\b\b\b\b\b\b\b\b\b\b\b\b\b\b\b\b\b\b\b\b\b\b\b\b\b\b\b\b\b\b\b\b\b\b\b\b\b\b\b\u001bM  43.33% :::::::::::::::::                        |     3032 /     6998 |      \n",
            "  47.72% :::::::::::::::::::                      |     3339 /     6997 |      \b\b\b\b\b\b\b\b\b\b\b\b\b\b\b\b\b\b\b\b\b\b\b\b\b\b\b\b\b\b\b\b\b\b\b\b\b\b\b\b\b\b\b\b\b\b\b\b\b\b\b\b\b\b\b\b\b\b\b\b\b\b\b\b\b\b\b\b\b\b\b\b\b\b\b\b\b\b\b\u001bM  43.54% :::::::::::::::::                        |     3047 /     6998 |      \n",
            "  47.92% :::::::::::::::::::                      |     3353 /     6997 |      \b\b\b\b\b\b\b\b\b\b\b\b\b\b\b\b\b\b\b\b\b\b\b\b\b\b\b\b\b\b\b\b\b\b\b\b\b\b\b\b\b\b\b\b\b\b\b\b\b\b\b\b\b\b\b\b\b\b\b\b\b\b\b\b\b\b\b\b\b\b\b\b\b\b\b\b\b\b\b\u001bM  43.74% :::::::::::::::::                        |     3061 /     6998 |      \n",
            "  48.13% :::::::::::::::::::                      |     3368 /     6997 |      \b\b\b\b\b\b\b\b\b\b\b\b\b\b\b\b\b\b\b\b\b\b\b\b\b\b\b\b\b\b\b\b\b\b\b\b\b\b\b\b\b\b\b\b\b\b\b\b\b\b\b\b\b\b\b\b\b\b\b\b\b\b\b\b\b\b\b\b\b\b\b\b\b\b\b\b\b\b\b\u001bM  43.94% :::::::::::::::::                        |     3075 /     6998 |      \n",
            "  48.34% :::::::::::::::::::                      |     3382 /     6997 |      \b\b\b\b\b\b\b\b\b\b\b\b\b\b\b\b\b\b\b\b\b\b\b\b\b\b\b\b\b\b\b\b\b\b\b\b\b\b\b\b\b\b\b\b\b\b\b\b\b\b\b\b\b\b\b\b\b\b\b\b\b\b\b\b\b\b\b\b\b\b\b\b\b\b\b\b\b\b\b\u001bM  44.13% :::::::::::::::::                        |     3088 /     6998 |      \n",
            "  48.52% :::::::::::::::::::                      |     3395 /     6997 |      \b\b\b\b\b\b\b\b\b\b\b\b\b\b\b\b\b\b\b\b\b\b\b\b\b\b\b\b\b\b\b\b\b\b\b\b\b\b\b\b\b\b\b\b\b\b\b\b\b\b\b\b\b\b\b\b\b\b\b\b\b\b\b\b\b\b\b\b\b\b\b\b\b\b\b\b\b\b\b\u001bM  44.30% :::::::::::::::::                        |     3100 /     6998 |      \n",
            "  48.71% :::::::::::::::::::                      |     3408 /     6997 |      \b\b\b\b\b\b\b\b\b\b\b\b\b\b\b\b\b\b\b\b\b\b\b\b\b\b\b\b\b\b\b\b\b\b\b\b\b\b\b\b\b\b\b\b\b\b\b\b\b\b\b\b\b\b\b\b\b\b\b\b\b\b\b\b\b\b\b\b\b\b\b\b\b\b\b\b\b\b\b\u001bM  44.47% :::::::::::::::::                        |     3112 /     6998 |      \n",
            "  48.89% :::::::::::::::::::                      |     3421 /     6997 |      \b\b\b\b\b\b\b\b\b\b\b\b\b\b\b\b\b\b\b\b\b\b\b\b\b\b\b\b\b\b\b\b\b\b\b\b\b\b\b\b\b\b\b\b\b\b\b\b\b\b\b\b\b\b\b\b\b\b\b\b\b\b\b\b\b\b\b\b\b\b\b\b\b\b\b\b\b\b\b\u001bM  44.67% :::::::::::::::::                        |     3126 /     6998 |      \n",
            "  49.09% :::::::::::::::::::                      |     3435 /     6997 |      \b\b\b\b\b\b\b\b\b\b\b\b\b\b\b\b\b\b\b\b\b\b\b\b\b\b\b\b\b\b\b\b\b\b\b\b\b\b\b\b\b\b\b\b\b\b\b\b\b\b\b\b\b\b\b\b\b\b\b\b\b\b\b\b\b\b\b\b\b\b\b\b\b\b\b\b\b\b\b\u001bM  44.86% :::::::::::::::::                        |     3139 /     6998 |      \n",
            "  49.28% :::::::::::::::::::                      |     3448 /     6997 |      \b\b\b\b\b\b\b\b\b\b\b\b\b\b\b\b\b\b\b\b\b\b\b\b\b\b\b\b\b\b\b\b\b\b\b\b\b\b\b\b\b\b\b\b\b\b\b\b\b\b\b\b\b\b\b\b\b\b\b\b\b\b\b\b\b\b\b\b\b\b\b\b\b\b\b\b\b\b\b\u001bM  45.01% ::::::::::::::::::                       |     3150 /     6998 |      \n",
            "  49.44% :::::::::::::::::::                      |     3459 /     6997 |      \b\b\b\b\b\b\b\b\b\b\b\b\b\b\b\b\b\b\b\b\b\b\b\b\b\b\b\b\b\b\b\b\b\b\b\b\b\b\b\b\b\b\b\b\b\b\b\b\b\b\b\b\b\b\b\b\b\b\b\b\b\b\b\b\b\b\b\b\b\b\b\b\b\b\b\b\b\b\b\u001bM  45.23% ::::::::::::::::::                       |     3165 /     6998 |      \n",
            "  49.61% :::::::::::::::::::                      |     3471 /     6997 |      \b\b\b\b\b\b\b\b\b\b\b\b\b\b\b\b\b\b\b\b\b\b\b\b\b\b\b\b\b\b\b\b\b\b\b\b\b\b\b\b\b\b\b\b\b\b\b\b\b\b\b\b\b\b\b\b\b\b\b\b\b\b\b\b\b\b\b\b\b\b\b\b\b\b\b\b\b\b\b\u001bM  45.40% ::::::::::::::::::                       |     3177 /     6998 |      \n",
            "  49.82% :::::::::::::::::::                      |     3486 /     6997 |      \b\b\b\b\b\b\b\b\b\b\b\b\b\b\b\b\b\b\b\b\b\b\b\b\b\b\b\b\b\b\b\b\b\b\b\b\b\b\b\b\b\b\b\b\b\b\b\b\b\b\b\b\b\b\b\b\b\b\b\b\b\b\b\b\b\b\b\b\b\b\b\b\b\b\b\b\b\b\b\u001bM  45.58% ::::::::::::::::::                       |     3190 /     6998 |      \n",
            "  50.04% ::::::::::::::::::::                     |     3501 /     6997 |      \b\b\b\b\b\b\b\b\b\b\b\b\b\b\b\b\b\b\b\b\b\b\b\b\b\b\b\b\b\b\b\b\b\b\b\b\b\b\b\b\b\b\b\b\b\b\b\b\b\b\b\b\b\b\b\b\b\b\b\b\b\b\b\b\b\b\b\b\b\b\b\b\b\b\b\b\b\b\b\u001bM  45.76% ::::::::::::::::::                       |     3202 /     6998 |      \n",
            "  50.24% ::::::::::::::::::::                     |     3515 /     6997 |      \b\b\b\b\b\b\b\b\b\b\b\b\b\b\b\b\b\b\b\b\b\b\b\b\b\b\b\b\b\b\b\b\b\b\b\b\b\b\b\b\b\b\b\b\b\b\b\b\b\b\b\b\b\b\b\b\b\b\b\b\b\b\b\b\b\b\b\b\b\b\b\b\b\b\b\b\b\b\b\u001bM  45.94% ::::::::::::::::::                       |     3215 /     6998 |      \n",
            "  50.44% ::::::::::::::::::::                     |     3529 /     6997 |      \b\b\b\b\b\b\b\b\b\b\b\b\b\b\b\b\b\b\b\b\b\b\b\b\b\b\b\b\b\b\b\b\b\b\b\b\b\b\b\b\b\b\b\b\b\b\b\b\b\b\b\b\b\b\b\b\b\b\b\b\b\b\b\b\b\b\b\b\b\b\b\b\b\b\b\b\b\b\b\u001bM  46.17% ::::::::::::::::::                       |     3231 /     6998 |      \n",
            "  50.65% ::::::::::::::::::::                     |     3544 /     6997 |      \b\b\b\b\b\b\b\b\b\b\b\b\b\b\b\b\b\b\b\b\b\b\b\b\b\b\b\b\b\b\b\b\b\b\b\b\b\b\b\b\b\b\b\b\b\b\b\b\b\b\b\b\b\b\b\b\b\b\b\b\b\b\b\b\b\b\b\b\b\b\b\b\b\b\b\b\b\b\b\u001bM  46.40% ::::::::::::::::::                       |     3247 /     6998 |      \n",
            "  50.85% ::::::::::::::::::::                     |     3558 /     6997 |      \b\b\b\b\b\b\b\b\b\b\b\b\b\b\b\b\b\b\b\b\b\b\b\b\b\b\b\b\b\b\b\b\b\b\b\b\b\b\b\b\b\b\b\b\b\b\b\b\b\b\b\b\b\b\b\b\b\b\b\b\b\b\b\b\b\b\b\b\b\b\b\b\b\b\b\b\b\b\b\u001bM  46.60% ::::::::::::::::::                       |     3261 /     6998 |      \n",
            "  51.09% ::::::::::::::::::::                     |     3575 /     6997 |      \b\b\b\b\b\b\b\b\b\b\b\b\b\b\b\b\b\b\b\b\b\b\b\b\b\b\b\b\b\b\b\b\b\b\b\b\b\b\b\b\b\b\b\b\b\b\b\b\b\b\b\b\b\b\b\b\b\b\b\b\b\b\b\b\b\b\b\b\b\b\b\b\b\b\b\b\b\b\b\u001bM  46.81% ::::::::::::::::::                       |     3276 /     6998 |      \n",
            "  51.32% ::::::::::::::::::::                     |     3591 /     6997 |      \b\b\b\b\b\b\b\b\b\b\b\b\b\b\b\b\b\b\b\b\b\b\b\b\b\b\b\b\b\b\b\b\b\b\b\b\b\b\b\b\b\b\b\b\b\b\b\b\b\b\b\b\b\b\b\b\b\b\b\b\b\b\b\b\b\b\b\b\b\b\b\b\b\b\b\b\b\b\b\u001bM  47.01% ::::::::::::::::::                       |     3290 /     6998 |      \n",
            "  51.54% ::::::::::::::::::::                     |     3606 /     6997 |      \b\b\b\b\b\b\b\b\b\b\b\b\b\b\b\b\b\b\b\b\b\b\b\b\b\b\b\b\b\b\b\b\b\b\b\b\b\b\b\b\b\b\b\b\b\b\b\b\b\b\b\b\b\b\b\b\b\b\b\b\b\b\b\b\b\b\b\b\b\b\b\b\b\b\b\b\b\b\b\u001bM  47.20% ::::::::::::::::::                       |     3303 /     6998 |      \n",
            "  51.74% ::::::::::::::::::::                     |     3620 /     6997 |      \b\b\b\b\b\b\b\b\b\b\b\b\b\b\b\b\b\b\b\b\b\b\b\b\b\b\b\b\b\b\b\b\b\b\b\b\b\b\b\b\b\b\b\b\b\b\b\b\b\b\b\b\b\b\b\b\b\b\b\b\b\b\b\b\b\b\b\b\b\b\b\b\b\b\b\b\b\b\b\u001bM  47.41% ::::::::::::::::::                       |     3318 /     6998 |      \n",
            "  51.97% ::::::::::::::::::::                     |     3636 /     6997 |      \b\b\b\b\b\b\b\b\b\b\b\b\b\b\b\b\b\b\b\b\b\b\b\b\b\b\b\b\b\b\b\b\b\b\b\b\b\b\b\b\b\b\b\b\b\b\b\b\b\b\b\b\b\b\b\b\b\b\b\b\b\b\b\b\b\b\b\b\b\b\b\b\b\b\b\b\b\b\b\u001bM  47.61% :::::::::::::::::::                      |     3332 /     6998 |      \n",
            "  52.17% ::::::::::::::::::::                     |     3650 /     6997 |      \b\b\b\b\b\b\b\b\b\b\b\b\b\b\b\b\b\b\b\b\b\b\b\b\b\b\b\b\b\b\b\b\b\b\b\b\b\b\b\b\b\b\b\b\b\b\b\b\b\b\b\b\b\b\b\b\b\b\b\b\b\b\b\b\b\b\b\b\b\b\b\b\b\b\b\b\b\b\b\u001bM  47.80% :::::::::::::::::::                      |     3345 /     6998 |      \n",
            "  52.39% ::::::::::::::::::::                     |     3666 /     6997 |      \b\b\b\b\b\b\b\b\b\b\b\b\b\b\b\b\b\b\b\b\b\b\b\b\b\b\b\b\b\b\b\b\b\b\b\b\b\b\b\b\b\b\b\b\b\b\b\b\b\b\b\b\b\b\b\b\b\b\b\b\b\b\b\b\b\b\b\b\b\b\b\b\b\b\b\b\b\b\b\u001bM  47.96% :::::::::::::::::::                      |     3356 /     6998 |      \n",
            "  52.62% :::::::::::::::::::::                    |     3682 /     6997 |      \b\b\b\b\b\b\b\b\b\b\b\b\b\b\b\b\b\b\b\b\b\b\b\b\b\b\b\b\b\b\b\b\b\b\b\b\b\b\b\b\b\b\b\b\b\b\b\b\b\b\b\b\b\b\b\b\b\b\b\b\b\b\b\b\b\b\b\b\b\b\b\b\b\b\b\b\b\b\b\u001bM  48.11% :::::::::::::::::::                      |     3367 /     6998 |      \n",
            "  52.88% :::::::::::::::::::::                    |     3700 /     6997 |      \b\b\b\b\b\b\b\b\b\b\b\b\b\b\b\b\b\b\b\b\b\b\b\b\b\b\b\b\b\b\b\b\b\b\b\b\b\b\b\b\b\b\b\b\b\b\b\b\b\b\b\b\b\b\b\b\b\b\b\b\b\b\b\b\b\b\b\b\b\b\b\b\b\b\b\b\b\b\b\u001bM  48.34% :::::::::::::::::::                      |     3383 /     6998 |      \n",
            "  53.07% :::::::::::::::::::::                    |     3713 /     6997 |      \b\b\b\b\b\b\b\b\b\b\b\b\b\b\b\b\b\b\b\b\b\b\b\b\b\b\b\b\b\b\b\b\b\b\b\b\b\b\b\b\b\b\b\b\b\b\b\b\b\b\b\b\b\b\b\b\b\b\b\b\b\b\b\b\b\b\b\b\b\b\b\b\b\b\b\b\b\b\b\u001bM  48.56% :::::::::::::::::::                      |     3398 /     6998 |      \n",
            "  53.25% :::::::::::::::::::::                    |     3726 /     6997 |      \b\b\b\b\b\b\b\b\b\b\b\b\b\b\b\b\b\b\b\b\b\b\b\b\b\b\b\b\b\b\b\b\b\b\b\b\b\b\b\b\b\b\b\b\b\b\b\b\b\b\b\b\b\b\b\b\b\b\b\b\b\b\b\b\b\b\b\b\b\b\b\b\b\b\b\b\b\b\b\u001bM  48.76% :::::::::::::::::::                      |     3412 /     6998 |      \n",
            "  53.41% :::::::::::::::::::::                    |     3737 /     6997 |      \b\b\b\b\b\b\b\b\b\b\b\b\b\b\b\b\b\b\b\b\b\b\b\b\b\b\b\b\b\b\b\b\b\b\b\b\b\b\b\b\b\b\b\b\b\b\b\b\b\b\b\b\b\b\b\b\b\b\b\b\b\b\b\b\b\b\b\b\b\b\b\b\b\b\b\b\b\b\b\u001bM  48.97% :::::::::::::::::::                      |     3427 /     6998 |      \n",
            "  53.61% :::::::::::::::::::::                    |     3751 /     6997 |      \b\b\b\b\b\b\b\b\b\b\b\b\b\b\b\b\b\b\b\b\b\b\b\b\b\b\b\b\b\b\b\b\b\b\b\b\b\b\b\b\b\b\b\b\b\b\b\b\b\b\b\b\b\b\b\b\b\b\b\b\b\b\b\b\b\b\b\b\b\b\b\b\b\b\b\b\b\b\b\u001bM  49.20% :::::::::::::::::::                      |     3443 /     6998 |      \n",
            "  53.84% :::::::::::::::::::::                    |     3767 /     6997 |      \b\b\b\b\b\b\b\b\b\b\b\b\b\b\b\b\b\b\b\b\b\b\b\b\b\b\b\b\b\b\b\b\b\b\b\b\b\b\b\b\b\b\b\b\b\b\b\b\b\b\b\b\b\b\b\b\b\b\b\b\b\b\b\b\b\b\b\b\b\b\b\b\b\b\b\b\b\b\b\u001bM  49.41% :::::::::::::::::::                      |     3458 /     6998 |      \n",
            "  54.05% :::::::::::::::::::::                    |     3782 /     6997 |      \b\b\b\b\b\b\b\b\b\b\b\b\b\b\b\b\b\b\b\b\b\b\b\b\b\b\b\b\b\b\b\b\b\b\b\b\b\b\b\b\b\b\b\b\b\b\b\b\b\b\b\b\b\b\b\b\b\b\b\b\b\b\b\b\b\b\b\b\b\b\b\b\b\b\b\b\b\b\b\u001bM  49.66% :::::::::::::::::::                      |     3475 /     6998 |      \n",
            "  54.28% :::::::::::::::::::::                    |     3798 /     6997 |      \b\b\b\b\b\b\b\b\b\b\b\b\b\b\b\b\b\b\b\b\b\b\b\b\b\b\b\b\b\b\b\b\b\b\b\b\b\b\b\b\b\b\b\b\b\b\b\b\b\b\b\b\b\b\b\b\b\b\b\b\b\b\b\b\b\b\b\b\b\b\b\b\b\b\b\b\b\b\b\u001bM  49.86% :::::::::::::::::::                      |     3489 /     6998 |      \n",
            "  54.52% :::::::::::::::::::::                    |     3815 /     6997 |      \b\b\b\b\b\b\b\b\b\b\b\b\b\b\b\b\b\b\b\b\b\b\b\b\b\b\b\b\b\b\b\b\b\b\b\b\b\b\b\b\b\b\b\b\b\b\b\b\b\b\b\b\b\b\b\b\b\b\b\b\b\b\b\b\b\b\b\b\b\b\b\b\b\b\b\b\b\b\b\u001bM  50.06% ::::::::::::::::::::                     |     3503 /     6998 |      \n",
            "  54.75% :::::::::::::::::::::                    |     3831 /     6997 |      \b\b\b\b\b\b\b\b\b\b\b\b\b\b\b\b\b\b\b\b\b\b\b\b\b\b\b\b\b\b\b\b\b\b\b\b\b\b\b\b\b\b\b\b\b\b\b\b\b\b\b\b\b\b\b\b\b\b\b\b\b\b\b\b\b\b\b\b\b\b\b\b\b\b\b\b\b\b\b\u001bM  50.24% ::::::::::::::::::::                     |     3516 /     6998 |      \n",
            "  54.95% :::::::::::::::::::::                    |     3845 /     6997 |      \b\b\b\b\b\b\b\b\b\b\b\b\b\b\b\b\b\b\b\b\b\b\b\b\b\b\b\b\b\b\b\b\b\b\b\b\b\b\b\b\b\b\b\b\b\b\b\b\b\b\b\b\b\b\b\b\b\b\b\b\b\b\b\b\b\b\b\b\b\b\b\b\b\b\b\b\b\b\b\u001bM  50.40% ::::::::::::::::::::                     |     3527 /     6998 |      \n",
            "  55.17% ::::::::::::::::::::::                   |     3860 /     6997 |      \b\b\b\b\b\b\b\b\b\b\b\b\b\b\b\b\b\b\b\b\b\b\b\b\b\b\b\b\b\b\b\b\b\b\b\b\b\b\b\b\b\b\b\b\b\b\b\b\b\b\b\b\b\b\b\b\b\b\b\b\b\b\b\b\b\b\b\b\b\b\b\b\b\b\b\b\b\b\b\u001bM  50.54% ::::::::::::::::::::                     |     3537 /     6998 |      \n",
            "  55.37% ::::::::::::::::::::::                   |     3874 /     6997 |      \b\b\b\b\b\b\b\b\b\b\b\b\b\b\b\b\b\b\b\b\b\b\b\b\b\b\b\b\b\b\b\b\b\b\b\b\b\b\b\b\b\b\b\b\b\b\b\b\b\b\b\b\b\b\b\b\b\b\b\b\b\b\b\b\b\b\b\b\b\b\b\b\b\b\b\b\b\b\b\u001bM  50.73% ::::::::::::::::::::                     |     3550 /     6998 |      \n",
            "  55.57% ::::::::::::::::::::::                   |     3888 /     6997 |      \b\b\b\b\b\b\b\b\b\b\b\b\b\b\b\b\b\b\b\b\b\b\b\b\b\b\b\b\b\b\b\b\b\b\b\b\b\b\b\b\b\b\b\b\b\b\b\b\b\b\b\b\b\b\b\b\b\b\b\b\b\b\b\b\b\b\b\b\b\b\b\b\b\b\b\b\b\b\b\u001bM  51.16% ::::::::::::::::::::                     |     3580 /     6998 |      \n",
            "  55.57% ::::::::::::::::::::::                   |     3888 /     6997 |      \b\b\b\b\b\b\b\b\b\b\b\b\b\b\b\b\b\b\b\b\b\b\b\b\b\b\b\b\b\b\b\b\b\b\b\b\b\b\b\b\b\b\b\b\b\b\b\b\b\b\b\b\b\b\b\b\b\b\b\b\b\b\b\b\b\b\b\b\b\b\b\b\b\b\b\b\b\b\b\u001bM  51.16% ::::::::::::::::::::                     |     3580 /     6998 |      \n",
            "  55.91% ::::::::::::::::::::::                   |     3912 /     6997 |      \b\b\b\b\b\b\b\b\b\b\b\b\b\b\b\b\b\b\b\b\b\b\b\b\b\b\b\b\b\b\b\b\b\b\b\b\b\b\b\b\b\b\b\b\b\b\b\b\b\b\b\b\b\b\b\b\b\b\b\b\b\b\b\b\b\b\b\b\b\b\b\b\b\b\b\b\b\b\b\u001bM  51.39% ::::::::::::::::::::                     |     3596 /     6998 |      \n",
            "  56.14% ::::::::::::::::::::::                   |     3928 /     6997 |      \b\b\b\b\b\b\b\b\b\b\b\b\b\b\b\b\b\b\b\b\b\b\b\b\b\b\b\b\b\b\b\b\b\b\b\b\b\b\b\b\b\b\b\b\b\b\b\b\b\b\b\b\b\b\b\b\b\b\b\b\b\b\b\b\b\b\b\b\b\b\b\b\b\b\b\b\b\b\b\u001bM  51.60% ::::::::::::::::::::                     |     3611 /     6998 |      \n",
            "  56.32% ::::::::::::::::::::::                   |     3941 /     6997 |      \b\b\b\b\b\b\b\b\b\b\b\b\b\b\b\b\b\b\b\b\b\b\b\b\b\b\b\b\b\b\b\b\b\b\b\b\b\b\b\b\b\b\b\b\b\b\b\b\b\b\b\b\b\b\b\b\b\b\b\b\b\b\b\b\b\b\b\b\b\b\b\b\b\b\b\b\b\b\b\u001bM  51.80% ::::::::::::::::::::                     |     3625 /     6998 |      \n",
            "  56.52% ::::::::::::::::::::::                   |     3955 /     6997 |      \b\b\b\b\b\b\b\b\b\b\b\b\b\b\b\b\b\b\b\b\b\b\b\b\b\b\b\b\b\b\b\b\b\b\b\b\b\b\b\b\b\b\b\b\b\b\b\b\b\b\b\b\b\b\b\b\b\b\b\b\b\b\b\b\b\b\b\b\b\b\b\b\b\b\b\b\b\b\b\u001bM  51.99% ::::::::::::::::::::                     |     3638 /     6998 |      \n",
            "  56.72% ::::::::::::::::::::::                   |     3969 /     6997 |      \b\b\b\b\b\b\b\b\b\b\b\b\b\b\b\b\b\b\b\b\b\b\b\b\b\b\b\b\b\b\b\b\b\b\b\b\b\b\b\b\b\b\b\b\b\b\b\b\b\b\b\b\b\b\b\b\b\b\b\b\b\b\b\b\b\b\b\b\b\b\b\b\b\b\b\b\b\b\b\u001bM  52.21% ::::::::::::::::::::                     |     3654 /     6998 |      \n",
            "  56.92% ::::::::::::::::::::::                   |     3983 /     6997 |      \b\b\b\b\b\b\b\b\b\b\b\b\b\b\b\b\b\b\b\b\b\b\b\b\b\b\b\b\b\b\b\b\b\b\b\b\b\b\b\b\b\b\b\b\b\b\b\b\b\b\b\b\b\b\b\b\b\b\b\b\b\b\b\b\b\b\b\b\b\b\b\b\b\b\b\b\b\b\b\u001bM  52.41% ::::::::::::::::::::                     |     3668 /     6998 |      \n",
            "  57.17% ::::::::::::::::::::::                   |     4000 /     6997 |      \b\b\b\b\b\b\b\b\b\b\b\b\b\b\b\b\b\b\b\b\b\b\b\b\b\b\b\b\b\b\b\b\b\b\b\b\b\b\b\b\b\b\b\b\b\b\b\b\b\b\b\b\b\b\b\b\b\b\b\b\b\b\b\b\b\b\b\b\b\b\b\b\b\b\b\b\b\b\b\u001bM  52.63% :::::::::::::::::::::                    |     3683 /     6998 |      \n",
            "  57.37% ::::::::::::::::::::::                   |     4014 /     6997 |      \b\b\b\b\b\b\b\b\b\b\b\b\b\b\b\b\b\b\b\b\b\b\b\b\b\b\b\b\b\b\b\b\b\b\b\b\b\b\b\b\b\b\b\b\b\b\b\b\b\b\b\b\b\b\b\b\b\b\b\b\b\b\b\b\b\b\b\b\b\b\b\b\b\b\b\b\b\b\b\u001bM  52.79% :::::::::::::::::::::                    |     3694 /     6998 |      \n",
            "  57.60% :::::::::::::::::::::::                  |     4030 /     6997 |      \b\b\b\b\b\b\b\b\b\b\b\b\b\b\b\b\b\b\b\b\b\b\b\b\b\b\b\b\b\b\b\b\b\b\b\b\b\b\b\b\b\b\b\b\b\b\b\b\b\b\b\b\b\b\b\b\b\b\b\b\b\b\b\b\b\b\b\b\b\b\b\b\b\b\b\b\b\b\b\u001bM  52.99% :::::::::::::::::::::                    |     3708 /     6998 |      \n",
            "  57.80% :::::::::::::::::::::::                  |     4044 /     6997 |      \b\b\b\b\b\b\b\b\b\b\b\b\b\b\b\b\b\b\b\b\b\b\b\b\b\b\b\b\b\b\b\b\b\b\b\b\b\b\b\b\b\b\b\b\b\b\b\b\b\b\b\b\b\b\b\b\b\b\b\b\b\b\b\b\b\b\b\b\b\b\b\b\b\b\b\b\b\b\b\u001bM  53.17% :::::::::::::::::::::                    |     3721 /     6998 |      \n",
            "  58.01% :::::::::::::::::::::::                  |     4059 /     6997 |      \b\b\b\b\b\b\b\b\b\b\b\b\b\b\b\b\b\b\b\b\b\b\b\b\b\b\b\b\b\b\b\b\b\b\b\b\b\b\b\b\b\b\b\b\b\b\b\b\b\b\b\b\b\b\b\b\b\b\b\b\b\b\b\b\b\b\b\b\b\b\b\b\b\b\b\b\b\b\b\u001bM  53.37% :::::::::::::::::::::                    |     3735 /     6998 |      \n",
            "  58.22% :::::::::::::::::::::::                  |     4074 /     6997 |      \b\b\b\b\b\b\b\b\b\b\b\b\b\b\b\b\b\b\b\b\b\b\b\b\b\b\b\b\b\b\b\b\b\b\b\b\b\b\b\b\b\b\b\b\b\b\b\b\b\b\b\b\b\b\b\b\b\b\b\b\b\b\b\b\b\b\b\b\b\b\b\b\b\b\b\b\b\b\b\u001bM  53.53% :::::::::::::::::::::                    |     3746 /     6998 |      \n",
            "  58.41% :::::::::::::::::::::::                  |     4087 /     6997 |      \b\b\b\b\b\b\b\b\b\b\b\b\b\b\b\b\b\b\b\b\b\b\b\b\b\b\b\b\b\b\b\b\b\b\b\b\b\b\b\b\b\b\b\b\b\b\b\b\b\b\b\b\b\b\b\b\b\b\b\b\b\b\b\b\b\b\b\b\b\b\b\b\b\b\b\b\b\b\b\u001bM  53.70% :::::::::::::::::::::                    |     3758 /     6998 |      \n",
            "  58.57% :::::::::::::::::::::::                  |     4098 /     6997 |      \b\b\b\b\b\b\b\b\b\b\b\b\b\b\b\b\b\b\b\b\b\b\b\b\b\b\b\b\b\b\b\b\b\b\b\b\b\b\b\b\b\b\b\b\b\b\b\b\b\b\b\b\b\b\b\b\b\b\b\b\b\b\b\b\b\b\b\b\b\b\b\b\b\b\b\b\b\b\b\u001bM  53.90% :::::::::::::::::::::                    |     3772 /     6998 |      \n",
            "  58.75% :::::::::::::::::::::::                  |     4111 /     6997 |      \b\b\b\b\b\b\b\b\b\b\b\b\b\b\b\b\b\b\b\b\b\b\b\b\b\b\b\b\b\b\b\b\b\b\b\b\b\b\b\b\b\b\b\b\b\b\b\b\b\b\b\b\b\b\b\b\b\b\b\b\b\b\b\b\b\b\b\b\b\b\b\b\b\b\b\b\b\b\b\u001bM  54.07% :::::::::::::::::::::                    |     3784 /     6998 |      \n",
            "  58.93% :::::::::::::::::::::::                  |     4123 /     6997 |      \b\b\b\b\b\b\b\b\b\b\b\b\b\b\b\b\b\b\b\b\b\b\b\b\b\b\b\b\b\b\b\b\b\b\b\b\b\b\b\b\b\b\b\b\b\b\b\b\b\b\b\b\b\b\b\b\b\b\b\b\b\b\b\b\b\b\b\b\b\b\b\b\b\b\b\b\b\b\b\u001bM  54.23% :::::::::::::::::::::                    |     3795 /     6998 |      \n",
            "  59.11% :::::::::::::::::::::::                  |     4136 /     6997 |      \b\b\b\b\b\b\b\b\b\b\b\b\b\b\b\b\b\b\b\b\b\b\b\b\b\b\b\b\b\b\b\b\b\b\b\b\b\b\b\b\b\b\b\b\b\b\b\b\b\b\b\b\b\b\b\b\b\b\b\b\b\b\b\b\b\b\b\b\b\b\b\b\b\b\b\b\b\b\b\u001bM  54.40% :::::::::::::::::::::                    |     3807 /     6998 |      \n",
            "  59.30% :::::::::::::::::::::::                  |     4149 /     6997 |      \b\b\b\b\b\b\b\b\b\b\b\b\b\b\b\b\b\b\b\b\b\b\b\b\b\b\b\b\b\b\b\b\b\b\b\b\b\b\b\b\b\b\b\b\b\b\b\b\b\b\b\b\b\b\b\b\b\b\b\b\b\b\b\b\b\b\b\b\b\b\b\b\b\b\b\b\b\b\b\u001bM  54.64% :::::::::::::::::::::                    |     3824 /     6998 |      \n",
            "  59.51% :::::::::::::::::::::::                  |     4164 /     6997 |      \b\b\b\b\b\b\b\b\b\b\b\b\b\b\b\b\b\b\b\b\b\b\b\b\b\b\b\b\b\b\b\b\b\b\b\b\b\b\b\b\b\b\b\b\b\b\b\b\b\b\b\b\b\b\b\b\b\b\b\b\b\b\b\b\b\b\b\b\b\b\b\b\b\b\b\b\b\b\b\u001bM  54.84% :::::::::::::::::::::                    |     3838 /     6998 |      \n",
            "  59.73% :::::::::::::::::::::::                  |     4179 /     6997 |      \b\b\b\b\b\b\b\b\b\b\b\b\b\b\b\b\b\b\b\b\b\b\b\b\b\b\b\b\b\b\b\b\b\b\b\b\b\b\b\b\b\b\b\b\b\b\b\b\b\b\b\b\b\b\b\b\b\b\b\b\b\b\b\b\b\b\b\b\b\b\b\b\b\b\b\b\b\b\b\u001bM  55.04% ::::::::::::::::::::::                   |     3852 /     6998 |      \n",
            "  59.94% :::::::::::::::::::::::                  |     4194 /     6997 |      \b\b\b\b\b\b\b\b\b\b\b\b\b\b\b\b\b\b\b\b\b\b\b\b\b\b\b\b\b\b\b\b\b\b\b\b\b\b\b\b\b\b\b\b\b\b\b\b\b\b\b\b\b\b\b\b\b\b\b\b\b\b\b\b\b\b\b\b\b\b\b\b\b\b\b\b\b\b\b\u001bM  55.23% ::::::::::::::::::::::                   |     3865 /     6998 |      \n",
            "  60.13% ::::::::::::::::::::::::                 |     4207 /     6997 |      \b\b\b\b\b\b\b\b\b\b\b\b\b\b\b\b\b\b\b\b\b\b\b\b\b\b\b\b\b\b\b\b\b\b\b\b\b\b\b\b\b\b\b\b\b\b\b\b\b\b\b\b\b\b\b\b\b\b\b\b\b\b\b\b\b\b\b\b\b\b\b\b\b\b\b\b\b\b\b\u001bM  55.40% ::::::::::::::::::::::                   |     3877 /     6998 |      \n",
            "  60.33% ::::::::::::::::::::::::                 |     4221 /     6997 |      \b\b\b\b\b\b\b\b\b\b\b\b\b\b\b\b\b\b\b\b\b\b\b\b\b\b\b\b\b\b\b\b\b\b\b\b\b\b\b\b\b\b\b\b\b\b\b\b\b\b\b\b\b\b\b\b\b\b\b\b\b\b\b\b\b\b\b\b\b\b\b\b\b\b\b\b\b\b\b\u001bM  55.60% ::::::::::::::::::::::                   |     3891 /     6998 |      \n",
            "  60.58% ::::::::::::::::::::::::                 |     4239 /     6997 |      \b\b\b\b\b\b\b\b\b\b\b\b\b\b\b\b\b\b\b\b\b\b\b\b\b\b\b\b\b\b\b\b\b\b\b\b\b\b\b\b\b\b\b\b\b\b\b\b\b\b\b\b\b\b\b\b\b\b\b\b\b\b\b\b\b\b\b\b\b\b\b\b\b\b\b\b\b\b\b\u001bM  55.80% ::::::::::::::::::::::                   |     3905 /     6998 |      \n",
            "  60.81% ::::::::::::::::::::::::                 |     4255 /     6997 |      \b\b\b\b\b\b\b\b\b\b\b\b\b\b\b\b\b\b\b\b\b\b\b\b\b\b\b\b\b\b\b\b\b\b\b\b\b\b\b\b\b\b\b\b\b\b\b\b\b\b\b\b\b\b\b\b\b\b\b\b\b\b\b\b\b\b\b\b\b\b\b\b\b\b\b\b\b\b\b\u001bM  56.04% ::::::::::::::::::::::                   |     3922 /     6998 |      \n",
            "  61.04% ::::::::::::::::::::::::                 |     4271 /     6997 |      \b\b\b\b\b\b\b\b\b\b\b\b\b\b\b\b\b\b\b\b\b\b\b\b\b\b\b\b\b\b\b\b\b\b\b\b\b\b\b\b\b\b\b\b\b\b\b\b\b\b\b\b\b\b\b\b\b\b\b\b\b\b\b\b\b\b\b\b\b\b\b\b\b\b\b\b\b\b\b\u001bM  56.24% ::::::::::::::::::::::                   |     3936 /     6998 |      \n",
            "  61.23% ::::::::::::::::::::::::                 |     4284 /     6997 |      \b\b\b\b\b\b\b\b\b\b\b\b\b\b\b\b\b\b\b\b\b\b\b\b\b\b\b\b\b\b\b\b\b\b\b\b\b\b\b\b\b\b\b\b\b\b\b\b\b\b\b\b\b\b\b\b\b\b\b\b\b\b\b\b\b\b\b\b\b\b\b\b\b\b\b\b\b\b\b\u001bM  56.34% ::::::::::::::::::::::                   |     3943 /     6998 |      \n",
            "  61.41% ::::::::::::::::::::::::                 |     4297 /     6997 |      \b\b\b\b\b\b\b\b\b\b\b\b\b\b\b\b\b\b\b\b\b\b\b\b\b\b\b\b\b\b\b\b\b\b\b\b\b\b\b\b\b\b\b\b\b\b\b\b\b\b\b\b\b\b\b\b\b\b\b\b\b\b\b\b\b\b\b\b\b\b\b\b\b\b\b\b\b\b\b\u001bM  56.47% ::::::::::::::::::::::                   |     3952 /     6998 |      \n",
            "  61.64% ::::::::::::::::::::::::                 |     4313 /     6997 |      \b\b\b\b\b\b\b\b\b\b\b\b\b\b\b\b\b\b\b\b\b\b\b\b\b\b\b\b\b\b\b\b\b\b\b\b\b\b\b\b\b\b\b\b\b\b\b\b\b\b\b\b\b\b\b\b\b\b\b\b\b\b\b\b\b\b\b\b\b\b\b\b\b\b\b\b\b\b\b\u001bM  56.60% ::::::::::::::::::::::                   |     3961 /     6998 |      \n",
            "  61.84% ::::::::::::::::::::::::                 |     4327 /     6997 |      \b\b\b\b\b\b\b\b\b\b\b\b\b\b\b\b\b\b\b\b\b\b\b\b\b\b\b\b\b\b\b\b\b\b\b\b\b\b\b\b\b\b\b\b\b\b\b\b\b\b\b\b\b\b\b\b\b\b\b\b\b\b\b\b\b\b\b\b\b\b\b\b\b\b\b\b\b\b\b\u001bM  56.60% ::::::::::::::::::::::                   |     3961 /     6998 |      \n",
            "  62.24% ::::::::::::::::::::::::                 |     4355 /     6997 |      \b\b\b\b\b\b\b\b\b\b\b\b\b\b\b\b\b\b\b\b\b\b\b\b\b\b\b\b\b\b\b\b\b\b\b\b\b\b\b\b\b\b\b\b\b\b\b\b\b\b\b\b\b\b\b\b\b\b\b\b\b\b\b\b\b\b\b\b\b\b\b\b\b\b\b\b\b\b\b\u001bM  56.82% ::::::::::::::::::::::                   |     3976 /     6998 |      \n",
            "  62.24% ::::::::::::::::::::::::                 |     4355 /     6997 |      \b\b\b\b\b\b\b\b\b\b\b\b\b\b\b\b\b\b\b\b\b\b\b\b\b\b\b\b\b\b\b\b\b\b\b\b\b\b\b\b\b\b\b\b\b\b\b\b\b\b\b\b\b\b\b\b\b\b\b\b\b\b\b\b\b\b\b\b\b\b\b\b\b\b\b\b\b\b\b\u001bM  57.03% ::::::::::::::::::::::                   |     3991 /     6998 |      \n",
            "  62.44% ::::::::::::::::::::::::                 |     4369 /     6997 |      \b\b\b\b\b\b\b\b\b\b\b\b\b\b\b\b\b\b\b\b\b\b\b\b\b\b\b\b\b\b\b\b\b\b\b\b\b\b\b\b\b\b\b\b\b\b\b\b\b\b\b\b\b\b\b\b\b\b\b\b\b\b\b\b\b\b\b\b\b\b\b\b\b\b\b\b\b\b\b\u001bM  57.23% ::::::::::::::::::::::                   |     4005 /     6998 |      \n",
            "  62.63% :::::::::::::::::::::::::                |     4382 /     6997 |      \b\b\b\b\b\b\b\b\b\b\b\b\b\b\b\b\b\b\b\b\b\b\b\b\b\b\b\b\b\b\b\b\b\b\b\b\b\b\b\b\b\b\b\b\b\b\b\b\b\b\b\b\b\b\b\b\b\b\b\b\b\b\b\b\b\b\b\b\b\b\b\b\b\b\b\b\b\b\b\u001bM  57.44% ::::::::::::::::::::::                   |     4020 /     6998 |      \n",
            "  62.81% :::::::::::::::::::::::::                |     4395 /     6997 |      \b\b\b\b\b\b\b\b\b\b\b\b\b\b\b\b\b\b\b\b\b\b\b\b\b\b\b\b\b\b\b\b\b\b\b\b\b\b\b\b\b\b\b\b\b\b\b\b\b\b\b\b\b\b\b\b\b\b\b\b\b\b\b\b\b\b\b\b\b\b\b\b\b\b\b\b\b\b\b\u001bM  57.67% :::::::::::::::::::::::                  |     4036 /     6998 |      \n",
            "  63.00% :::::::::::::::::::::::::                |     4408 /     6997 |      \b\b\b\b\b\b\b\b\b\b\b\b\b\b\b\b\b\b\b\b\b\b\b\b\b\b\b\b\b\b\b\b\b\b\b\b\b\b\b\b\b\b\b\b\b\b\b\b\b\b\b\b\b\b\b\b\b\b\b\b\b\b\b\b\b\b\b\b\b\b\b\b\b\b\b\b\b\b\b\u001bM  57.92% :::::::::::::::::::::::                  |     4053 /     6998 |      \n",
            "  63.17% :::::::::::::::::::::::::                |     4420 /     6997 |      \b\b\b\b\b\b\b\b\b\b\b\b\b\b\b\b\b\b\b\b\b\b\b\b\b\b\b\b\b\b\b\b\b\b\b\b\b\b\b\b\b\b\b\b\b\b\b\b\b\b\b\b\b\b\b\b\b\b\b\b\b\b\b\b\b\b\b\b\b\b\b\b\b\b\b\b\b\b\b\u001bM  58.10% :::::::::::::::::::::::                  |     4066 /     6998 |      \n",
            "  63.33% :::::::::::::::::::::::::                |     4431 /     6997 |      \b\b\b\b\b\b\b\b\b\b\b\b\b\b\b\b\b\b\b\b\b\b\b\b\b\b\b\b\b\b\b\b\b\b\b\b\b\b\b\b\b\b\b\b\b\b\b\b\b\b\b\b\b\b\b\b\b\b\b\b\b\b\b\b\b\b\b\b\b\b\b\b\b\b\b\b\b\b\b\u001bM  58.32% :::::::::::::::::::::::                  |     4081 /     6998 |      \n",
            "  63.48% :::::::::::::::::::::::::                |     4442 /     6997 |      \b\b\b\b\b\b\b\b\b\b\b\b\b\b\b\b\b\b\b\b\b\b\b\b\b\b\b\b\b\b\b\b\b\b\b\b\b\b\b\b\b\b\b\b\b\b\b\b\b\b\b\b\b\b\b\b\b\b\b\b\b\b\b\b\b\b\b\b\b\b\b\b\b\b\b\b\b\b\b\u001bM  58.49% :::::::::::::::::::::::                  |     4093 /     6998 |      \n",
            "  63.66% :::::::::::::::::::::::::                |     4454 /     6997 |      \b\b\b\b\b\b\b\b\b\b\b\b\b\b\b\b\b\b\b\b\b\b\b\b\b\b\b\b\b\b\b\b\b\b\b\b\b\b\b\b\b\b\b\b\b\b\b\b\b\b\b\b\b\b\b\b\b\b\b\b\b\b\b\b\b\b\b\b\b\b\b\b\b\b\b\b\b\b\b\u001bM  58.69% :::::::::::::::::::::::                  |     4107 /     6998 |      \n",
            "  63.87% :::::::::::::::::::::::::                |     4469 /     6997 |      \b\b\b\b\b\b\b\b\b\b\b\b\b\b\b\b\b\b\b\b\b\b\b\b\b\b\b\b\b\b\b\b\b\b\b\b\b\b\b\b\b\b\b\b\b\b\b\b\b\b\b\b\b\b\b\b\b\b\b\b\b\b\b\b\b\b\b\b\b\b\b\b\b\b\b\b\b\b\b\u001bM  58.90% :::::::::::::::::::::::                  |     4122 /     6998 |      \n",
            "  64.06% :::::::::::::::::::::::::                |     4482 /     6997 |      \b\b\b\b\b\b\b\b\b\b\b\b\b\b\b\b\b\b\b\b\b\b\b\b\b\b\b\b\b\b\b\b\b\b\b\b\b\b\b\b\b\b\b\b\b\b\b\b\b\b\b\b\b\b\b\b\b\b\b\b\b\b\b\b\b\b\b\b\b\b\b\b\b\b\b\b\b\b\b\u001bM  59.10% :::::::::::::::::::::::                  |     4136 /     6998 |      \n",
            "  64.24% :::::::::::::::::::::::::                |     4495 /     6997 |      \b\b\b\b\b\b\b\b\b\b\b\b\b\b\b\b\b\b\b\b\b\b\b\b\b\b\b\b\b\b\b\b\b\b\b\b\b\b\b\b\b\b\b\b\b\b\b\b\b\b\b\b\b\b\b\b\b\b\b\b\b\b\b\b\b\b\b\b\b\b\b\b\b\b\b\b\b\b\b\u001bM  59.32% :::::::::::::::::::::::                  |     4151 /     6998 |      \n",
            "  64.44% :::::::::::::::::::::::::                |     4509 /     6997 |      \b\b\b\b\b\b\b\b\b\b\b\b\b\b\b\b\b\b\b\b\b\b\b\b\b\b\b\b\b\b\b\b\b\b\b\b\b\b\b\b\b\b\b\b\b\b\b\b\b\b\b\b\b\b\b\b\b\b\b\b\b\b\b\b\b\b\b\b\b\b\b\b\b\b\b\b\b\b\b\u001bM  59.52% :::::::::::::::::::::::                  |     4165 /     6998 |      \n",
            "  64.67% :::::::::::::::::::::::::                |     4525 /     6997 |      \b\b\b\b\b\b\b\b\b\b\b\b\b\b\b\b\b\b\b\b\b\b\b\b\b\b\b\b\b\b\b\b\b\b\b\b\b\b\b\b\b\b\b\b\b\b\b\b\b\b\b\b\b\b\b\b\b\b\b\b\b\b\b\b\b\b\b\b\b\b\b\b\b\b\b\b\b\b\b\u001bM  59.70% :::::::::::::::::::::::                  |     4178 /     6998 |      \n",
            "  64.90% :::::::::::::::::::::::::                |     4541 /     6997 |      \b\b\b\b\b\b\b\b\b\b\b\b\b\b\b\b\b\b\b\b\b\b\b\b\b\b\b\b\b\b\b\b\b\b\b\b\b\b\b\b\b\b\b\b\b\b\b\b\b\b\b\b\b\b\b\b\b\b\b\b\b\b\b\b\b\b\b\b\b\b\b\b\b\b\b\b\b\b\b\u001bM  59.86% :::::::::::::::::::::::                  |     4189 /     6998 |      \n",
            "  65.07% ::::::::::::::::::::::::::               |     4553 /     6997 |      \b\b\b\b\b\b\b\b\b\b\b\b\b\b\b\b\b\b\b\b\b\b\b\b\b\b\b\b\b\b\b\b\b\b\b\b\b\b\b\b\b\b\b\b\b\b\b\b\b\b\b\b\b\b\b\b\b\b\b\b\b\b\b\b\b\b\b\b\b\b\b\b\b\b\b\b\b\b\b\u001bM  60.05% ::::::::::::::::::::::::                 |     4202 /     6998 |      \n",
            "  65.14% ::::::::::::::::::::::::::               |     4558 /     6997 |      \b\b\b\b\b\b\b\b\b\b\b\b\b\b\b\b\b\b\b\b\b\b\b\b\b\b\b\b\b\b\b\b\b\b\b\b\b\b\b\b\b\b\b\b\b\b\b\b\b\b\b\b\b\b\b\b\b\b\b\b\b\b\b\b\b\b\b\b\b\b\b\b\b\b\b\b\b\b\b\u001bM  60.25% ::::::::::::::::::::::::                 |     4216 /     6998 |      \n",
            "  65.29% ::::::::::::::::::::::::::               |     4568 /     6997 |      \b\b\b\b\b\b\b\b\b\b\b\b\b\b\b\b\b\b\b\b\b\b\b\b\b\b\b\b\b\b\b\b\b\b\b\b\b\b\b\b\b\b\b\b\b\b\b\b\b\b\b\b\b\b\b\b\b\b\b\b\b\b\b\b\b\b\b\b\b\b\b\b\b\b\b\b\b\b\b\u001bM  60.46% ::::::::::::::::::::::::                 |     4231 /     6998 |      \n",
            "  65.44% ::::::::::::::::::::::::::               |     4579 /     6997 |      \b\b\b\b\b\b\b\b\b\b\b\b\b\b\b\b\b\b\b\b\b\b\b\b\b\b\b\b\b\b\b\b\b\b\b\b\b\b\b\b\b\b\b\b\b\b\b\b\b\b\b\b\b\b\b\b\b\b\b\b\b\b\b\b\b\b\b\b\b\b\b\b\b\b\b\b\b\b\b\u001bM  60.66% ::::::::::::::::::::::::                 |     4245 /     6998 |      \n",
            "  65.60% ::::::::::::::::::::::::::               |     4590 /     6997 |      \b\b\b\b\b\b\b\b\b\b\b\b\b\b\b\b\b\b\b\b\b\b\b\b\b\b\b\b\b\b\b\b\b\b\b\b\b\b\b\b\b\b\b\b\b\b\b\b\b\b\b\b\b\b\b\b\b\b\b\b\b\b\b\b\b\b\b\b\b\b\b\b\b\b\b\b\b\b\b\u001bM  60.86% ::::::::::::::::::::::::                 |     4259 /     6998 |      \n",
            "  65.80% ::::::::::::::::::::::::::               |     4604 /     6997 |      \b\b\b\b\b\b\b\b\b\b\b\b\b\b\b\b\b\b\b\b\b\b\b\b\b\b\b\b\b\b\b\b\b\b\b\b\b\b\b\b\b\b\b\b\b\b\b\b\b\b\b\b\b\b\b\b\b\b\b\b\b\b\b\b\b\b\b\b\b\b\b\b\b\b\b\b\b\b\b\u001bM  61.06% ::::::::::::::::::::::::                 |     4273 /     6998 |      \n",
            "  66.01% ::::::::::::::::::::::::::               |     4619 /     6997 |      \b\b\b\b\b\b\b\b\b\b\b\b\b\b\b\b\b\b\b\b\b\b\b\b\b\b\b\b\b\b\b\b\b\b\b\b\b\b\b\b\b\b\b\b\b\b\b\b\b\b\b\b\b\b\b\b\b\b\b\b\b\b\b\b\b\b\b\b\b\b\b\b\b\b\b\b\b\b\b\u001bM  61.25% ::::::::::::::::::::::::                 |     4286 /     6998 |      \n",
            "  66.20% ::::::::::::::::::::::::::               |     4632 /     6997 |      \b\b\b\b\b\b\b\b\b\b\b\b\b\b\b\b\b\b\b\b\b\b\b\b\b\b\b\b\b\b\b\b\b\b\b\b\b\b\b\b\b\b\b\b\b\b\b\b\b\b\b\b\b\b\b\b\b\b\b\b\b\b\b\b\b\b\b\b\b\b\b\b\b\b\b\b\b\b\b\u001bM  61.43% ::::::::::::::::::::::::                 |     4299 /     6998 |      \n",
            "  66.37% ::::::::::::::::::::::::::               |     4644 /     6997 |      \b\b\b\b\b\b\b\b\b\b\b\b\b\b\b\b\b\b\b\b\b\b\b\b\b\b\b\b\b\b\b\b\b\b\b\b\b\b\b\b\b\b\b\b\b\b\b\b\b\b\b\b\b\b\b\b\b\b\b\b\b\b\b\b\b\b\b\b\b\b\b\b\b\b\b\b\b\b\b\u001bM  61.63% ::::::::::::::::::::::::                 |     4313 /     6998 |      \n",
            "  66.54% ::::::::::::::::::::::::::               |     4656 /     6997 |      \b\b\b\b\b\b\b\b\b\b\b\b\b\b\b\b\b\b\b\b\b\b\b\b\b\b\b\b\b\b\b\b\b\b\b\b\b\b\b\b\b\b\b\b\b\b\b\b\b\b\b\b\b\b\b\b\b\b\b\b\b\b\b\b\b\b\b\b\b\b\b\b\b\b\b\b\b\b\b\u001bM  61.86% ::::::::::::::::::::::::                 |     4329 /     6998 |      \n",
            "  66.77% ::::::::::::::::::::::::::               |     4672 /     6997 |      \b\b\b\b\b\b\b\b\b\b\b\b\b\b\b\b\b\b\b\b\b\b\b\b\b\b\b\b\b\b\b\b\b\b\b\b\b\b\b\b\b\b\b\b\b\b\b\b\b\b\b\b\b\b\b\b\b\b\b\b\b\b\b\b\b\b\b\b\b\b\b\b\b\b\b\b\b\b\b\u001bM  62.07% ::::::::::::::::::::::::                 |     4344 /     6998 |      \n",
            "  67.01% ::::::::::::::::::::::::::               |     4689 /     6997 |      \b\b\b\b\b\b\b\b\b\b\b\b\b\b\b\b\b\b\b\b\b\b\b\b\b\b\b\b\b\b\b\b\b\b\b\b\b\b\b\b\b\b\b\b\b\b\b\b\b\b\b\b\b\b\b\b\b\b\b\b\b\b\b\b\b\b\b\b\b\b\b\b\b\b\b\b\b\b\b\u001bM  62.27% ::::::::::::::::::::::::                 |     4358 /     6998 |      \n",
            "  67.19% ::::::::::::::::::::::::::               |     4701 /     6997 |      \b\b\b\b\b\b\b\b\b\b\b\b\b\b\b\b\b\b\b\b\b\b\b\b\b\b\b\b\b\b\b\b\b\b\b\b\b\b\b\b\b\b\b\b\b\b\b\b\b\b\b\b\b\b\b\b\b\b\b\b\b\b\b\b\b\b\b\b\b\b\b\b\b\b\b\b\b\b\b\u001bM  62.47% ::::::::::::::::::::::::                 |     4372 /     6998 |      \n",
            "  67.40% ::::::::::::::::::::::::::               |     4716 /     6997 |      \b\b\b\b\b\b\b\b\b\b\b\b\b\b\b\b\b\b\b\b\b\b\b\b\b\b\b\b\b\b\b\b\b\b\b\b\b\b\b\b\b\b\b\b\b\b\b\b\b\b\b\b\b\b\b\b\b\b\b\b\b\b\b\b\b\b\b\b\b\b\b\b\b\b\b\b\b\b\b\u001bM  62.68% :::::::::::::::::::::::::                |     4386 /     6998 |      \n",
            "  67.59% :::::::::::::::::::::::::::              |     4729 /     6997 |      \b\b\b\b\b\b\b\b\b\b\b\b\b\b\b\b\b\b\b\b\b\b\b\b\b\b\b\b\b\b\b\b\b\b\b\b\b\b\b\b\b\b\b\b\b\b\b\b\b\b\b\b\b\b\b\b\b\b\b\b\b\b\b\b\b\b\b\b\b\b\b\b\b\b\b\b\b\b\b\u001bM  62.90% :::::::::::::::::::::::::                |     4402 /     6998 |      \n",
            "  67.76% :::::::::::::::::::::::::::              |     4741 /     6997 |      \b\b\b\b\b\b\b\b\b\b\b\b\b\b\b\b\b\b\b\b\b\b\b\b\b\b\b\b\b\b\b\b\b\b\b\b\b\b\b\b\b\b\b\b\b\b\b\b\b\b\b\b\b\b\b\b\b\b\b\b\b\b\b\b\b\b\b\b\b\b\b\b\b\b\b\b\b\b\b\u001bM  63.10% :::::::::::::::::::::::::                |     4416 /     6998 |      \n",
            "  67.93% :::::::::::::::::::::::::::              |     4753 /     6997 |      \b\b\b\b\b\b\b\b\b\b\b\b\b\b\b\b\b\b\b\b\b\b\b\b\b\b\b\b\b\b\b\b\b\b\b\b\b\b\b\b\b\b\b\b\b\b\b\b\b\b\b\b\b\b\b\b\b\b\b\b\b\b\b\b\b\b\b\b\b\b\b\b\b\b\b\b\b\b\b\u001bM  63.32% :::::::::::::::::::::::::                |     4431 /     6998 |      \n",
            "  68.10% :::::::::::::::::::::::::::              |     4765 /     6997 |      \b\b\b\b\b\b\b\b\b\b\b\b\b\b\b\b\b\b\b\b\b\b\b\b\b\b\b\b\b\b\b\b\b\b\b\b\b\b\b\b\b\b\b\b\b\b\b\b\b\b\b\b\b\b\b\b\b\b\b\b\b\b\b\b\b\b\b\b\b\b\b\b\b\b\b\b\b\b\b\u001bM  63.55% :::::::::::::::::::::::::                |     4447 /     6998 |      \n",
            "  68.30% :::::::::::::::::::::::::::              |     4779 /     6997 |      \b\b\b\b\b\b\b\b\b\b\b\b\b\b\b\b\b\b\b\b\b\b\b\b\b\b\b\b\b\b\b\b\b\b\b\b\b\b\b\b\b\b\b\b\b\b\b\b\b\b\b\b\b\b\b\b\b\b\b\b\b\b\b\b\b\b\b\b\b\b\b\b\b\b\b\b\b\b\b\u001bM  63.75% :::::::::::::::::::::::::                |     4461 /     6998 |      \n",
            "  68.44% :::::::::::::::::::::::::::              |     4789 /     6997 |      \b\b\b\b\b\b\b\b\b\b\b\b\b\b\b\b\b\b\b\b\b\b\b\b\b\b\b\b\b\b\b\b\b\b\b\b\b\b\b\b\b\b\b\b\b\b\b\b\b\b\b\b\b\b\b\b\b\b\b\b\b\b\b\b\b\b\b\b\b\b\b\b\b\b\b\b\b\b\b\u001bM  63.93% :::::::::::::::::::::::::                |     4474 /     6998 |      \n",
            "  68.64% :::::::::::::::::::::::::::              |     4803 /     6997 |      \b\b\b\b\b\b\b\b\b\b\b\b\b\b\b\b\b\b\b\b\b\b\b\b\b\b\b\b\b\b\b\b\b\b\b\b\b\b\b\b\b\b\b\b\b\b\b\b\b\b\b\b\b\b\b\b\b\b\b\b\b\b\b\b\b\b\b\b\b\b\b\b\b\b\b\b\b\b\b\u001bM  64.13% :::::::::::::::::::::::::                |     4488 /     6998 |      \n",
            "  68.86% :::::::::::::::::::::::::::              |     4818 /     6997 |      \b\b\b\b\b\b\b\b\b\b\b\b\b\b\b\b\b\b\b\b\b\b\b\b\b\b\b\b\b\b\b\b\b\b\b\b\b\b\b\b\b\b\b\b\b\b\b\b\b\b\b\b\b\b\b\b\b\b\b\b\b\b\b\b\b\b\b\b\b\b\b\b\b\b\b\b\b\b\b\u001bM  64.33% :::::::::::::::::::::::::                |     4502 /     6998 |      \n",
            "  69.06% :::::::::::::::::::::::::::              |     4832 /     6997 |      \b\b\b\b\b\b\b\b\b\b\b\b\b\b\b\b\b\b\b\b\b\b\b\b\b\b\b\b\b\b\b\b\b\b\b\b\b\b\b\b\b\b\b\b\b\b\b\b\b\b\b\b\b\b\b\b\b\b\b\b\b\b\b\b\b\b\b\b\b\b\b\b\b\b\b\b\b\b\b\u001bM  64.53% :::::::::::::::::::::::::                |     4516 /     6998 |      \n",
            "  69.23% :::::::::::::::::::::::::::              |     4844 /     6997 |      \b\b\b\b\b\b\b\b\b\b\b\b\b\b\b\b\b\b\b\b\b\b\b\b\b\b\b\b\b\b\b\b\b\b\b\b\b\b\b\b\b\b\b\b\b\b\b\b\b\b\b\b\b\b\b\b\b\b\b\b\b\b\b\b\b\b\b\b\b\b\b\b\b\b\b\b\b\b\b\u001bM  64.76% :::::::::::::::::::::::::                |     4532 /     6998 |      \n",
            "  69.42% :::::::::::::::::::::::::::              |     4857 /     6997 |      \b\b\b\b\b\b\b\b\b\b\b\b\b\b\b\b\b\b\b\b\b\b\b\b\b\b\b\b\b\b\b\b\b\b\b\b\b\b\b\b\b\b\b\b\b\b\b\b\b\b\b\b\b\b\b\b\b\b\b\b\b\b\b\b\b\b\b\b\b\b\b\b\b\b\b\b\b\b\b\u001bM  64.98% :::::::::::::::::::::::::                |     4547 /     6998 |      \n",
            "  69.64% :::::::::::::::::::::::::::              |     4873 /     6997 |      \b\b\b\b\b\b\b\b\b\b\b\b\b\b\b\b\b\b\b\b\b\b\b\b\b\b\b\b\b\b\b\b\b\b\b\b\b\b\b\b\b\b\b\b\b\b\b\b\b\b\b\b\b\b\b\b\b\b\b\b\b\b\b\b\b\b\b\b\b\b\b\b\b\b\b\b\b\b\b\u001bM  65.15% ::::::::::::::::::::::::::               |     4559 /     6998 |      \n",
            "  69.83% :::::::::::::::::::::::::::              |     4886 /     6997 |      \b\b\b\b\b\b\b\b\b\b\b\b\b\b\b\b\b\b\b\b\b\b\b\b\b\b\b\b\b\b\b\b\b\b\b\b\b\b\b\b\b\b\b\b\b\b\b\b\b\b\b\b\b\b\b\b\b\b\b\b\b\b\b\b\b\b\b\b\b\b\b\b\b\b\b\b\b\b\b\u001bM  65.35% ::::::::::::::::::::::::::               |     4573 /     6998 |      \n",
            "  70.06% ::::::::::::::::::::::::::::             |     4902 /     6997 |      \b\b\b\b\b\b\b\b\b\b\b\b\b\b\b\b\b\b\b\b\b\b\b\b\b\b\b\b\b\b\b\b\b\b\b\b\b\b\b\b\b\b\b\b\b\b\b\b\b\b\b\b\b\b\b\b\b\b\b\b\b\b\b\b\b\b\b\b\b\b\b\b\b\b\b\b\b\b\b\u001bM  65.55% ::::::::::::::::::::::::::               |     4587 /     6998 |      \n",
            "  70.27% ::::::::::::::::::::::::::::             |     4917 /     6997 |      \b\b\b\b\b\b\b\b\b\b\b\b\b\b\b\b\b\b\b\b\b\b\b\b\b\b\b\b\b\b\b\b\b\b\b\b\b\b\b\b\b\b\b\b\b\b\b\b\b\b\b\b\b\b\b\b\b\b\b\b\b\b\b\b\b\b\b\b\b\b\b\b\b\b\b\b\b\b\b\u001bM  65.73% ::::::::::::::::::::::::::               |     4600 /     6998 |      \n",
            "  70.50% ::::::::::::::::::::::::::::             |     4933 /     6997 |      \b\b\b\b\b\b\b\b\b\b\b\b\b\b\b\b\b\b\b\b\b\b\b\b\b\b\b\b\b\b\b\b\b\b\b\b\b\b\b\b\b\b\b\b\b\b\b\b\b\b\b\b\b\b\b\b\b\b\b\b\b\b\b\b\b\b\b\b\b\b\b\b\b\b\b\b\b\b\b\u001bM  65.93% ::::::::::::::::::::::::::               |     4614 /     6998 |      \n",
            "  70.67% ::::::::::::::::::::::::::::             |     4945 /     6997 |      \b\b\b\b\b\b\b\b\b\b\b\b\b\b\b\b\b\b\b\b\b\b\b\b\b\b\b\b\b\b\b\b\b\b\b\b\b\b\b\b\b\b\b\b\b\b\b\b\b\b\b\b\b\b\b\b\b\b\b\b\b\b\b\b\b\b\b\b\b\b\b\b\b\b\b\b\b\b\b\u001bM  66.02% ::::::::::::::::::::::::::               |     4620 /     6998 |      \n",
            "  70.80% ::::::::::::::::::::::::::::             |     4954 /     6997 |      \b\b\b\b\b\b\b\b\b\b\b\b\b\b\b\b\b\b\b\b\b\b\b\b\b\b\b\b\b\b\b\b\b\b\b\b\b\b\b\b\b\b\b\b\b\b\b\b\b\b\b\b\b\b\b\b\b\b\b\b\b\b\b\b\b\b\b\b\b\b\b\b\b\b\b\b\b\b\b\u001bM  66.23% ::::::::::::::::::::::::::               |     4635 /     6998 |      \n",
            "  71.00% ::::::::::::::::::::::::::::             |     4968 /     6997 |      \b\b\b\b\b\b\b\b\b\b\b\b\b\b\b\b\b\b\b\b\b\b\b\b\b\b\b\b\b\b\b\b\b\b\b\b\b\b\b\b\b\b\b\b\b\b\b\b\b\b\b\b\b\b\b\b\b\b\b\b\b\b\b\b\b\b\b\b\b\b\b\b\b\b\b\b\b\b\b\u001bM  66.43% ::::::::::::::::::::::::::               |     4649 /     6998 |      \n",
            "  71.16% ::::::::::::::::::::::::::::             |     4979 /     6997 |      \b\b\b\b\b\b\b\b\b\b\b\b\b\b\b\b\b\b\b\b\b\b\b\b\b\b\b\b\b\b\b\b\b\b\b\b\b\b\b\b\b\b\b\b\b\b\b\b\b\b\b\b\b\b\b\b\b\b\b\b\b\b\b\b\b\b\b\b\b\b\b\b\b\b\b\b\b\b\b\u001bM  66.65% ::::::::::::::::::::::::::               |     4664 /     6998 |      \n",
            "  71.34% ::::::::::::::::::::::::::::             |     4992 /     6997 |      \b\b\b\b\b\b\b\b\b\b\b\b\b\b\b\b\b\b\b\b\b\b\b\b\b\b\b\b\b\b\b\b\b\b\b\b\b\b\b\b\b\b\b\b\b\b\b\b\b\b\b\b\b\b\b\b\b\b\b\b\b\b\b\b\b\b\b\b\b\b\b\b\b\b\b\b\b\b\b\u001bM  66.88% ::::::::::::::::::::::::::               |     4680 /     6998 |      \n",
            "  71.49% ::::::::::::::::::::::::::::             |     5002 /     6997 |      \b\b\b\b\b\b\b\b\b\b\b\b\b\b\b\b\b\b\b\b\b\b\b\b\b\b\b\b\b\b\b\b\b\b\b\b\b\b\b\b\b\b\b\b\b\b\b\b\b\b\b\b\b\b\b\b\b\b\b\b\b\b\b\b\b\b\b\b\b\b\b\b\b\b\b\b\b\b\b\u001bM  67.09% ::::::::::::::::::::::::::               |     4695 /     6998 |      \n",
            "  71.72% ::::::::::::::::::::::::::::             |     5018 /     6997 |      \b\b\b\b\b\b\b\b\b\b\b\b\b\b\b\b\b\b\b\b\b\b\b\b\b\b\b\b\b\b\b\b\b\b\b\b\b\b\b\b\b\b\b\b\b\b\b\b\b\b\b\b\b\b\b\b\b\b\b\b\b\b\b\b\b\b\b\b\b\b\b\b\b\b\b\b\b\b\b\u001bM  67.32% ::::::::::::::::::::::::::               |     4711 /     6998 |      \n",
            "  71.93% ::::::::::::::::::::::::::::             |     5033 /     6997 |      \b\b\b\b\b\b\b\b\b\b\b\b\b\b\b\b\b\b\b\b\b\b\b\b\b\b\b\b\b\b\b\b\b\b\b\b\b\b\b\b\b\b\b\b\b\b\b\b\b\b\b\b\b\b\b\b\b\b\b\b\b\b\b\b\b\b\b\b\b\b\b\b\b\b\b\b\b\b\b\u001bM  67.49% ::::::::::::::::::::::::::               |     4723 /     6998 |      \n",
            "  72.12% ::::::::::::::::::::::::::::             |     5046 /     6997 |      \b\b\b\b\b\b\b\b\b\b\b\b\b\b\b\b\b\b\b\b\b\b\b\b\b\b\b\b\b\b\b\b\b\b\b\b\b\b\b\b\b\b\b\b\b\b\b\b\b\b\b\b\b\b\b\b\b\b\b\b\b\b\b\b\b\b\b\b\b\b\b\b\b\b\b\b\b\b\b\u001bM  67.72% :::::::::::::::::::::::::::              |     4739 /     6998 |      \n",
            "  72.30% ::::::::::::::::::::::::::::             |     5059 /     6997 |      \b\b\b\b\b\b\b\b\b\b\b\b\b\b\b\b\b\b\b\b\b\b\b\b\b\b\b\b\b\b\b\b\b\b\b\b\b\b\b\b\b\b\b\b\b\b\b\b\b\b\b\b\b\b\b\b\b\b\b\b\b\b\b\b\b\b\b\b\b\b\b\b\b\b\b\b\b\b\b\u001bM  67.95% :::::::::::::::::::::::::::              |     4755 /     6998 |      \n",
            "  72.50% :::::::::::::::::::::::::::::            |     5073 /     6997 |      \b\b\b\b\b\b\b\b\b\b\b\b\b\b\b\b\b\b\b\b\b\b\b\b\b\b\b\b\b\b\b\b\b\b\b\b\b\b\b\b\b\b\b\b\b\b\b\b\b\b\b\b\b\b\b\b\b\b\b\b\b\b\b\b\b\b\b\b\b\b\b\b\b\b\b\b\b\b\b\u001bM  68.16% :::::::::::::::::::::::::::              |     4770 /     6998 |      \n",
            "  72.70% :::::::::::::::::::::::::::::            |     5087 /     6997 |      \b\b\b\b\b\b\b\b\b\b\b\b\b\b\b\b\b\b\b\b\b\b\b\b\b\b\b\b\b\b\b\b\b\b\b\b\b\b\b\b\b\b\b\b\b\b\b\b\b\b\b\b\b\b\b\b\b\b\b\b\b\b\b\b\b\b\b\b\b\b\b\b\b\b\b\b\b\b\b\u001bM  68.35% :::::::::::::::::::::::::::              |     4783 /     6998 |      \n",
            "  72.95% :::::::::::::::::::::::::::::            |     5104 /     6997 |      \b\b\b\b\b\b\b\b\b\b\b\b\b\b\b\b\b\b\b\b\b\b\b\b\b\b\b\b\b\b\b\b\b\b\b\b\b\b\b\b\b\b\b\b\b\b\b\b\b\b\b\b\b\b\b\b\b\b\b\b\b\b\b\b\b\b\b\b\b\b\b\b\b\b\b\b\b\b\b\u001bM  68.55% :::::::::::::::::::::::::::              |     4797 /     6998 |      \n",
            "  73.17% :::::::::::::::::::::::::::::            |     5120 /     6997 |      \b\b\b\b\b\b\b\b\b\b\b\b\b\b\b\b\b\b\b\b\b\b\b\b\b\b\b\b\b\b\b\b\b\b\b\b\b\b\b\b\b\b\b\b\b\b\b\b\b\b\b\b\b\b\b\b\b\b\b\b\b\b\b\b\b\b\b\b\b\b\b\b\b\b\b\b\b\b\b\u001bM  68.76% :::::::::::::::::::::::::::              |     4812 /     6998 |      \n",
            "  73.36% :::::::::::::::::::::::::::::            |     5133 /     6997 |      \b\b\b\b\b\b\b\b\b\b\b\b\b\b\b\b\b\b\b\b\b\b\b\b\b\b\b\b\b\b\b\b\b\b\b\b\b\b\b\b\b\b\b\b\b\b\b\b\b\b\b\b\b\b\b\b\b\b\b\b\b\b\b\b\b\b\b\b\b\b\b\b\b\b\b\b\b\b\b\u001bM  68.98% :::::::::::::::::::::::::::              |     4827 /     6998 |      \n",
            "  73.56% :::::::::::::::::::::::::::::            |     5147 /     6997 |      \b\b\b\b\b\b\b\b\b\b\b\b\b\b\b\b\b\b\b\b\b\b\b\b\b\b\b\b\b\b\b\b\b\b\b\b\b\b\b\b\b\b\b\b\b\b\b\b\b\b\b\b\b\b\b\b\b\b\b\b\b\b\b\b\b\b\b\b\b\b\b\b\b\b\b\b\b\b\b\u001bM  69.16% :::::::::::::::::::::::::::              |     4840 /     6998 |      \n",
            "  73.73% :::::::::::::::::::::::::::::            |     5159 /     6997 |      \b\b\b\b\b\b\b\b\b\b\b\b\b\b\b\b\b\b\b\b\b\b\b\b\b\b\b\b\b\b\b\b\b\b\b\b\b\b\b\b\b\b\b\b\b\b\b\b\b\b\b\b\b\b\b\b\b\b\b\b\b\b\b\b\b\b\b\b\b\b\b\b\b\b\b\b\b\b\b\u001bM  69.38% :::::::::::::::::::::::::::              |     4855 /     6998 |      \n",
            "  73.90% :::::::::::::::::::::::::::::            |     5171 /     6997 |      \b\b\b\b\b\b\b\b\b\b\b\b\b\b\b\b\b\b\b\b\b\b\b\b\b\b\b\b\b\b\b\b\b\b\b\b\b\b\b\b\b\b\b\b\b\b\b\b\b\b\b\b\b\b\b\b\b\b\b\b\b\b\b\b\b\b\b\b\b\b\b\b\b\b\b\b\b\b\b\u001bM  69.56% :::::::::::::::::::::::::::              |     4868 /     6998 |      \n",
            "  74.07% :::::::::::::::::::::::::::::            |     5183 /     6997 |      \b\b\b\b\b\b\b\b\b\b\b\b\b\b\b\b\b\b\b\b\b\b\b\b\b\b\b\b\b\b\b\b\b\b\b\b\b\b\b\b\b\b\b\b\b\b\b\b\b\b\b\b\b\b\b\b\b\b\b\b\b\b\b\b\b\b\b\b\b\b\b\b\b\b\b\b\b\b\b\u001bM  69.75% :::::::::::::::::::::::::::              |     4881 /     6998 |      \n",
            "  74.30% :::::::::::::::::::::::::::::            |     5199 /     6997 |      \b\b\b\b\b\b\b\b\b\b\b\b\b\b\b\b\b\b\b\b\b\b\b\b\b\b\b\b\b\b\b\b\b\b\b\b\b\b\b\b\b\b\b\b\b\b\b\b\b\b\b\b\b\b\b\b\b\b\b\b\b\b\b\b\b\b\b\b\b\b\b\b\b\b\b\b\b\b\b\u001bM  69.93% :::::::::::::::::::::::::::              |     4894 /     6998 |      \n",
            "  74.52% :::::::::::::::::::::::::::::            |     5214 /     6997 |      \b\b\b\b\b\b\b\b\b\b\b\b\b\b\b\b\b\b\b\b\b\b\b\b\b\b\b\b\b\b\b\b\b\b\b\b\b\b\b\b\b\b\b\b\b\b\b\b\b\b\b\b\b\b\b\b\b\b\b\b\b\b\b\b\b\b\b\b\b\b\b\b\b\b\b\b\b\b\b\u001bM  70.09% ::::::::::::::::::::::::::::             |     4905 /     6998 |      \n",
            "  74.73% :::::::::::::::::::::::::::::            |     5229 /     6997 |      \b\b\b\b\b\b\b\b\b\b\b\b\b\b\b\b\b\b\b\b\b\b\b\b\b\b\b\b\b\b\b\b\b\b\b\b\b\b\b\b\b\b\b\b\b\b\b\b\b\b\b\b\b\b\b\b\b\b\b\b\b\b\b\b\b\b\b\b\b\b\b\b\b\b\b\b\b\b\b\u001bM  70.26% ::::::::::::::::::::::::::::             |     4917 /     6998 |      \n",
            "  74.93% :::::::::::::::::::::::::::::            |     5243 /     6997 |      \b\b\b\b\b\b\b\b\b\b\b\b\b\b\b\b\b\b\b\b\b\b\b\b\b\b\b\b\b\b\b\b\b\b\b\b\b\b\b\b\b\b\b\b\b\b\b\b\b\b\b\b\b\b\b\b\b\b\b\b\b\b\b\b\b\b\b\b\b\b\b\b\b\b\b\b\b\b\b\u001bM  70.46% ::::::::::::::::::::::::::::             |     4931 /     6998 |      \n",
            "  75.10% ::::::::::::::::::::::::::::::           |     5255 /     6997 |      \b\b\b\b\b\b\b\b\b\b\b\b\b\b\b\b\b\b\b\b\b\b\b\b\b\b\b\b\b\b\b\b\b\b\b\b\b\b\b\b\b\b\b\b\b\b\b\b\b\b\b\b\b\b\b\b\b\b\b\b\b\b\b\b\b\b\b\b\b\b\b\b\b\b\b\b\b\b\b\u001bM  70.66% ::::::::::::::::::::::::::::             |     4945 /     6998 |      \n",
            "  75.28% ::::::::::::::::::::::::::::::           |     5267 /     6997 |      \b\b\b\b\b\b\b\b\b\b\b\b\b\b\b\b\b\b\b\b\b\b\b\b\b\b\b\b\b\b\b\b\b\b\b\b\b\b\b\b\b\b\b\b\b\b\b\b\b\b\b\b\b\b\b\b\b\b\b\b\b\b\b\b\b\b\b\b\b\b\b\b\b\b\b\b\b\b\b\u001bM  70.86% ::::::::::::::::::::::::::::             |     4959 /     6998 |      \n",
            "  75.49% ::::::::::::::::::::::::::::::           |     5282 /     6997 |      \b\b\b\b\b\b\b\b\b\b\b\b\b\b\b\b\b\b\b\b\b\b\b\b\b\b\b\b\b\b\b\b\b\b\b\b\b\b\b\b\b\b\b\b\b\b\b\b\b\b\b\b\b\b\b\b\b\b\b\b\b\b\b\b\b\b\b\b\b\b\b\b\b\b\b\b\b\b\b\u001bM  71.03% ::::::::::::::::::::::::::::             |     4971 /     6998 |      \n",
            "  75.69% ::::::::::::::::::::::::::::::           |     5296 /     6997 |      \b\b\b\b\b\b\b\b\b\b\b\b\b\b\b\b\b\b\b\b\b\b\b\b\b\b\b\b\b\b\b\b\b\b\b\b\b\b\b\b\b\b\b\b\b\b\b\b\b\b\b\b\b\b\b\b\b\b\b\b\b\b\b\b\b\b\b\b\b\b\b\b\b\b\b\b\b\b\b\u001bM  71.25% ::::::::::::::::::::::::::::             |     4986 /     6998 |      \n",
            "  75.93% ::::::::::::::::::::::::::::::           |     5313 /     6997 |      \b\b\b\b\b\b\b\b\b\b\b\b\b\b\b\b\b\b\b\b\b\b\b\b\b\b\b\b\b\b\b\b\b\b\b\b\b\b\b\b\b\b\b\b\b\b\b\b\b\b\b\b\b\b\b\b\b\b\b\b\b\b\b\b\b\b\b\b\b\b\b\b\b\b\b\b\b\b\b\u001bM  71.46% ::::::::::::::::::::::::::::             |     5001 /     6998 |      \n",
            "  76.19% ::::::::::::::::::::::::::::::           |     5331 /     6997 |      \b\b\b\b\b\b\b\b\b\b\b\b\b\b\b\b\b\b\b\b\b\b\b\b\b\b\b\b\b\b\b\b\b\b\b\b\b\b\b\b\b\b\b\b\b\b\b\b\b\b\b\b\b\b\b\b\b\b\b\b\b\b\b\b\b\b\b\b\b\b\b\b\b\b\b\b\b\b\b\u001bM  71.65% ::::::::::::::::::::::::::::             |     5014 /     6998 |      \n",
            "  76.36% ::::::::::::::::::::::::::::::           |     5343 /     6997 |      \b\b\b\b\b\b\b\b\b\b\b\b\b\b\b\b\b\b\b\b\b\b\b\b\b\b\b\b\b\b\b\b\b\b\b\b\b\b\b\b\b\b\b\b\b\b\b\b\b\b\b\b\b\b\b\b\b\b\b\b\b\b\b\b\b\b\b\b\b\b\b\b\b\b\b\b\b\b\b\u001bM  71.85% ::::::::::::::::::::::::::::             |     5028 /     6998 |      \n",
            "  76.53% ::::::::::::::::::::::::::::::           |     5355 /     6997 |      \b\b\b\b\b\b\b\b\b\b\b\b\b\b\b\b\b\b\b\b\b\b\b\b\b\b\b\b\b\b\b\b\b\b\b\b\b\b\b\b\b\b\b\b\b\b\b\b\b\b\b\b\b\b\b\b\b\b\b\b\b\b\b\b\b\b\b\b\b\b\b\b\b\b\b\b\b\b\b\u001bM  72.02% ::::::::::::::::::::::::::::             |     5040 /     6998 |      \n",
            "  76.73% ::::::::::::::::::::::::::::::           |     5369 /     6997 |      \b\b\b\b\b\b\b\b\b\b\b\b\b\b\b\b\b\b\b\b\b\b\b\b\b\b\b\b\b\b\b\b\b\b\b\b\b\b\b\b\b\b\b\b\b\b\b\b\b\b\b\b\b\b\b\b\b\b\b\b\b\b\b\b\b\b\b\b\b\b\b\b\b\b\b\b\b\b\b\u001bM  72.22% ::::::::::::::::::::::::::::             |     5054 /     6998 |      \n",
            "  76.95% ::::::::::::::::::::::::::::::           |     5384 /     6997 |      \b\b\b\b\b\b\b\b\b\b\b\b\b\b\b\b\b\b\b\b\b\b\b\b\b\b\b\b\b\b\b\b\b\b\b\b\b\b\b\b\b\b\b\b\b\b\b\b\b\b\b\b\b\b\b\b\b\b\b\b\b\b\b\b\b\b\b\b\b\b\b\b\b\b\b\b\b\b\b\u001bM  72.42% ::::::::::::::::::::::::::::             |     5068 /     6998 |      \n",
            "  77.12% ::::::::::::::::::::::::::::::           |     5396 /     6997 |      \b\b\b\b\b\b\b\b\b\b\b\b\b\b\b\b\b\b\b\b\b\b\b\b\b\b\b\b\b\b\b\b\b\b\b\b\b\b\b\b\b\b\b\b\b\b\b\b\b\b\b\b\b\b\b\b\b\b\b\b\b\b\b\b\b\b\b\b\b\b\b\b\b\b\b\b\b\b\b\u001bM  72.61% :::::::::::::::::::::::::::::            |     5081 /     6998 |      \n",
            "  77.32% ::::::::::::::::::::::::::::::           |     5410 /     6997 |      \b\b\b\b\b\b\b\b\b\b\b\b\b\b\b\b\b\b\b\b\b\b\b\b\b\b\b\b\b\b\b\b\b\b\b\b\b\b\b\b\b\b\b\b\b\b\b\b\b\b\b\b\b\b\b\b\b\b\b\b\b\b\b\b\b\b\b\b\b\b\b\b\b\b\b\b\b\b\b\u001bM  72.81% :::::::::::::::::::::::::::::            |     5095 /     6998 |      \n",
            "  77.52% :::::::::::::::::::::::::::::::          |     5424 /     6997 |      \b\b\b\b\b\b\b\b\b\b\b\b\b\b\b\b\b\b\b\b\b\b\b\b\b\b\b\b\b\b\b\b\b\b\b\b\b\b\b\b\b\b\b\b\b\b\b\b\b\b\b\b\b\b\b\b\b\b\b\b\b\b\b\b\b\b\b\b\b\b\b\b\b\b\b\b\b\b\b\u001bM  73.02% :::::::::::::::::::::::::::::            |     5110 /     6998 |      \n",
            "  77.73% :::::::::::::::::::::::::::::::          |     5439 /     6997 |      \b\b\b\b\b\b\b\b\b\b\b\b\b\b\b\b\b\b\b\b\b\b\b\b\b\b\b\b\b\b\b\b\b\b\b\b\b\b\b\b\b\b\b\b\b\b\b\b\b\b\b\b\b\b\b\b\b\b\b\b\b\b\b\b\b\b\b\b\b\b\b\b\b\b\b\b\b\b\b\u001bM  73.21% :::::::::::::::::::::::::::::            |     5123 /     6998 |      \n",
            "  77.90% :::::::::::::::::::::::::::::::          |     5451 /     6997 |      \b\b\b\b\b\b\b\b\b\b\b\b\b\b\b\b\b\b\b\b\b\b\b\b\b\b\b\b\b\b\b\b\b\b\b\b\b\b\b\b\b\b\b\b\b\b\b\b\b\b\b\b\b\b\b\b\b\b\b\b\b\b\b\b\b\b\b\b\b\b\b\b\b\b\b\b\b\b\b\u001bM  73.38% :::::::::::::::::::::::::::::            |     5135 /     6998 |      \n",
            "  78.08% :::::::::::::::::::::::::::::::          |     5463 /     6997 |      \b\b\b\b\b\b\b\b\b\b\b\b\b\b\b\b\b\b\b\b\b\b\b\b\b\b\b\b\b\b\b\b\b\b\b\b\b\b\b\b\b\b\b\b\b\b\b\b\b\b\b\b\b\b\b\b\b\b\b\b\b\b\b\b\b\b\b\b\b\b\b\b\b\b\b\b\b\b\b\u001bM  73.58% :::::::::::::::::::::::::::::            |     5149 /     6998 |      \n",
            "  78.26% :::::::::::::::::::::::::::::::          |     5476 /     6997 |      \b\b\b\b\b\b\b\b\b\b\b\b\b\b\b\b\b\b\b\b\b\b\b\b\b\b\b\b\b\b\b\b\b\b\b\b\b\b\b\b\b\b\b\b\b\b\b\b\b\b\b\b\b\b\b\b\b\b\b\b\b\b\b\b\b\b\b\b\b\b\b\b\b\b\b\b\b\b\b\u001bM  73.76% :::::::::::::::::::::::::::::            |     5162 /     6998 |      \n",
            "  78.49% :::::::::::::::::::::::::::::::          |     5492 /     6997 |      \b\b\b\b\b\b\b\b\b\b\b\b\b\b\b\b\b\b\b\b\b\b\b\b\b\b\b\b\b\b\b\b\b\b\b\b\b\b\b\b\b\b\b\b\b\b\b\b\b\b\b\b\b\b\b\b\b\b\b\b\b\b\b\b\b\b\b\b\b\b\b\b\b\b\b\b\b\b\b\u001bM  73.92% :::::::::::::::::::::::::::::            |     5173 /     6998 |      \n",
            "  78.71% :::::::::::::::::::::::::::::::          |     5507 /     6997 |      \b\b\b\b\b\b\b\b\b\b\b\b\b\b\b\b\b\b\b\b\b\b\b\b\b\b\b\b\b\b\b\b\b\b\b\b\b\b\b\b\b\b\b\b\b\b\b\b\b\b\b\b\b\b\b\b\b\b\b\b\b\b\b\b\b\b\b\b\b\b\b\b\b\b\b\b\b\b\b\u001bM  74.11% :::::::::::::::::::::::::::::            |     5186 /     6998 |      \n",
            "  78.91% :::::::::::::::::::::::::::::::          |     5521 /     6997 |      \b\b\b\b\b\b\b\b\b\b\b\b\b\b\b\b\b\b\b\b\b\b\b\b\b\b\b\b\b\b\b\b\b\b\b\b\b\b\b\b\b\b\b\b\b\b\b\b\b\b\b\b\b\b\b\b\b\b\b\b\b\b\b\b\b\b\b\b\b\b\b\b\b\b\b\b\b\b\b\u001bM  74.26% :::::::::::::::::::::::::::::            |     5197 /     6998 |      \n",
            "  79.13% :::::::::::::::::::::::::::::::          |     5537 /     6997 |      \b\b\b\b\b\b\b\b\b\b\b\b\b\b\b\b\b\b\b\b\b\b\b\b\b\b\b\b\b\b\b\b\b\b\b\b\b\b\b\b\b\b\b\b\b\b\b\b\b\b\b\b\b\b\b\b\b\b\b\b\b\b\b\b\b\b\b\b\b\b\b\b\b\b\b\b\b\b\b\u001bM  74.46% :::::::::::::::::::::::::::::            |     5211 /     6998 |      \n",
            "  79.32% :::::::::::::::::::::::::::::::          |     5550 /     6997 |      \b\b\b\b\b\b\b\b\b\b\b\b\b\b\b\b\b\b\b\b\b\b\b\b\b\b\b\b\b\b\b\b\b\b\b\b\b\b\b\b\b\b\b\b\b\b\b\b\b\b\b\b\b\b\b\b\b\b\b\b\b\b\b\b\b\b\b\b\b\b\b\b\b\b\b\b\b\b\b\u001bM  74.71% :::::::::::::::::::::::::::::            |     5228 /     6998 |      \n",
            "  79.49% :::::::::::::::::::::::::::::::          |     5562 /     6997 |      \b\b\b\b\b\b\b\b\b\b\b\b\b\b\b\b\b\b\b\b\b\b\b\b\b\b\b\b\b\b\b\b\b\b\b\b\b\b\b\b\b\b\b\b\b\b\b\b\b\b\b\b\b\b\b\b\b\b\b\b\b\b\b\b\b\b\b\b\b\b\b\b\b\b\b\b\b\b\b\u001bM  74.88% :::::::::::::::::::::::::::::            |     5240 /     6998 |      \n",
            "  79.72% :::::::::::::::::::::::::::::::          |     5578 /     6997 |      \b\b\b\b\b\b\b\b\b\b\b\b\b\b\b\b\b\b\b\b\b\b\b\b\b\b\b\b\b\b\b\b\b\b\b\b\b\b\b\b\b\b\b\b\b\b\b\b\b\b\b\b\b\b\b\b\b\b\b\b\b\b\b\b\b\b\b\b\b\b\b\b\b\b\b\b\b\b\b\u001bM  75.08% ::::::::::::::::::::::::::::::           |     5254 /     6998 |      \n",
            "  79.91% :::::::::::::::::::::::::::::::          |     5591 /     6997 |      \b\b\b\b\b\b\b\b\b\b\b\b\b\b\b\b\b\b\b\b\b\b\b\b\b\b\b\b\b\b\b\b\b\b\b\b\b\b\b\b\b\b\b\b\b\b\b\b\b\b\b\b\b\b\b\b\b\b\b\b\b\b\b\b\b\b\b\b\b\b\b\b\b\b\b\b\b\b\b\u001bM  75.31% ::::::::::::::::::::::::::::::           |     5270 /     6998 |      \n",
            "  80.11% ::::::::::::::::::::::::::::::::         |     5605 /     6997 |      \b\b\b\b\b\b\b\b\b\b\b\b\b\b\b\b\b\b\b\b\b\b\b\b\b\b\b\b\b\b\b\b\b\b\b\b\b\b\b\b\b\b\b\b\b\b\b\b\b\b\b\b\b\b\b\b\b\b\b\b\b\b\b\b\b\b\b\b\b\b\b\b\b\b\b\b\b\b\b\u001bM  75.48% ::::::::::::::::::::::::::::::           |     5282 /     6998 |      \n",
            "  80.29% ::::::::::::::::::::::::::::::::         |     5618 /     6997 |      \b\b\b\b\b\b\b\b\b\b\b\b\b\b\b\b\b\b\b\b\b\b\b\b\b\b\b\b\b\b\b\b\b\b\b\b\b\b\b\b\b\b\b\b\b\b\b\b\b\b\b\b\b\b\b\b\b\b\b\b\b\b\b\b\b\b\b\b\b\b\b\b\b\b\b\b\b\b\b\u001bM  75.65% ::::::::::::::::::::::::::::::           |     5294 /     6998 |      \n",
            "  80.52% ::::::::::::::::::::::::::::::::         |     5634 /     6997 |      \b\b\b\b\b\b\b\b\b\b\b\b\b\b\b\b\b\b\b\b\b\b\b\b\b\b\b\b\b\b\b\b\b\b\b\b\b\b\b\b\b\b\b\b\b\b\b\b\b\b\b\b\b\b\b\b\b\b\b\b\b\b\b\b\b\b\b\b\b\b\b\b\b\b\b\b\b\b\b\u001bM  75.82% ::::::::::::::::::::::::::::::           |     5306 /     6998 |      \n",
            "  80.71% ::::::::::::::::::::::::::::::::         |     5647 /     6997 |      \b\b\b\b\b\b\b\b\b\b\b\b\b\b\b\b\b\b\b\b\b\b\b\b\b\b\b\b\b\b\b\b\b\b\b\b\b\b\b\b\b\b\b\b\b\b\b\b\b\b\b\b\b\b\b\b\b\b\b\b\b\b\b\b\b\b\b\b\b\b\b\b\b\b\b\b\b\b\b\u001bM  76.02% ::::::::::::::::::::::::::::::           |     5320 /     6998 |      \n",
            "  80.93% ::::::::::::::::::::::::::::::::         |     5663 /     6997 |      \b\b\b\b\b\b\b\b\b\b\b\b\b\b\b\b\b\b\b\b\b\b\b\b\b\b\b\b\b\b\b\b\b\b\b\b\b\b\b\b\b\b\b\b\b\b\b\b\b\b\b\b\b\b\b\b\b\b\b\b\b\b\b\b\b\b\b\b\b\b\b\b\b\b\b\b\b\b\b\u001bM  76.18% ::::::::::::::::::::::::::::::           |     5331 /     6998 |      \n",
            "  81.18% ::::::::::::::::::::::::::::::::         |     5680 /     6997 |      \b\b\b\b\b\b\b\b\b\b\b\b\b\b\b\b\b\b\b\b\b\b\b\b\b\b\b\b\b\b\b\b\b\b\b\b\b\b\b\b\b\b\b\b\b\b\b\b\b\b\b\b\b\b\b\b\b\b\b\b\b\b\b\b\b\b\b\b\b\b\b\b\b\b\b\b\b\b\b\u001bM  76.34% ::::::::::::::::::::::::::::::           |     5342 /     6998 |      \n",
            "  81.39% ::::::::::::::::::::::::::::::::         |     5695 /     6997 |      \b\b\b\b\b\b\b\b\b\b\b\b\b\b\b\b\b\b\b\b\b\b\b\b\b\b\b\b\b\b\b\b\b\b\b\b\b\b\b\b\b\b\b\b\b\b\b\b\b\b\b\b\b\b\b\b\b\b\b\b\b\b\b\b\b\b\b\b\b\b\b\b\b\b\b\b\b\b\b\u001bM  76.48% ::::::::::::::::::::::::::::::           |     5352 /     6998 |      \n",
            "  81.63% ::::::::::::::::::::::::::::::::         |     5712 /     6997 |      \b\b\b\b\b\b\b\b\b\b\b\b\b\b\b\b\b\b\b\b\b\b\b\b\b\b\b\b\b\b\b\b\b\b\b\b\b\b\b\b\b\b\b\b\b\b\b\b\b\b\b\b\b\b\b\b\b\b\b\b\b\b\b\b\b\b\b\b\b\b\b\b\b\b\b\b\b\b\b\u001bM  76.69% ::::::::::::::::::::::::::::::           |     5367 /     6998 |      \n",
            "  81.85% ::::::::::::::::::::::::::::::::         |     5727 /     6997 |      \b\b\b\b\b\b\b\b\b\b\b\b\b\b\b\b\b\b\b\b\b\b\b\b\b\b\b\b\b\b\b\b\b\b\b\b\b\b\b\b\b\b\b\b\b\b\b\b\b\b\b\b\b\b\b\b\b\b\b\b\b\b\b\b\b\b\b\b\b\b\b\b\b\b\b\b\b\b\b\u001bM  76.89% ::::::::::::::::::::::::::::::           |     5381 /     6998 |      \n",
            "  82.08% ::::::::::::::::::::::::::::::::         |     5743 /     6997 |      \b\b\b\b\b\b\b\b\b\b\b\b\b\b\b\b\b\b\b\b\b\b\b\b\b\b\b\b\b\b\b\b\b\b\b\b\b\b\b\b\b\b\b\b\b\b\b\b\b\b\b\b\b\b\b\b\b\b\b\b\b\b\b\b\b\b\b\b\b\b\b\b\b\b\b\b\b\b\b\u001bM  77.08% ::::::::::::::::::::::::::::::           |     5394 /     6998 |      \n",
            "  82.29% ::::::::::::::::::::::::::::::::         |     5758 /     6997 |      \b\b\b\b\b\b\b\b\b\b\b\b\b\b\b\b\b\b\b\b\b\b\b\b\b\b\b\b\b\b\b\b\b\b\b\b\b\b\b\b\b\b\b\b\b\b\b\b\b\b\b\b\b\b\b\b\b\b\b\b\b\b\b\b\b\b\b\b\b\b\b\b\b\b\b\b\b\b\b\u001bM  77.28% ::::::::::::::::::::::::::::::           |     5408 /     6998 |      \n",
            "  82.49% ::::::::::::::::::::::::::::::::         |     5772 /     6997 |      \b\b\b\b\b\b\b\b\b\b\b\b\b\b\b\b\b\b\b\b\b\b\b\b\b\b\b\b\b\b\b\b\b\b\b\b\b\b\b\b\b\b\b\b\b\b\b\b\b\b\b\b\b\b\b\b\b\b\b\b\b\b\b\b\b\b\b\b\b\b\b\b\b\b\b\b\b\b\b\u001bM  77.48% ::::::::::::::::::::::::::::::           |     5422 /     6998 |      \n",
            "  82.71% :::::::::::::::::::::::::::::::::        |     5787 /     6997 |      \b\b\b\b\b\b\b\b\b\b\b\b\b\b\b\b\b\b\b\b\b\b\b\b\b\b\b\b\b\b\b\b\b\b\b\b\b\b\b\b\b\b\b\b\b\b\b\b\b\b\b\b\b\b\b\b\b\b\b\b\b\b\b\b\b\b\b\b\b\b\b\b\b\b\b\b\b\b\b\u001bM  77.71% :::::::::::::::::::::::::::::::          |     5438 /     6998 |      \n",
            "  82.92% :::::::::::::::::::::::::::::::::        |     5802 /     6997 |      \b\b\b\b\b\b\b\b\b\b\b\b\b\b\b\b\b\b\b\b\b\b\b\b\b\b\b\b\b\b\b\b\b\b\b\b\b\b\b\b\b\b\b\b\b\b\b\b\b\b\b\b\b\b\b\b\b\b\b\b\b\b\b\b\b\b\b\b\b\b\b\b\b\b\b\b\b\b\b\u001bM  77.89% :::::::::::::::::::::::::::::::          |     5451 /     6998 |      \n",
            "  83.14% :::::::::::::::::::::::::::::::::        |     5817 /     6997 |      \b\b\b\b\b\b\b\b\b\b\b\b\b\b\b\b\b\b\b\b\b\b\b\b\b\b\b\b\b\b\b\b\b\b\b\b\b\b\b\b\b\b\b\b\b\b\b\b\b\b\b\b\b\b\b\b\b\b\b\b\b\b\b\b\b\b\b\b\b\b\b\b\b\b\b\b\b\b\b\u001bM  78.07% :::::::::::::::::::::::::::::::          |     5463 /     6998 |      \n",
            "  83.35% :::::::::::::::::::::::::::::::::        |     5832 /     6997 |      \b\b\b\b\b\b\b\b\b\b\b\b\b\b\b\b\b\b\b\b\b\b\b\b\b\b\b\b\b\b\b\b\b\b\b\b\b\b\b\b\b\b\b\b\b\b\b\b\b\b\b\b\b\b\b\b\b\b\b\b\b\b\b\b\b\b\b\b\b\b\b\b\b\b\b\b\b\b\b\u001bM  78.24% :::::::::::::::::::::::::::::::          |     5475 /     6998 |      \n",
            "  83.59% :::::::::::::::::::::::::::::::::        |     5849 /     6997 |      \b\b\b\b\b\b\b\b\b\b\b\b\b\b\b\b\b\b\b\b\b\b\b\b\b\b\b\b\b\b\b\b\b\b\b\b\b\b\b\b\b\b\b\b\b\b\b\b\b\b\b\b\b\b\b\b\b\b\b\b\b\b\b\b\b\b\b\b\b\b\b\b\b\b\b\b\b\b\b\u001bM  78.42% :::::::::::::::::::::::::::::::          |     5488 /     6998 |      \n",
            "  83.79% :::::::::::::::::::::::::::::::::        |     5863 /     6997 |      \b\b\b\b\b\b\b\b\b\b\b\b\b\b\b\b\b\b\b\b\b\b\b\b\b\b\b\b\b\b\b\b\b\b\b\b\b\b\b\b\b\b\b\b\b\b\b\b\b\b\b\b\b\b\b\b\b\b\b\b\b\b\b\b\b\b\b\b\b\b\b\b\b\b\b\b\b\b\b\u001bM  78.62% :::::::::::::::::::::::::::::::          |     5502 /     6998 |      \n",
            "  83.99% :::::::::::::::::::::::::::::::::        |     5877 /     6997 |      \b\b\b\b\b\b\b\b\b\b\b\b\b\b\b\b\b\b\b\b\b\b\b\b\b\b\b\b\b\b\b\b\b\b\b\b\b\b\b\b\b\b\b\b\b\b\b\b\b\b\b\b\b\b\b\b\b\b\b\b\b\b\b\b\b\b\b\b\b\b\b\b\b\b\b\b\b\b\b\u001bM  78.75% :::::::::::::::::::::::::::::::          |     5511 /     6998 |      \n",
            "  84.24% :::::::::::::::::::::::::::::::::        |     5894 /     6997 |      \b\b\b\b\b\b\b\b\b\b\b\b\b\b\b\b\b\b\b\b\b\b\b\b\b\b\b\b\b\b\b\b\b\b\b\b\b\b\b\b\b\b\b\b\b\b\b\b\b\b\b\b\b\b\b\b\b\b\b\b\b\b\b\b\b\b\b\b\b\b\b\b\b\b\b\b\b\b\b\u001bM  78.98% :::::::::::::::::::::::::::::::          |     5527 /     6998 |      \n",
            "  84.44% :::::::::::::::::::::::::::::::::        |     5908 /     6997 |      \b\b\b\b\b\b\b\b\b\b\b\b\b\b\b\b\b\b\b\b\b\b\b\b\b\b\b\b\b\b\b\b\b\b\b\b\b\b\b\b\b\b\b\b\b\b\b\b\b\b\b\b\b\b\b\b\b\b\b\b\b\b\b\b\b\b\b\b\b\b\b\b\b\b\b\b\b\b\b\u001bM  79.19% :::::::::::::::::::::::::::::::          |     5542 /     6998 |      \n",
            "  84.66% :::::::::::::::::::::::::::::::::        |     5924 /     6997 |      \b\b\b\b\b\b\b\b\b\b\b\b\b\b\b\b\b\b\b\b\b\b\b\b\b\b\b\b\b\b\b\b\b\b\b\b\b\b\b\b\b\b\b\b\b\b\b\b\b\b\b\b\b\b\b\b\b\b\b\b\b\b\b\b\b\b\b\b\b\b\b\b\b\b\b\b\b\b\b\u001bM  79.41% :::::::::::::::::::::::::::::::          |     5557 /     6998 |      \n",
            "  84.88% :::::::::::::::::::::::::::::::::        |     5939 /     6997 |      \b\b\b\b\b\b\b\b\b\b\b\b\b\b\b\b\b\b\b\b\b\b\b\b\b\b\b\b\b\b\b\b\b\b\b\b\b\b\b\b\b\b\b\b\b\b\b\b\b\b\b\b\b\b\b\b\b\b\b\b\b\b\b\b\b\b\b\b\b\b\b\b\b\b\b\b\b\b\b\u001bM  79.61% :::::::::::::::::::::::::::::::          |     5571 /     6998 |      \n",
            "  85.05% ::::::::::::::::::::::::::::::::::       |     5951 /     6997 |      \b\b\b\b\b\b\b\b\b\b\b\b\b\b\b\b\b\b\b\b\b\b\b\b\b\b\b\b\b\b\b\b\b\b\b\b\b\b\b\b\b\b\b\b\b\b\b\b\b\b\b\b\b\b\b\b\b\b\b\b\b\b\b\b\b\b\b\b\b\b\b\b\b\b\b\b\b\b\b\u001bM  79.78% :::::::::::::::::::::::::::::::          |     5583 /     6998 |      \n",
            "  85.27% ::::::::::::::::::::::::::::::::::       |     5966 /     6997 |      \b\b\b\b\b\b\b\b\b\b\b\b\b\b\b\b\b\b\b\b\b\b\b\b\b\b\b\b\b\b\b\b\b\b\b\b\b\b\b\b\b\b\b\b\b\b\b\b\b\b\b\b\b\b\b\b\b\b\b\b\b\b\b\b\b\b\b\b\b\b\b\b\b\b\b\b\b\b\b\u001bM  79.92% :::::::::::::::::::::::::::::::          |     5593 /     6998 |      \n",
            "  85.47% ::::::::::::::::::::::::::::::::::       |     5980 /     6997 |      \b\b\b\b\b\b\b\b\b\b\b\b\b\b\b\b\b\b\b\b\b\b\b\b\b\b\b\b\b\b\b\b\b\b\b\b\b\b\b\b\b\b\b\b\b\b\b\b\b\b\b\b\b\b\b\b\b\b\b\b\b\b\b\b\b\b\b\b\b\b\b\b\b\b\b\b\b\b\b\u001bM  80.08% ::::::::::::::::::::::::::::::::         |     5604 /     6998 |      \n",
            "  85.65% ::::::::::::::::::::::::::::::::::       |     5993 /     6997 |      \b\b\b\b\b\b\b\b\b\b\b\b\b\b\b\b\b\b\b\b\b\b\b\b\b\b\b\b\b\b\b\b\b\b\b\b\b\b\b\b\b\b\b\b\b\b\b\b\b\b\b\b\b\b\b\b\b\b\b\b\b\b\b\b\b\b\b\b\b\b\b\b\b\b\b\b\b\b\b\u001bM  80.31% ::::::::::::::::::::::::::::::::         |     5620 /     6998 |      \n",
            "  85.84% ::::::::::::::::::::::::::::::::::       |     6006 /     6997 |      \b\b\b\b\b\b\b\b\b\b\b\b\b\b\b\b\b\b\b\b\b\b\b\b\b\b\b\b\b\b\b\b\b\b\b\b\b\b\b\b\b\b\b\b\b\b\b\b\b\b\b\b\b\b\b\b\b\b\b\b\b\b\b\b\b\b\b\b\b\b\b\b\b\b\b\b\b\b\b\u001bM  80.49% ::::::::::::::::::::::::::::::::         |     5633 /     6998 |      \n",
            "  86.04% ::::::::::::::::::::::::::::::::::       |     6020 /     6997 |      \b\b\b\b\b\b\b\b\b\b\b\b\b\b\b\b\b\b\b\b\b\b\b\b\b\b\b\b\b\b\b\b\b\b\b\b\b\b\b\b\b\b\b\b\b\b\b\b\b\b\b\b\b\b\b\b\b\b\b\b\b\b\b\b\b\b\b\b\b\b\b\b\b\b\b\b\b\b\b\u001bM  80.71% ::::::::::::::::::::::::::::::::         |     5648 /     6998 |      \n",
            "  86.27% ::::::::::::::::::::::::::::::::::       |     6036 /     6997 |      \b\b\b\b\b\b\b\b\b\b\b\b\b\b\b\b\b\b\b\b\b\b\b\b\b\b\b\b\b\b\b\b\b\b\b\b\b\b\b\b\b\b\b\b\b\b\b\b\b\b\b\b\b\b\b\b\b\b\b\b\b\b\b\b\b\b\b\b\b\b\b\b\b\b\b\b\b\b\b\u001bM  80.89% ::::::::::::::::::::::::::::::::         |     5661 /     6998 |      \n",
            "  86.47% ::::::::::::::::::::::::::::::::::       |     6050 /     6997 |      \b\b\b\b\b\b\b\b\b\b\b\b\b\b\b\b\b\b\b\b\b\b\b\b\b\b\b\b\b\b\b\b\b\b\b\b\b\b\b\b\b\b\b\b\b\b\b\b\b\b\b\b\b\b\b\b\b\b\b\b\b\b\b\b\b\b\b\b\b\b\b\b\b\b\b\b\b\b\b\u001bM  81.07% ::::::::::::::::::::::::::::::::         |     5673 /     6998 |      \n",
            "  86.67% ::::::::::::::::::::::::::::::::::       |     6064 /     6997 |      \b\b\b\b\b\b\b\b\b\b\b\b\b\b\b\b\b\b\b\b\b\b\b\b\b\b\b\b\b\b\b\b\b\b\b\b\b\b\b\b\b\b\b\b\b\b\b\b\b\b\b\b\b\b\b\b\b\b\b\b\b\b\b\b\b\b\b\b\b\b\b\b\b\b\b\b\b\b\b\u001bM  81.27% ::::::::::::::::::::::::::::::::         |     5687 /     6998 |      \n",
            "  86.88% ::::::::::::::::::::::::::::::::::       |     6079 /     6997 |      \b\b\b\b\b\b\b\b\b\b\b\b\b\b\b\b\b\b\b\b\b\b\b\b\b\b\b\b\b\b\b\b\b\b\b\b\b\b\b\b\b\b\b\b\b\b\b\b\b\b\b\b\b\b\b\b\b\b\b\b\b\b\b\b\b\b\b\b\b\b\b\b\b\b\b\b\b\b\b\u001bM  81.48% ::::::::::::::::::::::::::::::::         |     5702 /     6998 |      \n",
            "  87.05% ::::::::::::::::::::::::::::::::::       |     6091 /     6997 |      \b\b\b\b\b\b\b\b\b\b\b\b\b\b\b\b\b\b\b\b\b\b\b\b\b\b\b\b\b\b\b\b\b\b\b\b\b\b\b\b\b\b\b\b\b\b\b\b\b\b\b\b\b\b\b\b\b\b\b\b\b\b\b\b\b\b\b\b\b\b\b\b\b\b\b\b\b\b\b\u001bM  81.67% ::::::::::::::::::::::::::::::::         |     5715 /     6998 |      \n",
            "  87.28% ::::::::::::::::::::::::::::::::::       |     6107 /     6997 |      \b\b\b\b\b\b\b\b\b\b\b\b\b\b\b\b\b\b\b\b\b\b\b\b\b\b\b\b\b\b\b\b\b\b\b\b\b\b\b\b\b\b\b\b\b\b\b\b\b\b\b\b\b\b\b\b\b\b\b\b\b\b\b\b\b\b\b\b\b\b\b\b\b\b\b\b\b\b\b\u001bM  81.87% ::::::::::::::::::::::::::::::::         |     5729 /     6998 |      \n",
            "  87.48% ::::::::::::::::::::::::::::::::::       |     6121 /     6997 |      \b\b\b\b\b\b\b\b\b\b\b\b\b\b\b\b\b\b\b\b\b\b\b\b\b\b\b\b\b\b\b\b\b\b\b\b\b\b\b\b\b\b\b\b\b\b\b\b\b\b\b\b\b\b\b\b\b\b\b\b\b\b\b\b\b\b\b\b\b\b\b\b\b\b\b\b\b\b\b\u001bM  82.04% ::::::::::::::::::::::::::::::::         |     5741 /     6998 |      \n",
            "  87.67% :::::::::::::::::::::::::::::::::::      |     6134 /     6997 |      \b\b\b\b\b\b\b\b\b\b\b\b\b\b\b\b\b\b\b\b\b\b\b\b\b\b\b\b\b\b\b\b\b\b\b\b\b\b\b\b\b\b\b\b\b\b\b\b\b\b\b\b\b\b\b\b\b\b\b\b\b\b\b\b\b\b\b\b\b\b\b\b\b\b\b\b\b\b\b\u001bM  82.18% ::::::::::::::::::::::::::::::::         |     5751 /     6998 |      \n",
            "  87.87% :::::::::::::::::::::::::::::::::::      |     6148 /     6997 |      \b\b\b\b\b\b\b\b\b\b\b\b\b\b\b\b\b\b\b\b\b\b\b\b\b\b\b\b\b\b\b\b\b\b\b\b\b\b\b\b\b\b\b\b\b\b\b\b\b\b\b\b\b\b\b\b\b\b\b\b\b\b\b\b\b\b\b\b\b\b\b\b\b\b\b\b\b\b\b\u001bM  82.35% ::::::::::::::::::::::::::::::::         |     5763 /     6998 |      \n",
            "  88.07% :::::::::::::::::::::::::::::::::::      |     6162 /     6997 |      \b\b\b\b\b\b\b\b\b\b\b\b\b\b\b\b\b\b\b\b\b\b\b\b\b\b\b\b\b\b\b\b\b\b\b\b\b\b\b\b\b\b\b\b\b\b\b\b\b\b\b\b\b\b\b\b\b\b\b\b\b\b\b\b\b\b\b\b\b\b\b\b\b\b\b\b\b\b\b\u001bM  82.55% :::::::::::::::::::::::::::::::::        |     5777 /     6998 |      \n",
            "  88.18% :::::::::::::::::::::::::::::::::::      |     6170 /     6997 |      \b\b\b\b\b\b\b\b\b\b\b\b\b\b\b\b\b\b\b\b\b\b\b\b\b\b\b\b\b\b\b\b\b\b\b\b\b\b\b\b\b\b\b\b\b\b\b\b\b\b\b\b\b\b\b\b\b\b\b\b\b\b\b\b\b\b\b\b\b\b\b\b\b\b\b\b\b\b\b\u001bM  82.78% :::::::::::::::::::::::::::::::::        |     5793 /     6998 |      \n",
            "  88.41% :::::::::::::::::::::::::::::::::::      |     6186 /     6997 |      \b\b\b\b\b\b\b\b\b\b\b\b\b\b\b\b\b\b\b\b\b\b\b\b\b\b\b\b\b\b\b\b\b\b\b\b\b\b\b\b\b\b\b\b\b\b\b\b\b\b\b\b\b\b\b\b\b\b\b\b\b\b\b\b\b\b\b\b\b\b\b\b\b\b\b\b\b\b\b\u001bM  83.01% :::::::::::::::::::::::::::::::::        |     5809 /     6998 |      \n",
            "  88.61% :::::::::::::::::::::::::::::::::::      |     6200 /     6997 |      \b\b\b\b\b\b\b\b\b\b\b\b\b\b\b\b\b\b\b\b\b\b\b\b\b\b\b\b\b\b\b\b\b\b\b\b\b\b\b\b\b\b\b\b\b\b\b\b\b\b\b\b\b\b\b\b\b\b\b\b\b\b\b\b\b\b\b\b\b\b\b\b\b\b\b\b\b\b\b\u001bM  83.21% :::::::::::::::::::::::::::::::::        |     5823 /     6998 |      \n",
            "  88.80% :::::::::::::::::::::::::::::::::::      |     6213 /     6997 |      \b\b\b\b\b\b\b\b\b\b\b\b\b\b\b\b\b\b\b\b\b\b\b\b\b\b\b\b\b\b\b\b\b\b\b\b\b\b\b\b\b\b\b\b\b\b\b\b\b\b\b\b\b\b\b\b\b\b\b\b\b\b\b\b\b\b\b\b\b\b\b\b\b\b\b\b\b\b\b\u001bM  83.37% :::::::::::::::::::::::::::::::::        |     5834 /     6998 |      \n",
            "  88.98% :::::::::::::::::::::::::::::::::::      |     6226 /     6997 |      \b\b\b\b\b\b\b\b\b\b\b\b\b\b\b\b\b\b\b\b\b\b\b\b\b\b\b\b\b\b\b\b\b\b\b\b\b\b\b\b\b\b\b\b\b\b\b\b\b\b\b\b\b\b\b\b\b\b\b\b\b\b\b\b\b\b\b\b\b\b\b\b\b\b\b\b\b\b\b\u001bM  83.58% :::::::::::::::::::::::::::::::::        |     5849 /     6998 |      \n",
            "  89.20% :::::::::::::::::::::::::::::::::::      |     6241 /     6997 |      \b\b\b\b\b\b\b\b\b\b\b\b\b\b\b\b\b\b\b\b\b\b\b\b\b\b\b\b\b\b\b\b\b\b\b\b\b\b\b\b\b\b\b\b\b\b\b\b\b\b\b\b\b\b\b\b\b\b\b\b\b\b\b\b\b\b\b\b\b\b\b\b\b\b\b\b\b\b\b\u001bM  83.80% :::::::::::::::::::::::::::::::::        |     5864 /     6998 |      \n",
            "  89.35% :::::::::::::::::::::::::::::::::::      |     6252 /     6997 |      \b\b\b\b\b\b\b\b\b\b\b\b\b\b\b\b\b\b\b\b\b\b\b\b\b\b\b\b\b\b\b\b\b\b\b\b\b\b\b\b\b\b\b\b\b\b\b\b\b\b\b\b\b\b\b\b\b\b\b\b\b\b\b\b\b\b\b\b\b\b\b\b\b\b\b\b\b\b\b\u001bM  83.97% :::::::::::::::::::::::::::::::::        |     5876 /     6998 |      \n",
            "  89.54% :::::::::::::::::::::::::::::::::::      |     6265 /     6997 |      \b\b\b\b\b\b\b\b\b\b\b\b\b\b\b\b\b\b\b\b\b\b\b\b\b\b\b\b\b\b\b\b\b\b\b\b\b\b\b\b\b\b\b\b\b\b\b\b\b\b\b\b\b\b\b\b\b\b\b\b\b\b\b\b\b\b\b\b\b\b\b\b\b\b\b\b\b\b\b\u001bM  84.17% :::::::::::::::::::::::::::::::::        |     5890 /     6998 |      \n",
            "  89.77% :::::::::::::::::::::::::::::::::::      |     6281 /     6997 |      \b\b\b\b\b\b\b\b\b\b\b\b\b\b\b\b\b\b\b\b\b\b\b\b\b\b\b\b\b\b\b\b\b\b\b\b\b\b\b\b\b\b\b\b\b\b\b\b\b\b\b\b\b\b\b\b\b\b\b\b\b\b\b\b\b\b\b\b\b\b\b\b\b\b\b\b\b\b\b\u001bM  84.37% :::::::::::::::::::::::::::::::::        |     5904 /     6998 |      \n",
            "  89.97% :::::::::::::::::::::::::::::::::::      |     6295 /     6997 |      \b\b\b\b\b\b\b\b\b\b\b\b\b\b\b\b\b\b\b\b\b\b\b\b\b\b\b\b\b\b\b\b\b\b\b\b\b\b\b\b\b\b\b\b\b\b\b\b\b\b\b\b\b\b\b\b\b\b\b\b\b\b\b\b\b\b\b\b\b\b\b\b\b\b\b\b\b\b\b\u001bM  84.58% :::::::::::::::::::::::::::::::::        |     5919 /     6998 |      \n",
            "  90.18% ::::::::::::::::::::::::::::::::::::     |     6310 /     6997 |      \b\b\b\b\b\b\b\b\b\b\b\b\b\b\b\b\b\b\b\b\b\b\b\b\b\b\b\b\b\b\b\b\b\b\b\b\b\b\b\b\b\b\b\b\b\b\b\b\b\b\b\b\b\b\b\b\b\b\b\b\b\b\b\b\b\b\b\b\b\b\b\b\b\b\b\b\b\b\b\u001bM  84.81% :::::::::::::::::::::::::::::::::        |     5935 /     6998 |      \n",
            "  90.38% ::::::::::::::::::::::::::::::::::::     |     6324 /     6997 |      \b\b\b\b\b\b\b\b\b\b\b\b\b\b\b\b\b\b\b\b\b\b\b\b\b\b\b\b\b\b\b\b\b\b\b\b\b\b\b\b\b\b\b\b\b\b\b\b\b\b\b\b\b\b\b\b\b\b\b\b\b\b\b\b\b\b\b\b\b\b\b\b\b\b\b\b\b\b\b\u001bM  85.00% :::::::::::::::::::::::::::::::::        |     5948 /     6998 |      \n",
            "  90.57% ::::::::::::::::::::::::::::::::::::     |     6337 /     6997 |      \b\b\b\b\b\b\b\b\b\b\b\b\b\b\b\b\b\b\b\b\b\b\b\b\b\b\b\b\b\b\b\b\b\b\b\b\b\b\b\b\b\b\b\b\b\b\b\b\b\b\b\b\b\b\b\b\b\b\b\b\b\b\b\b\b\b\b\b\b\b\b\b\b\b\b\b\b\b\b\u001bM  85.15% ::::::::::::::::::::::::::::::::::       |     5959 /     6998 |      \n",
            "  90.78% ::::::::::::::::::::::::::::::::::::     |     6352 /     6997 |      \b\b\b\b\b\b\b\b\b\b\b\b\b\b\b\b\b\b\b\b\b\b\b\b\b\b\b\b\b\b\b\b\b\b\b\b\b\b\b\b\b\b\b\b\b\b\b\b\b\b\b\b\b\b\b\b\b\b\b\b\b\b\b\b\b\b\b\b\b\b\b\b\b\b\b\b\b\b\b\u001bM  85.38% ::::::::::::::::::::::::::::::::::       |     5975 /     6998 |      \n",
            "  91.00% ::::::::::::::::::::::::::::::::::::     |     6367 /     6997 |      \b\b\b\b\b\b\b\b\b\b\b\b\b\b\b\b\b\b\b\b\b\b\b\b\b\b\b\b\b\b\b\b\b\b\b\b\b\b\b\b\b\b\b\b\b\b\b\b\b\b\b\b\b\b\b\b\b\b\b\b\b\b\b\b\b\b\b\b\b\b\b\b\b\b\b\b\b\b\b\u001bM  85.58% ::::::::::::::::::::::::::::::::::       |     5989 /     6998 |      \n",
            "  91.22% ::::::::::::::::::::::::::::::::::::     |     6383 /     6997 |      \b\b\b\b\b\b\b\b\b\b\b\b\b\b\b\b\b\b\b\b\b\b\b\b\b\b\b\b\b\b\b\b\b\b\b\b\b\b\b\b\b\b\b\b\b\b\b\b\b\b\b\b\b\b\b\b\b\b\b\b\b\b\b\b\b\b\b\b\b\b\b\b\b\b\b\b\b\b\b\u001bM  85.82% ::::::::::::::::::::::::::::::::::       |     6006 /     6998 |      \n",
            "  91.44% ::::::::::::::::::::::::::::::::::::     |     6398 /     6997 |      \b\b\b\b\b\b\b\b\b\b\b\b\b\b\b\b\b\b\b\b\b\b\b\b\b\b\b\b\b\b\b\b\b\b\b\b\b\b\b\b\b\b\b\b\b\b\b\b\b\b\b\b\b\b\b\b\b\b\b\b\b\b\b\b\b\b\b\b\b\b\b\b\b\b\b\b\b\b\b\u001bM  86.04% ::::::::::::::::::::::::::::::::::       |     6021 /     6998 |      \n",
            "  91.64% ::::::::::::::::::::::::::::::::::::     |     6412 /     6997 |      \b\b\b\b\b\b\b\b\b\b\b\b\b\b\b\b\b\b\b\b\b\b\b\b\b\b\b\b\b\b\b\b\b\b\b\b\b\b\b\b\b\b\b\b\b\b\b\b\b\b\b\b\b\b\b\b\b\b\b\b\b\b\b\b\b\b\b\b\b\b\b\b\b\b\b\b\b\b\b\u001bM  86.25% ::::::::::::::::::::::::::::::::::       |     6036 /     6998 |      \n",
            "  91.87% ::::::::::::::::::::::::::::::::::::     |     6428 /     6997 |      \b\b\b\b\b\b\b\b\b\b\b\b\b\b\b\b\b\b\b\b\b\b\b\b\b\b\b\b\b\b\b\b\b\b\b\b\b\b\b\b\b\b\b\b\b\b\b\b\b\b\b\b\b\b\b\b\b\b\b\b\b\b\b\b\b\b\b\b\b\b\b\b\b\b\b\b\b\b\b\u001bM  86.40% ::::::::::::::::::::::::::::::::::       |     6046 /     6998 |      \n",
            "  92.08% ::::::::::::::::::::::::::::::::::::     |     6443 /     6997 |      \b\b\b\b\b\b\b\b\b\b\b\b\b\b\b\b\b\b\b\b\b\b\b\b\b\b\b\b\b\b\b\b\b\b\b\b\b\b\b\b\b\b\b\b\b\b\b\b\b\b\b\b\b\b\b\b\b\b\b\b\b\b\b\b\b\b\b\b\b\b\b\b\b\b\b\b\b\b\b\u001bM  86.54% ::::::::::::::::::::::::::::::::::       |     6056 /     6998 |      \n",
            "  92.31% ::::::::::::::::::::::::::::::::::::     |     6459 /     6997 |      \b\b\b\b\b\b\b\b\b\b\b\b\b\b\b\b\b\b\b\b\b\b\b\b\b\b\b\b\b\b\b\b\b\b\b\b\b\b\b\b\b\b\b\b\b\b\b\b\b\b\b\b\b\b\b\b\b\b\b\b\b\b\b\b\b\b\b\b\b\b\b\b\b\b\b\b\b\b\b\u001bM  86.71% ::::::::::::::::::::::::::::::::::       |     6068 /     6998 |      \n",
            "  92.48% ::::::::::::::::::::::::::::::::::::     |     6471 /     6997 |      \b\b\b\b\b\b\b\b\b\b\b\b\b\b\b\b\b\b\b\b\b\b\b\b\b\b\b\b\b\b\b\b\b\b\b\b\b\b\b\b\b\b\b\b\b\b\b\b\b\b\b\b\b\b\b\b\b\b\b\b\b\b\b\b\b\b\b\b\b\b\b\b\b\b\b\b\b\b\b\u001bM  86.87% ::::::::::::::::::::::::::::::::::       |     6079 /     6998 |      \n",
            "  92.64% :::::::::::::::::::::::::::::::::::::    |     6482 /     6997 |      \b\b\b\b\b\b\b\b\b\b\b\b\b\b\b\b\b\b\b\b\b\b\b\b\b\b\b\b\b\b\b\b\b\b\b\b\b\b\b\b\b\b\b\b\b\b\b\b\b\b\b\b\b\b\b\b\b\b\b\b\b\b\b\b\b\b\b\b\b\b\b\b\b\b\b\b\b\b\b\u001bM  87.10% ::::::::::::::::::::::::::::::::::       |     6095 /     6998 |      \n",
            "  92.80% :::::::::::::::::::::::::::::::::::::    |     6493 /     6997 |      \b\b\b\b\b\b\b\b\b\b\b\b\b\b\b\b\b\b\b\b\b\b\b\b\b\b\b\b\b\b\b\b\b\b\b\b\b\b\b\b\b\b\b\b\b\b\b\b\b\b\b\b\b\b\b\b\b\b\b\b\b\b\b\b\b\b\b\b\b\b\b\b\b\b\b\b\b\b\b\u001bM  87.32% ::::::::::::::::::::::::::::::::::       |     6111 /     6998 |      \n",
            "  93.03% :::::::::::::::::::::::::::::::::::::    |     6509 /     6997 |      \b\b\b\b\b\b\b\b\b\b\b\b\b\b\b\b\b\b\b\b\b\b\b\b\b\b\b\b\b\b\b\b\b\b\b\b\b\b\b\b\b\b\b\b\b\b\b\b\b\b\b\b\b\b\b\b\b\b\b\b\b\b\b\b\b\b\b\b\b\b\b\b\b\b\b\b\b\b\b\u001bM  87.53% :::::::::::::::::::::::::::::::::::      |     6125 /     6998 |      \n",
            "  93.23% :::::::::::::::::::::::::::::::::::::    |     6523 /     6997 |      \b\b\b\b\b\b\b\b\b\b\b\b\b\b\b\b\b\b\b\b\b\b\b\b\b\b\b\b\b\b\b\b\b\b\b\b\b\b\b\b\b\b\b\b\b\b\b\b\b\b\b\b\b\b\b\b\b\b\b\b\b\b\b\b\b\b\b\b\b\b\b\b\b\b\b\b\b\b\b\u001bM  87.75% :::::::::::::::::::::::::::::::::::      |     6141 /     6998 |      \n",
            "  93.44% :::::::::::::::::::::::::::::::::::::    |     6538 /     6997 |      \b\b\b\b\b\b\b\b\b\b\b\b\b\b\b\b\b\b\b\b\b\b\b\b\b\b\b\b\b\b\b\b\b\b\b\b\b\b\b\b\b\b\b\b\b\b\b\b\b\b\b\b\b\b\b\b\b\b\b\b\b\b\b\b\b\b\b\b\b\b\b\b\b\b\b\b\b\b\b\u001bM  87.97% :::::::::::::::::::::::::::::::::::      |     6156 /     6998 |      \n",
            "  93.67% :::::::::::::::::::::::::::::::::::::    |     6554 /     6997 |      \b\b\b\b\b\b\b\b\b\b\b\b\b\b\b\b\b\b\b\b\b\b\b\b\b\b\b\b\b\b\b\b\b\b\b\b\b\b\b\b\b\b\b\b\b\b\b\b\b\b\b\b\b\b\b\b\b\b\b\b\b\b\b\b\b\b\b\b\b\b\b\b\b\b\b\b\b\b\b\u001bM  88.15% :::::::::::::::::::::::::::::::::::      |     6169 /     6998 |      \n",
            "  93.88% :::::::::::::::::::::::::::::::::::::    |     6569 /     6997 |      \b\b\b\b\b\b\b\b\b\b\b\b\b\b\b\b\b\b\b\b\b\b\b\b\b\b\b\b\b\b\b\b\b\b\b\b\b\b\b\b\b\b\b\b\b\b\b\b\b\b\b\b\b\b\b\b\b\b\b\b\b\b\b\b\b\b\b\b\b\b\b\b\b\b\b\b\b\b\b\u001bM  88.25% :::::::::::::::::::::::::::::::::::      |     6176 /     6998 |      \n",
            "  94.10% :::::::::::::::::::::::::::::::::::::    |     6584 /     6997 |      \b\b\b\b\b\b\b\b\b\b\b\b\b\b\b\b\b\b\b\b\b\b\b\b\b\b\b\b\b\b\b\b\b\b\b\b\b\b\b\b\b\b\b\b\b\b\b\b\b\b\b\b\b\b\b\b\b\b\b\b\b\b\b\b\b\b\b\b\b\b\b\b\b\b\b\b\b\b\b\u001bM  88.47% :::::::::::::::::::::::::::::::::::      |     6191 /     6998 |      \n",
            "  94.31% :::::::::::::::::::::::::::::::::::::    |     6599 /     6997 |      \b\b\b\b\b\b\b\b\b\b\b\b\b\b\b\b\b\b\b\b\b\b\b\b\b\b\b\b\b\b\b\b\b\b\b\b\b\b\b\b\b\b\b\b\b\b\b\b\b\b\b\b\b\b\b\b\b\b\b\b\b\b\b\b\b\b\b\b\b\b\b\b\b\b\b\b\b\b\b\u001bM  88.70% :::::::::::::::::::::::::::::::::::      |     6207 /     6998 |      \n",
            "  94.51% :::::::::::::::::::::::::::::::::::::    |     6613 /     6997 |      \b\b\b\b\b\b\b\b\b\b\b\b\b\b\b\b\b\b\b\b\b\b\b\b\b\b\b\b\b\b\b\b\b\b\b\b\b\b\b\b\b\b\b\b\b\b\b\b\b\b\b\b\b\b\b\b\b\b\b\b\b\b\b\b\b\b\b\b\b\b\b\b\b\b\b\b\b\b\b\u001bM  88.91% :::::::::::::::::::::::::::::::::::      |     6222 /     6998 |      \n",
            "  94.70% :::::::::::::::::::::::::::::::::::::    |     6626 /     6997 |      \b\b\b\b\b\b\b\b\b\b\b\b\b\b\b\b\b\b\b\b\b\b\b\b\b\b\b\b\b\b\b\b\b\b\b\b\b\b\b\b\b\b\b\b\b\b\b\b\b\b\b\b\b\b\b\b\b\b\b\b\b\b\b\b\b\b\b\b\b\b\b\b\b\b\b\b\b\b\b\u001bM  89.14% :::::::::::::::::::::::::::::::::::      |     6238 /     6998 |      \n",
            "  94.87% :::::::::::::::::::::::::::::::::::::    |     6638 /     6997 |      \b\b\b\b\b\b\b\b\b\b\b\b\b\b\b\b\b\b\b\b\b\b\b\b\b\b\b\b\b\b\b\b\b\b\b\b\b\b\b\b\b\b\b\b\b\b\b\b\b\b\b\b\b\b\b\b\b\b\b\b\b\b\b\b\b\b\b\b\b\b\b\b\b\b\b\b\b\b\b\u001bM  89.37% :::::::::::::::::::::::::::::::::::      |     6254 /     6998 |      \n",
            "  95.03% ::::::::::::::::::::::::::::::::::::::   |     6649 /     6997 |      \b\b\b\b\b\b\b\b\b\b\b\b\b\b\b\b\b\b\b\b\b\b\b\b\b\b\b\b\b\b\b\b\b\b\b\b\b\b\b\b\b\b\b\b\b\b\b\b\b\b\b\b\b\b\b\b\b\b\b\b\b\b\b\b\b\b\b\b\b\b\b\b\b\b\b\b\b\b\b\u001bM  89.61% :::::::::::::::::::::::::::::::::::      |     6271 /     6998 |      \n",
            "  95.21% ::::::::::::::::::::::::::::::::::::::   |     6662 /     6997 |      \b\b\b\b\b\b\b\b\b\b\b\b\b\b\b\b\b\b\b\b\b\b\b\b\b\b\b\b\b\b\b\b\b\b\b\b\b\b\b\b\b\b\b\b\b\b\b\b\b\b\b\b\b\b\b\b\b\b\b\b\b\b\b\b\b\b\b\b\b\b\b\b\b\b\b\b\b\b\b\u001bM  89.80% :::::::::::::::::::::::::::::::::::      |     6284 /     6998 |      \n",
            "  95.43% ::::::::::::::::::::::::::::::::::::::   |     6677 /     6997 |      \b\b\b\b\b\b\b\b\b\b\b\b\b\b\b\b\b\b\b\b\b\b\b\b\b\b\b\b\b\b\b\b\b\b\b\b\b\b\b\b\b\b\b\b\b\b\b\b\b\b\b\b\b\b\b\b\b\b\b\b\b\b\b\b\b\b\b\b\b\b\b\b\b\b\b\b\b\b\b\u001bM  90.00% :::::::::::::::::::::::::::::::::::      |     6298 /     6998 |      \n",
            "  95.64% ::::::::::::::::::::::::::::::::::::::   |     6692 /     6997 |      \b\b\b\b\b\b\b\b\b\b\b\b\b\b\b\b\b\b\b\b\b\b\b\b\b\b\b\b\b\b\b\b\b\b\b\b\b\b\b\b\b\b\b\b\b\b\b\b\b\b\b\b\b\b\b\b\b\b\b\b\b\b\b\b\b\b\b\b\b\b\b\b\b\b\b\b\b\b\b\u001bM  90.23% ::::::::::::::::::::::::::::::::::::     |     6314 /     6998 |      \n",
            "  95.86% ::::::::::::::::::::::::::::::::::::::   |     6707 /     6997 |      \b\b\b\b\b\b\b\b\b\b\b\b\b\b\b\b\b\b\b\b\b\b\b\b\b\b\b\b\b\b\b\b\b\b\b\b\b\b\b\b\b\b\b\b\b\b\b\b\b\b\b\b\b\b\b\b\b\b\b\b\b\b\b\b\b\b\b\b\b\b\b\b\b\b\b\b\b\b\b\u001bM  90.44% ::::::::::::::::::::::::::::::::::::     |     6329 /     6998 |      \n",
            "  96.07% ::::::::::::::::::::::::::::::::::::::   |     6722 /     6997 |      \b\b\b\b\b\b\b\b\b\b\b\b\b\b\b\b\b\b\b\b\b\b\b\b\b\b\b\b\b\b\b\b\b\b\b\b\b\b\b\b\b\b\b\b\b\b\b\b\b\b\b\b\b\b\b\b\b\b\b\b\b\b\b\b\b\b\b\b\b\b\b\b\b\b\b\b\b\b\b\u001bM  90.64% ::::::::::::::::::::::::::::::::::::     |     6343 /     6998 |      \n",
            "  96.27% ::::::::::::::::::::::::::::::::::::::   |     6736 /     6997 |      \b\b\b\b\b\b\b\b\b\b\b\b\b\b\b\b\b\b\b\b\b\b\b\b\b\b\b\b\b\b\b\b\b\b\b\b\b\b\b\b\b\b\b\b\b\b\b\b\b\b\b\b\b\b\b\b\b\b\b\b\b\b\b\b\b\b\b\b\b\b\b\b\b\b\b\b\b\b\b\u001bM  90.84% ::::::::::::::::::::::::::::::::::::     |     6357 /     6998 |      \n",
            "  96.44% ::::::::::::::::::::::::::::::::::::::   |     6748 /     6997 |      \b\b\b\b\b\b\b\b\b\b\b\b\b\b\b\b\b\b\b\b\b\b\b\b\b\b\b\b\b\b\b\b\b\b\b\b\b\b\b\b\b\b\b\b\b\b\b\b\b\b\b\b\b\b\b\b\b\b\b\b\b\b\b\b\b\b\b\b\b\b\b\b\b\b\b\b\b\b\b\u001bM  91.04% ::::::::::::::::::::::::::::::::::::     |     6371 /     6998 |      \n",
            "  96.66% ::::::::::::::::::::::::::::::::::::::   |     6763 /     6997 |      \b\b\b\b\b\b\b\b\b\b\b\b\b\b\b\b\b\b\b\b\b\b\b\b\b\b\b\b\b\b\b\b\b\b\b\b\b\b\b\b\b\b\b\b\b\b\b\b\b\b\b\b\b\b\b\b\b\b\b\b\b\b\b\b\b\b\b\b\b\b\b\b\b\b\b\b\b\b\b\u001bM  91.27% ::::::::::::::::::::::::::::::::::::     |     6387 /     6998 |      \n",
            "  96.87% ::::::::::::::::::::::::::::::::::::::   |     6778 /     6997 |      \b\b\b\b\b\b\b\b\b\b\b\b\b\b\b\b\b\b\b\b\b\b\b\b\b\b\b\b\b\b\b\b\b\b\b\b\b\b\b\b\b\b\b\b\b\b\b\b\b\b\b\b\b\b\b\b\b\b\b\b\b\b\b\b\b\b\b\b\b\b\b\b\b\b\b\b\b\b\b\u001bM  91.41% ::::::::::::::::::::::::::::::::::::     |     6397 /     6998 |      \n",
            "  97.06% ::::::::::::::::::::::::::::::::::::::   |     6791 /     6997 |      \b\b\b\b\b\b\b\b\b\b\b\b\b\b\b\b\b\b\b\b\b\b\b\b\b\b\b\b\b\b\b\b\b\b\b\b\b\b\b\b\b\b\b\b\b\b\b\b\b\b\b\b\b\b\b\b\b\b\b\b\b\b\b\b\b\b\b\b\b\b\b\b\b\b\b\b\b\b\b\u001bM  91.61% ::::::::::::::::::::::::::::::::::::     |     6411 /     6998 |      \n",
            "  97.27% ::::::::::::::::::::::::::::::::::::::   |     6806 /     6997 |      \b\b\b\b\b\b\b\b\b\b\b\b\b\b\b\b\b\b\b\b\b\b\b\b\b\b\b\b\b\b\b\b\b\b\b\b\b\b\b\b\b\b\b\b\b\b\b\b\b\b\b\b\b\b\b\b\b\b\b\b\b\b\b\b\b\b\b\b\b\b\b\b\b\b\b\b\b\b\b\u001bM  91.80% ::::::::::::::::::::::::::::::::::::     |     6424 /     6998 |      \n",
            "  97.44% ::::::::::::::::::::::::::::::::::::::   |     6818 /     6997 |      \b\b\b\b\b\b\b\b\b\b\b\b\b\b\b\b\b\b\b\b\b\b\b\b\b\b\b\b\b\b\b\b\b\b\b\b\b\b\b\b\b\b\b\b\b\b\b\b\b\b\b\b\b\b\b\b\b\b\b\b\b\b\b\b\b\b\b\b\b\b\b\b\b\b\b\b\b\b\b\u001bM  92.01% ::::::::::::::::::::::::::::::::::::     |     6439 /     6998 |      \n",
            "  97.63% :::::::::::::::::::::::::::::::::::::::  |     6831 /     6997 |      \b\b\b\b\b\b\b\b\b\b\b\b\b\b\b\b\b\b\b\b\b\b\b\b\b\b\b\b\b\b\b\b\b\b\b\b\b\b\b\b\b\b\b\b\b\b\b\b\b\b\b\b\b\b\b\b\b\b\b\b\b\b\b\b\b\b\b\b\b\b\b\b\b\b\b\b\b\b\b\u001bM  92.18% ::::::::::::::::::::::::::::::::::::     |     6451 /     6998 |      \n",
            "  97.86% :::::::::::::::::::::::::::::::::::::::  |     6847 /     6997 |      \b\b\b\b\b\b\b\b\b\b\b\b\b\b\b\b\b\b\b\b\b\b\b\b\b\b\b\b\b\b\b\b\b\b\b\b\b\b\b\b\b\b\b\b\b\b\b\b\b\b\b\b\b\b\b\b\b\b\b\b\b\b\b\b\b\b\b\b\b\b\b\b\b\b\b\b\b\b\b\u001bM  92.40% ::::::::::::::::::::::::::::::::::::     |     6466 /     6998 |      \n",
            "  98.03% :::::::::::::::::::::::::::::::::::::::  |     6859 /     6997 |      \b\b\b\b\b\b\b\b\b\b\b\b\b\b\b\b\b\b\b\b\b\b\b\b\b\b\b\b\b\b\b\b\b\b\b\b\b\b\b\b\b\b\b\b\b\b\b\b\b\b\b\b\b\b\b\b\b\b\b\b\b\b\b\b\b\b\b\b\b\b\b\b\b\b\b\b\b\b\b\u001bM  92.56% :::::::::::::::::::::::::::::::::::::    |     6477 /     6998 |      \n",
            "  98.24% :::::::::::::::::::::::::::::::::::::::  |     6874 /     6997 |      \b\b\b\b\b\b\b\b\b\b\b\b\b\b\b\b\b\b\b\b\b\b\b\b\b\b\b\b\b\b\b\b\b\b\b\b\b\b\b\b\b\b\b\b\b\b\b\b\b\b\b\b\b\b\b\b\b\b\b\b\b\b\b\b\b\b\b\b\b\b\b\b\b\b\b\b\b\b\b\u001bM  92.76% :::::::::::::::::::::::::::::::::::::    |     6491 /     6998 |      \n",
            "  98.41% :::::::::::::::::::::::::::::::::::::::  |     6886 /     6997 |      \b\b\b\b\b\b\b\b\b\b\b\b\b\b\b\b\b\b\b\b\b\b\b\b\b\b\b\b\b\b\b\b\b\b\b\b\b\b\b\b\b\b\b\b\b\b\b\b\b\b\b\b\b\b\b\b\b\b\b\b\b\b\b\b\b\b\b\b\b\b\b\b\b\b\b\b\b\b\b\u001bM  92.88% :::::::::::::::::::::::::::::::::::::    |     6500 /     6998 |      \n",
            "  98.59% :::::::::::::::::::::::::::::::::::::::  |     6898 /     6997 |      \b\b\b\b\b\b\b\b\b\b\b\b\b\b\b\b\b\b\b\b\b\b\b\b\b\b\b\b\b\b\b\b\b\b\b\b\b\b\b\b\b\b\b\b\b\b\b\b\b\b\b\b\b\b\b\b\b\b\b\b\b\b\b\b\b\b\b\b\b\b\b\b\b\b\b\b\b\b\b\u001bM  93.04% :::::::::::::::::::::::::::::::::::::    |     6511 /     6998 |      \n",
            "  98.79% :::::::::::::::::::::::::::::::::::::::  |     6912 /     6997 |      \b\b\b\b\b\b\b\b\b\b\b\b\b\b\b\b\b\b\b\b\b\b\b\b\b\b\b\b\b\b\b\b\b\b\b\b\b\b\b\b\b\b\b\b\b\b\b\b\b\b\b\b\b\b\b\b\b\b\b\b\b\b\b\b\b\b\b\b\b\b\b\b\b\b\b\b\b\b\b\u001bM  93.24% :::::::::::::::::::::::::::::::::::::    |     6525 /     6998 |      \n",
            "  98.94% :::::::::::::::::::::::::::::::::::::::  |     6923 /     6997 |      \b\b\b\b\b\b\b\b\b\b\b\b\b\b\b\b\b\b\b\b\b\b\b\b\b\b\b\b\b\b\b\b\b\b\b\b\b\b\b\b\b\b\b\b\b\b\b\b\b\b\b\b\b\b\b\b\b\b\b\b\b\b\b\b\b\b\b\b\b\b\b\b\b\b\b\b\b\b\b\u001bM  93.44% :::::::::::::::::::::::::::::::::::::    |     6539 /     6998 |      \n",
            "  99.14% :::::::::::::::::::::::::::::::::::::::  |     6937 /     6997 |      \b\b\b\b\b\b\b\b\b\b\b\b\b\b\b\b\b\b\b\b\b\b\b\b\b\b\b\b\b\b\b\b\b\b\b\b\b\b\b\b\b\b\b\b\b\b\b\b\b\b\b\b\b\b\b\b\b\b\b\b\b\b\b\b\b\b\b\b\b\b\b\b\b\b\b\b\b\b\b\u001bM  93.64% :::::::::::::::::::::::::::::::::::::    |     6553 /     6998 |      \n",
            "  99.34% :::::::::::::::::::::::::::::::::::::::  |     6951 /     6997 |      \b\b\b\b\b\b\b\b\b\b\b\b\b\b\b\b\b\b\b\b\b\b\b\b\b\b\b\b\b\b\b\b\b\b\b\b\b\b\b\b\b\b\b\b\b\b\b\b\b\b\b\b\b\b\b\b\b\b\b\b\b\b\b\b\b\b\b\b\b\b\b\b\b\b\b\b\b\b\b\u001bM  93.87% :::::::::::::::::::::::::::::::::::::    |     6569 /     6998 |      \n",
            "  99.51% :::::::::::::::::::::::::::::::::::::::  |     6963 /     6997 |      \b\b\b\b\b\b\b\b\b\b\b\b\b\b\b\b\b\b\b\b\b\b\b\b\b\b\b\b\b\b\b\b\b\b\b\b\b\b\b\b\b\b\b\b\b\b\b\b\b\b\b\b\b\b\b\b\b\b\b\b\b\b\b\b\b\b\b\b\b\b\b\b\b\b\b\b\b\b\b\u001bM  94.07% :::::::::::::::::::::::::::::::::::::    |     6583 /     6998 |      \n",
            "  99.69% :::::::::::::::::::::::::::::::::::::::  |     6975 /     6997 |      \b\b\b\b\b\b\b\b\b\b\b\b\b\b\b\b\b\b\b\b\b\b\b\b\b\b\b\b\b\b\b\b\b\b\b\b\b\b\b\b\b\b\b\b\b\b\b\b\b\b\b\b\b\b\b\b\b\b\b\b\b\b\b\b\b\b\b\b\b\b\b\b\b\b\b\b\b\b\b\u001bM  94.28% :::::::::::::::::::::::::::::::::::::    |     6598 /     6998 |      \n",
            "  99.91% :::::::::::::::::::::::::::::::::::::::  |     6991 /     6997 |      \b\b\b\b\b\b\b\b\b\b\b\b\b\b\b\b\b\b\b\b\b\b\b\b\b\b\b\b\b\b\b\b\b\b\b\b\b\b\b\b\b\b\b\b\b\b\b\b\b\b\b\b\b\b\b\b\b\b\b\b\b\b\b\b\b\b\b\b\b\b\b\b\b\b\b\b\b\b\b\u001bM  94.28% :::::::::::::::::::::::::::::::::::::    |     6598 /     6998 |      \n",
            " 100.00% :::::::::::::::::::::::::::::::::::::::: |     6997 /     6997 |      \b\b\b\b\b\b\b\b\b\b\b\b\b\b\b\b\b\b\b\b\b\b\b\b\b\b\b\b\b\b\b\b\b\b\b\b\b\b\b\b\b\b\b\b\b\b\b\b\b\b\b\b\b\b\b\b\b\b\b\b\b\b\b\b\b\b\b\b\b\b\b\b\b\b\b\b\b\b\b\u001bM  94.76% :::::::::::::::::::::::::::::::::::::    |     6631 /     6998 |      \n",
            " 100.00% :::::::::::::::::::::::::::::::::::::::: |     6997 /     6997 |      \b\b\b\b\b\b\b\b\b\b\b\b\b\b\b\b\b\b\b\b\b\b\b\b\b\b\b\b\b\b\b\b\b\b\b\b\b\b\b\b\b\b\b\b\b\b\b\b\b\b\b\b\b\b\b\b\b\b\b\b\b\b\b\b\b\b\b\b\b\b\b\b\b\b\b\b\b\b\b\u001bM  95.37% ::::::::::::::::::::::::::::::::::::::   |     6674 /     6998 |      \n",
            " 100.00% :::::::::::::::::::::::::::::::::::::::: |     6997 /     6997 |      \b\b\b\b\b\b\b\b\b\b\b\b\b\b\b\b\b\b\b\b\b\b\b\b\b\b\b\b\b\b\b\b\b\b\b\b\b\b\b\b\b\b\b\b\b\b\b\b\b\b\b\b\b\b\b\b\b\b\b\b\b\b\b\b\b\b\b\b\b\b\b\b\b\b\b\b\b\b\b\u001bM  96.06% ::::::::::::::::::::::::::::::::::::::   |     6722 /     6998 |      \n",
            " 100.00% :::::::::::::::::::::::::::::::::::::::: |     6997 /     6997 |      \b\b\b\b\b\b\b\b\b\b\b\b\b\b\b\b\b\b\b\b\b\b\b\b\b\b\b\b\b\b\b\b\b\b\b\b\b\b\b\b\b\b\b\b\b\b\b\b\b\b\b\b\b\b\b\b\b\b\b\b\b\b\b\b\b\b\b\b\b\b\b\b\b\b\b\b\b\b\b\u001bM  96.66% ::::::::::::::::::::::::::::::::::::::   |     6764 /     6998 |      \n",
            " 100.00% :::::::::::::::::::::::::::::::::::::::: |     6997 /     6997 |      \b\b\b\b\b\b\b\b\b\b\b\b\b\b\b\b\b\b\b\b\b\b\b\b\b\b\b\b\b\b\b\b\b\b\b\b\b\b\b\b\b\b\b\b\b\b\b\b\b\b\b\b\b\b\b\b\b\b\b\b\b\b\b\b\b\b\b\b\b\b\b\b\b\b\b\b\b\b\b\u001bM  97.21% ::::::::::::::::::::::::::::::::::::::   |     6803 /     6998 |      \n",
            " 100.00% :::::::::::::::::::::::::::::::::::::::: |     6997 /     6997 |      \b\b\b\b\b\b\b\b\b\b\b\b\b\b\b\b\b\b\b\b\b\b\b\b\b\b\b\b\b\b\b\b\b\b\b\b\b\b\b\b\b\b\b\b\b\b\b\b\b\b\b\b\b\b\b\b\b\b\b\b\b\b\b\b\b\b\b\b\b\b\b\b\b\b\b\b\b\b\b\u001bM  97.74% :::::::::::::::::::::::::::::::::::::::  |     6840 /     6998 |      \n",
            " 100.00% :::::::::::::::::::::::::::::::::::::::: |     6997 /     6997 |      \b\b\b\b\b\b\b\b\b\b\b\b\b\b\b\b\b\b\b\b\b\b\b\b\b\b\b\b\b\b\b\b\b\b\b\b\b\b\b\b\b\b\b\b\b\b\b\b\b\b\b\b\b\b\b\b\b\b\b\b\b\b\b\b\b\b\b\b\b\b\b\b\b\b\b\b\b\b\b\u001bM  98.33% :::::::::::::::::::::::::::::::::::::::  |     6881 /     6998 |      \n",
            " 100.00% :::::::::::::::::::::::::::::::::::::::: |     6997 /     6997 |      \b\b\b\b\b\b\b\b\b\b\b\b\b\b\b\b\b\b\b\b\b\b\b\b\b\b\b\b\b\b\b\b\b\b\b\b\b\b\b\b\b\b\b\b\b\b\b\b\b\b\b\b\b\b\b\b\b\b\b\b\b\b\b\b\b\b\b\b\b\b\b\b\b\b\b\b\b\b\b\u001bM  98.93% :::::::::::::::::::::::::::::::::::::::  |     6923 /     6998 |      \n",
            " 100.00% :::::::::::::::::::::::::::::::::::::::: |     6997 /     6997 |      \b\b\b\b\b\b\b\b\b\b\b\b\b\b\b\b\b\b\b\b\b\b\b\b\b\b\b\b\b\b\b\b\b\b\b\b\b\b\b\b\b\b\b\b\b\b\b\b\b\b\b\b\b\b\b\b\b\b\b\b\b\b\b\b\b\b\b\b\b\b\b\b\b\b\b\b\b\b\b\u001bM  99.56% :::::::::::::::::::::::::::::::::::::::  |     6967 /     6998 |      \n",
            " 100.00% :::::::::::::::::::::::::::::::::::::::: |     6997 /     6997 |      \b\b\b\b\b\b\b\b\b\b\b\b\b\b\b\b\b\b\b\b\b\b\b\b\b\b\b\b\b\b\b\b\b\b\b\b\b\b\b\b\b\b\b\b\b\b\b\b\b\b\b\b\b\b\b\b\b\b\b\b\b\b\b\b\b\b\b\b\b\b\b\b\b\b\b\b\b\b\b\u001bM 100.00% :::::::::::::::::::::::::::::::::::::::: |     6998 /     6998 |      \n",
            " 100.00% :::::::::::::::::::::::::::::::::::::::: |     6997 /     6997 |      CPU times: user 2.42 s, sys: 438 ms, total: 2.86 s\n",
            "Wall time: 2min 8s\n"
          ],
          "name": "stdout"
        }
      ]
    },
    {
      "cell_type": "markdown",
      "metadata": {
        "id": "WS7vTVqnzGd_"
      },
      "source": [
        "### Use the corpora class to prep your data for LDA\n",
        "\n",
        "You'll need to create the same `id2word` and `corpus` objects that we created in the guided projects. So be sure to reference the guided project notebook if you need to. "
      ]
    },
    {
      "cell_type": "code",
      "metadata": {
        "colab": {
          "base_uri": "https://localhost:8080/"
        },
        "id": "FdCWVdAYCeV3",
        "outputId": "d811c451-4ec4-4c9c-9a28-4f3e8269b59d"
      },
      "source": [
        "df_electronics['lemmas'][8343]"
      ],
      "execution_count": 17,
      "outputs": [
        {
          "output_type": "execute_result",
          "data": {
            "text/plain": [
              "['great', 'case', 'place', 'husband', 'love', 'hold', 'lot', 'cd']"
            ]
          },
          "metadata": {
            "tags": []
          },
          "execution_count": 17
        }
      ]
    },
    {
      "cell_type": "code",
      "metadata": {
        "deletable": false,
        "nbgrader": {
          "cell_type": "code",
          "checksum": "53bf811aebb39e7ed6fc592851f82f8b",
          "grade": false,
          "grade_id": "cell-9d92f28649aa999e",
          "locked": false,
          "schema_version": 3,
          "solution": true,
          "task": false
        },
        "id": "7paL9zS7zGd_"
      },
      "source": [
        "# Create lemma dictionary using Dictionary - save result to `id2word`\n",
        "id2word = corpora.Dictionary(df_electronics['lemmas'])\n",
        "\n",
        "# Create Term Document Frequency list - save result to `corpus`\n",
        "corpus = [id2word.doc2bow(text) for text in df_electronics['lemmas']]"
      ],
      "execution_count": 19,
      "outputs": []
    },
    {
      "cell_type": "markdown",
      "metadata": {
        "id": "vtmHceiazGd_"
      },
      "source": [
        "## Gridsearch the number of topics \n",
        "\n",
        "Just as we did in the guided project, we're going to run a for loop over a range of possible number of topics and then plot the coherence values to determine which number of topics leads to the most sensible grouping of documents. "
      ]
    },
    {
      "cell_type": "code",
      "metadata": {
        "id": "FBICFYD4zGeA"
      },
      "source": [
        "def compute_coherence_values(dictionary, corpus, texts, limit, start=2, step=3):\n",
        "    \"\"\"\n",
        "    Compute c_v coherence for various number of topics\n",
        "\n",
        "    Parameters:\n",
        "    ----------\n",
        "    dictionary : Gensim dictionary\n",
        "    corpus : Gensim corpus\n",
        "    texts : List of input texts\n",
        "    limit : Max num of topics\n",
        "\n",
        "    Returns:\n",
        "    -------\n",
        "    model_list : List of LDA topic models\n",
        "    coherence_values : Coherence values corresponding to the LDA model with respective number of topics\n",
        "    \"\"\"\n",
        "    coherence_values = []\n",
        "    model_list = []\n",
        "    for num_topics in range(start, limit, step):\n",
        "        model = gensim.models.ldamulticore.LdaMulticore(corpus=corpus,\n",
        "                                                        id2word=id2word,\n",
        "                                                        num_topics=num_topics, \n",
        "                                                        chunksize=100,\n",
        "                                                        passes=10,\n",
        "                                                        random_state=1234,\n",
        "                                                        per_word_topics=True,\n",
        "                                                        workers=2)\n",
        "        model_list.append(model)\n",
        "        coherencemodel = CoherenceModel(model=model, texts=texts, dictionary=dictionary, coherence='c_v')\n",
        "        coherence_values.append(coherencemodel.get_coherence())\n",
        "\n",
        "    return model_list, coherence_values"
      ],
      "execution_count": 20,
      "outputs": []
    },
    {
      "cell_type": "code",
      "metadata": {
        "colab": {
          "base_uri": "https://localhost:8080/"
        },
        "id": "bwSopZ-ozGeA",
        "outputId": "a820d5ac-ddfa-4712-88c3-de0e824b04c4"
      },
      "source": [
        "%%time\n",
        "model_list, coherence_values = compute_coherence_values(dictionary=id2word, corpus=corpus, texts=df_electronics['lemmas'], start=2, limit=22, step=2)"
      ],
      "execution_count": 21,
      "outputs": [
        {
          "output_type": "stream",
          "text": [
            "CPU times: user 4min 28s, sys: 40 s, total: 5min 8s\n",
            "Wall time: 10min 44s\n"
          ],
          "name": "stdout"
        }
      ]
    },
    {
      "cell_type": "code",
      "metadata": {
        "colab": {
          "base_uri": "https://localhost:8080/",
          "height": 294
        },
        "id": "_3u0ybyNzGeB",
        "outputId": "fe4f342d-41b1-47b6-bb2c-5542dc829b52"
      },
      "source": [
        "start=2; limit=22;  step=2;\n",
        "x = range(start, limit, step)\n",
        "\n",
        "plt.figure(figsize=(20,5))\n",
        "plt.grid()\n",
        "plt.title(\"Coherence Score vs. Number of Topics\")\n",
        "plt.xticks(x)\n",
        "plt.plot(x, coherence_values, \"-o\")\n",
        "\n",
        "plt.xlabel(\"Num Topics\")\n",
        "plt.ylabel(\"Coherence score\")\n",
        "\n",
        "plt.show();"
      ],
      "execution_count": 22,
      "outputs": [
        {
          "output_type": "display_data",
          "data": {
            "image/png": "[encoded data removed]",
            "text/plain": [
              "<Figure size 1440x360 with 1 Axes>"
            ]
          },
          "metadata": {
            "tags": [],
            "needs_background": "light"
          }
        }
      ]
    },
    {
      "cell_type": "code",
      "metadata": {
        "deletable": false,
        "nbgrader": {
          "cell_type": "code",
          "checksum": "45f72ff929ab8b765d0f0b5f35137f0d",
          "grade": false,
          "grade_id": "cell-e97661faebf1ac3c",
          "locked": false,
          "schema_version": 3,
          "solution": true,
          "task": false
        },
        "id": "1Qx7OVX-zGeB"
      },
      "source": [
        "# use np.argmax() to get index of largest coherence value from coherence_values - save result to `max_cohereance_val_index`\n",
        "\n",
        "# use `max_cohereance_val_index` to index model_list for the corresponding model - save result to `lda_trained_model`\n",
        "\n",
        "max_coherence_val_index = np.argmax(coherence_values)\n",
        "\n",
        "lda_trained_model = model_list[max_coherence_val_index]"
      ],
      "execution_count": 23,
      "outputs": []
    },
    {
      "cell_type": "code",
      "metadata": {
        "colab": {
          "base_uri": "https://localhost:8080/"
        },
        "id": "dbGbN-h5HGAY",
        "outputId": "7bc4df6b-405e-46c7-8f8e-f253989c65ab"
      },
      "source": [
        "max_coherence_val_index"
      ],
      "execution_count": 24,
      "outputs": [
        {
          "output_type": "execute_result",
          "data": {
            "text/plain": [
              "2"
            ]
          },
          "metadata": {
            "tags": []
          },
          "execution_count": 24
        }
      ]
    },
    {
      "cell_type": "code",
      "metadata": {
        "colab": {
          "base_uri": "https://localhost:8080/"
        },
        "id": "7y-wokYcIg9_",
        "outputId": "a17cb7d5-fc18-4666-a88f-47366b4c9bed"
      },
      "source": [
        "lda_trained_model"
      ],
      "execution_count": 25,
      "outputs": [
        {
          "output_type": "execute_result",
          "data": {
            "text/plain": [
              "<gensim.models.ldamulticore.LdaMulticore at 0x7f7729051e90>"
            ]
          },
          "metadata": {
            "tags": []
          },
          "execution_count": 25
        }
      ]
    },
    {
      "cell_type": "markdown",
      "metadata": {
        "id": "LwGY4o8fzGeB"
      },
      "source": [
        "## Use pyLDAvis to visual your topics \n",
        "\n",
        "Take a look at the topic bubbles and bar char for the terms on the right hand side.  \n",
        "\n",
        "- Describe the topic bubbles. \n",
        "- Do they overlap or not? \n",
        "- What does it mean when they overlap? \n",
        "- What does it mean when they don't overlap?\n",
        "- Are the terms in each topic distinct from the topics in the other topic bubbles?\n"
      ]
    },
    {
      "cell_type": "code",
      "metadata": {
        "id": "9poWZ8WgItYS"
      },
      "source": [
        "!pip install ipywidgets"
      ],
      "execution_count": null,
      "outputs": []
    },
    {
      "cell_type": "code",
      "metadata": {
        "deletable": false,
        "nbgrader": {
          "cell_type": "code",
          "checksum": "7ad72f47a2b4930f8503c7733e5257cc",
          "grade": false,
          "grade_id": "cell-5213c8c2af79e714",
          "locked": false,
          "schema_version": 3,
          "solution": true,
          "task": false
        },
        "colab": {
          "base_uri": "https://localhost:8080/",
          "height": 880
        },
        "id": "zk6YvxkmzGeB",
        "outputId": "0efd7e40-4b47-4918-ec70-54299a9f888b"
      },
      "source": [
        "# plot your topics here\n",
        "pyLDAvis.enable_notebook()\n",
        "vis = pyLDAvis.gensim_models.prepare(topic_model=lda_trained_model, \n",
        "                                     corpus=corpus, dictionary=id2word)\n",
        "vis"
      ],
      "execution_count": 27,
      "outputs": [
        {
          "output_type": "execute_result",
          "data": {
            "text/html": [
              "\n",
              "<link rel=\"stylesheet\" type=\"text/css\" href=\"https://cdn.jsdelivr.net/gh/bmabey/pyLDAvis@3.3.1/pyLDAvis/js/ldavis.v1.0.0.css\">\n",
              "\n",
              "\n",
              "<div id=\"ldavis_el4771401497376524328444218515\"></div>\n",
              "<script type=\"text/javascript\">\n",
              "\n",
              "var ldavis_el4771401497376524328444218515_data = {\"mdsDat\": {\"x\": [0.10011814687665259, 0.11095062798564304, 0.014576963560795539, 0.12698602706160708, -0.13469726266427196, -0.21793450282042626], \"y\": [0.10079922913257519, 0.018098241446071462, -0.1590581118123541, 0.026647934021466077, -0.12278505516092167, 0.1362977623731631], \"topics\": [1, 2, 3, 4, 5, 6], \"cluster\": [1, 1, 1, 1, 1, 1], \"Freq\": [24.913429729026106, 19.34574222553593, 18.61224985984071, 15.147796477120664, 14.232863510316745, 7.747918198159848]}, \"tinfo\": {\"Term\": [\"easy\", \"old\", \"love\", \"read\", \"year\", \"price\", \"gift\", \"book\", \"tablet\", \"buy\", \"app\", \"good\", \"use\", \"kindle\", \"great\", \"kid\", \"amazon\", \"christmas\", \"not\", \"size\", \"google\", \"sound\", \"daughter\", \"music\", \"alexa\", \"speaker\", \"purchase\", \"light\", \"store\", \"screen\", \"year\", \"old\", \"grandson\", \"parental\", \"yr\", \"6\", \"grandkid\", \"nephew\", \"learning\", \"entertain\", \"longer\", \"boy\", \"bumper\", \"safe\", \"12\", \"appropriate\", \"occupy\", \"rubber\", \"thrill\", \"loose\", \"childs\", \"numerous\", \"9\", \"guarantee\", \"proof\", \"accidentally\", \"puzzle\", \"generation\", \"gen\", \"protect\", \"activity\", \"control\", \"2\", \"3\", \"4\", \"drop\", \"hour\", \"age\", \"adult\", \"break\", \"warranty\", \"kids\", \"replace\", \"case\", \"kid\", \"charge\", \"5\", \"kindle\", \"time\", \"child\", \"love\", \"buy\", \"new\", \"game\", \"get\", \"fire\", \"son\", \"tablet\", \"play\", \"come\", \"like\", \"not\", \"great\", \"purchase\", \"set\", \"use\", \"app\", \"purse\", \"savvy\", \"social\", \"reader\", \"weight\", \"password\", \"cartoon\", \"dark\", \"pic\", \"backlight\", \"paper\", \"glare\", \"terrific\", \"claim\", \"individual\", \"necessary\", \"motherinlaw\", \"sleek\", \"sweet\", \"weigh\", \"tutorial\", \"somewhat\", \"guide\", \"pleasure\", \"light\", \"lightweight\", \"introduce\", \"comfortably\", \"language\", \"vibrant\", \"read\", \"easy\", \"size\", \"book\", \"text\", \"reading\", \"playing\", \"email\", \"clarity\", \"check\", \"surf\", \"eye\", \"white\", \"homework\", \"e\", \"surfing\", \"carry\", \"use\", \"travel\", \"library\", \"color\", \"clear\", \"web\", \"ease\", \"picture\", \"internet\", \"ebook\", \"navigate\", \"kindle\", \"great\", \"screen\", \"perfect\", \"movie\", \"watch\", \"small\", \"love\", \"fire\", \"game\", \"nice\", \"tablet\", \"like\", \"good\", \"want\", \"enjoy\", \"work\", \"purchase\", \"need\", \"buy\", \"friday\", \"beat\", \"reasonable\", \"starter\", \"dollar\", \"associate\", \"okay\", \"versatile\", \"task\", \"smooth\", \"chrome\", \"interested\", \"steal\", \"total\", \"boot\", \"limitation\", \"chromecast\", \"tie\", \"match\", \"opportunity\", \"particular\", \"underground\", \"quirk\", \"skype\", \"bb\", \"59\", \"deal\", \"average\", \"programming\", \"customizable\", \"$\", \"sale\", \"cheap\", \"black\", \"budget\", \"ad\", \"apple\", \"price\", \"decent\", \"cost\", \"100\", \"quality\", \"prime\", \"value\", \"performance\", \"pay\", \"high\", \"overall\", \"good\", \"expect\", \"ipad\", \"worth\", \"fast\", \"point\", \"money\", \"tablet\", \"low\", \"amazon\", \"slow\", \"great\", \"product\", \"nice\", \"well\", \"not\", \"look\", \"fire\", \"little\", \"work\", \"need\", \"buy\", \"screen\", \"like\", \"get\", \"kid\", \"thank\", \"mother\", \"gift\", \"law\", \"preloade\", \"credit\", \"concern\", \"advertising\", \"recipient\", \"teach\", \"state\", \"block\", \"employee\", \"decision\", \"kiddo\", \"totally\", \"challenge\", \"girl\", \"nabi\", \"knowledgeable\", \"visit\", \"apps\", \"grandaughter\", \"entertaining\", \"teenager\", \"yrs\", \"father\", \"4yr\", \"wrap\", \"requirement\", \"integration\", \"present\", \"christmas\", \"friend\", \"monitor\", \"absolutely\", \"niece\", \"receive\", \"grandchild\", \"birthday\", \"happy\", \"daughter\", \"buy\", \"purchase\", \"love\", \"purpose\", \"granddaughter\", \"item\", \"family\", \"son\", \"grand\", \"wife\", \"recommend\", \"tablet\", \"great\", \"work\", \"product\", \"kid\", \"good\", \"enjoy\", \"friendly\", \"get\", \"game\", \"lot\", \"app\", \"not\", \"fire\", \"play\", \"use\", \"amazon\", \"like\", \"price\", \"keyboard\", \"application\", \"tv\", \"operating\", \"128\", \"click\", \"college\", \"install\", \"oasis\", \"offline\", \"swipe\", \"oh\", \"hulu\", \"crazy\", \"window\", \"preinstalle\", \"google\", \"delete\", \"root\", \"icon\", \"discover\", \"grandma\", \"40\", \"gb\", \"gig\", \"satisfy\", \"machine\", \"weak\", \"disappointing\", \"bug\", \"internal\", \"instal\", \"micro\", \"close\", \"system\", \"view\", \"store\", \"sd\", \"card\", \"app\", \"16\", \"main\", \"appear\", \"not\", \"device\", \"amazon\", \"android\", \"load\", \"access\", \"download\", \"lock\", \"wifi\", \"add\", \"play\", \"photo\", \"account\", \"be\", \"screen\", \"video\", \"need\", \"work\", \"turn\", \"find\", \"tablet\", \"want\", \"use\", \"watch\", \"like\", \"movie\", \"thing\", \"tap\", \"echo\", \"voice\", \"trouble\", \"portable\", \"win\", \"dot\", \"portability\", \"command\", \"answer\", \"wireless\", \"mess\", \"loud\", \"radio\", \"unlock\", \"adapter\", \"sunlight\", \"goal\", \"fingertip\", \"mobile\", \"trick\", \"alexa\", \"bc\", \"song\", \"household\", \"capable\", \"alarm\", \"wake\", \"pandora\", \"instagram\", \"bluetooth\", \"push\", \"speaker\", \"sound\", \"listen\", \"room\", \"music\", \"idea\", \"outside\", \"operate\", \"pair\", \"ask\", \"plug\", \"home\", \"strong\", \"wifi\", \"phone\", \"plan\", \"device\", \"connect\", \"work\", \"great\", \"not\", \"like\", \"thing\", \"use\", \"battery\", \"amazon\", \"buy\", \"play\", \"want\", \"love\", \"good\", \"have\", \"small\"], \"Freq\": [2490.0, 1851.0, 4403.0, 1630.0, 1503.0, 1963.0, 887.0, 1414.0, 6415.0, 3234.0, 1958.0, 3102.0, 3294.0, 2282.0, 4680.0, 1984.0, 2058.0, 646.0, 2469.0, 768.0, 456.0, 369.0, 733.0, 462.0, 297.0, 312.0, 1538.0, 491.0, 565.0, 1345.0, 1502.0458707487844, 1848.3818620963416, 375.9421099218519, 316.40726677649604, 179.0639965131193, 170.01989483752405, 132.16194792163623, 129.81438536234575, 120.25114053393318, 107.91685158529748, 75.57154762752702, 58.05172417613721, 54.893627995639605, 62.676483437353056, 56.5917834767123, 80.93344645034267, 32.62431978015542, 32.294874713851485, 32.232176127953025, 31.787670760663946, 29.356875330533686, 28.92191847689369, 101.22986382869654, 28.485530057720013, 26.803602780768653, 26.36039236838578, 26.228332582445052, 83.33696244580037, 24.488835310234776, 77.60336887408148, 42.976052689767414, 377.50156577127797, 469.41287717379555, 328.6309352695393, 287.6289402993452, 211.1668109150241, 173.98242269786854, 220.41498609961903, 143.77092551216708, 218.79990695637545, 184.91983382798438, 52.5094879408445, 267.712704605126, 417.8621283086328, 1244.2400322370295, 389.72739726592283, 225.41903338378154, 1253.517897464661, 660.1801012261799, 388.3230855524249, 1755.2558545312522, 1099.8129089600377, 383.5409394641467, 605.7873048671673, 520.7999665072513, 687.0483606785074, 358.67145287074527, 1254.018347729953, 446.7924796457179, 280.3605946333341, 436.9767328408682, 505.1943425521657, 604.0800818556964, 378.9414645532314, 290.2719688774116, 405.33670970795004, 331.02927144537216, 59.57915810675538, 49.51766038100686, 52.25504624065547, 274.8184697777335, 132.1082056707419, 26.418456061228245, 24.903073417919206, 24.290024231300556, 23.713480064453524, 23.237845160396898, 37.74922258376525, 18.99829033422909, 17.790297504912303, 17.41090762801053, 16.449133620903787, 16.218195944063087, 15.723899677435234, 15.499267172008048, 14.772192286447854, 14.997832558494233, 14.027714641583168, 13.802804779334254, 13.680772197802046, 13.524808158401846, 461.0731714525172, 99.66218695938502, 12.967609353618672, 12.309338849978182, 12.269365212424054, 11.467933283473263, 1512.2506284173958, 2288.7559539257177, 679.4074007114774, 1218.1184174634946, 44.69710599872822, 174.3070803206319, 87.20865792233944, 251.55221488073627, 51.29687676722395, 151.2236201442637, 154.57278222216985, 76.12889158841736, 41.22855451665072, 31.683660944052317, 34.23415692617419, 32.87281008460033, 150.86708292246232, 2050.1820227687112, 194.1863023309806, 111.63779593736466, 196.3686121047884, 170.63446051819653, 194.744410556737, 107.85556825500477, 213.74222573784522, 270.49249896396975, 105.81203855272972, 149.47912308608946, 881.6345491361988, 1429.0129245770056, 561.359068708545, 380.59653598732666, 305.92117094593624, 345.68658093238736, 223.83030551818948, 901.5549481370055, 563.2122631206632, 461.40587587778043, 312.7815510461615, 979.42567592612, 403.70550857126506, 504.17888577869525, 275.4564214079159, 207.7883051914113, 241.89994996290335, 229.67750888368553, 211.92858174550133, 213.4416991239317, 204.7593101599364, 223.30699087295932, 50.127511756431815, 48.6275046731726, 69.58365057800731, 33.998701965596396, 32.45850503444955, 32.379535023847794, 34.24809504665299, 34.02066158621768, 29.134265404248087, 28.25022695514899, 22.751036588437135, 18.95677432708343, 18.926667023830397, 17.868610062906345, 16.674198486331374, 16.51278847085462, 16.383366401973227, 16.178116878578205, 15.562918999886255, 26.29400067383914, 14.87795552554893, 14.843787138311907, 14.549602001889491, 14.25023526249902, 227.65729207571255, 15.678896967180862, 13.490299074884488, 13.236443053889468, 375.5143093806901, 232.61519948157402, 258.66873295423346, 229.23525496168853, 52.01177392856778, 150.8537485847571, 133.25278947105946, 1618.1946799708403, 129.40182724813454, 133.72125570772153, 75.48799892189255, 411.3992551573089, 293.40312048263837, 210.95893120278743, 97.01768895369756, 187.29404653307552, 110.44372615853487, 198.42388306670557, 1697.8970464717875, 175.82534124497826, 466.52640780464816, 166.4285967530686, 324.19778877773746, 107.45875713875503, 225.95214709571232, 2501.7240775081004, 163.45758425437302, 844.2764821229534, 170.34331161587625, 1345.4867414119587, 501.85326283565564, 365.2778262746586, 279.7788513500548, 603.2610898871452, 263.11976604956544, 457.8530550600521, 255.2153062026795, 337.30052117300954, 250.008954010765, 327.1292875671354, 264.1374609386214, 260.1868384389962, 244.72219660841148, 217.09202701229233, 119.87296041271978, 146.05736275436144, 877.3751928019853, 48.2544024158358, 35.86310293206324, 27.663951397635525, 26.489947993631844, 25.306871837442717, 22.790241276486473, 26.764546268150266, 21.480208885920536, 21.11232721409886, 20.926421451598934, 20.02768254557189, 19.82233171034492, 36.17832180257655, 20.690789462358396, 42.58491692628822, 28.474381951664135, 16.911421454566995, 16.620996479402358, 16.19060574269513, 15.931072770584972, 15.789790136180825, 14.968075314175614, 15.008464029798038, 45.27572598642935, 12.637356572296184, 12.473514919416814, 12.30382693938533, 20.259360455326682, 130.2889713695682, 535.0020924023382, 123.79518576490746, 31.619453313722914, 151.0682629943856, 109.73454833162754, 77.30420935538378, 61.106610862053245, 116.98229123691767, 335.4353780914458, 443.424047185245, 1437.2036853359575, 716.2670357366967, 1648.5428069556042, 72.47851577584102, 180.35262212203668, 173.33831699470133, 119.09489447515588, 316.27259030022384, 72.74162039786741, 171.61931511467282, 299.4833992196067, 1293.8450778706208, 1028.5506745118794, 445.6043318050352, 361.68836164892065, 490.05301664269473, 568.5282564880531, 196.90535059715367, 123.67319592358277, 272.6058476093396, 282.9763407951627, 192.3068651736188, 275.068181823677, 291.65143544633383, 252.4789081511976, 216.89298186495859, 267.6876026130724, 236.0564341491882, 220.39580138047208, 212.5231927848967, 103.60143848215081, 60.33479339954709, 145.01169352051272, 41.919024993643944, 49.84917648415897, 37.27036248299282, 37.888160842996314, 88.17858238312805, 34.04712409409096, 31.46853793557526, 32.20356589442773, 29.285143973700855, 36.60111642580792, 28.893925551533712, 25.162492786794935, 24.602767791314175, 440.51643092875696, 24.24845799458215, 22.323739841296927, 22.369555314755548, 21.594173383450467, 21.579689593345798, 22.946830605520297, 264.26570608565, 19.19009023043361, 18.29783315315818, 18.41459773584529, 17.44712348142211, 16.692797351852043, 16.10147239446241, 30.90064263864906, 79.83826062295374, 64.95759385750345, 63.80101736640161, 119.50566760524056, 107.58511162202186, 394.49419112302877, 135.69508496186862, 207.2265244994703, 1090.3706247690984, 101.34343706711714, 43.56559194118309, 39.24459672786399, 851.2792157266599, 379.5605255225704, 708.6971698665525, 157.36602178250158, 131.6103829960048, 188.05001241577713, 287.0878408188412, 73.19477958558085, 141.73523517003633, 143.88593817054516, 354.42384601055113, 76.10190454024942, 111.37858989982688, 197.63380690395877, 330.7379128640048, 190.93780830704605, 240.41876678381345, 293.66672038018817, 116.28886139793437, 147.1924827415084, 385.90779451669357, 193.61684771210943, 269.90537006702584, 162.69292174675417, 184.7814495844687, 149.80874821658065, 124.29245942713463, 214.49906026987838, 200.10348721359742, 68.1063384584994, 60.225180121326055, 171.86345699203787, 57.00362124765532, 50.26805067204034, 46.162059555003644, 43.22124534168353, 43.3719964121872, 44.90910148543295, 30.885725670577752, 56.017724116324004, 32.90064224509417, 28.158342117996092, 30.273272008403968, 26.31194243999996, 25.52237928271236, 24.666555400671086, 24.455041877196084, 24.640614745584653, 287.1785659259291, 21.758608673565647, 20.642417016713527, 19.205024323685382, 18.150724513686477, 16.236389492422152, 15.905354940550401, 15.284085633342464, 15.095506948635023, 106.38567481082565, 31.478944232562565, 259.60608891821664, 294.31534394192965, 156.07965705099753, 68.39656082236667, 288.83072401791975, 43.40546753995943, 39.68159037990702, 68.1277579976386, 38.71607544474503, 72.07036936712873, 57.81558818075661, 90.24223195658885, 43.328148314296456, 94.96904628795224, 97.06037220027069, 49.7702074761499, 139.40425197629435, 64.97457524948776, 163.2456364486212, 246.48872066433307, 185.17821072461382, 128.13580417922793, 95.69224781852493, 135.65238425815357, 87.25827418889679, 104.62994528115264, 107.57280585705499, 90.27220514970497, 81.1183225798181, 90.69304775770475, 86.85671270654198, 71.76998599874419, 68.76108951473864], \"Total\": [2490.0, 1851.0, 4403.0, 1630.0, 1503.0, 1963.0, 887.0, 1414.0, 6415.0, 3234.0, 1958.0, 3102.0, 3294.0, 2282.0, 4680.0, 1984.0, 2058.0, 646.0, 2469.0, 768.0, 456.0, 369.0, 733.0, 462.0, 297.0, 312.0, 1538.0, 491.0, 565.0, 1345.0, 1503.0564213713526, 1851.1415539246614, 376.84539953438906, 317.75787839492966, 179.94760103458353, 170.90934169080205, 133.04279719690874, 130.7292679691502, 121.14182477203858, 108.7982359882002, 76.47138807588911, 58.93938077042131, 55.77350940981641, 63.68881430866171, 57.5089915081552, 82.32015501730602, 33.5040427276851, 33.177868192700934, 33.118777925542254, 32.668314630574116, 30.242016848267625, 29.805734337955762, 104.34055640708375, 29.36631408596208, 27.685772686537156, 27.24196617513512, 27.11011096226369, 86.47787155441199, 25.448305586615124, 80.68118487965347, 44.70852938552825, 406.03705184852925, 508.8192897803334, 357.40915781640757, 312.3717756332442, 228.08441854965852, 187.29965959207092, 239.21552446871337, 154.30777927464453, 239.67889219667458, 203.32463068633805, 55.020636378936864, 319.0157388683286, 535.3480637546119, 1984.5915931097145, 533.5733998065593, 290.5866418472802, 2282.473916423607, 1108.982618222651, 584.6202262262484, 4403.262798190188, 3234.49756102289, 704.0582094183577, 1468.7175613029276, 1255.5392947247208, 2044.4613718132457, 737.6159795542718, 6415.194135296687, 1331.125787570178, 504.619448399297, 1634.182134995298, 2469.101878369693, 4680.129961550524, 1538.5403074460457, 631.269547800489, 3294.0519765799845, 1958.7165166175198, 60.53527301896766, 50.39477507179465, 53.21574034192504, 282.970362418855, 136.49637738669318, 27.318944910303284, 25.78685395188934, 25.167043495409978, 24.58662866166268, 24.278413185046166, 39.48844675951492, 19.892305490080894, 18.670189213741804, 18.30575912930903, 17.339236180138744, 17.096613085558612, 16.59624528584467, 16.393884298145096, 15.645092892573485, 15.887313039775169, 14.899663530243927, 14.685681807825988, 14.55846722363715, 14.409693306445087, 491.7104867262517, 106.3543248352204, 13.859806498531267, 13.180975210871548, 13.189107508873118, 12.344173717258128, 1630.9231913613871, 2490.19392013279, 768.8758719746479, 1414.720639321305, 48.787213124431325, 197.82856784829508, 97.1045647705523, 294.6065699243681, 56.930340749903415, 177.96740649543722, 182.149515286944, 86.53720689535967, 45.714683223721224, 34.6379005315266, 37.63605913544145, 36.08795006223556, 187.57967599096406, 3294.0519765799845, 261.0062786458532, 142.66515184972008, 273.2258642680389, 234.40578218924378, 284.30867618976754, 143.81534017475747, 323.41713484892074, 435.91639076963565, 141.31272965885756, 225.05288660831008, 2282.473916423607, 4680.129961550524, 1345.2771696038735, 818.1173597909484, 605.1337147183374, 743.7456825363373, 410.46790296040865, 4403.262798190188, 2044.4613718132457, 1468.7175613029276, 801.5642693853222, 6415.194135296687, 1634.182134995298, 3102.9401259160277, 992.6792785192331, 622.0886452744752, 1600.3512858432246, 1538.5403074460457, 1020.4481650563174, 3234.49756102289, 205.833607066001, 224.93392135514793, 51.00448435712807, 49.50904538800566, 70.95194500229208, 34.88013629630234, 33.33729301080925, 33.25977061561471, 35.18191040006084, 34.95010266263983, 30.012829021150147, 29.13629688187275, 23.635542949166318, 19.835908230235507, 19.819199916633764, 18.744363611305936, 17.549679229531367, 17.389575349500994, 17.262441540548686, 17.06317210960549, 16.44409266929442, 27.818016729976392, 15.756040167439041, 15.736405455870909, 15.430516844464975, 15.124433545450715, 241.98849840454622, 16.679118229332655, 14.371045122235602, 14.113331259211998, 401.3101200378888, 248.6608779615863, 283.50184223447104, 251.9401453981985, 56.096580851237995, 168.71827553761062, 148.54903154499374, 1963.2852484590871, 151.6649501664268, 158.04075680361012, 86.42342987905029, 535.1352893420066, 372.2052192503687, 275.2859624241927, 118.03984162642111, 247.4339387121539, 137.05357340757828, 265.83619937857196, 3102.9401259160277, 236.86881110874907, 750.7872284160912, 224.588796427537, 500.67268723802385, 137.16741415064706, 334.12721406904666, 6415.194135296687, 228.12112639102494, 2058.5252433652536, 253.7197995975627, 4680.129961550524, 1202.4286708998077, 801.5642693853222, 582.4910272968688, 2469.101878369693, 600.6170556490256, 2044.4613718132457, 641.5803691473901, 1600.3512858432246, 1020.4481650563174, 3234.49756102289, 1345.2771696038735, 1634.182134995298, 1255.5392947247208, 1984.5915931097145, 120.8047256036264, 147.56293457785617, 887.3876762630774, 49.14114261767564, 36.75283578272837, 28.551079794060385, 27.41769742037063, 26.196620006047123, 23.673696544313035, 27.848078137170702, 22.37032096954006, 22.00192107115422, 21.810209965785177, 20.915736081480183, 20.708463969693558, 37.83121276671462, 21.662368197692224, 44.76222340983691, 29.962027967700344, 17.796999176012175, 17.506437270572658, 17.086347765998912, 16.8154313928649, 16.674324480428094, 15.852427860867257, 15.901023647551172, 48.02448935011953, 13.522890504742142, 13.365365671561392, 13.191159111041454, 21.85063215624187, 148.8116924403859, 646.4726740722447, 152.85592236327903, 35.637183811464546, 195.4408855046369, 141.29798082214947, 95.82672940991856, 74.52090794612866, 155.54029850431544, 525.7785182778301, 733.7746785830851, 3234.49756102289, 1538.5403074460457, 4403.262798190188, 97.72416189508439, 312.755025330245, 301.30413038558834, 190.91306215341675, 737.6159795542718, 105.87377999952287, 351.31452690116737, 758.8167351778657, 6415.194135296687, 4680.129961550524, 1600.3512858432246, 1202.4286708998077, 1984.5915931097145, 3102.9401259160277, 622.0886452744752, 273.8642512401327, 1255.5392947247208, 1468.7175613029276, 680.4925165842378, 1958.7165166175198, 2469.101878369693, 2044.4613718132457, 1331.125787570178, 3294.0519765799845, 2058.5252433652536, 1634.182134995298, 1963.2852484590871, 104.52025932972252, 61.21569199475622, 147.82048746317002, 42.786837842275965, 50.882207123456354, 38.1338920201145, 38.77843948578817, 90.52517184613434, 34.95429658958316, 32.33606684047252, 33.14884278678404, 30.152385042975798, 37.750092936312484, 29.858809398793912, 26.03607293098266, 25.466326944998556, 456.3356439425629, 25.12691867762404, 23.185871447643056, 23.249043778791314, 22.461732447272915, 22.44712216171528, 23.92013697842835, 276.07303692360324, 20.0526391169491, 19.162569974576545, 19.285523632249458, 18.312583591214658, 17.565309137129063, 16.968229775341687, 32.58159101402023, 86.56470694482798, 70.15226494103916, 69.51888447794556, 135.94566066006556, 122.02990088225755, 565.6691752661926, 175.54768924108205, 288.9316804932959, 1958.7165166175198, 130.23232097549956, 50.46686321623201, 44.67103957513952, 2469.101878369693, 869.651173686827, 2058.5252433652536, 285.4681892237466, 229.71367278358855, 380.91954363785027, 706.4334054697022, 104.93173211414882, 277.0112325795727, 288.16418558163434, 1331.125787570178, 117.01408670331368, 214.25747219677612, 546.1952488223171, 1345.2771696038735, 536.6750155942929, 1020.4481650563174, 1600.3512858432246, 237.35996920452794, 450.95487175454633, 6415.194135296687, 992.6792785192331, 3294.0519765799845, 743.7456825363373, 1634.182134995298, 605.1337147183374, 642.0676280724548, 215.33360120865822, 200.93302100929174, 68.97260288964111, 61.039089365690685, 174.3005979890269, 57.81807869729531, 51.077776999527096, 47.02395114410604, 44.03436616874954, 44.291481678060464, 45.921117325416404, 31.699442248904734, 57.58847369825336, 33.841057875413924, 28.972834963925298, 31.17016575680685, 27.12485627817298, 26.334040520633394, 25.476670303661017, 25.264171033273584, 25.456044389396677, 297.82129298376856, 22.569948301373877, 21.452206820898127, 20.014674996042604, 18.961647308760774, 17.043018232009054, 16.714319103275, 16.093927988000306, 15.906752771971567, 115.47532032020229, 33.869285224322205, 312.15189971166785, 369.7925072516603, 208.38829242847999, 85.66602207771987, 462.04018824896923, 51.832877794655886, 51.62692086239664, 123.89343048527942, 51.989362214283275, 141.80849126578954, 99.62014943507933, 210.2103132991091, 63.49898038855835, 277.0112325795727, 315.65258600645706, 85.86937942243773, 869.651173686827, 159.53263019641292, 1600.3512858432246, 4680.129961550524, 2469.101878369693, 1634.182134995298, 642.0676280724548, 3294.0519765799845, 650.6074173255486, 2058.5252433652536, 3234.49756102289, 1331.125787570178, 992.6792785192331, 4403.262798190188, 3102.9401259160277, 624.0760491482353, 410.46790296040865], \"Category\": [\"Default\", \"Default\", \"Default\", \"Default\", \"Default\", \"Default\", \"Default\", \"Default\", \"Default\", \"Default\", \"Default\", \"Default\", \"Default\", \"Default\", \"Default\", \"Default\", \"Default\", \"Default\", \"Default\", \"Default\", \"Default\", \"Default\", \"Default\", \"Default\", \"Default\", \"Default\", \"Default\", \"Default\", \"Default\", \"Default\", \"Topic1\", \"Topic1\", \"Topic1\", \"Topic1\", \"Topic1\", \"Topic1\", \"Topic1\", \"Topic1\", \"Topic1\", \"Topic1\", \"Topic1\", \"Topic1\", \"Topic1\", \"Topic1\", \"Topic1\", \"Topic1\", \"Topic1\", \"Topic1\", \"Topic1\", \"Topic1\", \"Topic1\", \"Topic1\", \"Topic1\", \"Topic1\", \"Topic1\", \"Topic1\", \"Topic1\", \"Topic1\", \"Topic1\", \"Topic1\", \"Topic1\", \"Topic1\", \"Topic1\", \"Topic1\", \"Topic1\", \"Topic1\", \"Topic1\", \"Topic1\", \"Topic1\", \"Topic1\", \"Topic1\", \"Topic1\", \"Topic1\", \"Topic1\", \"Topic1\", \"Topic1\", \"Topic1\", \"Topic1\", \"Topic1\", \"Topic1\", \"Topic1\", \"Topic1\", \"Topic1\", \"Topic1\", \"Topic1\", \"Topic1\", \"Topic1\", \"Topic1\", \"Topic1\", \"Topic1\", \"Topic1\", \"Topic1\", \"Topic1\", \"Topic1\", \"Topic1\", \"Topic1\", \"Topic1\", \"Topic2\", \"Topic2\", \"Topic2\", \"Topic2\", \"Topic2\", \"Topic2\", \"Topic2\", \"Topic2\", \"Topic2\", \"Topic2\", \"Topic2\", \"Topic2\", \"Topic2\", \"Topic2\", \"Topic2\", \"Topic2\", \"Topic2\", \"Topic2\", \"Topic2\", \"Topic2\", \"Topic2\", \"Topic2\", \"Topic2\", \"Topic2\", \"Topic2\", \"Topic2\", \"Topic2\", \"Topic2\", \"Topic2\", \"Topic2\", \"Topic2\", \"Topic2\", \"Topic2\", \"Topic2\", \"Topic2\", \"Topic2\", \"Topic2\", \"Topic2\", \"Topic2\", \"Topic2\", \"Topic2\", \"Topic2\", \"Topic2\", \"Topic2\", \"Topic2\", \"Topic2\", \"Topic2\", \"Topic2\", \"Topic2\", \"Topic2\", \"Topic2\", \"Topic2\", \"Topic2\", \"Topic2\", \"Topic2\", \"Topic2\", \"Topic2\", \"Topic2\", \"Topic2\", \"Topic2\", \"Topic2\", \"Topic2\", \"Topic2\", \"Topic2\", \"Topic2\", \"Topic2\", \"Topic2\", \"Topic2\", \"Topic2\", \"Topic2\", \"Topic2\", \"Topic2\", \"Topic2\", \"Topic2\", \"Topic2\", \"Topic2\", \"Topic2\", \"Topic2\", \"Topic3\", \"Topic3\", \"Topic3\", \"Topic3\", \"Topic3\", \"Topic3\", \"Topic3\", \"Topic3\", \"Topic3\", \"Topic3\", \"Topic3\", \"Topic3\", \"Topic3\", \"Topic3\", \"Topic3\", \"Topic3\", \"Topic3\", \"Topic3\", \"Topic3\", \"Topic3\", \"Topic3\", \"Topic3\", \"Topic3\", \"Topic3\", \"Topic3\", \"Topic3\", \"Topic3\", \"Topic3\", \"Topic3\", \"Topic3\", \"Topic3\", \"Topic3\", \"Topic3\", \"Topic3\", \"Topic3\", \"Topic3\", \"Topic3\", \"Topic3\", \"Topic3\", \"Topic3\", \"Topic3\", \"Topic3\", \"Topic3\", \"Topic3\", \"Topic3\", \"Topic3\", \"Topic3\", \"Topic3\", \"Topic3\", \"Topic3\", \"Topic3\", \"Topic3\", \"Topic3\", \"Topic3\", \"Topic3\", \"Topic3\", \"Topic3\", \"Topic3\", \"Topic3\", \"Topic3\", \"Topic3\", \"Topic3\", \"Topic3\", \"Topic3\", \"Topic3\", \"Topic3\", \"Topic3\", \"Topic3\", \"Topic3\", \"Topic3\", \"Topic3\", \"Topic3\", \"Topic3\", \"Topic3\", \"Topic4\", \"Topic4\", \"Topic4\", \"Topic4\", \"Topic4\", \"Topic4\", \"Topic4\", \"Topic4\", \"Topic4\", \"Topic4\", \"Topic4\", \"Topic4\", \"Topic4\", \"Topic4\", \"Topic4\", \"Topic4\", \"Topic4\", \"Topic4\", \"Topic4\", \"Topic4\", \"Topic4\", \"Topic4\", \"Topic4\", \"Topic4\", \"Topic4\", \"Topic4\", \"Topic4\", \"Topic4\", \"Topic4\", \"Topic4\", \"Topic4\", \"Topic4\", \"Topic4\", \"Topic4\", \"Topic4\", \"Topic4\", \"Topic4\", \"Topic4\", \"Topic4\", \"Topic4\", \"Topic4\", \"Topic4\", \"Topic4\", \"Topic4\", \"Topic4\", \"Topic4\", \"Topic4\", \"Topic4\", \"Topic4\", \"Topic4\", \"Topic4\", \"Topic4\", \"Topic4\", \"Topic4\", \"Topic4\", \"Topic4\", \"Topic4\", \"Topic4\", \"Topic4\", \"Topic4\", \"Topic4\", \"Topic4\", \"Topic4\", \"Topic4\", \"Topic4\", \"Topic4\", \"Topic4\", \"Topic4\", \"Topic4\", \"Topic4\", \"Topic4\", \"Topic4\", \"Topic5\", \"Topic5\", \"Topic5\", \"Topic5\", \"Topic5\", \"Topic5\", \"Topic5\", \"Topic5\", \"Topic5\", \"Topic5\", \"Topic5\", \"Topic5\", \"Topic5\", \"Topic5\", \"Topic5\", \"Topic5\", \"Topic5\", \"Topic5\", \"Topic5\", \"Topic5\", \"Topic5\", \"Topic5\", \"Topic5\", \"Topic5\", \"Topic5\", \"Topic5\", \"Topic5\", \"Topic5\", \"Topic5\", \"Topic5\", \"Topic5\", \"Topic5\", \"Topic5\", \"Topic5\", \"Topic5\", \"Topic5\", \"Topic5\", \"Topic5\", \"Topic5\", \"Topic5\", \"Topic5\", \"Topic5\", \"Topic5\", \"Topic5\", \"Topic5\", \"Topic5\", \"Topic5\", \"Topic5\", \"Topic5\", \"Topic5\", \"Topic5\", \"Topic5\", \"Topic5\", \"Topic5\", \"Topic5\", \"Topic5\", \"Topic5\", \"Topic5\", \"Topic5\", \"Topic5\", \"Topic5\", \"Topic5\", \"Topic5\", \"Topic5\", \"Topic5\", \"Topic5\", \"Topic5\", \"Topic5\", \"Topic5\", \"Topic5\", \"Topic6\", \"Topic6\", \"Topic6\", \"Topic6\", \"Topic6\", \"Topic6\", \"Topic6\", \"Topic6\", \"Topic6\", \"Topic6\", \"Topic6\", \"Topic6\", \"Topic6\", \"Topic6\", \"Topic6\", \"Topic6\", \"Topic6\", \"Topic6\", \"Topic6\", \"Topic6\", \"Topic6\", \"Topic6\", \"Topic6\", \"Topic6\", \"Topic6\", \"Topic6\", \"Topic6\", \"Topic6\", \"Topic6\", \"Topic6\", \"Topic6\", \"Topic6\", \"Topic6\", \"Topic6\", \"Topic6\", \"Topic6\", \"Topic6\", \"Topic6\", \"Topic6\", \"Topic6\", \"Topic6\", \"Topic6\", \"Topic6\", \"Topic6\", \"Topic6\", \"Topic6\", \"Topic6\", \"Topic6\", \"Topic6\", \"Topic6\", \"Topic6\", \"Topic6\", \"Topic6\", \"Topic6\", \"Topic6\", \"Topic6\", \"Topic6\", \"Topic6\", \"Topic6\", \"Topic6\", \"Topic6\", \"Topic6\", \"Topic6\", \"Topic6\", \"Topic6\"], \"logprob\": [30.0, 29.0, 28.0, 27.0, 26.0, 25.0, 24.0, 23.0, 22.0, 21.0, 20.0, 19.0, 18.0, 17.0, 16.0, 15.0, 14.0, 13.0, 12.0, 11.0, 10.0, 9.0, 8.0, 7.0, 6.0, 5.0, 4.0, 3.0, 2.0, 1.0, -3.4828, -3.2754, -4.868, -5.0404, -5.6097, -5.6615, -5.9134, -5.9313, -6.0078, -6.1161, -6.4723, -6.7361, -6.792, -6.6594, -6.7616, -6.4038, -7.3124, -7.3225, -7.3245, -7.3383, -7.4179, -7.4328, -6.18, -7.448, -7.5089, -7.5256, -7.5306, -6.3745, -7.5992, -6.4458, -7.0368, -4.8639, -4.6459, -5.0025, -5.1358, -5.4448, -5.6385, -5.4019, -5.8292, -5.4093, -5.5775, -6.8364, -5.2075, -4.7623, -3.6711, -4.832, -5.3795, -3.6637, -4.3049, -4.8356, -3.3271, -3.7945, -4.848, -4.3909, -4.5421, -4.265, -4.915, -3.6633, -4.6953, -5.1614, -4.7175, -4.5725, -4.3937, -4.86, -5.1266, -4.7927, -4.9952, -6.4572, -6.6422, -6.5884, -4.9284, -5.6609, -7.2704, -7.3295, -7.3544, -7.3784, -7.3987, -6.9135, -7.6001, -7.6658, -7.6874, -7.7442, -7.7584, -7.7893, -7.8037, -7.8517, -7.8366, -7.9035, -7.9196, -7.9285, -7.94, -4.4109, -5.9427, -7.982, -8.0341, -8.0374, -8.1049, -3.2231, -2.8087, -4.0233, -3.4394, -6.7446, -5.3837, -6.0762, -5.0168, -6.6069, -5.5257, -5.5038, -6.2121, -6.8254, -7.0887, -7.0113, -7.0518, -5.5281, -2.9188, -5.2757, -5.8292, -5.2645, -5.405, -5.2728, -5.8637, -5.1797, -4.9442, -5.8828, -5.5373, -3.7627, -3.2798, -4.2141, -4.6028, -4.8212, -4.699, -5.1336, -3.7404, -4.2108, -4.4102, -4.799, -3.6575, -4.5438, -4.3216, -4.9261, -5.208, -5.056, -5.1078, -5.1882, -5.1811, -5.184, -5.0973, -6.5913, -6.6217, -6.2633, -6.9795, -7.0259, -7.0283, -6.9722, -6.9789, -7.1339, -7.1647, -7.3812, -7.5637, -7.5653, -7.6228, -7.692, -7.7017, -7.7096, -7.7222, -7.7609, -7.2365, -7.806, -7.8083, -7.8283, -7.8491, -5.078, -7.7535, -7.9039, -7.9229, -4.5775, -5.0565, -4.9503, -5.0711, -6.5544, -5.4895, -5.6136, -3.1168, -5.6429, -5.6101, -6.1819, -4.4863, -4.8243, -5.1542, -5.9309, -5.2732, -5.8013, -5.2154, -3.0687, -5.3363, -4.3605, -5.3913, -4.7245, -5.8287, -5.0855, -2.6811, -5.4093, -3.7674, -5.368, -3.3013, -4.2875, -4.6052, -4.8718, -4.1035, -4.9332, -4.3793, -4.9637, -4.6849, -4.9843, -4.7155, -4.9294, -4.9444, -5.0057, -5.1255, -5.5134, -5.3159, -3.5229, -6.4234, -6.7202, -6.9797, -7.0231, -7.0688, -7.1735, -7.0128, -7.2327, -7.25, -7.2589, -7.3028, -7.3131, -6.7114, -7.2702, -6.5484, -6.9509, -7.4719, -7.4892, -7.5154, -7.5316, -7.5405, -7.594, -7.5913, -6.4871, -7.7632, -7.7763, -7.79, -7.2913, -5.4301, -4.0176, -5.4812, -6.8461, -5.2821, -5.6018, -5.9521, -6.1873, -5.5379, -4.4844, -4.2053, -3.0294, -3.7258, -2.8922, -6.0166, -5.105, -5.1446, -5.52, -4.5433, -6.013, -5.1546, -4.5978, -3.1345, -3.364, -4.2004, -4.4091, -4.1054, -3.9568, -5.0172, -5.4822, -4.6918, -4.6545, -5.0408, -4.6829, -4.6243, -4.7685, -4.9205, -4.7101, -4.8358, -4.9045, -4.9408, -5.597, -6.1377, -5.2608, -6.5018, -6.3286, -6.6194, -6.6029, -5.7582, -6.7098, -6.7886, -6.7655, -6.8605, -6.6375, -6.8739, -7.0122, -7.0347, -4.1496, -7.0492, -7.1319, -7.1299, -7.1652, -7.1658, -7.1044, -4.6606, -7.2832, -7.3308, -7.3244, -7.3784, -7.4226, -7.4587, -6.8068, -5.8576, -6.0638, -6.0818, -5.4542, -5.5593, -4.26, -5.3272, -4.9038, -3.2433, -5.6191, -6.4633, -6.5678, -3.4908, -4.2986, -3.6741, -5.179, -5.3577, -5.0009, -4.5778, -5.9444, -5.2836, -5.2686, -4.3671, -5.9055, -5.5246, -4.9512, -4.4362, -4.9856, -4.7552, -4.5551, -5.4815, -5.2458, -4.282, -4.9717, -4.6395, -5.1457, -5.0184, -5.2282, -5.4149, -4.2611, -4.3306, -5.4084, -5.5314, -4.4827, -5.5863, -5.7121, -5.7973, -5.8631, -5.8596, -5.8248, -6.1992, -5.6038, -6.136, -6.2916, -6.2192, -6.3594, -6.3899, -6.424, -6.4326, -6.425, -3.9693, -6.5494, -6.6021, -6.6743, -6.7307, -6.8422, -6.8628, -6.9026, -6.915, -4.9624, -6.1801, -4.0703, -3.9448, -4.5791, -5.4041, -3.9636, -5.8589, -5.9486, -5.4081, -5.9732, -5.3518, -5.5722, -5.1269, -5.8606, -5.0759, -5.0541, -5.722, -4.6921, -5.4554, -4.5342, -4.1221, -4.4081, -4.7764, -5.0683, -4.7193, -5.1606, -4.979, -4.9513, -5.1266, -5.2335, -5.122, -5.1652, -5.356, -5.3988], \"loglift\": [30.0, 29.0, 28.0, 27.0, 26.0, 25.0, 24.0, 23.0, 22.0, 21.0, 20.0, 19.0, 18.0, 17.0, 16.0, 15.0, 14.0, 13.0, 12.0, 11.0, 10.0, 9.0, 8.0, 7.0, 6.0, 5.0, 4.0, 3.0, 2.0, 1.0, 1.3891, 1.3883, 1.3874, 1.3855, 1.3848, 1.3845, 1.3831, 1.3827, 1.3824, 1.3816, 1.3779, 1.3746, 1.3739, 1.3737, 1.3737, 1.3728, 1.3632, 1.3628, 1.3626, 1.3624, 1.3601, 1.3597, 1.3595, 1.3593, 1.3574, 1.3569, 1.3567, 1.3528, 1.3513, 1.3509, 1.3502, 1.3169, 1.3092, 1.3058, 1.3072, 1.3127, 1.316, 1.3079, 1.319, 1.2986, 1.2949, 1.343, 1.2144, 1.142, 0.9229, 1.0756, 1.1358, 0.7905, 0.8711, 0.9806, 0.47, 0.311, 0.7823, 0.5041, 0.5098, 0.2993, 0.6687, -0.2426, 0.2981, 0.802, 0.0707, -0.1969, -0.6576, -0.0114, 0.6128, -0.7054, -0.3881, 1.6268, 1.6251, 1.6245, 1.6135, 1.61, 1.6092, 1.6078, 1.6072, 1.6065, 1.5989, 1.5977, 1.5967, 1.5944, 1.5926, 1.59, 1.59, 1.5887, 1.5866, 1.5853, 1.5851, 1.5824, 1.5807, 1.5805, 1.5793, 1.5784, 1.5777, 1.5762, 1.5743, 1.5704, 1.5691, 1.5672, 1.5583, 1.519, 1.4931, 1.5551, 1.5161, 1.5352, 1.4847, 1.5385, 1.4799, 1.4785, 1.5146, 1.5394, 1.5536, 1.548, 1.5494, 1.4249, 1.1685, 1.347, 1.3975, 1.3124, 1.3252, 1.2643, 1.355, 1.2285, 1.1655, 1.3534, 1.2335, 0.6915, 0.4564, 0.7687, 0.8774, 0.9606, 0.8765, 1.0363, 0.0567, 0.3535, 0.4848, 0.7016, -0.2368, 0.2445, -0.1745, 0.3607, 0.5461, -0.2468, -0.2592, 0.071, -1.0756, 1.6761, 1.6741, 1.664, 1.6634, 1.6619, 1.6558, 1.6546, 1.6545, 1.6544, 1.6544, 1.6516, 1.6505, 1.6432, 1.636, 1.6353, 1.6335, 1.6302, 1.6296, 1.6291, 1.6281, 1.6263, 1.625, 1.624, 1.623, 1.6226, 1.6218, 1.6203, 1.6195, 1.6181, 1.6172, 1.6149, 1.6146, 1.5897, 1.5869, 1.6057, 1.5694, 1.5727, 1.488, 1.5226, 1.5143, 1.5461, 1.4184, 1.4435, 1.4152, 1.4852, 1.4029, 1.4655, 1.3889, 1.0784, 1.3833, 1.2055, 1.3816, 1.2468, 1.4373, 1.2902, 0.7397, 1.348, 0.7901, 1.2829, 0.4348, 0.8076, 0.8954, 0.948, 0.2721, 0.856, 0.185, 0.7595, 0.1243, 0.2748, -0.6099, 0.0535, -0.1561, 0.0462, -0.5315, 1.8796, 1.8771, 1.876, 1.8691, 1.8628, 1.8558, 1.8529, 1.8528, 1.8493, 1.8476, 1.8467, 1.846, 1.8459, 1.8439, 1.8436, 1.8426, 1.8414, 1.8375, 1.8364, 1.8363, 1.8354, 1.8335, 1.8333, 1.8328, 1.8299, 1.8295, 1.8284, 1.8196, 1.8183, 1.8177, 1.8117, 1.7544, 1.6981, 1.6764, 1.7677, 1.6298, 1.6345, 1.6725, 1.6889, 1.6024, 1.4379, 1.3836, 1.0761, 1.1228, 0.9049, 1.5885, 1.3368, 1.3344, 1.4154, 1.0405, 1.512, 1.1709, 0.9576, 0.2863, 0.3721, 0.6088, 0.686, 0.4887, 0.1903, 0.737, 1.0923, 0.36, 0.2405, 0.6236, -0.0757, -0.2487, -0.2042, 0.0729, -0.6227, -0.2784, -0.1162, -0.336, 1.9408, 1.9351, 1.9304, 1.9291, 1.9291, 1.9267, 1.9264, 1.9234, 1.9233, 1.9224, 1.9207, 1.9204, 1.9187, 1.9168, 1.9155, 1.9151, 1.9143, 1.914, 1.9117, 1.9111, 1.9102, 1.9102, 1.9081, 1.9059, 1.9056, 1.9034, 1.9034, 1.9012, 1.8987, 1.8972, 1.8966, 1.8687, 1.8727, 1.8638, 1.8207, 1.8236, 1.5892, 1.6921, 1.6172, 1.3638, 1.6988, 1.8026, 1.8201, 0.8847, 1.1205, 0.8833, 1.3541, 1.3926, 1.2437, 1.0492, 1.5894, 1.2795, 1.2551, 0.6263, 1.5194, 1.2954, 0.9331, 0.5466, 0.9162, 0.504, 0.2541, 1.2361, 0.83, -0.8612, 0.3151, -0.5522, 0.4298, -0.2301, 0.5535, 0.3076, 2.5539, 2.5536, 2.5451, 2.5443, 2.5437, 2.5436, 2.5418, 2.5392, 2.5391, 2.5368, 2.5355, 2.5317, 2.5301, 2.5296, 2.5292, 2.5285, 2.5273, 2.5264, 2.5254, 2.5252, 2.5252, 2.5214, 2.5211, 2.5193, 2.5165, 2.514, 2.5093, 2.5081, 2.5061, 2.5054, 2.4758, 2.4846, 2.3734, 2.3295, 2.2687, 2.3326, 2.0879, 2.3803, 2.2946, 1.9597, 2.263, 1.8809, 2.0136, 1.7121, 2.1755, 1.4872, 1.3784, 2.0123, 0.727, 1.6595, 0.275, -0.386, -0.0325, 0.0119, 0.6542, -0.632, 0.5487, -0.4216, -0.8457, -0.1332, 0.0532, -1.3249, -1.0181, 0.3949, 0.7711]}, \"token.table\": {\"Topic\": [1, 3, 5, 1, 3, 5, 1, 5, 1, 3, 4, 5, 1, 3, 5, 6, 1, 4, 5, 1, 3, 4, 5, 6, 5, 4, 1, 3, 4, 5, 6, 3, 1, 1, 3, 1, 4, 1, 2, 3, 4, 5, 6, 1, 1, 3, 4, 5, 6, 1, 2, 1, 3, 4, 6, 1, 2, 3, 4, 5, 6, 1, 6, 4, 1, 2, 6, 3, 5, 6, 1, 2, 3, 4, 5, 6, 1, 3, 5, 6, 1, 2, 3, 4, 5, 6, 1, 5, 6, 3, 5, 6, 5, 1, 4, 4, 1, 3, 4, 6, 3, 3, 2, 1, 2, 3, 5, 6, 3, 6, 1, 2, 3, 4, 5, 6, 3, 5, 1, 4, 2, 3, 5, 6, 4, 5, 6, 1, 2, 4, 5, 6, 3, 1, 1, 4, 5, 3, 4, 5, 1, 1, 2, 3, 4, 5, 6, 6, 4, 5, 2, 3, 5, 6, 2, 1, 3, 4, 5, 6, 4, 1, 2, 3, 5, 6, 1, 3, 4, 5, 2, 3, 4, 5, 6, 1, 3, 4, 6, 1, 1, 2, 4, 6, 3, 3, 2, 1, 2, 3, 2, 3, 5, 6, 5, 3, 5, 5, 1, 2, 1, 2, 3, 4, 5, 6, 2, 6, 4, 1, 2, 3, 5, 6, 1, 4, 5, 6, 1, 3, 4, 5, 5, 4, 3, 2, 1, 2, 4, 1, 2, 3, 4, 6, 3, 4, 5, 6, 4, 5, 1, 2, 3, 4, 5, 6, 5, 5, 3, 4, 6, 1, 2, 4, 5, 1, 3, 4, 5, 6, 2, 3, 1, 2, 3, 5, 1, 2, 3, 4, 5, 6, 1, 2, 3, 5, 6, 2, 3, 5, 4, 1, 2, 3, 4, 5, 6, 1, 4, 1, 2, 3, 4, 5, 6, 1, 2, 5, 2, 3, 4, 6, 1, 2, 3, 4, 5, 3, 4, 6, 1, 2, 3, 4, 5, 6, 6, 1, 2, 3, 4, 5, 3, 1, 2, 4, 6, 1, 2, 4, 1, 2, 3, 4, 5, 6, 1, 4, 5, 1, 1, 5, 1, 2, 3, 4, 5, 6, 2, 4, 5, 2, 4, 2, 6, 1, 2, 3, 4, 5, 6, 3, 4, 5, 1, 4, 6, 4, 1, 4, 1, 2, 4, 1, 5, 1, 1, 2, 3, 4, 5, 6, 1, 2, 1, 2, 3, 4, 5, 6, 1, 2, 3, 4, 5, 6, 3, 5, 6, 1, 2, 3, 4, 5, 6, 2, 5, 1, 3, 5, 6, 6, 5, 5, 3, 6, 2, 6, 3, 5, 3, 5, 1, 4, 3, 5, 6, 1, 2, 3, 4, 5, 2, 1, 2, 3, 4, 5, 1, 2, 3, 4, 5, 6, 5, 1, 2, 3, 4, 6, 4, 1, 4, 1, 2, 3, 4, 5, 6, 4, 2, 4, 1, 1, 2, 5, 6, 1, 2, 4, 5, 6, 1, 2, 5, 1, 2, 3, 4, 5, 6, 3, 2, 5, 6, 1, 2, 3, 4, 5, 6, 1, 2, 3, 4, 5, 1, 3, 5, 1, 1, 2, 3, 4, 5, 6, 1, 1, 2, 3, 4, 5, 6, 3, 6, 1, 2, 3, 4, 5, 6, 1, 3, 4, 5, 5, 4, 5, 3, 6, 3, 4, 5, 6, 1, 2, 3, 4, 5, 4, 5, 1, 4, 2, 1, 2, 3, 4, 5, 2, 3, 4, 5, 6, 4, 5, 1, 2, 4, 2, 1, 2, 3, 4, 5, 6, 1, 1, 2, 3, 4, 5, 6, 1, 2, 3, 4, 5, 6, 1, 4, 1, 2, 3, 4, 5, 6, 1, 5, 1, 5, 5, 3, 1, 4, 1, 3, 4, 5, 6, 5, 3, 1, 2, 6, 1, 2, 3, 4, 5, 6, 5, 6, 6, 1, 2, 6, 1, 4, 3, 2, 1, 3, 4, 5, 6, 1, 2, 3, 4, 5, 6, 1, 3, 4, 1, 2, 4, 5, 6, 1, 2, 3, 4, 5, 6, 2, 1, 2, 3, 5, 6, 1, 5, 6, 1, 2, 3, 4, 5, 6, 1, 2, 2, 1, 6, 1, 3, 4, 5, 6, 6, 2, 6, 5, 4, 1, 2, 4, 1, 2, 3, 4, 5, 6, 3, 4, 5, 6, 1, 2, 3, 4, 5, 6, 3, 1, 1, 3, 1, 2, 3, 4, 5, 6, 3, 4, 5, 6, 2, 3, 6, 1, 2, 3, 4, 5, 6, 3, 6, 1, 2, 3, 4, 5, 6, 1, 2, 3, 6, 1, 2, 3, 4, 5, 3, 1, 2, 4, 5, 4, 1, 2, 3, 4, 5, 6, 1, 3, 4, 5, 4, 1, 2, 5, 6, 5, 1, 1, 1, 2, 3, 4, 6, 5, 2, 1, 2, 3, 4, 5, 4, 5, 1, 2, 3, 4, 5, 6, 1, 2, 3, 4, 5, 6, 3, 2, 1, 2, 3, 4, 5, 1, 2, 3, 4, 5, 6, 3, 2, 2, 1, 2, 4, 6, 3, 5, 6, 3, 5, 6, 3, 4, 3, 1, 3, 4, 5, 6, 3, 5, 6, 6, 2, 5, 2, 5, 2, 5, 1, 3, 5, 6, 1, 2, 3, 4, 5, 6, 3, 4, 4, 2, 1, 2, 4, 1, 3, 4, 5, 6, 1, 3, 1, 2, 3, 4, 5, 6, 3, 1, 4, 2, 3, 4, 5, 6, 6, 6, 1, 2, 5, 6, 2, 3, 5, 3, 4, 6, 1, 2, 3, 4, 5, 6, 2, 3, 4, 3, 2, 1, 2, 3, 4, 5, 2, 5, 4, 6, 6, 1, 2, 3, 4, 5, 6, 1, 3, 4, 1, 2, 3, 4, 5, 5, 2, 3, 5, 2, 2, 5, 1, 2, 3, 4, 5, 6, 1, 2, 1, 2, 4, 6, 1, 2, 3, 4, 5, 6, 6, 5, 6, 1, 2, 3, 4, 5, 6, 1, 3, 4, 4, 1, 1, 4], \"Freq\": [0.004983676962373076, 0.9369312689261382, 0.05731228506729037, 0.10413842649609617, 0.8678202208008015, 0.01157093627734402, 0.9911493577820258, 0.9826617756317874, 0.03071434164758927, 0.06142868329517854, 0.12285736659035708, 0.7755371266016291, 0.9217417842049107, 0.06485603172443935, 0.009826671473399901, 0.00196533429467998, 0.9205136264835143, 0.04756453389124542, 0.030777051341394093, 0.9219783042695281, 0.05122101690386267, 0.006402627112982834, 0.006402627112982834, 0.012805254225965668, 0.9615329552979506, 0.9613329336240076, 0.7742957438430714, 0.17206572085401586, 0.02753051533664254, 0.01720657208540159, 0.006882628834160635, 0.925654501897763, 0.9946793915311711, 0.9679841039561778, 0.019168002058538174, 0.2251320131219733, 0.7726121359413175, 0.20739287684096167, 0.19951719797358336, 0.07088110980640462, 0.010500905156504387, 0.4935425423557062, 0.015751357734756583, 0.9544098187645239, 0.08401107235816087, 0.25670049887215823, 0.13068389033491692, 0.5180682795419921, 0.009334563595351208, 0.9617851580221897, 0.022367096698190456, 0.02370816076239661, 0.8949830687804721, 0.07705152247778899, 0.9624587894098282, 0.0867560968742166, 0.003470243874968664, 0.20474438862315117, 0.10410731624905992, 0.4997151179954876, 0.10063707237409125, 0.933199872857361, 0.06480554672620563, 0.9543215878319073, 0.9196727532153686, 0.07524595253580288, 0.9388008498371417, 0.01007315484377909, 0.023504027968817877, 0.963665146721533, 0.0772397620638689, 0.002914708002410147, 0.41000225900569404, 0.11464518142813244, 0.3444213289514657, 0.051007390042177574, 0.0035030172809069515, 0.44488319467518284, 0.5499737131023914, 0.9708413078738751, 0.16898821100033368, 0.03522714972514508, 0.0975128347464161, 0.14039806049876663, 0.5564868579769296, 0.0015316152054410906, 0.022385868104052888, 0.8730488560580626, 0.08954347241621155, 0.8953272775778136, 0.020195352125815344, 0.08078140850326138, 0.9801408437094796, 0.9839631616700857, 0.012147693353951675, 0.9364201302187763, 0.39489877862842526, 0.0070517639040790225, 0.09167293075302729, 0.5077270010936896, 0.9747668332249136, 0.9592833254135505, 0.9473436268135687, 0.25360915908131726, 0.27359048676651193, 0.32584934378932884, 0.012296201652427502, 0.1337211929701491, 0.9720996484560785, 0.97474746978755, 0.2233633490277537, 0.07140303780395406, 0.09886574465162869, 0.1794230180714743, 0.36250773038930517, 0.06591049643441912, 0.9914022689708305, 0.0044457500850709885, 0.2443096764337616, 0.7522166353355292, 0.08335313122412034, 0.9089460500154076, 0.003969196724958112, 0.003969196724958112, 0.9544621095624328, 0.06927887255750187, 0.9179450613868998, 0.09825261336873091, 0.8609473603101745, 0.004241120001527953, 0.03251525334504764, 0.004241120001527953, 0.958666347779951, 0.9840619165294533, 0.9137225142892182, 0.06258373385542591, 0.020861244618475303, 0.9269727176046312, 0.05347919524642103, 0.9429386690208119, 0.9861312401173689, 0.3400837314751698, 0.06585257709473742, 0.10109761835670955, 0.4442730201180172, 0.015149184402075744, 0.0333900390902894, 0.9492846115581705, 0.2803430896248826, 0.7164323401524778, 0.8049912614588046, 0.0213242718267233, 0.01066213591336165, 0.16526310665710559, 0.9694862369268706, 0.7808004330274353, 0.024283267055877175, 0.12141633527938588, 0.05230242135112007, 0.020547379816511457, 0.9694230939273395, 0.730920994452478, 0.0730920994452478, 0.02248987675238394, 0.05809884827699184, 0.11619769655398368, 0.007054627879087622, 0.913574310341847, 0.059964336972244785, 0.017636569697719054, 0.8484699697181427, 0.04495205137579564, 0.005619006421974455, 0.03933304495382118, 0.05619006421974455, 0.6636787141364551, 0.032499730846888265, 0.29078706547215816, 0.01197358504885357, 0.9589307533786797, 0.16860728128443528, 0.0015468557916003235, 0.8275678485061732, 0.0015468557916003235, 0.9662534637958854, 0.9686786737043942, 0.9286694902907139, 0.017565326095500256, 0.895831630870513, 0.08782663047750128, 0.7295041888597521, 0.1578459356012329, 0.034128850940807115, 0.076789914616816, 0.9702655050390239, 0.07192290321612135, 0.9206131611663534, 0.9799259718516147, 0.27815814657079024, 0.717355220103617, 0.5548735802557507, 0.003963382716112505, 0.09710287654475637, 0.08323103703836261, 0.24176634568286282, 0.019816913580562527, 0.9104030474241777, 0.9765100248114025, 0.9482926155820322, 0.006268310117928996, 0.10029296188686393, 0.006268310117928996, 0.4826598790805327, 0.4074401576653847, 0.9309495236435015, 0.0024628294276283105, 0.004925658855256621, 0.06157073569070777, 0.00632748172196273, 0.8478825507430058, 0.01898244516588819, 0.1265496344392546, 0.9712376542773804, 0.9806984605123401, 0.9211149204419539, 0.9536281051199826, 0.3706859993114378, 0.023167874956964863, 0.6037275650550256, 0.004132427807904498, 0.004132427807904498, 0.9421935402022255, 0.01652971123161799, 0.037191850271140484, 0.8505590768232487, 0.006593481215684099, 0.07252829337252509, 0.05934133094115689, 0.9562178410593438, 0.9551509402293891, 0.1287872694119225, 0.16098408676490314, 0.11153897440139718, 0.0011498863340350224, 0.4369568069333085, 0.15983420043086813, 0.9678167271230014, 0.9794435959756536, 0.9865832430349679, 0.014094046329070969, 0.9788992970556045, 0.17977632288716397, 0.2533855259590736, 0.15995846052164983, 0.4062661784930398, 0.9250960733824134, 0.013153024740034314, 0.008768683160022876, 0.004384341580011438, 0.048227757380125816, 0.9033889514745338, 0.07971078983598828, 0.19469411236642592, 0.7509630048419286, 0.0417201669356627, 0.013906722311887566, 0.06625989994835477, 0.9192055211017215, 0.0032126012096172006, 0.0012047254536064502, 0.0016063006048086003, 0.008834653326447301, 0.007076503315830751, 0.7501093514780596, 0.035382516579153755, 0.20521859615909177, 0.9953565571024356, 0.8553780727452679, 0.003394357431528841, 0.14256301212421132, 0.9628518034876237, 0.32471256553939265, 0.3343574932286815, 0.004822463844644445, 0.3166751257983186, 0.00642995179285926, 0.01285990358571852, 0.9926631532124586, 0.959559112501403, 0.0337739694920287, 0.021108730932517937, 0.7430273288246314, 0.08865666991657534, 0.07176968517056098, 0.037995715678532285, 0.0577786154578108, 0.8782349549587242, 0.0577786154578108, 0.07856979418174162, 0.04714187650904497, 0.6233203671751502, 0.2461853551027904, 0.04394088305747947, 0.2776264884086203, 0.6471293686646976, 0.0019973128662490666, 0.027962380127486936, 0.041645419390493155, 0.937021936286096, 0.020822709695246577, 0.17074879289010303, 0.22618671265961698, 0.15744369214541967, 0.046567852606391735, 0.32597496824474215, 0.07096053730497788, 0.9812899292576504, 0.33602982647243435, 0.27537815473650734, 0.22401988431495623, 0.12325984901172264, 0.04108661633724088, 0.995950092514612, 0.006542108310487239, 0.15701059945169374, 0.8112214305004176, 0.026168433241948955, 0.31402419122089986, 0.23369242137369292, 0.45277906641153004, 0.41260485743930625, 0.31387927273848215, 0.004085196608309963, 0.19268510669195327, 0.07625700335511931, 0.0006808661013849938, 0.0036222298676589944, 0.039844528544248935, 0.9562686850619745, 0.9430883293315654, 0.9597831041409974, 0.0231273037142409, 0.4149611264171785, 0.11708116234803309, 0.19513527058005514, 0.2174364443606329, 0.012743527874615846, 0.04300940657682848, 0.01014212867807715, 0.9882940945192957, 0.9475062055019293, 0.02234026649758065, 0.9606314593959681, 0.9551431838543887, 0.9873152575894434, 0.07025594795698599, 0.16242659527670156, 0.5472229340869826, 0.183374469667546, 0.00902369973759453, 0.02803792418466872, 0.03067917263496104, 0.0021913694739257887, 0.9663939380012727, 0.30224669413091904, 0.6895002709861591, 0.00944520919159122, 0.9515069596602259, 0.17444768667335253, 0.8185622220826543, 0.4156607871055952, 0.0063947813400860795, 0.5755303206077471, 0.992161941729432, 0.9800810919772214, 0.9977566409582455, 0.12905624522441578, 0.3053334013670367, 0.28738518183251527, 0.21986568929788713, 0.0057690705646675925, 0.05256264292252696, 0.9534734225765427, 0.9616396963321509, 0.18448832850326452, 0.14074367329115026, 0.00380388306192298, 0.6371504128720992, 0.02662718143346086, 0.00570582459288447, 0.34130455781905294, 0.1201776612038919, 0.15382740634098163, 0.12658713646809946, 0.14261082462861838, 0.11537055475573621, 0.8026058516028275, 0.021889250498258933, 0.1605211703205655, 0.0047571405242001425, 0.01902856209680057, 0.009514281048400285, 0.09514281048400285, 0.44241406875061323, 0.4281426471780128, 0.9238435213726177, 0.05774022008578861, 0.9289926120472568, 0.005339038000271591, 0.005339038000271591, 0.0587294180029875, 0.9493034487822944, 0.9801300373596973, 0.9462754773626113, 0.15434219245347058, 0.8295892844374043, 0.9227626773045069, 0.9429957336377726, 0.06931231227784437, 0.9241641637045916, 0.022093302439672807, 0.9721053073456035, 0.04576526632499917, 0.9153053264999834, 0.9610006416917141, 0.9514575266339923, 0.03069217827851588, 0.01605812524654348, 0.6193848309381057, 0.03899830417017702, 0.06423250098617392, 0.25922402183705906, 0.9379640330027421, 0.19845835725567673, 0.11454643438918254, 0.622013777438933, 0.026638705671902917, 0.03862612322425923, 0.019913434284228405, 0.04314577428249487, 0.09292935999306588, 0.5741706885285857, 0.12611841713344657, 0.13939403998959882, 0.9950224068227644, 0.6268292198349688, 0.015620342294922854, 0.10934239606445997, 0.24690218466168382, 0.0010077640190272808, 0.9657886760345731, 0.9632749362435508, 0.03634999759409626, 0.5494038687482063, 0.38642281677505425, 0.013581754331096011, 0.04687895849765397, 0.0035049688596376803, 0.00043812110745471004, 0.9552172156592322, 0.9098417002004774, 0.9767782644666226, 0.9905744793411587, 0.007009420219545801, 0.7850550645891298, 0.20327318636682826, 0.007009420219545801, 0.026438321636279124, 0.9375435595634367, 0.002033717048944548, 0.006101151146833644, 0.026438321636279124, 0.009402532539690752, 0.9402532539690751, 0.04701266269845376, 0.26741205318662803, 0.24721846564621908, 0.15910099274261624, 0.13462391693605988, 0.11320647560532308, 0.0783266425809803, 0.9602886698774366, 0.14876075636849595, 0.100773415604465, 0.7486025159188828, 0.23223902595088639, 0.1449545598216942, 0.3974560511240002, 0.07949121022480003, 0.10131232675709809, 0.0436422330645961, 0.10012464526509973, 0.20895578142281684, 0.082711663479865, 0.03482596357046947, 0.5746283989127463, 0.1429500847625618, 0.15248009041339924, 0.6956904125111341, 0.9938357588668155, 0.06160331221366645, 0.19479966294591824, 0.43788300303227773, 0.12487157881148604, 0.14318607703717068, 0.03662899645136924, 0.9795424209013635, 0.2292457245276537, 0.12197048163971319, 0.24247143940424912, 0.2821485840340353, 0.11903143388935865, 0.0029390477503545348, 0.01736458592807487, 0.9724168119721927, 0.3985680801793918, 0.20484809590986405, 0.0015897302343337565, 0.37449502234519494, 0.00022710431919053666, 0.020666493046338837, 0.10520726589286314, 0.7145326808556954, 0.004383636078869297, 0.1709618070759026, 0.9333425601107459, 0.11888989363757758, 0.8718592200089023, 0.9268677297134783, 0.9779351875211968, 0.04276412176458463, 0.014254707254861542, 0.9265559715660002, 0.9499619032974153, 0.005985744099212177, 0.09277903353778874, 0.676389083210976, 0.17957232297636533, 0.04190020869448524, 0.8979385175128665, 0.08418173601683124, 0.006776769538100956, 0.9894083525627396, 0.964073483153854, 0.10080416694084342, 0.5056733620311162, 0.011567691288293507, 0.13385471347882488, 0.24787909903486088, 0.08873686974152831, 0.030300394545887715, 0.049779219611101246, 0.20560982013280948, 0.6254867159829678, 0.9345161826223696, 0.033375577950798915, 0.27104740098786884, 0.6620666024129911, 0.062207600226723996, 0.935857875470966, 0.10877573580023443, 0.2077518557626099, 0.24499039594647395, 0.1636535844922446, 0.235190780108615, 0.039198463351435835, 0.9944215401762804, 0.5454094489108127, 0.28832843262733066, 0.0014203371065385747, 0.05255247294192726, 0.0724371924334673, 0.03976943898308009, 0.032436575572334383, 0.39048646746694854, 0.45535961861161733, 0.05114998455637346, 0.014970727187231254, 0.056140226952117206, 0.2193945010369216, 0.778496616582625, 0.20452781006081575, 0.013365183627736475, 0.2442183553795483, 0.11826162482724396, 0.3446597353698103, 0.07492602942821963, 0.9729671368328037, 0.9726987328399693, 0.9849557639422242, 0.9586818382376588, 0.9617812971898138, 0.9598859748337801, 0.9983029099433262, 0.0010804144047005693, 0.26635794868817475, 0.008071452990550749, 0.008071452990550749, 0.16950051280156575, 0.548858803357451, 0.981610282929146, 0.9376920010666135, 0.019369739339391193, 0.19369739339391193, 0.7747895735756477, 0.03761714929485281, 0.15046859717941125, 0.7448195560380857, 0.04514057915382338, 0.007523429858970563, 0.011285144788455844, 0.2500511536652098, 0.7501534609956294, 0.9320285272299004, 0.025323862599357504, 0.9623067787755852, 0.025323862599357504, 0.9944678684166413, 0.0031470502165083583, 0.9729937869953955, 0.951720503312489, 0.004041482769925613, 0.7557572779760896, 0.04445631046918174, 0.1899496901865038, 0.004041482769925613, 0.22979588166670756, 0.465703355930934, 0.0806730222872484, 0.18945937052308337, 0.022001733351067747, 0.012223185195037636, 0.016943431746797057, 0.8217564397196572, 0.1524908857211735, 0.04118451923512538, 0.3168039941163491, 0.06019275888210633, 0.27245143494006024, 0.30729987429285865, 0.051275877708748446, 0.15382763312624534, 0.05982185732687319, 0.06836783694499793, 0.6494944509774804, 0.025637938854374223, 0.976140337508843, 0.00309198212539708, 0.6616841748349751, 0.28755433766192845, 0.04019576763016204, 0.01236792850158832, 0.2678486808068172, 0.13974713781225245, 0.5822797408843852, 0.33580598030179304, 0.14123383511574295, 0.026293533133250016, 0.1630199054261501, 0.2659403065477287, 0.0676119423426429, 0.09268359341567554, 0.8959414030181969, 0.9715682146918532, 0.41156332561736386, 0.5822115338001733, 0.0801939736789017, 0.7800686530584076, 0.04374216746121911, 0.05832288994829215, 0.029161444974146074, 0.978224902008593, 0.011474429939281735, 0.9868009747782293, 0.9816884882533035, 0.9795162531898517, 0.1075184331124358, 0.013439804139054474, 0.8735872690385408, 0.0020374013420308935, 0.05500983623483412, 0.8241288428514963, 0.10849162146314507, 0.010187006710154467, 0.0005093503355077234, 0.7872001381122754, 0.0026866898911681756, 0.20150174183761316, 0.005373379782336351, 0.08732326710192785, 0.16050848143497212, 0.41748838176350267, 0.30105735896093216, 0.0008316501628755033, 0.03326600651502013, 0.9045967004783632, 0.9752301409716252, 0.966768151909856, 0.024788926972047588, 0.24633738756518794, 0.14949234601581327, 0.10269474204564563, 0.46537617281444477, 0.022098868541468048, 0.01364930115796556, 0.1637261419256522, 0.7367676386654349, 0.020465767740706527, 0.07163018709247283, 0.9911576673850973, 0.05905055234421541, 0.9152835613353388, 0.9590517735685802, 0.10090906183069612, 0.7680300817114094, 0.0018686863301980764, 0.003737372660396153, 0.1252019841232711, 0.9520158517365644, 0.9751468208083127, 0.06070181632365, 0.9270822856702909, 0.0030657482991742423, 0.0012262993196696969, 0.007357795918018182, 0.0006131496598348484, 0.02473757300999086, 0.9718332253924981, 0.0035339390014272657, 0.0035339390014272657, 0.04549393496545784, 0.8795494093321848, 0.03032928997697189, 0.035384171639800545, 0.0050548816628286485, 0.980305959960407, 0.03130650517317441, 0.010435501724391472, 0.8035336327781433, 0.1460970241414806, 0.9715424017938225, 0.07643479289687104, 0.2227151724064001, 0.2780645051937895, 0.3940345357959386, 0.0065892062842130205, 0.02240330136632427, 0.8400839436659112, 0.006269283161685905, 0.11598173849118924, 0.03761569897011543, 0.9097001938181146, 0.11673239584916845, 0.011673239584916844, 0.07003943750950106, 0.7937802917743455, 0.9488537038462876, 0.9644983762712017, 0.9891846893973651, 0.004021541338539319, 0.004021541338539319, 0.9370191318796613, 0.012064624015617958, 0.04021541338539319, 0.9393312078641354, 0.9921663491655189, 0.13974815320426343, 0.41701443589144566, 0.1962420874783274, 0.0007433412404482097, 0.24604595058835743, 0.22216185338925631, 0.7747182579727913, 0.4593917146968947, 0.31999009092680253, 0.0031682187220475498, 0.08078957741221252, 0.0316821872204755, 0.10296710846654537, 0.002601200106414506, 0.8831074361277247, 0.0039018001596217585, 0.037717401543010336, 0.05722640234111913, 0.015607200638487034, 0.9532037060219384, 0.9149753485631951, 0.03547220206808983, 0.07094440413617965, 0.6700304835083634, 0.007882711570686627, 0.21283321240853895, 0.10475849558484852, 0.5457186746745597, 0.12912093641853423, 0.00487248816673714, 0.048724881667371406, 0.16810084175243134, 0.9728154543117995, 0.9771544972575108, 0.953309501268059, 0.48670312188320175, 0.08405457815253066, 0.42840720477741434, 0.9789202656550188, 0.18388690594458953, 0.01892953443547245, 0.7950404462898429, 0.07688564452809227, 0.09290348713811149, 0.8329278157209995, 0.9897181336457563, 0.9387437948965542, 0.9731107108250824, 0.010606906408107743, 0.1626392315909854, 0.1272828768972929, 0.6965201874657417, 0.0017678177346846238, 0.18897941237119825, 0.12598627491413217, 0.6771762276634604, 0.9585304243960866, 0.8509492861170956, 0.14822987564620377, 0.9144326553070976, 0.08313024139155434, 0.9587670781501271, 0.9653428991722732, 0.05149116173339007, 0.014711760495254307, 0.8827056297152585, 0.05884704198101723, 0.19547342972840612, 0.15260644952480829, 0.39001157988873375, 0.20170862684892943, 0.06016965221305005, 0.9938068132368902, 0.9664057356004523, 0.9695462597816144, 0.9462272991652256, 0.9641037803061725, 0.061491522222196386, 0.9223728333329458, 0.9933386247962949, 0.3426430338194435, 0.18378126359406516, 0.13238480852114862, 0.1931260736073227, 0.1495169602121208, 0.9662192268066927, 0.9775971901745045, 0.5951400762779958, 0.09468137577149933, 0.1000917401012993, 0.11181419614919921, 0.04057773247349972, 0.05861228023949959, 0.9578588375922537, 0.026433199648303082, 0.9515951873389109, 0.7432771387972212, 0.09195181098522325, 0.06513253278119979, 0.02298795274630581, 0.07279518369663507, 0.9820850253707667, 0.9829766568196093, 0.3201887843796965, 0.13481633026513537, 0.4887091972111157, 0.054769134170211245, 0.9396185337730778, 0.013529924263700638, 0.9809195091182962, 0.9346460695734172, 0.03594792575282374, 0.966422513877686, 0.12294887964108177, 0.6223338352202904, 0.0500902842982185, 0.08135876479953065, 0.08196591976072118, 0.041286537360955854, 0.22885293331057055, 0.7664756972782601, 0.0036325862430249293, 0.9621232921244719, 0.8911086518995704, 0.1453393538613417, 0.20869240554449064, 0.1639726043563855, 0.12484277831679351, 0.3558950844553367, 0.10653126738620604, 0.8850289905930964, 0.971071368620276, 0.9858987068938472, 0.9572630450058217, 0.1863643212901171, 0.2770280451609849, 0.16117995354820938, 0.09771534683860195, 0.1954306936772039, 0.081597351483781, 0.9098750081360933, 0.05410067615944338, 0.029509459723332757, 0.13714365326082625, 0.4652127845906459, 0.001344545620204179, 0.1774800218669516, 0.21916093609328116, 0.9283234075259397, 0.6858742498236083, 0.0808979884407333, 0.23214205378645206, 0.944149584164817, 0.9670586320840224, 0.029304807032849163, 0.3090176355768349, 0.09785558459933107, 0.48069409978618766, 0.02575146963140291, 0.06008676247327346, 0.02746823427349644, 0.08749923914871209, 0.896867201274299, 0.14232260886287265, 0.31880264385283474, 0.48958977448828195, 0.0483896870133767, 0.046929504911919745, 0.05053946682822126, 0.04331954299561822, 0.007219923832603037, 0.5126145921148156, 0.34294638204864425, 0.9858508149055187, 0.9602062517750232, 0.9799413128629041, 0.07435867428150247, 0.15121679979935798, 0.2105787666627423, 0.2786888128533622, 0.1837096658719473, 0.10185263788138574, 0.21372392908070584, 0.7391285880707744, 0.04452581855848038, 0.8978429992030376, 0.999297151220452, 0.9947340168519312, 0.9433354941466342], \"Term\": [\"$\", \"$\", \"$\", \"100\", \"100\", \"100\", \"12\", \"128\", \"16\", \"16\", \"16\", \"16\", \"2\", \"2\", \"2\", \"2\", \"3\", \"3\", \"3\", \"4\", \"4\", \"4\", \"4\", \"4\", \"40\", \"4yr\", \"5\", \"5\", \"5\", \"5\", \"5\", \"59\", \"6\", \"9\", \"9\", \"absolutely\", \"absolutely\", \"access\", \"access\", \"access\", \"access\", \"access\", \"access\", \"accidentally\", \"account\", \"account\", \"account\", \"account\", \"account\", \"activity\", \"activity\", \"ad\", \"ad\", \"ad\", \"adapter\", \"add\", \"add\", \"add\", \"add\", \"add\", \"add\", \"adult\", \"adult\", \"advertising\", \"age\", \"age\", \"alarm\", \"alexa\", \"alexa\", \"alexa\", \"amazon\", \"amazon\", \"amazon\", \"amazon\", \"amazon\", \"amazon\", \"android\", \"android\", \"android\", \"answer\", \"app\", \"app\", \"app\", \"app\", \"app\", \"app\", \"appear\", \"appear\", \"appear\", \"apple\", \"apple\", \"apple\", \"application\", \"appropriate\", \"appropriate\", \"apps\", \"ask\", \"ask\", \"ask\", \"ask\", \"associate\", \"average\", \"backlight\", \"battery\", \"battery\", \"battery\", \"battery\", \"battery\", \"bb\", \"bc\", \"be\", \"be\", \"be\", \"be\", \"be\", \"be\", \"beat\", \"beat\", \"birthday\", \"birthday\", \"black\", \"black\", \"black\", \"black\", \"block\", \"bluetooth\", \"bluetooth\", \"book\", \"book\", \"book\", \"book\", \"book\", \"boot\", \"boy\", \"break\", \"break\", \"break\", \"budget\", \"budget\", \"bug\", \"bumper\", \"buy\", \"buy\", \"buy\", \"buy\", \"buy\", \"buy\", \"capable\", \"card\", \"card\", \"carry\", \"carry\", \"carry\", \"carry\", \"cartoon\", \"case\", \"case\", \"case\", \"case\", \"case\", \"challenge\", \"charge\", \"charge\", \"charge\", \"charge\", \"charge\", \"cheap\", \"cheap\", \"cheap\", \"cheap\", \"check\", \"check\", \"check\", \"check\", \"check\", \"child\", \"child\", \"child\", \"child\", \"childs\", \"christmas\", \"christmas\", \"christmas\", \"christmas\", \"chrome\", \"chromecast\", \"claim\", \"clarity\", \"clarity\", \"clarity\", \"clear\", \"clear\", \"clear\", \"clear\", \"click\", \"close\", \"close\", \"college\", \"color\", \"color\", \"come\", \"come\", \"come\", \"come\", \"come\", \"come\", \"comfortably\", \"command\", \"concern\", \"connect\", \"connect\", \"connect\", \"connect\", \"connect\", \"control\", \"control\", \"control\", \"control\", \"cost\", \"cost\", \"cost\", \"cost\", \"crazy\", \"credit\", \"customizable\", \"dark\", \"daughter\", \"daughter\", \"daughter\", \"deal\", \"deal\", \"deal\", \"deal\", \"deal\", \"decent\", \"decent\", \"decent\", \"decent\", \"decision\", \"delete\", \"device\", \"device\", \"device\", \"device\", \"device\", \"device\", \"disappointing\", \"discover\", \"dollar\", \"dollar\", \"dot\", \"download\", \"download\", \"download\", \"download\", \"drop\", \"drop\", \"drop\", \"drop\", \"drop\", \"e\", \"e\", \"ease\", \"ease\", \"ease\", \"ease\", \"easy\", \"easy\", \"easy\", \"easy\", \"easy\", \"easy\", \"ebook\", \"ebook\", \"ebook\", \"ebook\", \"echo\", \"email\", \"email\", \"email\", \"employee\", \"enjoy\", \"enjoy\", \"enjoy\", \"enjoy\", \"enjoy\", \"enjoy\", \"entertain\", \"entertaining\", \"expect\", \"expect\", \"expect\", \"expect\", \"expect\", \"expect\", \"eye\", \"eye\", \"eye\", \"family\", \"family\", \"family\", \"family\", \"fast\", \"fast\", \"fast\", \"fast\", \"fast\", \"father\", \"father\", \"father\", \"find\", \"find\", \"find\", \"find\", \"find\", \"find\", \"fingertip\", \"fire\", \"fire\", \"fire\", \"fire\", \"fire\", \"friday\", \"friend\", \"friend\", \"friend\", \"friend\", \"friendly\", \"friendly\", \"friendly\", \"game\", \"game\", \"game\", \"game\", \"game\", \"game\", \"gb\", \"gb\", \"gb\", \"gen\", \"generation\", \"generation\", \"get\", \"get\", \"get\", \"get\", \"get\", \"get\", \"gift\", \"gift\", \"gig\", \"girl\", \"girl\", \"glare\", \"goal\", \"good\", \"good\", \"good\", \"good\", \"good\", \"good\", \"google\", \"google\", \"google\", \"grand\", \"grand\", \"grand\", \"grandaughter\", \"grandchild\", \"grandchild\", \"granddaughter\", \"granddaughter\", \"granddaughter\", \"grandkid\", \"grandma\", \"grandson\", \"great\", \"great\", \"great\", \"great\", \"great\", \"great\", \"guarantee\", \"guide\", \"happy\", \"happy\", \"happy\", \"happy\", \"happy\", \"happy\", \"have\", \"have\", \"have\", \"have\", \"have\", \"have\", \"high\", \"high\", \"high\", \"home\", \"home\", \"home\", \"home\", \"home\", \"home\", \"homework\", \"homework\", \"hour\", \"hour\", \"hour\", \"hour\", \"household\", \"hulu\", \"icon\", \"idea\", \"idea\", \"individual\", \"instagram\", \"instal\", \"instal\", \"install\", \"install\", \"integration\", \"integration\", \"interested\", \"internal\", \"internal\", \"internet\", \"internet\", \"internet\", \"internet\", \"internet\", \"introduce\", \"ipad\", \"ipad\", \"ipad\", \"ipad\", \"ipad\", \"item\", \"item\", \"item\", \"item\", \"item\", \"item\", \"keyboard\", \"kid\", \"kid\", \"kid\", \"kid\", \"kid\", \"kiddo\", \"kids\", \"kids\", \"kindle\", \"kindle\", \"kindle\", \"kindle\", \"kindle\", \"kindle\", \"knowledgeable\", \"language\", \"law\", \"learning\", \"library\", \"library\", \"library\", \"library\", \"light\", \"light\", \"light\", \"light\", \"light\", \"lightweight\", \"lightweight\", \"lightweight\", \"like\", \"like\", \"like\", \"like\", \"like\", \"like\", \"limitation\", \"listen\", \"listen\", \"listen\", \"little\", \"little\", \"little\", \"little\", \"little\", \"little\", \"load\", \"load\", \"load\", \"load\", \"load\", \"lock\", \"lock\", \"lock\", \"longer\", \"look\", \"look\", \"look\", \"look\", \"look\", \"look\", \"loose\", \"lot\", \"lot\", \"lot\", \"lot\", \"lot\", \"lot\", \"loud\", \"loud\", \"love\", \"love\", \"love\", \"love\", \"love\", \"love\", \"low\", \"low\", \"low\", \"low\", \"machine\", \"main\", \"main\", \"match\", \"mess\", \"micro\", \"micro\", \"micro\", \"mobile\", \"money\", \"money\", \"money\", \"money\", \"money\", \"monitor\", \"monitor\", \"mother\", \"mother\", \"motherinlaw\", \"movie\", \"movie\", \"movie\", \"movie\", \"movie\", \"music\", \"music\", \"music\", \"music\", \"music\", \"nabi\", \"nabi\", \"navigate\", \"navigate\", \"navigate\", \"necessary\", \"need\", \"need\", \"need\", \"need\", \"need\", \"need\", \"nephew\", \"new\", \"new\", \"new\", \"new\", \"new\", \"new\", \"nice\", \"nice\", \"nice\", \"nice\", \"nice\", \"nice\", \"niece\", \"niece\", \"not\", \"not\", \"not\", \"not\", \"not\", \"not\", \"numerous\", \"oasis\", \"occupy\", \"offline\", \"oh\", \"okay\", \"old\", \"old\", \"operate\", \"operate\", \"operate\", \"operate\", \"operate\", \"operating\", \"opportunity\", \"outside\", \"outside\", \"outside\", \"overall\", \"overall\", \"overall\", \"overall\", \"overall\", \"overall\", \"pair\", \"pair\", \"pandora\", \"paper\", \"paper\", \"paper\", \"parental\", \"parental\", \"particular\", \"password\", \"pay\", \"pay\", \"pay\", \"pay\", \"pay\", \"perfect\", \"perfect\", \"perfect\", \"perfect\", \"perfect\", \"perfect\", \"performance\", \"performance\", \"performance\", \"phone\", \"phone\", \"phone\", \"phone\", \"phone\", \"photo\", \"photo\", \"photo\", \"photo\", \"photo\", \"photo\", \"pic\", \"picture\", \"picture\", \"picture\", \"picture\", \"picture\", \"plan\", \"plan\", \"plan\", \"play\", \"play\", \"play\", \"play\", \"play\", \"play\", \"playing\", \"playing\", \"pleasure\", \"plug\", \"plug\", \"point\", \"point\", \"point\", \"point\", \"point\", \"portability\", \"portable\", \"portable\", \"preinstalle\", \"preloade\", \"present\", \"present\", \"present\", \"price\", \"price\", \"price\", \"price\", \"price\", \"price\", \"prime\", \"prime\", \"prime\", \"prime\", \"product\", \"product\", \"product\", \"product\", \"product\", \"product\", \"programming\", \"proof\", \"protect\", \"protect\", \"purchase\", \"purchase\", \"purchase\", \"purchase\", \"purchase\", \"purchase\", \"purpose\", \"purpose\", \"purpose\", \"purpose\", \"purse\", \"push\", \"push\", \"puzzle\", \"quality\", \"quality\", \"quality\", \"quality\", \"quality\", \"quirk\", \"radio\", \"read\", \"read\", \"read\", \"read\", \"read\", \"read\", \"reader\", \"reader\", \"reader\", \"reader\", \"reading\", \"reading\", \"reading\", \"reading\", \"reading\", \"reasonable\", \"receive\", \"receive\", \"receive\", \"receive\", \"recipient\", \"recommend\", \"recommend\", \"recommend\", \"recommend\", \"recommend\", \"recommend\", \"replace\", \"replace\", \"replace\", \"replace\", \"requirement\", \"room\", \"room\", \"room\", \"room\", \"root\", \"rubber\", \"safe\", \"sale\", \"sale\", \"sale\", \"sale\", \"sale\", \"satisfy\", \"savvy\", \"screen\", \"screen\", \"screen\", \"screen\", \"screen\", \"sd\", \"sd\", \"set\", \"set\", \"set\", \"set\", \"set\", \"set\", \"size\", \"size\", \"size\", \"size\", \"size\", \"size\", \"skype\", \"sleek\", \"slow\", \"slow\", \"slow\", \"slow\", \"slow\", \"small\", \"small\", \"small\", \"small\", \"small\", \"small\", \"smooth\", \"social\", \"somewhat\", \"son\", \"son\", \"son\", \"song\", \"sound\", \"sound\", \"sound\", \"speaker\", \"speaker\", \"speaker\", \"starter\", \"state\", \"steal\", \"store\", \"store\", \"store\", \"store\", \"store\", \"strong\", \"strong\", \"strong\", \"sunlight\", \"surf\", \"surf\", \"surfing\", \"surfing\", \"sweet\", \"swipe\", \"system\", \"system\", \"system\", \"system\", \"tablet\", \"tablet\", \"tablet\", \"tablet\", \"tablet\", \"tap\", \"task\", \"teach\", \"teenager\", \"terrific\", \"text\", \"text\", \"thank\", \"thing\", \"thing\", \"thing\", \"thing\", \"thing\", \"thrill\", \"tie\", \"time\", \"time\", \"time\", \"time\", \"time\", \"time\", \"total\", \"totally\", \"totally\", \"travel\", \"travel\", \"travel\", \"travel\", \"travel\", \"trick\", \"trouble\", \"turn\", \"turn\", \"turn\", \"turn\", \"tutorial\", \"tv\", \"tv\", \"underground\", \"underground\", \"unlock\", \"use\", \"use\", \"use\", \"use\", \"use\", \"use\", \"value\", \"value\", \"value\", \"versatile\", \"vibrant\", \"video\", \"video\", \"video\", \"video\", \"video\", \"view\", \"view\", \"visit\", \"voice\", \"wake\", \"want\", \"want\", \"want\", \"want\", \"want\", \"want\", \"warranty\", \"warranty\", \"warranty\", \"watch\", \"watch\", \"watch\", \"watch\", \"watch\", \"weak\", \"web\", \"web\", \"web\", \"weigh\", \"weight\", \"weight\", \"well\", \"well\", \"well\", \"well\", \"well\", \"well\", \"white\", \"white\", \"wife\", \"wife\", \"wife\", \"wife\", \"wifi\", \"wifi\", \"wifi\", \"wifi\", \"wifi\", \"wifi\", \"win\", \"window\", \"wireless\", \"work\", \"work\", \"work\", \"work\", \"work\", \"work\", \"worth\", \"worth\", \"worth\", \"wrap\", \"year\", \"yr\", \"yrs\"]}, \"R\": 30, \"lambda.step\": 0.01, \"plot.opts\": {\"xlab\": \"PC1\", \"ylab\": \"PC2\"}, \"topic.order\": [1, 4, 2, 3, 5, 6]};\n",
              "\n",
              "function LDAvis_load_lib(url, callback){\n",
              "  var s = document.createElement('script');\n",
              "  s.src = url;\n",
              "  s.async = true;\n",
              "  s.onreadystatechange = s.onload = callback;\n",
              "  s.onerror = function(){console.warn(\"failed to load library \" + url);};\n",
              "  document.getElementsByTagName(\"head\")[0].appendChild(s);\n",
              "}\n",
              "\n",
              "if(typeof(LDAvis) !== \"undefined\"){\n",
              "   // already loaded: just create the visualization\n",
              "   !function(LDAvis){\n",
              "       new LDAvis(\"#\" + \"ldavis_el4771401497376524328444218515\", ldavis_el4771401497376524328444218515_data);\n",
              "   }(LDAvis);\n",
              "}else if(typeof define === \"function\" && define.amd){\n",
              "   // require.js is available: use it to load d3/LDAvis\n",
              "   require.config({paths: {d3: \"https://d3js.org/d3.v5\"}});\n",
              "   require([\"d3\"], function(d3){\n",
              "      window.d3 = d3;\n",
              "      LDAvis_load_lib(\"https://cdn.jsdelivr.net/gh/bmabey/pyLDAvis@3.3.1/pyLDAvis/js/ldavis.v3.0.0.js\", function(){\n",
              "        new LDAvis(\"#\" + \"ldavis_el4771401497376524328444218515\", ldavis_el4771401497376524328444218515_data);\n",
              "      });\n",
              "    });\n",
              "}else{\n",
              "    // require.js not available: dynamically load d3 & LDAvis\n",
              "    LDAvis_load_lib(\"https://d3js.org/d3.v5.js\", function(){\n",
              "         LDAvis_load_lib(\"https://cdn.jsdelivr.net/gh/bmabey/pyLDAvis@3.3.1/pyLDAvis/js/ldavis.v3.0.0.js\", function(){\n",
              "                 new LDAvis(\"#\" + \"ldavis_el4771401497376524328444218515\", ldavis_el4771401497376524328444218515_data);\n",
              "            })\n",
              "         });\n",
              "}\n",
              "</script>"
            ],
            "text/plain": [
              "PreparedData(topic_coordinates=              x         y  topics  cluster       Freq\n",
              "topic                                                \n",
              "0      0.100118  0.100799       1        1  24.913430\n",
              "3      0.110951  0.018098       2        1  19.345742\n",
              "1      0.014577 -0.159058       3        1  18.612250\n",
              "2      0.126986  0.026648       4        1  15.147796\n",
              "4     -0.134697 -0.122785       5        1  14.232864\n",
              "5     -0.217935  0.136298       6        1   7.747918, topic_info=       Term         Freq        Total Category  logprob  loglift\n",
              "88     easy  2490.000000  2490.000000  Default  30.0000  30.0000\n",
              "151     old  1851.000000  1851.000000  Default  29.0000  29.0000\n",
              "6      love  4403.000000  4403.000000  Default  28.0000  28.0000\n",
              "908    read  1630.000000  1630.000000  Default  27.0000  27.0000\n",
              "1069   year  1503.000000  1503.000000  Default  26.0000  26.0000\n",
              "...     ...          ...          ...      ...      ...      ...\n",
              "51     want    81.118323   992.679279   Topic6  -5.2335   0.0532\n",
              "6      love    90.693048  4403.262798   Topic6  -5.1220  -1.3249\n",
              "94     good    86.856713  3102.940126   Topic6  -5.1652  -1.0181\n",
              "409    have    71.769986   624.076049   Topic6  -5.3560   0.3949\n",
              "42    small    68.761090   410.467903   Topic6  -5.3988   0.7711\n",
              "\n",
              "[456 rows x 6 columns], token_table=      Topic      Freq   Term\n",
              "term                        \n",
              "1455      1  0.004984      $\n",
              "1455      3  0.936931      $\n",
              "1455      5  0.057312      $\n",
              "2291      1  0.104138    100\n",
              "2291      3  0.867820    100\n",
              "...     ...       ...    ...\n",
              "421       4  0.044526  worth\n",
              "3923      4  0.897843   wrap\n",
              "1069      1  0.999297   year\n",
              "1563      1  0.994734     yr\n",
              "3221      4  0.943335    yrs\n",
              "\n",
              "[955 rows x 3 columns], R=30, lambda_step=0.01, plot_opts={'xlab': 'PC1', 'ylab': 'PC2'}, topic_order=[1, 4, 2, 3, 5, 6])"
            ]
          },
          "metadata": {
            "tags": []
          },
          "execution_count": 27
        }
      ]
    },
    {
      "cell_type": "markdown",
      "metadata": {
        "id": "9gie-6YrzGeB"
      },
      "source": [
        "## Create a Topic id/name dictionary \n",
        "\n",
        "When populating your topic id/name dictionary, use the index ordering as shown in the viz tool. \n",
        "\n",
        "We'll use a function to map the the viz tool index ordering with the train LDA model ordering. "
      ]
    },
    {
      "cell_type": "code",
      "metadata": {
        "deletable": false,
        "nbgrader": {
          "cell_type": "code",
          "checksum": "fc10e9728e5dcf06baf0800c3cdb88ce",
          "grade": false,
          "grade_id": "cell-4905c0c1050f0d03",
          "locked": false,
          "schema_version": 3,
          "solution": true,
          "task": false
        },
        "id": "88vMiVwQzGeC"
      },
      "source": [
        "# create a dictionary \n",
        "# keys - use topic ids from pyLDAvis visualization \n",
        "# values - topic names that you create \n",
        "# save dictionary to `vis_topic_name_dict`\n",
        "\n",
        "vis_topic_name_dict = {1 : 'Kids Fire Tablet', 2 : 'Kindle',\n",
        "                       3 : 'Fire Tablet', 4 : 'Kids Tablet',\n",
        "                       5 : 'Tablet', 6 : 'Alexa Speaker'}"
      ],
      "execution_count": 28,
      "outputs": []
    },
    {
      "cell_type": "code",
      "metadata": {
        "id": "iWLsK27ZzGeC"
      },
      "source": [
        "def get_topic_id_lookup_dict(vis, vis_topic_name_dict):\n",
        "    \"\"\"\n",
        "    Both the starting index and the ordering of topic ids bewteen the trained LDA model \n",
        "    and the viz tool are different. So we need to create a look up dictionary that maps \n",
        "    the correct association between topic ids from both sources. \n",
        "    \"\"\"\n",
        "    # value is order of topic ids accoridng to pyLDAvis tool \n",
        "    # key is order of topic ids according to lda model\n",
        "    model_vis_tool_topic_id_lookup = vis.topic_coordinates.topics.to_dict()\n",
        "\n",
        "    # invert dictionary so that \n",
        "    # key is order of topic ids accoridng to pyLDAvis tool \n",
        "    # value is order of topic ids according to lda model\n",
        "    topic_id_lookup =  {v:k for k, v in model_vis_tool_topic_id_lookup.items()}\n",
        "    \n",
        "    return {v:vis_topic_name_dict[k]  for k, v in topic_id_lookup.items()}"
      ],
      "execution_count": 29,
      "outputs": []
    },
    {
      "cell_type": "code",
      "metadata": {
        "deletable": false,
        "nbgrader": {
          "cell_type": "code",
          "checksum": "55f23aa9324a225091037f0c5daf2192",
          "grade": false,
          "grade_id": "cell-d38acb7b250b4079",
          "locked": false,
          "schema_version": 3,
          "solution": true,
          "task": false
        },
        "id": "dcsa0f_tzGeC"
      },
      "source": [
        "topic_name_dict = get_topic_id_lookup_dict(vis, vis_topic_name_dict)"
      ],
      "execution_count": 33,
      "outputs": []
    },
    {
      "cell_type": "code",
      "metadata": {
        "colab": {
          "base_uri": "https://localhost:8080/"
        },
        "id": "ZmhZkGMxNhMK",
        "outputId": "bf87c7d5-79b5-4f60-ecce-d6cefac33f21"
      },
      "source": [
        "topic_name_dict"
      ],
      "execution_count": 34,
      "outputs": [
        {
          "output_type": "execute_result",
          "data": {
            "text/plain": [
              "{0: 'Kids Fire Tablet',\n",
              " 1: 'Fire Tablet',\n",
              " 2: 'Kids Tablet',\n",
              " 3: 'Kindle',\n",
              " 4: 'Tablet',\n",
              " 5: 'Alexa Speaker'}"
            ]
          },
          "metadata": {
            "tags": []
          },
          "execution_count": 34
        }
      ]
    },
    {
      "cell_type": "markdown",
      "metadata": {
        "id": "t4NLAlB9zGeC"
      },
      "source": [
        "## Assign Each Document a Topic Name\n",
        "\n",
        "Now that we have a topic id/name look up dict that is aligned with the index ordering of the trained LDA model, we can move forward to giving each topic a topic name. \n",
        "\n",
        "The function below has been given to you. However, you highly encouraged to read through it and make sure that you understand what it is doing each step of the way. In fact, a good way to do this is to copy and paste the code inside of the function into a new cell, comment out all the lines of code and line by line, uncomment the code and see the output. "
      ]
    },
    {
      "cell_type": "code",
      "metadata": {
        "id": "23No1SMKzGeC"
      },
      "source": [
        "def get_topic_ids_for_docs(lda_model, corpus):\n",
        "    \n",
        "    \"\"\"\n",
        "    Passes a Bag-of-Words vector into a trained LDA model in order to get the topic id of that document. \n",
        "    \n",
        "    Parameters\n",
        "    ----------\n",
        "    lda_model: Gensim object\n",
        "        Must be a trained model \n",
        "        \n",
        "    corpus: nested lists of tuples, \n",
        "        i.e. [[(),(), ..., ()], [(),(), ..., ()], ..., [(),(), ..., ()]]\n",
        "        \n",
        "    Returns\n",
        "    -------\n",
        "    topic_id_list: list\n",
        "        Contains topic ids for all document vectors in corpus \n",
        "    \"\"\"\n",
        "    \n",
        "    # store topic ids for each document\n",
        "    doc_topic_ids = []\n",
        "\n",
        "    # iterature through the bow vectors for each doc\n",
        "    for doc_bow in corpus:\n",
        "        \n",
        "        # store the topic ids for the doc\n",
        "        topic_ids = []\n",
        "        # store the topic probabilities for the doc\n",
        "        topic_probs = []\n",
        "\n",
        "        # list of tuples\n",
        "        # each tuple has a topic id and the prob that the doc belongs to that topic \n",
        "        topic_id_prob_tuples = lda_trained_model.get_document_topics(doc_bow)\n",
        "        \n",
        "        # iterate through the topic id/prob pairs \n",
        "        for topic_id_prob in topic_id_prob_tuples:\n",
        "            \n",
        "            # index for topic id\n",
        "            topic_id = topic_id_prob[0]\n",
        "            # index for prob that doc belongs that the corresponding topic\n",
        "            topic_prob = topic_id_prob[1]\n",
        "\n",
        "            # store all topic ids for doc\n",
        "            topic_ids.append(topic_id)\n",
        "            # store all topic probs for doc\n",
        "            topic_probs.append(topic_prob)\n",
        "\n",
        "        # get index for largest prob score\n",
        "        max_topic_prob_ind = np.argmax(topic_probs)\n",
        "        # get corresponding topic id\n",
        "        max_prob_topic_id = topic_ids[max_topic_prob_ind]\n",
        "        # store topic id that had the highest prob for doc being a memebr of that topic\n",
        "        doc_topic_ids.append(max_prob_topic_id)\n",
        "        \n",
        "    return doc_topic_ids"
      ],
      "execution_count": 30,
      "outputs": []
    },
    {
      "cell_type": "code",
      "metadata": {
        "deletable": false,
        "nbgrader": {
          "cell_type": "code",
          "checksum": "09f2b8ebaf696dc05187cecce8c9e251",
          "grade": false,
          "grade_id": "cell-e28e8774a79ac647",
          "locked": false,
          "schema_version": 3,
          "solution": true,
          "task": false
        },
        "id": "gI94W2MvzGeD"
      },
      "source": [
        "# use get_topic_ids_for_docs get the topic id for each doc in the corpus - save result to `doc_topic_ids`\n",
        "doc_topic_ids = get_topic_ids_for_docs(lda_model=lda_trained_model, corpus=corpus)\n",
        "\n",
        "# create a new feature in df_electronics called topic_id using `doc_topic_ids`\n",
        "df_electronics['topic_id'] = doc_topic_ids\n",
        "\n",
        "# iterate through topic_id and use the lookup dict `topic_name_dict` to assign each document a topic name\n",
        "# save results to a new feature in df_electronics called `new_topic_name`\n",
        "df_electronics['new_topic_name'] = df_electronics['topic_id'].apply(lambda topic_id: topic_name_dict[topic_id])"
      ],
      "execution_count": 35,
      "outputs": []
    },
    {
      "cell_type": "markdown",
      "metadata": {
        "id": "NZa4oKuIzGeD"
      },
      "source": [
        "## Congratulations! You have created new topic names for your documents. "
      ]
    },
    {
      "cell_type": "code",
      "metadata": {
        "colab": {
          "base_uri": "https://localhost:8080/",
          "height": 510
        },
        "id": "IxyzzAstzGeD",
        "outputId": "ba8cbaa3-a48b-451e-f083-54222f731632"
      },
      "source": [
        "cols = [\"reviews.text\", \"new_topic_name\"]\n",
        "df_electronics[cols].head(15)"
      ],
      "execution_count": 37,
      "outputs": [
        {
          "output_type": "execute_result",
          "data": {
            "text/html": [
              "<div>\n",
              "<style scoped>\n",
              "    .dataframe tbody tr th:only-of-type {\n",
              "        vertical-align: middle;\n",
              "    }\n",
              "\n",
              "    .dataframe tbody tr th {\n",
              "        vertical-align: top;\n",
              "    }\n",
              "\n",
              "    .dataframe thead th {\n",
              "        text-align: right;\n",
              "    }\n",
              "</style>\n",
              "<table border=\"1\" class=\"dataframe\">\n",
              "  <thead>\n",
              "    <tr style=\"text-align: right;\">\n",
              "      <th></th>\n",
              "      <th>reviews.text</th>\n",
              "      <th>new_topic_name</th>\n",
              "    </tr>\n",
              "  </thead>\n",
              "  <tbody>\n",
              "    <tr>\n",
              "      <th>8343</th>\n",
              "      <td>Great case to keep everything in its place! My...</td>\n",
              "      <td>Kids Tablet</td>\n",
              "    </tr>\n",
              "    <tr>\n",
              "      <th>8344</th>\n",
              "      <td>After discarding and getting rid of broken cd ...</td>\n",
              "      <td>Tablet</td>\n",
              "    </tr>\n",
              "    <tr>\n",
              "      <th>8345</th>\n",
              "      <td>A few dollars more, but I am boycotting amazon</td>\n",
              "      <td>Fire Tablet</td>\n",
              "    </tr>\n",
              "    <tr>\n",
              "      <th>8346</th>\n",
              "      <td>My initial impression of this was very good. T...</td>\n",
              "      <td>Fire Tablet</td>\n",
              "    </tr>\n",
              "    <tr>\n",
              "      <th>8347</th>\n",
              "      <td>Pros: Standard Echo. Cons: Older generation Ec...</td>\n",
              "      <td>Kids Fire Tablet</td>\n",
              "    </tr>\n",
              "    <tr>\n",
              "      <th>8348</th>\n",
              "      <td>Pros: Got it for under 50, much impressive sou...</td>\n",
              "      <td>Kids Tablet</td>\n",
              "    </tr>\n",
              "    <tr>\n",
              "      <th>8349</th>\n",
              "      <td>Pros: I love the Alexa series so when this one...</td>\n",
              "      <td>Kindle</td>\n",
              "    </tr>\n",
              "    <tr>\n",
              "      <th>8350</th>\n",
              "      <td>ASIDE FROM THE FACT THAT THE SCREEN IS SMALL, ...</td>\n",
              "      <td>Kindle</td>\n",
              "    </tr>\n",
              "    <tr>\n",
              "      <th>8351</th>\n",
              "      <td>I wasn't sure I even wanted this item, but cau...</td>\n",
              "      <td>Fire Tablet</td>\n",
              "    </tr>\n",
              "    <tr>\n",
              "      <th>8352</th>\n",
              "      <td>Pros: Works good like Alexia Cons: setting it ...</td>\n",
              "      <td>Kids Tablet</td>\n",
              "    </tr>\n",
              "    <tr>\n",
              "      <th>8353</th>\n",
              "      <td>Pros: Relatively easy to setup and works quite...</td>\n",
              "      <td>Tablet</td>\n",
              "    </tr>\n",
              "    <tr>\n",
              "      <th>8354</th>\n",
              "      <td>Pros: I WOULD recommend anyone who was going t...</td>\n",
              "      <td>Kids Tablet</td>\n",
              "    </tr>\n",
              "    <tr>\n",
              "      <th>8355</th>\n",
              "      <td>Pros: Allows you to cut your cable. With many ...</td>\n",
              "      <td>Tablet</td>\n",
              "    </tr>\n",
              "    <tr>\n",
              "      <th>8356</th>\n",
              "      <td>Pros: I'm a subscriber to DirectTV Now! So i p...</td>\n",
              "      <td>Fire Tablet</td>\n",
              "    </tr>\n",
              "    <tr>\n",
              "      <th>8357</th>\n",
              "      <td>Pros: Very satisfied I am about buy online thi...</td>\n",
              "      <td>Kids Tablet</td>\n",
              "    </tr>\n",
              "  </tbody>\n",
              "</table>\n",
              "</div>"
            ],
            "text/plain": [
              "                                           reviews.text    new_topic_name\n",
              "8343  Great case to keep everything in its place! My...       Kids Tablet\n",
              "8344  After discarding and getting rid of broken cd ...            Tablet\n",
              "8345     A few dollars more, but I am boycotting amazon       Fire Tablet\n",
              "8346  My initial impression of this was very good. T...       Fire Tablet\n",
              "8347  Pros: Standard Echo. Cons: Older generation Ec...  Kids Fire Tablet\n",
              "8348  Pros: Got it for under 50, much impressive sou...       Kids Tablet\n",
              "8349  Pros: I love the Alexa series so when this one...            Kindle\n",
              "8350  ASIDE FROM THE FACT THAT THE SCREEN IS SMALL, ...            Kindle\n",
              "8351  I wasn't sure I even wanted this item, but cau...       Fire Tablet\n",
              "8352  Pros: Works good like Alexia Cons: setting it ...       Kids Tablet\n",
              "8353  Pros: Relatively easy to setup and works quite...            Tablet\n",
              "8354  Pros: I WOULD recommend anyone who was going t...       Kids Tablet\n",
              "8355  Pros: Allows you to cut your cable. With many ...            Tablet\n",
              "8356  Pros: I'm a subscriber to DirectTV Now! So i p...       Fire Tablet\n",
              "8357  Pros: Very satisfied I am about buy online thi...       Kids Tablet"
            ]
          },
          "metadata": {
            "tags": []
          },
          "execution_count": 37
        }
      ]
    },
    {
      "cell_type": "markdown",
      "metadata": {
        "id": "gkYnBihNzGeE"
      },
      "source": [
        "-----\n",
        "# Stretch Goals\n",
        "\n",
        "- Treat `new_topic_name` as a Y vector and train a supervised learning model to predict the topic of each document"
      ]
    }
  ]
}