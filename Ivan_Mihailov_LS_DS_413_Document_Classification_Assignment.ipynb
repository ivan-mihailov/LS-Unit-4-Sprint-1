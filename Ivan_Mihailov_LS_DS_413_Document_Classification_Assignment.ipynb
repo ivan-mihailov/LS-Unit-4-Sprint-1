{
  "nbformat": 4,
  "nbformat_minor": 0,
  "metadata": {
    "kernelspec": {
      "display_name": "U4-S1-NLP-DS11",
      "language": "python",
      "name": "u4-s1-nlp-ds11"
    },
    "language_info": {
      "codemirror_mode": {
        "name": "ipython",
        "version": 3
      },
      "file_extension": ".py",
      "mimetype": "text/x-python",
      "name": "python",
      "nbconvert_exporter": "python",
      "pygments_lexer": "ipython3",
      "version": "3.7.0"
    },
    "colab": {
      "name": "Ivan_Mihailov_LS_DS_413_Document_Classification_Assignment.ipynb",
      "provenance": [],
      "collapsed_sections": [],
      "include_colab_link": true
    }
  },
  "cells": [
    {
      "cell_type": "markdown",
      "metadata": {
        "id": "view-in-github",
        "colab_type": "text"
      },
      "source": [
        "<a href=\"https://colab.research.google.com/github/ivan-mihailov/LS-Unit-4-Sprint-1/blob/main/Ivan_Mihailov_LS_DS_413_Document_Classification_Assignment.ipynb\" target=\"_parent\"><img src=\"https://colab.research.google.com/assets/colab-badge.svg\" alt=\"Open In Colab\"/></a>"
      ]
    },
    {
      "cell_type": "markdown",
      "metadata": {
        "id": "Eej9bfoMvgnv"
      },
      "source": [
        "Lambda School Data Science\n",
        "\n",
        "*Unit 4, Sprint 1, Module 3*\n",
        "\n",
        "---"
      ]
    },
    {
      "cell_type": "code",
      "metadata": {
        "colab": {
          "base_uri": "https://localhost:8080/"
        },
        "id": "MhJn8BGdvwQV",
        "outputId": "72899314-91bf-4d62-c44d-ffc7fa9709c8"
      },
      "source": [
        "from google.colab import drive\n",
        "drive.mount('/content/drive')"
      ],
      "execution_count": 1,
      "outputs": [
        {
          "output_type": "stream",
          "text": [
            "Mounted at /content/drive\n"
          ],
          "name": "stdout"
        }
      ]
    },
    {
      "cell_type": "markdown",
      "metadata": {
        "id": "xiYDGhw9vgny"
      },
      "source": [
        "# Document Classification (Assignment)\n",
        "\n",
        "This notebook is for you to practice skills during lecture.\n",
        "\n",
        "Today's guided module project and assignment will be different. You already know how to do classification. You ready know how to extract features from documents. So? That means you're ready to combine and practice those skills in a kaggle competition. We we will open with a five minute sprint explaining the competition, and then give you 25 minutes to work. After those twenty five minutes are up, I will give a 5-minute demo an NLP technique that will help you with document classification (*and **maybe** the competition*).\n",
        "\n",
        "Today's all about having fun and practicing your skills.\n",
        "\n",
        "## Sections\n",
        "* <a href=\"#p1\">Part 1</a>: Text Feature Extraction & Classification Pipelines\n",
        "* <a href=\"#p2\">Part 2</a>: Latent Semantic Indexing\n",
        "* <a href=\"#p3\">Part 3</a>: Word Embeddings with Spacy\n",
        "* <a href=\"#p4\">Part 4</a>: Post Lecture Assignment"
      ]
    },
    {
      "cell_type": "markdown",
      "metadata": {
        "id": "LhNhk5NLvgnz"
      },
      "source": [
        "# Text Feature Extraction & Classification Pipelines (Learn)\n",
        "<a id=\"p1\"></a>"
      ]
    },
    {
      "cell_type": "markdown",
      "metadata": {
        "id": "qAGmHpY-vgn0"
      },
      "source": [
        "### Load Competition Data"
      ]
    },
    {
      "cell_type": "code",
      "metadata": {
        "id": "eAfygONqzG-T"
      },
      "source": [
        "import re\n",
        "import pandas as pd\n",
        "from sklearn.feature_extraction.text import TfidfVectorizer\n",
        "from sklearn.model_selection import GridSearchCV\n",
        "from sklearn.pipeline import Pipeline\n",
        "from sklearn.ensemble import RandomForestClassifier\n",
        "from sklearn.decomposition import TruncatedSVD\n",
        "from xgboost import XGBClassifier"
      ],
      "execution_count": 1,
      "outputs": []
    },
    {
      "cell_type": "code",
      "metadata": {
        "id": "LuRmFz-pvgn1"
      },
      "source": [
        "train = pd.read_csv('/content/drive/MyDrive/Colab Notebooks/Lambda DS/04.Unit_4/01.NLP/03.Document_Classification/train.csv')\n",
        "test = pd.read_csv('/content/drive/MyDrive/Colab Notebooks/Lambda DS/04.Unit_4/01.NLP/03.Document_Classification/test.csv')"
      ],
      "execution_count": 2,
      "outputs": []
    },
    {
      "cell_type": "code",
      "metadata": {
        "id": "_UxGErDVvgn1",
        "colab": {
          "base_uri": "https://localhost:8080/",
          "height": 202
        },
        "outputId": "fbe904b2-b3af-4db5-c8a1-390fdb24c327"
      },
      "source": [
        "train.head()"
      ],
      "execution_count": null,
      "outputs": [
        {
          "output_type": "execute_result",
          "data": {
            "text/html": [
              "<div>\n",
              "<style scoped>\n",
              "    .dataframe tbody tr th:only-of-type {\n",
              "        vertical-align: middle;\n",
              "    }\n",
              "\n",
              "    .dataframe tbody tr th {\n",
              "        vertical-align: top;\n",
              "    }\n",
              "\n",
              "    .dataframe thead th {\n",
              "        text-align: right;\n",
              "    }\n",
              "</style>\n",
              "<table border=\"1\" class=\"dataframe\">\n",
              "  <thead>\n",
              "    <tr style=\"text-align: right;\">\n",
              "      <th></th>\n",
              "      <th>id</th>\n",
              "      <th>description</th>\n",
              "      <th>ratingCategory</th>\n",
              "    </tr>\n",
              "  </thead>\n",
              "  <tbody>\n",
              "    <tr>\n",
              "      <th>0</th>\n",
              "      <td>1321</td>\n",
              "      <td>\\nSometimes, when whisky is batched, a few lef...</td>\n",
              "      <td>1</td>\n",
              "    </tr>\n",
              "    <tr>\n",
              "      <th>1</th>\n",
              "      <td>3861</td>\n",
              "      <td>\\nAn uncommon exclusive bottling of a 6 year o...</td>\n",
              "      <td>0</td>\n",
              "    </tr>\n",
              "    <tr>\n",
              "      <th>2</th>\n",
              "      <td>655</td>\n",
              "      <td>\\nThis release is a port version of Amrut’s In...</td>\n",
              "      <td>1</td>\n",
              "    </tr>\n",
              "    <tr>\n",
              "      <th>3</th>\n",
              "      <td>555</td>\n",
              "      <td>\\nThis 41 year old single cask was aged in a s...</td>\n",
              "      <td>1</td>\n",
              "    </tr>\n",
              "    <tr>\n",
              "      <th>4</th>\n",
              "      <td>1965</td>\n",
              "      <td>\\nQuite herbal on the nose, with aromas of dri...</td>\n",
              "      <td>1</td>\n",
              "    </tr>\n",
              "  </tbody>\n",
              "</table>\n",
              "</div>"
            ],
            "text/plain": [
              "     id                                        description  ratingCategory\n",
              "0  1321  \\nSometimes, when whisky is batched, a few lef...               1\n",
              "1  3861  \\nAn uncommon exclusive bottling of a 6 year o...               0\n",
              "2   655  \\nThis release is a port version of Amrut’s In...               1\n",
              "3   555  \\nThis 41 year old single cask was aged in a s...               1\n",
              "4  1965  \\nQuite herbal on the nose, with aromas of dri...               1"
            ]
          },
          "metadata": {
            "tags": []
          },
          "execution_count": 3
        }
      ]
    },
    {
      "cell_type": "code",
      "metadata": {
        "colab": {
          "base_uri": "https://localhost:8080/"
        },
        "id": "Quz4b--MybyJ",
        "outputId": "e3f0d17d-ffd4-46d3-f79c-48ccf79517fc"
      },
      "source": [
        "train.shape"
      ],
      "execution_count": 3,
      "outputs": [
        {
          "output_type": "execute_result",
          "data": {
            "text/plain": [
              "(4087, 3)"
            ]
          },
          "metadata": {
            "tags": []
          },
          "execution_count": 3
        }
      ]
    },
    {
      "cell_type": "code",
      "metadata": {
        "colab": {
          "base_uri": "https://localhost:8080/",
          "height": 85
        },
        "id": "14-udwpvwkVW",
        "outputId": "d1fafde7-44ab-4da7-9a68-61f88746e79a"
      },
      "source": [
        "train['description'][10]"
      ],
      "execution_count": null,
      "outputs": [
        {
          "output_type": "execute_result",
          "data": {
            "application/vnd.google.colaboratory.intrinsic+json": {
              "type": "string"
            },
            "text/plain": [
              "'\\nThis has the classic sweetish, oily, floral, leathery nose of 100% rye grain whisky. A luxurious, creamy, medium-weight dram with caraway rye bread, restrained but hot peppery spices, vague citrus notes, and hints of cedar setting goal posts for punts of sweet and vaguely floral barley sugar, nail polish (in a good way), caramel, barrel wood, well-aged lumber, dark rye bread, ripe apples, milk chocolate, and baking spices. $90 CAD'"
            ]
          },
          "metadata": {
            "tags": []
          },
          "execution_count": 5
        }
      ]
    },
    {
      "cell_type": "code",
      "metadata": {
        "id": "VVegnTJQwgYc"
      },
      "source": [
        "def clean_data(text):\n",
        "  \"\"\"\n",
        "  Cleans data to remove unwanted characters and punctuation.\n",
        "  \"\"\"\n",
        "  # remove newline and '\\xa0' characters\n",
        "  text = \" \".join(text.split())\n",
        "  # remove punctuation\n",
        "  text = re.sub('[^a-zA-Z$ 0-9]', '', text)\n",
        "  # remove any double whitespaces created by cleaning\n",
        "  text = re.sub(\"[ ]{2,}\", ' ', text)\n",
        "\n",
        "  return text.lower()"
      ],
      "execution_count": 4,
      "outputs": []
    },
    {
      "cell_type": "code",
      "metadata": {
        "id": "A_aT1uNm0bxZ"
      },
      "source": [
        "# Clean train and test dataframes\n",
        "train['description'] = train['description'].apply(clean_data)\n",
        "test['description'] = test['description'].apply(clean_data)"
      ],
      "execution_count": 5,
      "outputs": []
    },
    {
      "cell_type": "code",
      "metadata": {
        "id": "kaACV1e210W1"
      },
      "source": [
        "X_train = train['description']\n",
        "y_train = train['ratingCategory']\n",
        "X_test = test"
      ],
      "execution_count": 6,
      "outputs": []
    },
    {
      "cell_type": "code",
      "metadata": {
        "colab": {
          "base_uri": "https://localhost:8080/"
        },
        "id": "U7ZAfipM8_l5",
        "outputId": "67b9e9e1-cd18-4b6d-efe2-0f934c9d2d5d"
      },
      "source": [
        "print(X_train.shape)\n",
        "print(y_train.shape)"
      ],
      "execution_count": 7,
      "outputs": [
        {
          "output_type": "stream",
          "text": [
            "(4087,)\n",
            "(4087,)\n"
          ],
          "name": "stdout"
        }
      ]
    },
    {
      "cell_type": "code",
      "metadata": {
        "colab": {
          "base_uri": "https://localhost:8080/"
        },
        "id": "pV_99w4TEFa5",
        "outputId": "564ff01c-4fd2-4c43-f532-002d7b264889"
      },
      "source": [
        "pipe = Pipeline([('vect', TfidfVectorizer(stop_words='english')),\n",
        "                 ('clf', RandomForestClassifier())])\n",
        "\n",
        "param_grid = {\n",
        "    'vect__max_df': [.75, 1.0],\n",
        "    'clf__max_depth': [5,10,15,20]\n",
        "}\n",
        "\n",
        "grid_search = GridSearchCV(pipe, param_grid, cv=3, n_jobs=-2, verbose=1)\n",
        "\n",
        "# fit me the model and do cross validation\n",
        "grid_search.fit(X_train,y_train)"
      ],
      "execution_count": null,
      "outputs": [
        {
          "output_type": "stream",
          "text": [
            "Fitting 3 folds for each of 8 candidates, totalling 24 fits\n"
          ],
          "name": "stdout"
        },
        {
          "output_type": "stream",
          "text": [
            "[Parallel(n_jobs=-2)]: Using backend SequentialBackend with 1 concurrent workers.\n",
            "[Parallel(n_jobs=-2)]: Done  24 out of  24 | elapsed:   15.7s finished\n"
          ],
          "name": "stderr"
        },
        {
          "output_type": "execute_result",
          "data": {
            "text/plain": [
              "GridSearchCV(cv=3, error_score=nan,\n",
              "             estimator=Pipeline(memory=None,\n",
              "                                steps=[('vect',\n",
              "                                        TfidfVectorizer(analyzer='word',\n",
              "                                                        binary=False,\n",
              "                                                        decode_error='strict',\n",
              "                                                        dtype=<class 'numpy.float64'>,\n",
              "                                                        encoding='utf-8',\n",
              "                                                        input='content',\n",
              "                                                        lowercase=True,\n",
              "                                                        max_df=1.0,\n",
              "                                                        max_features=None,\n",
              "                                                        min_df=1,\n",
              "                                                        ngram_range=(1, 1),\n",
              "                                                        norm='l2',\n",
              "                                                        preprocessor=None,\n",
              "                                                        smooth_idf=True,\n",
              "                                                        stop_words='english',\n",
              "                                                        strip...\n",
              "                                                               min_samples_leaf=1,\n",
              "                                                               min_samples_split=2,\n",
              "                                                               min_weight_fraction_leaf=0.0,\n",
              "                                                               n_estimators=100,\n",
              "                                                               n_jobs=None,\n",
              "                                                               oob_score=False,\n",
              "                                                               random_state=None,\n",
              "                                                               verbose=0,\n",
              "                                                               warm_start=False))],\n",
              "                                verbose=False),\n",
              "             iid='deprecated', n_jobs=-2,\n",
              "             param_grid={'clf__max_depth': [5, 10, 15, 20],\n",
              "                         'vect__max_df': [0.75, 1.0]},\n",
              "             pre_dispatch='2*n_jobs', refit=True, return_train_score=False,\n",
              "             scoring=None, verbose=1)"
            ]
          },
          "metadata": {
            "tags": []
          },
          "execution_count": 21
        }
      ]
    },
    {
      "cell_type": "code",
      "metadata": {
        "colab": {
          "base_uri": "https://localhost:8080/"
        },
        "id": "L3Ufgn1_JAGE",
        "outputId": "29e21242-a425-4692-a4db-0fec2f4aeee7"
      },
      "source": [
        "print(grid_search.best_params_)\n",
        "print(grid_search.best_estimator_)\n",
        "print(grid_search.best_score_)"
      ],
      "execution_count": null,
      "outputs": [
        {
          "output_type": "stream",
          "text": [
            "{'clf__max_depth': 20, 'vect__max_df': 1.0}\n",
            "Pipeline(memory=None,\n",
            "         steps=[('vect',\n",
            "                 TfidfVectorizer(analyzer='word', binary=False,\n",
            "                                 decode_error='strict',\n",
            "                                 dtype=<class 'numpy.float64'>,\n",
            "                                 encoding='utf-8', input='content',\n",
            "                                 lowercase=True, max_df=1.0, max_features=None,\n",
            "                                 min_df=1, ngram_range=(1, 1), norm='l2',\n",
            "                                 preprocessor=None, smooth_idf=True,\n",
            "                                 stop_words='english', strip_accents=None,\n",
            "                                 sublinear_tf=False,\n",
            "                                 token_patte...\n",
            "                 RandomForestClassifier(bootstrap=True, ccp_alpha=0.0,\n",
            "                                        class_weight=None, criterion='gini',\n",
            "                                        max_depth=20, max_features='auto',\n",
            "                                        max_leaf_nodes=None, max_samples=None,\n",
            "                                        min_impurity_decrease=0.0,\n",
            "                                        min_impurity_split=None,\n",
            "                                        min_samples_leaf=1, min_samples_split=2,\n",
            "                                        min_weight_fraction_leaf=0.0,\n",
            "                                        n_estimators=100, n_jobs=None,\n",
            "                                        oob_score=False, random_state=None,\n",
            "                                        verbose=0, warm_start=False))],\n",
            "         verbose=False)\n",
            "0.7105446401990368\n"
          ],
          "name": "stdout"
        }
      ]
    },
    {
      "cell_type": "markdown",
      "metadata": {
        "id": "XfMxThCDvgn2"
      },
      "source": [
        "### Define Pipeline Components"
      ]
    },
    {
      "cell_type": "code",
      "metadata": {
        "id": "0E5CBaS3vgn3"
      },
      "source": [
        "vect = TfidfVectorizer(stop_words='english')\n",
        "clf = XGBClassifier()\n",
        "\n",
        "pipe = Pipeline([('vect', vect), ('clf', clf)])"
      ],
      "execution_count": null,
      "outputs": []
    },
    {
      "cell_type": "markdown",
      "metadata": {
        "id": "j4GwvNQfvgn3"
      },
      "source": [
        "### Define Your Search Space\n",
        "You're looking for both the best hyperparameters of your vectorizer and your classification model. "
      ]
    },
    {
      "cell_type": "code",
      "metadata": {
        "id": "cgpLLlLbvgn4",
        "colab": {
          "base_uri": "https://localhost:8080/"
        },
        "outputId": "076ad123-80a3-4592-f714-a84264d1b264"
      },
      "source": [
        "parameters = {\n",
        "    'vect__max_df': (0.75, 1.0),\n",
        "    'clf__max_depth':(5,10,15,20),\n",
        "    'clf__eta':(0.3, 0.5, 0.8)\n",
        "}\n",
        "\n",
        "grid_search = GridSearchCV(pipe,parameters, cv=3, n_jobs=-1, verbose=1)\n",
        "grid_search.fit(X_train, y_train)"
      ],
      "execution_count": null,
      "outputs": [
        {
          "output_type": "stream",
          "text": [
            "Fitting 3 folds for each of 24 candidates, totalling 72 fits\n"
          ],
          "name": "stdout"
        },
        {
          "output_type": "stream",
          "text": [
            "[Parallel(n_jobs=-1)]: Using backend LokyBackend with 2 concurrent workers.\n",
            "[Parallel(n_jobs=-1)]: Done  46 tasks      | elapsed: 19.7min\n",
            "[Parallel(n_jobs=-1)]: Done  72 out of  72 | elapsed: 31.5min finished\n"
          ],
          "name": "stderr"
        },
        {
          "output_type": "execute_result",
          "data": {
            "text/plain": [
              "GridSearchCV(cv=3, error_score=nan,\n",
              "             estimator=Pipeline(memory=None,\n",
              "                                steps=[('vect',\n",
              "                                        TfidfVectorizer(analyzer='word',\n",
              "                                                        binary=False,\n",
              "                                                        decode_error='strict',\n",
              "                                                        dtype=<class 'numpy.float64'>,\n",
              "                                                        encoding='utf-8',\n",
              "                                                        input='content',\n",
              "                                                        lowercase=True,\n",
              "                                                        max_df=1.0,\n",
              "                                                        max_features=None,\n",
              "                                                        min_df=1,\n",
              "                                                        ngram_range=(1, 1),\n",
              "                                                        norm='l2',\n",
              "                                                        preprocessor=None,\n",
              "                                                        smooth_idf=True,\n",
              "                                                        stop_words='english',\n",
              "                                                        strip...\n",
              "                                                      objective='binary:logistic',\n",
              "                                                      random_state=0,\n",
              "                                                      reg_alpha=0, reg_lambda=1,\n",
              "                                                      scale_pos_weight=1,\n",
              "                                                      seed=None, silent=None,\n",
              "                                                      subsample=1,\n",
              "                                                      verbosity=1))],\n",
              "                                verbose=False),\n",
              "             iid='deprecated', n_jobs=-1,\n",
              "             param_grid={'clf__eta': (0.3, 0.5, 0.8),\n",
              "                         'clf__max_depth': (5, 10, 15, 20),\n",
              "                         'vect__max_df': (0.75, 1.0)},\n",
              "             pre_dispatch='2*n_jobs', refit=True, return_train_score=False,\n",
              "             scoring=None, verbose=1)"
            ]
          },
          "metadata": {
            "tags": []
          },
          "execution_count": 27
        }
      ]
    },
    {
      "cell_type": "code",
      "metadata": {
        "colab": {
          "base_uri": "https://localhost:8080/"
        },
        "id": "QhMMYTZSMw30",
        "outputId": "76188a08-414f-4a6b-8a52-ed3d834d5510"
      },
      "source": [
        "print(grid_search.best_params_)\n",
        "print(grid_search.best_estimator_)\n",
        "print(grid_search.best_score_)"
      ],
      "execution_count": null,
      "outputs": [
        {
          "output_type": "stream",
          "text": [
            "{'clf__eta': 0.3, 'clf__max_depth': 15, 'vect__max_df': 0.75}\n",
            "Pipeline(memory=None,\n",
            "         steps=[('vect',\n",
            "                 TfidfVectorizer(analyzer='word', binary=False,\n",
            "                                 decode_error='strict',\n",
            "                                 dtype=<class 'numpy.float64'>,\n",
            "                                 encoding='utf-8', input='content',\n",
            "                                 lowercase=True, max_df=0.75, max_features=None,\n",
            "                                 min_df=1, ngram_range=(1, 1), norm='l2',\n",
            "                                 preprocessor=None, smooth_idf=True,\n",
            "                                 stop_words='english', strip_accents=None,\n",
            "                                 sublinear_tf=False,\n",
            "                                 token_patt...\n",
            "                 XGBClassifier(base_score=0.5, booster='gbtree',\n",
            "                               colsample_bylevel=1, colsample_bynode=1,\n",
            "                               colsample_bytree=1, eta=0.3, gamma=0,\n",
            "                               learning_rate=0.1, max_delta_step=0,\n",
            "                               max_depth=15, min_child_weight=1, missing=None,\n",
            "                               n_estimators=100, n_jobs=1, nthread=None,\n",
            "                               objective='multi:softprob', random_state=0,\n",
            "                               reg_alpha=0, reg_lambda=1, scale_pos_weight=1,\n",
            "                               seed=None, silent=None, subsample=1,\n",
            "                               verbosity=1))],\n",
            "         verbose=False)\n",
            "0.7340373459972298\n"
          ],
          "name": "stdout"
        }
      ]
    },
    {
      "cell_type": "markdown",
      "metadata": {
        "id": "5kEMvL6kvgn4"
      },
      "source": [
        "### Make a Submission File\n",
        "*Note:* In a typical Kaggle competition, you are only allowed two submissions a day, so you only submit if you feel you cannot achieve higher test accuracy. For this competition the max daily submissions are capped at **20**. Submit for each demo and for your assignment. "
      ]
    },
    {
      "cell_type": "code",
      "metadata": {
        "id": "sxlXzPHJvgn4"
      },
      "source": [
        "# Predictions on test sample\n",
        "pred = grid_search.predict(test['description'])"
      ],
      "execution_count": null,
      "outputs": []
    },
    {
      "cell_type": "code",
      "metadata": {
        "id": "YvUaNDJKvgn4"
      },
      "source": [
        "submission = pd.DataFrame({'id': test['id'], 'ratingCategory':pred})\n",
        "submission['ratingCategory'] = submission['ratingCategory'].astype('int64')"
      ],
      "execution_count": null,
      "outputs": []
    },
    {
      "cell_type": "code",
      "metadata": {
        "id": "PQuS7CSHvgn5",
        "colab": {
          "base_uri": "https://localhost:8080/",
          "height": 202
        },
        "outputId": "19d18408-d7ee-4c96-97cf-c7c20a10e769"
      },
      "source": [
        "# Make Sure the Category is an Integer\n",
        "submission.head()"
      ],
      "execution_count": null,
      "outputs": [
        {
          "output_type": "execute_result",
          "data": {
            "text/html": [
              "<div>\n",
              "<style scoped>\n",
              "    .dataframe tbody tr th:only-of-type {\n",
              "        vertical-align: middle;\n",
              "    }\n",
              "\n",
              "    .dataframe tbody tr th {\n",
              "        vertical-align: top;\n",
              "    }\n",
              "\n",
              "    .dataframe thead th {\n",
              "        text-align: right;\n",
              "    }\n",
              "</style>\n",
              "<table border=\"1\" class=\"dataframe\">\n",
              "  <thead>\n",
              "    <tr style=\"text-align: right;\">\n",
              "      <th></th>\n",
              "      <th>id</th>\n",
              "      <th>ratingCategory</th>\n",
              "    </tr>\n",
              "  </thead>\n",
              "  <tbody>\n",
              "    <tr>\n",
              "      <th>0</th>\n",
              "      <td>3461</td>\n",
              "      <td>1</td>\n",
              "    </tr>\n",
              "    <tr>\n",
              "      <th>1</th>\n",
              "      <td>2604</td>\n",
              "      <td>1</td>\n",
              "    </tr>\n",
              "    <tr>\n",
              "      <th>2</th>\n",
              "      <td>3341</td>\n",
              "      <td>1</td>\n",
              "    </tr>\n",
              "    <tr>\n",
              "      <th>3</th>\n",
              "      <td>3764</td>\n",
              "      <td>1</td>\n",
              "    </tr>\n",
              "    <tr>\n",
              "      <th>4</th>\n",
              "      <td>2306</td>\n",
              "      <td>1</td>\n",
              "    </tr>\n",
              "  </tbody>\n",
              "</table>\n",
              "</div>"
            ],
            "text/plain": [
              "     id  ratingCategory\n",
              "0  3461               1\n",
              "1  2604               1\n",
              "2  3341               1\n",
              "3  3764               1\n",
              "4  2306               1"
            ]
          },
          "metadata": {
            "tags": []
          },
          "execution_count": 31
        }
      ]
    },
    {
      "cell_type": "code",
      "metadata": {
        "id": "zHvfbtX2vgn5"
      },
      "source": [
        "subNumber = 0"
      ],
      "execution_count": null,
      "outputs": []
    },
    {
      "cell_type": "code",
      "metadata": {
        "id": "eiZQC5Ymvgn5"
      },
      "source": [
        "# Save your Submission File\n",
        "# Best to Use an Integer or Timestamp for different versions of your model\n",
        "\n",
        "submission.to_csv(f'/content/drive/MyDrive/Colab Notebooks/Lambda DS/04.Unit_4/01.NLP/03.Document_Classification/submission{subNumber}.csv', index=False)\n",
        "subNumber += 1"
      ],
      "execution_count": null,
      "outputs": []
    },
    {
      "cell_type": "markdown",
      "metadata": {
        "id": "mjAXe8TLvgn5"
      },
      "source": [
        "## Challenge\n",
        "\n",
        "You're trying to achieve a minimum of 80% Accuracy on your model."
      ]
    },
    {
      "cell_type": "markdown",
      "metadata": {
        "id": "qzs9XBnEvgn6"
      },
      "source": [
        "## Latent Semantic Indexing (Learn)\n",
        "<a id=\"p2\"></a>"
      ]
    },
    {
      "cell_type": "markdown",
      "metadata": {
        "id": "rQokQDV6vgn6"
      },
      "source": [
        "### Define Pipeline Components"
      ]
    },
    {
      "cell_type": "code",
      "metadata": {
        "id": "TxLbwjwwvgn6"
      },
      "source": [
        "svd = TruncatedSVD(n_components = 100) # Generate 100 topics from the tokens\n",
        "vect = TfidfVectorizer(stop_words='english') # Vectorize the description\n",
        "clf = XGBClassifier()\n",
        "\n",
        "lsa = Pipeline([('vect', vect), ('svd', svd)]) # Create LSA pipeline\n",
        "\n",
        "pipe = Pipeline([('lsa', lsa), ('clf', clf)]) # Create nested pipeline with XGBoost Classifier"
      ],
      "execution_count": null,
      "outputs": []
    },
    {
      "cell_type": "markdown",
      "metadata": {
        "id": "kNS4oyMFvgn6"
      },
      "source": [
        "### Define Your Search Space\n",
        "You're looking for both the best hyperparameters of your vectorizer and your classification model. "
      ]
    },
    {
      "cell_type": "code",
      "metadata": {
        "id": "lf5Pq4e5vgn7",
        "colab": {
          "base_uri": "https://localhost:8080/"
        },
        "outputId": "fbf82924-7cdd-47f3-eb58-dede043ea016"
      },
      "source": [
        "parameters = {\n",
        "    'lsa__svd__n_components': [10,100,250],\n",
        "    'lsa__vect__max_df': (0.75, 1.0),\n",
        "    'clf__max_depth':(5,10,15,20)\n",
        "}\n",
        "\n",
        "grid_search = GridSearchCV(pipe,parameters, cv=3, n_jobs=-1, verbose=1)\n",
        "grid_search.fit(X_train, y_train)"
      ],
      "execution_count": null,
      "outputs": [
        {
          "output_type": "stream",
          "text": [
            "Fitting 3 folds for each of 24 candidates, totalling 72 fits\n"
          ],
          "name": "stdout"
        },
        {
          "output_type": "stream",
          "text": [
            "[Parallel(n_jobs=-1)]: Using backend LokyBackend with 2 concurrent workers.\n",
            "[Parallel(n_jobs=-1)]: Done  46 tasks      | elapsed:  8.5min\n",
            "[Parallel(n_jobs=-1)]: Done  72 out of  72 | elapsed: 17.7min finished\n"
          ],
          "name": "stderr"
        },
        {
          "output_type": "execute_result",
          "data": {
            "text/plain": [
              "GridSearchCV(cv=3, error_score=nan,\n",
              "             estimator=Pipeline(memory=None,\n",
              "                                steps=[('lsa',\n",
              "                                        Pipeline(memory=None,\n",
              "                                                 steps=[('vect',\n",
              "                                                         TfidfVectorizer(analyzer='word',\n",
              "                                                                         binary=False,\n",
              "                                                                         decode_error='strict',\n",
              "                                                                         dtype=<class 'numpy.float64'>,\n",
              "                                                                         encoding='utf-8',\n",
              "                                                                         input='content',\n",
              "                                                                         lowercase=True,\n",
              "                                                                         max_df=1.0,\n",
              "                                                                         max_features=None,\n",
              "                                                                         min_df=1,\n",
              "                                                                         ngram_range=(1,\n",
              "                                                                                      1),\n",
              "                                                                         norm='l2',\n",
              "                                                                         preprocessor=None,\n",
              "                                                                         smooth_...\n",
              "                                                      objective='binary:logistic',\n",
              "                                                      random_state=0,\n",
              "                                                      reg_alpha=0, reg_lambda=1,\n",
              "                                                      scale_pos_weight=1,\n",
              "                                                      seed=None, silent=None,\n",
              "                                                      subsample=1,\n",
              "                                                      verbosity=1))],\n",
              "                                verbose=False),\n",
              "             iid='deprecated', n_jobs=-1,\n",
              "             param_grid={'clf__max_depth': (5, 10, 15, 20),\n",
              "                         'lsa__svd__n_components': [10, 100, 250],\n",
              "                         'lsa__vect__max_df': (0.75, 1.0)},\n",
              "             pre_dispatch='2*n_jobs', refit=True, return_train_score=False,\n",
              "             scoring=None, verbose=1)"
            ]
          },
          "metadata": {
            "tags": []
          },
          "execution_count": 41
        }
      ]
    },
    {
      "cell_type": "code",
      "metadata": {
        "colab": {
          "base_uri": "https://localhost:8080/"
        },
        "id": "1pTB0NpXQxeW",
        "outputId": "e1ed96ab-a664-4735-fbd6-6d91847bfa92"
      },
      "source": [
        "print(grid_search.best_params_)\n",
        "print(grid_search.best_estimator_)\n",
        "print(grid_search.best_score_)"
      ],
      "execution_count": null,
      "outputs": [
        {
          "output_type": "stream",
          "text": [
            "{'clf__max_depth': 10, 'lsa__svd__n_components': 250, 'lsa__vect__max_df': 0.75}\n",
            "Pipeline(memory=None,\n",
            "         steps=[('lsa',\n",
            "                 Pipeline(memory=None,\n",
            "                          steps=[('vect',\n",
            "                                  TfidfVectorizer(analyzer='word', binary=False,\n",
            "                                                  decode_error='strict',\n",
            "                                                  dtype=<class 'numpy.float64'>,\n",
            "                                                  encoding='utf-8',\n",
            "                                                  input='content',\n",
            "                                                  lowercase=True, max_df=0.75,\n",
            "                                                  max_features=None, min_df=1,\n",
            "                                                  ngram_range=(1, 1), norm='l2',\n",
            "                                                  preprocessor=None,\n",
            "                                                  smooth_idf=True,\n",
            "                                                  stop_words='english',\n",
            "                                                  strip_accents...\n",
            "                 XGBClassifier(base_score=0.5, booster='gbtree',\n",
            "                               colsample_bylevel=1, colsample_bynode=1,\n",
            "                               colsample_bytree=1, gamma=0, learning_rate=0.1,\n",
            "                               max_delta_step=0, max_depth=10,\n",
            "                               min_child_weight=1, missing=None,\n",
            "                               n_estimators=100, n_jobs=1, nthread=None,\n",
            "                               objective='multi:softprob', random_state=0,\n",
            "                               reg_alpha=0, reg_lambda=1, scale_pos_weight=1,\n",
            "                               seed=None, silent=None, subsample=1,\n",
            "                               verbosity=1))],\n",
            "         verbose=False)\n",
            "0.7359938145714532\n"
          ],
          "name": "stdout"
        }
      ]
    },
    {
      "cell_type": "markdown",
      "metadata": {
        "id": "WrTPNhfsvgn7"
      },
      "source": [
        "### Make a Submission File"
      ]
    },
    {
      "cell_type": "code",
      "metadata": {
        "id": "0UcoP1Zhvgn7"
      },
      "source": [
        "# Predictions on test sample\n",
        "pred = grid_search.predict(test['description'])"
      ],
      "execution_count": null,
      "outputs": []
    },
    {
      "cell_type": "code",
      "metadata": {
        "id": "DoopKXO9vgn7"
      },
      "source": [
        "submission = pd.DataFrame({'id': test['id'], 'ratingCategory':pred})\n",
        "submission['ratingCategory'] = submission['ratingCategory'].astype('int64')"
      ],
      "execution_count": null,
      "outputs": []
    },
    {
      "cell_type": "code",
      "metadata": {
        "id": "Bvrdg0f3vgn7",
        "colab": {
          "base_uri": "https://localhost:8080/",
          "height": 202
        },
        "outputId": "104cf915-9a22-4f41-c2b7-24c0a649ea8b"
      },
      "source": [
        "# Make Sure the Category is an Integer\n",
        "submission.head()"
      ],
      "execution_count": null,
      "outputs": [
        {
          "output_type": "execute_result",
          "data": {
            "text/html": [
              "<div>\n",
              "<style scoped>\n",
              "    .dataframe tbody tr th:only-of-type {\n",
              "        vertical-align: middle;\n",
              "    }\n",
              "\n",
              "    .dataframe tbody tr th {\n",
              "        vertical-align: top;\n",
              "    }\n",
              "\n",
              "    .dataframe thead th {\n",
              "        text-align: right;\n",
              "    }\n",
              "</style>\n",
              "<table border=\"1\" class=\"dataframe\">\n",
              "  <thead>\n",
              "    <tr style=\"text-align: right;\">\n",
              "      <th></th>\n",
              "      <th>id</th>\n",
              "      <th>ratingCategory</th>\n",
              "    </tr>\n",
              "  </thead>\n",
              "  <tbody>\n",
              "    <tr>\n",
              "      <th>0</th>\n",
              "      <td>3461</td>\n",
              "      <td>1</td>\n",
              "    </tr>\n",
              "    <tr>\n",
              "      <th>1</th>\n",
              "      <td>2604</td>\n",
              "      <td>1</td>\n",
              "    </tr>\n",
              "    <tr>\n",
              "      <th>2</th>\n",
              "      <td>3341</td>\n",
              "      <td>1</td>\n",
              "    </tr>\n",
              "    <tr>\n",
              "      <th>3</th>\n",
              "      <td>3764</td>\n",
              "      <td>1</td>\n",
              "    </tr>\n",
              "    <tr>\n",
              "      <th>4</th>\n",
              "      <td>2306</td>\n",
              "      <td>1</td>\n",
              "    </tr>\n",
              "  </tbody>\n",
              "</table>\n",
              "</div>"
            ],
            "text/plain": [
              "     id  ratingCategory\n",
              "0  3461               1\n",
              "1  2604               1\n",
              "2  3341               1\n",
              "3  3764               1\n",
              "4  2306               1"
            ]
          },
          "metadata": {
            "tags": []
          },
          "execution_count": 45
        }
      ]
    },
    {
      "cell_type": "code",
      "metadata": {
        "id": "66Sim0ncvgn8"
      },
      "source": [
        "# Save your Submission File\n",
        "# Best to Use an Integer or Timestamp for different versions of your model\n",
        "\n",
        "submission.to_csv(f'/content/drive/MyDrive/Colab Notebooks/Lambda DS/04.Unit_4/01.NLP/03.Document_Classification/submission{subNumber}.csv', index=False)\n",
        "subNumber += 1"
      ],
      "execution_count": null,
      "outputs": []
    },
    {
      "cell_type": "markdown",
      "metadata": {
        "id": "AcqKbSEkvgn8"
      },
      "source": [
        "## Challenge\n",
        "\n",
        "Continue to apply Latent Semantic Indexing (LSI) to various datasets. "
      ]
    },
    {
      "cell_type": "markdown",
      "metadata": {
        "id": "TrHK3QPFvgn8"
      },
      "source": [
        "# Word Embeddings with Spacy (Learn)\n",
        "<a id=\"p3\"></a>"
      ]
    },
    {
      "cell_type": "markdown",
      "metadata": {
        "id": "KwiF0CKwvgn8"
      },
      "source": [
        "## Follow Along"
      ]
    },
    {
      "cell_type": "code",
      "metadata": {
        "id": "scOXe9QWTm9b"
      },
      "source": [
        "!pip install -U spacy"
      ],
      "execution_count": null,
      "outputs": []
    },
    {
      "cell_type": "code",
      "metadata": {
        "id": "o2ArioB_TqnD"
      },
      "source": [
        "!python -m spacy download en_core_web_lg"
      ],
      "execution_count": null,
      "outputs": []
    },
    {
      "cell_type": "code",
      "metadata": {
        "id": "sqMyDs6CT4KL"
      },
      "source": [
        "import spacy\n",
        "# Load pre-trained word2vec\n",
        "nlp = spacy.load('en_core_web_lg')"
      ],
      "execution_count": 8,
      "outputs": []
    },
    {
      "cell_type": "code",
      "metadata": {
        "id": "XqAYJNoEUyVU"
      },
      "source": [
        "def get_word_vectors(docs):\n",
        "  \"\"\"Tokenizes and vectorizes the documents\"\"\"\n",
        "  return [nlp(doc).vector for doc in docs]"
      ],
      "execution_count": 9,
      "outputs": []
    },
    {
      "cell_type": "code",
      "metadata": {
        "id": "RpUrt1H1VV0v"
      },
      "source": [
        "X_train_w2v = get_word_vectors(train['description'])\n",
        "X_test_w2v = get_word_vectors(test['description'])"
      ],
      "execution_count": 10,
      "outputs": []
    },
    {
      "cell_type": "code",
      "metadata": {
        "id": "UNiNVEAIyj-4"
      },
      "source": [
        "svd = TruncatedSVD(n_components = 100) # Generate 100 topics from the tokens\n",
        "clf = RandomForestClassifier()\n",
        "\n",
        "pipe = Pipeline([('svd', svd), ('clf', clf)])"
      ],
      "execution_count": null,
      "outputs": []
    },
    {
      "cell_type": "code",
      "metadata": {
        "colab": {
          "base_uri": "https://localhost:8080/"
        },
        "id": "Jwutqfqzys5m",
        "outputId": "92fd1111-23fb-4ff8-a078-b826d85a9bc6"
      },
      "source": [
        "pipe.fit(X_train_w2v, y_train)"
      ],
      "execution_count": null,
      "outputs": [
        {
          "output_type": "execute_result",
          "data": {
            "text/plain": [
              "Pipeline(memory=None,\n",
              "         steps=[('svd',\n",
              "                 TruncatedSVD(algorithm='randomized', n_components=100,\n",
              "                              n_iter=5, random_state=None, tol=0.0)),\n",
              "                ('clf',\n",
              "                 RandomForestClassifier(bootstrap=True, ccp_alpha=0.0,\n",
              "                                        class_weight=None, criterion='gini',\n",
              "                                        max_depth=None, max_features='auto',\n",
              "                                        max_leaf_nodes=None, max_samples=None,\n",
              "                                        min_impurity_decrease=0.0,\n",
              "                                        min_impurity_split=None,\n",
              "                                        min_samples_leaf=1, min_samples_split=2,\n",
              "                                        min_weight_fraction_leaf=0.0,\n",
              "                                        n_estimators=100, n_jobs=None,\n",
              "                                        oob_score=False, random_state=None,\n",
              "                                        verbose=0, warm_start=False))],\n",
              "         verbose=False)"
            ]
          },
          "metadata": {
            "tags": []
          },
          "execution_count": 62
        }
      ]
    },
    {
      "cell_type": "code",
      "metadata": {
        "colab": {
          "base_uri": "https://localhost:8080/"
        },
        "id": "ik5PIftIyzlE",
        "outputId": "013183ac-5daa-423d-809f-11cf7ae45e09"
      },
      "source": [
        "pipe.score(X_train_w2v, y_train)"
      ],
      "execution_count": null,
      "outputs": [
        {
          "output_type": "execute_result",
          "data": {
            "text/plain": [
              "0.9995106435037925"
            ]
          },
          "metadata": {
            "tags": []
          },
          "execution_count": 63
        }
      ]
    },
    {
      "cell_type": "markdown",
      "metadata": {
        "id": "papAK9WSaGmd"
      },
      "source": [
        "# Pipeline with XGBoost"
      ]
    },
    {
      "cell_type": "code",
      "metadata": {
        "id": "DuV0-xhIaMRj"
      },
      "source": [
        "svd = TruncatedSVD(n_components = 100) # Generate 100 topics from the tokens\n",
        "clf = XGBClassifier()\n",
        "\n",
        "pipe = Pipeline([('svd', svd), ('clf', clf)])"
      ],
      "execution_count": 11,
      "outputs": []
    },
    {
      "cell_type": "code",
      "metadata": {
        "colab": {
          "base_uri": "https://localhost:8080/"
        },
        "id": "xPHuVDb2ado-",
        "outputId": "a7b64d8a-5000-495d-f6ae-f498134797a2"
      },
      "source": [
        "pipe.fit(X_train_w2v, y_train)"
      ],
      "execution_count": 12,
      "outputs": [
        {
          "output_type": "execute_result",
          "data": {
            "text/plain": [
              "Pipeline(memory=None,\n",
              "         steps=[('svd',\n",
              "                 TruncatedSVD(algorithm='randomized', n_components=100,\n",
              "                              n_iter=5, random_state=None, tol=0.0)),\n",
              "                ('clf',\n",
              "                 XGBClassifier(base_score=0.5, booster='gbtree',\n",
              "                               colsample_bylevel=1, colsample_bynode=1,\n",
              "                               colsample_bytree=1, gamma=0, learning_rate=0.1,\n",
              "                               max_delta_step=0, max_depth=3,\n",
              "                               min_child_weight=1, missing=None,\n",
              "                               n_estimators=100, n_jobs=1, nthread=None,\n",
              "                               objective='multi:softprob', random_state=0,\n",
              "                               reg_alpha=0, reg_lambda=1, scale_pos_weight=1,\n",
              "                               seed=None, silent=None, subsample=1,\n",
              "                               verbosity=1))],\n",
              "         verbose=False)"
            ]
          },
          "metadata": {
            "tags": []
          },
          "execution_count": 12
        }
      ]
    },
    {
      "cell_type": "code",
      "metadata": {
        "colab": {
          "base_uri": "https://localhost:8080/"
        },
        "id": "i1CVz465aon3",
        "outputId": "4fb548e1-12fd-4ef6-b61b-761445cd74bf"
      },
      "source": [
        "pipe.score(X_train_w2v, y_train)"
      ],
      "execution_count": 13,
      "outputs": [
        {
          "output_type": "execute_result",
          "data": {
            "text/plain": [
              "0.8306826523122094"
            ]
          },
          "metadata": {
            "tags": []
          },
          "execution_count": 13
        }
      ]
    },
    {
      "cell_type": "code",
      "metadata": {
        "colab": {
          "base_uri": "https://localhost:8080/"
        },
        "id": "AYTukMgcbgyp",
        "outputId": "2969b28c-77f7-4156-8e9c-00a236df5d49"
      },
      "source": [
        "type(X_train_w2v)"
      ],
      "execution_count": null,
      "outputs": [
        {
          "output_type": "execute_result",
          "data": {
            "text/plain": [
              "list"
            ]
          },
          "metadata": {
            "tags": []
          },
          "execution_count": 57
        }
      ]
    },
    {
      "cell_type": "code",
      "metadata": {
        "colab": {
          "base_uri": "https://localhost:8080/"
        },
        "id": "MWxowEokcces",
        "outputId": "e79150cd-9eed-405d-d025-ebd74b0d4aa6"
      },
      "source": [
        "type(y_train)"
      ],
      "execution_count": null,
      "outputs": [
        {
          "output_type": "execute_result",
          "data": {
            "text/plain": [
              "pandas.core.series.Series"
            ]
          },
          "metadata": {
            "tags": []
          },
          "execution_count": 58
        }
      ]
    },
    {
      "cell_type": "code",
      "metadata": {
        "colab": {
          "base_uri": "https://localhost:8080/"
        },
        "id": "K-p_NTJhpgHe",
        "outputId": "c0a1a25b-c8b1-4d5f-a23f-c62162c90fc6"
      },
      "source": [
        "X_train_w2v.shape"
      ],
      "execution_count": null,
      "outputs": [
        {
          "output_type": "execute_result",
          "data": {
            "text/plain": [
              "(4087,)"
            ]
          },
          "metadata": {
            "tags": []
          },
          "execution_count": 53
        }
      ]
    },
    {
      "cell_type": "code",
      "metadata": {
        "id": "Qj3yY4T6u4r_"
      },
      "source": [
        "X_train_w2v"
      ],
      "execution_count": null,
      "outputs": []
    },
    {
      "cell_type": "code",
      "metadata": {
        "colab": {
          "base_uri": "https://localhost:8080/",
          "height": 251
        },
        "id": "0izD392VreXF",
        "outputId": "8c869e8e-ee1e-468f-cd0f-dcd1e9920c4b"
      },
      "source": [
        "pd.DataFrame(data=X_train_w2v).head()"
      ],
      "execution_count": null,
      "outputs": [
        {
          "output_type": "execute_result",
          "data": {
            "text/html": [
              "<div>\n",
              "<style scoped>\n",
              "    .dataframe tbody tr th:only-of-type {\n",
              "        vertical-align: middle;\n",
              "    }\n",
              "\n",
              "    .dataframe tbody tr th {\n",
              "        vertical-align: top;\n",
              "    }\n",
              "\n",
              "    .dataframe thead th {\n",
              "        text-align: right;\n",
              "    }\n",
              "</style>\n",
              "<table border=\"1\" class=\"dataframe\">\n",
              "  <thead>\n",
              "    <tr style=\"text-align: right;\">\n",
              "      <th></th>\n",
              "      <th>0</th>\n",
              "      <th>1</th>\n",
              "      <th>2</th>\n",
              "      <th>3</th>\n",
              "      <th>4</th>\n",
              "      <th>5</th>\n",
              "      <th>6</th>\n",
              "      <th>7</th>\n",
              "      <th>8</th>\n",
              "      <th>9</th>\n",
              "      <th>10</th>\n",
              "      <th>11</th>\n",
              "      <th>12</th>\n",
              "      <th>13</th>\n",
              "      <th>14</th>\n",
              "      <th>15</th>\n",
              "      <th>16</th>\n",
              "      <th>17</th>\n",
              "      <th>18</th>\n",
              "      <th>19</th>\n",
              "      <th>20</th>\n",
              "      <th>21</th>\n",
              "      <th>22</th>\n",
              "      <th>23</th>\n",
              "      <th>24</th>\n",
              "      <th>25</th>\n",
              "      <th>26</th>\n",
              "      <th>27</th>\n",
              "      <th>28</th>\n",
              "      <th>29</th>\n",
              "      <th>30</th>\n",
              "      <th>31</th>\n",
              "      <th>32</th>\n",
              "      <th>33</th>\n",
              "      <th>34</th>\n",
              "      <th>35</th>\n",
              "      <th>36</th>\n",
              "      <th>37</th>\n",
              "      <th>38</th>\n",
              "      <th>39</th>\n",
              "      <th>...</th>\n",
              "      <th>260</th>\n",
              "      <th>261</th>\n",
              "      <th>262</th>\n",
              "      <th>263</th>\n",
              "      <th>264</th>\n",
              "      <th>265</th>\n",
              "      <th>266</th>\n",
              "      <th>267</th>\n",
              "      <th>268</th>\n",
              "      <th>269</th>\n",
              "      <th>270</th>\n",
              "      <th>271</th>\n",
              "      <th>272</th>\n",
              "      <th>273</th>\n",
              "      <th>274</th>\n",
              "      <th>275</th>\n",
              "      <th>276</th>\n",
              "      <th>277</th>\n",
              "      <th>278</th>\n",
              "      <th>279</th>\n",
              "      <th>280</th>\n",
              "      <th>281</th>\n",
              "      <th>282</th>\n",
              "      <th>283</th>\n",
              "      <th>284</th>\n",
              "      <th>285</th>\n",
              "      <th>286</th>\n",
              "      <th>287</th>\n",
              "      <th>288</th>\n",
              "      <th>289</th>\n",
              "      <th>290</th>\n",
              "      <th>291</th>\n",
              "      <th>292</th>\n",
              "      <th>293</th>\n",
              "      <th>294</th>\n",
              "      <th>295</th>\n",
              "      <th>296</th>\n",
              "      <th>297</th>\n",
              "      <th>298</th>\n",
              "      <th>299</th>\n",
              "    </tr>\n",
              "  </thead>\n",
              "  <tbody>\n",
              "    <tr>\n",
              "      <th>0</th>\n",
              "      <td>-0.036574</td>\n",
              "      <td>0.129909</td>\n",
              "      <td>-0.148589</td>\n",
              "      <td>-0.076406</td>\n",
              "      <td>0.125217</td>\n",
              "      <td>0.020135</td>\n",
              "      <td>-0.091932</td>\n",
              "      <td>-0.022086</td>\n",
              "      <td>0.006418</td>\n",
              "      <td>1.657298</td>\n",
              "      <td>-0.086580</td>\n",
              "      <td>0.031978</td>\n",
              "      <td>-0.098074</td>\n",
              "      <td>-0.132483</td>\n",
              "      <td>-0.019267</td>\n",
              "      <td>-0.155596</td>\n",
              "      <td>-0.024553</td>\n",
              "      <td>0.925815</td>\n",
              "      <td>-0.047376</td>\n",
              "      <td>-0.067164</td>\n",
              "      <td>-0.000415</td>\n",
              "      <td>-0.062061</td>\n",
              "      <td>-0.016529</td>\n",
              "      <td>0.012961</td>\n",
              "      <td>-0.121247</td>\n",
              "      <td>-0.075861</td>\n",
              "      <td>-0.024029</td>\n",
              "      <td>0.046979</td>\n",
              "      <td>0.020519</td>\n",
              "      <td>-0.140840</td>\n",
              "      <td>-0.036263</td>\n",
              "      <td>0.092131</td>\n",
              "      <td>0.104716</td>\n",
              "      <td>-0.097506</td>\n",
              "      <td>-0.012884</td>\n",
              "      <td>0.022277</td>\n",
              "      <td>0.019930</td>\n",
              "      <td>-0.062871</td>\n",
              "      <td>-0.102042</td>\n",
              "      <td>0.021052</td>\n",
              "      <td>...</td>\n",
              "      <td>0.109175</td>\n",
              "      <td>0.016771</td>\n",
              "      <td>-0.035779</td>\n",
              "      <td>0.087517</td>\n",
              "      <td>0.006749</td>\n",
              "      <td>0.021869</td>\n",
              "      <td>-0.059565</td>\n",
              "      <td>-0.031722</td>\n",
              "      <td>-0.027108</td>\n",
              "      <td>-0.005258</td>\n",
              "      <td>-0.033104</td>\n",
              "      <td>-0.052871</td>\n",
              "      <td>-0.002955</td>\n",
              "      <td>-0.163980</td>\n",
              "      <td>-0.146396</td>\n",
              "      <td>-0.008046</td>\n",
              "      <td>0.040656</td>\n",
              "      <td>0.078292</td>\n",
              "      <td>-0.031668</td>\n",
              "      <td>0.239786</td>\n",
              "      <td>0.150570</td>\n",
              "      <td>0.125027</td>\n",
              "      <td>0.025614</td>\n",
              "      <td>-0.046308</td>\n",
              "      <td>-0.031820</td>\n",
              "      <td>0.063501</td>\n",
              "      <td>0.205800</td>\n",
              "      <td>-0.011216</td>\n",
              "      <td>0.104816</td>\n",
              "      <td>-0.033094</td>\n",
              "      <td>-0.183097</td>\n",
              "      <td>0.012958</td>\n",
              "      <td>0.001837</td>\n",
              "      <td>-0.017301</td>\n",
              "      <td>-0.080962</td>\n",
              "      <td>0.005669</td>\n",
              "      <td>0.014233</td>\n",
              "      <td>-0.225601</td>\n",
              "      <td>-0.025627</td>\n",
              "      <td>0.075891</td>\n",
              "    </tr>\n",
              "    <tr>\n",
              "      <th>1</th>\n",
              "      <td>-0.006569</td>\n",
              "      <td>0.162164</td>\n",
              "      <td>-0.034963</td>\n",
              "      <td>0.000450</td>\n",
              "      <td>0.073238</td>\n",
              "      <td>-0.050382</td>\n",
              "      <td>-0.047629</td>\n",
              "      <td>-0.012692</td>\n",
              "      <td>-0.002964</td>\n",
              "      <td>1.643123</td>\n",
              "      <td>-0.091936</td>\n",
              "      <td>-0.006102</td>\n",
              "      <td>-0.182795</td>\n",
              "      <td>-0.123715</td>\n",
              "      <td>0.048619</td>\n",
              "      <td>-0.127930</td>\n",
              "      <td>0.022225</td>\n",
              "      <td>1.092707</td>\n",
              "      <td>-0.039193</td>\n",
              "      <td>-0.145075</td>\n",
              "      <td>-0.075526</td>\n",
              "      <td>-0.011026</td>\n",
              "      <td>-0.026827</td>\n",
              "      <td>0.042205</td>\n",
              "      <td>-0.019605</td>\n",
              "      <td>-0.129679</td>\n",
              "      <td>0.063317</td>\n",
              "      <td>0.070692</td>\n",
              "      <td>0.044736</td>\n",
              "      <td>-0.131742</td>\n",
              "      <td>-0.014476</td>\n",
              "      <td>0.118618</td>\n",
              "      <td>-0.070967</td>\n",
              "      <td>-0.079678</td>\n",
              "      <td>0.039858</td>\n",
              "      <td>-0.061898</td>\n",
              "      <td>-0.018870</td>\n",
              "      <td>-0.026671</td>\n",
              "      <td>0.045306</td>\n",
              "      <td>-0.066887</td>\n",
              "      <td>...</td>\n",
              "      <td>0.052841</td>\n",
              "      <td>0.008542</td>\n",
              "      <td>-0.040401</td>\n",
              "      <td>0.088016</td>\n",
              "      <td>0.081759</td>\n",
              "      <td>-0.059991</td>\n",
              "      <td>-0.079321</td>\n",
              "      <td>-0.034919</td>\n",
              "      <td>0.037969</td>\n",
              "      <td>-0.000143</td>\n",
              "      <td>0.116948</td>\n",
              "      <td>0.043643</td>\n",
              "      <td>-0.038576</td>\n",
              "      <td>-0.232962</td>\n",
              "      <td>-0.132695</td>\n",
              "      <td>0.038229</td>\n",
              "      <td>-0.018129</td>\n",
              "      <td>0.069727</td>\n",
              "      <td>0.037400</td>\n",
              "      <td>0.250792</td>\n",
              "      <td>0.190863</td>\n",
              "      <td>0.096718</td>\n",
              "      <td>-0.039025</td>\n",
              "      <td>-0.081061</td>\n",
              "      <td>-0.057699</td>\n",
              "      <td>0.014859</td>\n",
              "      <td>0.216638</td>\n",
              "      <td>0.063005</td>\n",
              "      <td>0.195241</td>\n",
              "      <td>-0.039588</td>\n",
              "      <td>-0.192229</td>\n",
              "      <td>0.104473</td>\n",
              "      <td>-0.016099</td>\n",
              "      <td>-0.161168</td>\n",
              "      <td>-0.093749</td>\n",
              "      <td>0.020272</td>\n",
              "      <td>0.059245</td>\n",
              "      <td>-0.153123</td>\n",
              "      <td>-0.042538</td>\n",
              "      <td>0.108835</td>\n",
              "    </tr>\n",
              "    <tr>\n",
              "      <th>2</th>\n",
              "      <td>0.067287</td>\n",
              "      <td>0.125487</td>\n",
              "      <td>-0.107641</td>\n",
              "      <td>-0.001247</td>\n",
              "      <td>0.097545</td>\n",
              "      <td>-0.097450</td>\n",
              "      <td>-0.045999</td>\n",
              "      <td>-0.008979</td>\n",
              "      <td>0.024508</td>\n",
              "      <td>1.576336</td>\n",
              "      <td>-0.064921</td>\n",
              "      <td>0.035447</td>\n",
              "      <td>-0.148896</td>\n",
              "      <td>-0.113620</td>\n",
              "      <td>-0.048472</td>\n",
              "      <td>-0.128786</td>\n",
              "      <td>-0.039658</td>\n",
              "      <td>1.033807</td>\n",
              "      <td>-0.026187</td>\n",
              "      <td>-0.189730</td>\n",
              "      <td>-0.076070</td>\n",
              "      <td>-0.087492</td>\n",
              "      <td>-0.073318</td>\n",
              "      <td>0.051909</td>\n",
              "      <td>-0.037713</td>\n",
              "      <td>-0.103671</td>\n",
              "      <td>0.053096</td>\n",
              "      <td>0.078343</td>\n",
              "      <td>0.063042</td>\n",
              "      <td>-0.098159</td>\n",
              "      <td>-0.025189</td>\n",
              "      <td>0.103880</td>\n",
              "      <td>0.014617</td>\n",
              "      <td>-0.030842</td>\n",
              "      <td>-0.001135</td>\n",
              "      <td>-0.009958</td>\n",
              "      <td>0.023751</td>\n",
              "      <td>0.012894</td>\n",
              "      <td>-0.022057</td>\n",
              "      <td>-0.107440</td>\n",
              "      <td>...</td>\n",
              "      <td>0.096346</td>\n",
              "      <td>0.053230</td>\n",
              "      <td>-0.037984</td>\n",
              "      <td>0.079541</td>\n",
              "      <td>0.087207</td>\n",
              "      <td>-0.059639</td>\n",
              "      <td>-0.052442</td>\n",
              "      <td>-0.094778</td>\n",
              "      <td>0.115241</td>\n",
              "      <td>0.007620</td>\n",
              "      <td>0.094813</td>\n",
              "      <td>0.051140</td>\n",
              "      <td>0.075257</td>\n",
              "      <td>-0.260254</td>\n",
              "      <td>-0.097349</td>\n",
              "      <td>-0.076774</td>\n",
              "      <td>0.054528</td>\n",
              "      <td>0.003379</td>\n",
              "      <td>0.038829</td>\n",
              "      <td>0.233990</td>\n",
              "      <td>0.182938</td>\n",
              "      <td>0.129455</td>\n",
              "      <td>-0.030463</td>\n",
              "      <td>-0.091245</td>\n",
              "      <td>-0.028677</td>\n",
              "      <td>-0.026665</td>\n",
              "      <td>0.241368</td>\n",
              "      <td>-0.024507</td>\n",
              "      <td>0.101604</td>\n",
              "      <td>-0.076269</td>\n",
              "      <td>-0.125711</td>\n",
              "      <td>0.030185</td>\n",
              "      <td>-0.004746</td>\n",
              "      <td>-0.132637</td>\n",
              "      <td>-0.067982</td>\n",
              "      <td>-0.003591</td>\n",
              "      <td>0.063082</td>\n",
              "      <td>-0.160280</td>\n",
              "      <td>-0.094235</td>\n",
              "      <td>0.112321</td>\n",
              "    </tr>\n",
              "    <tr>\n",
              "      <th>3</th>\n",
              "      <td>-0.063833</td>\n",
              "      <td>0.149846</td>\n",
              "      <td>-0.085239</td>\n",
              "      <td>-0.049047</td>\n",
              "      <td>0.024666</td>\n",
              "      <td>-0.034913</td>\n",
              "      <td>-0.142079</td>\n",
              "      <td>0.015872</td>\n",
              "      <td>0.035140</td>\n",
              "      <td>1.443637</td>\n",
              "      <td>-0.140130</td>\n",
              "      <td>0.053069</td>\n",
              "      <td>-0.235575</td>\n",
              "      <td>-0.114601</td>\n",
              "      <td>0.018573</td>\n",
              "      <td>-0.149369</td>\n",
              "      <td>0.065188</td>\n",
              "      <td>1.065974</td>\n",
              "      <td>-0.052207</td>\n",
              "      <td>-0.097630</td>\n",
              "      <td>-0.001791</td>\n",
              "      <td>-0.054468</td>\n",
              "      <td>0.053387</td>\n",
              "      <td>0.092118</td>\n",
              "      <td>-0.035336</td>\n",
              "      <td>-0.219713</td>\n",
              "      <td>0.035925</td>\n",
              "      <td>0.088149</td>\n",
              "      <td>0.002787</td>\n",
              "      <td>-0.205533</td>\n",
              "      <td>-0.104678</td>\n",
              "      <td>0.111119</td>\n",
              "      <td>0.063278</td>\n",
              "      <td>-0.145682</td>\n",
              "      <td>0.119764</td>\n",
              "      <td>-0.043513</td>\n",
              "      <td>-0.022543</td>\n",
              "      <td>-0.070984</td>\n",
              "      <td>-0.049478</td>\n",
              "      <td>0.051760</td>\n",
              "      <td>...</td>\n",
              "      <td>0.077383</td>\n",
              "      <td>0.002537</td>\n",
              "      <td>-0.004748</td>\n",
              "      <td>0.071880</td>\n",
              "      <td>-0.008416</td>\n",
              "      <td>-0.003428</td>\n",
              "      <td>-0.159312</td>\n",
              "      <td>-0.058375</td>\n",
              "      <td>-0.182992</td>\n",
              "      <td>0.053833</td>\n",
              "      <td>0.030334</td>\n",
              "      <td>0.000317</td>\n",
              "      <td>0.073139</td>\n",
              "      <td>-0.192469</td>\n",
              "      <td>-0.229101</td>\n",
              "      <td>0.023970</td>\n",
              "      <td>0.058906</td>\n",
              "      <td>0.124068</td>\n",
              "      <td>-0.040228</td>\n",
              "      <td>0.296762</td>\n",
              "      <td>0.131335</td>\n",
              "      <td>0.195511</td>\n",
              "      <td>0.016919</td>\n",
              "      <td>-0.120161</td>\n",
              "      <td>-0.021629</td>\n",
              "      <td>0.073011</td>\n",
              "      <td>0.300711</td>\n",
              "      <td>-0.002289</td>\n",
              "      <td>0.079986</td>\n",
              "      <td>-0.025342</td>\n",
              "      <td>-0.117617</td>\n",
              "      <td>0.062870</td>\n",
              "      <td>-0.016784</td>\n",
              "      <td>-0.118147</td>\n",
              "      <td>-0.142213</td>\n",
              "      <td>0.032802</td>\n",
              "      <td>0.112001</td>\n",
              "      <td>-0.275139</td>\n",
              "      <td>-0.032832</td>\n",
              "      <td>0.153854</td>\n",
              "    </tr>\n",
              "    <tr>\n",
              "      <th>4</th>\n",
              "      <td>-0.100422</td>\n",
              "      <td>0.158211</td>\n",
              "      <td>-0.207962</td>\n",
              "      <td>-0.061028</td>\n",
              "      <td>0.005256</td>\n",
              "      <td>0.028873</td>\n",
              "      <td>-0.191353</td>\n",
              "      <td>0.030922</td>\n",
              "      <td>0.043353</td>\n",
              "      <td>1.425559</td>\n",
              "      <td>-0.168916</td>\n",
              "      <td>0.051000</td>\n",
              "      <td>-0.275619</td>\n",
              "      <td>-0.110103</td>\n",
              "      <td>0.021150</td>\n",
              "      <td>-0.201462</td>\n",
              "      <td>-0.007365</td>\n",
              "      <td>1.066986</td>\n",
              "      <td>-0.064074</td>\n",
              "      <td>-0.069988</td>\n",
              "      <td>-0.029630</td>\n",
              "      <td>0.058498</td>\n",
              "      <td>-0.035926</td>\n",
              "      <td>0.061201</td>\n",
              "      <td>-0.025649</td>\n",
              "      <td>-0.209920</td>\n",
              "      <td>-0.005483</td>\n",
              "      <td>0.010188</td>\n",
              "      <td>0.030408</td>\n",
              "      <td>-0.378023</td>\n",
              "      <td>-0.068195</td>\n",
              "      <td>0.158896</td>\n",
              "      <td>0.040120</td>\n",
              "      <td>-0.173847</td>\n",
              "      <td>0.033720</td>\n",
              "      <td>-0.024462</td>\n",
              "      <td>0.003724</td>\n",
              "      <td>-0.029711</td>\n",
              "      <td>-0.155207</td>\n",
              "      <td>0.087034</td>\n",
              "      <td>...</td>\n",
              "      <td>0.089137</td>\n",
              "      <td>-0.038282</td>\n",
              "      <td>-0.015637</td>\n",
              "      <td>0.140685</td>\n",
              "      <td>-0.001261</td>\n",
              "      <td>0.021721</td>\n",
              "      <td>-0.112055</td>\n",
              "      <td>-0.078692</td>\n",
              "      <td>-0.072051</td>\n",
              "      <td>-0.067159</td>\n",
              "      <td>0.072476</td>\n",
              "      <td>0.052236</td>\n",
              "      <td>0.003156</td>\n",
              "      <td>-0.128124</td>\n",
              "      <td>-0.288746</td>\n",
              "      <td>0.108487</td>\n",
              "      <td>-0.002033</td>\n",
              "      <td>0.116187</td>\n",
              "      <td>0.045336</td>\n",
              "      <td>0.413025</td>\n",
              "      <td>0.242986</td>\n",
              "      <td>0.103016</td>\n",
              "      <td>0.114014</td>\n",
              "      <td>-0.200253</td>\n",
              "      <td>-0.009105</td>\n",
              "      <td>0.170552</td>\n",
              "      <td>0.364721</td>\n",
              "      <td>0.052854</td>\n",
              "      <td>0.146833</td>\n",
              "      <td>-0.096144</td>\n",
              "      <td>-0.132846</td>\n",
              "      <td>0.071558</td>\n",
              "      <td>-0.052218</td>\n",
              "      <td>-0.209286</td>\n",
              "      <td>-0.202596</td>\n",
              "      <td>0.016998</td>\n",
              "      <td>0.163210</td>\n",
              "      <td>-0.404380</td>\n",
              "      <td>0.036272</td>\n",
              "      <td>0.150272</td>\n",
              "    </tr>\n",
              "  </tbody>\n",
              "</table>\n",
              "<p>5 rows × 300 columns</p>\n",
              "</div>"
            ],
            "text/plain": [
              "        0         1         2    ...       297       298       299\n",
              "0 -0.036574  0.129909 -0.148589  ... -0.225601 -0.025627  0.075891\n",
              "1 -0.006569  0.162164 -0.034963  ... -0.153123 -0.042538  0.108835\n",
              "2  0.067287  0.125487 -0.107641  ... -0.160280 -0.094235  0.112321\n",
              "3 -0.063833  0.149846 -0.085239  ... -0.275139 -0.032832  0.153854\n",
              "4 -0.100422  0.158211 -0.207962  ... -0.404380  0.036272  0.150272\n",
              "\n",
              "[5 rows x 300 columns]"
            ]
          },
          "metadata": {
            "tags": []
          },
          "execution_count": 59
        }
      ]
    },
    {
      "cell_type": "code",
      "metadata": {
        "id": "kHE5sBeLvgn8",
        "colab": {
          "base_uri": "https://localhost:8080/"
        },
        "outputId": "72a566f9-027b-4c04-a4a0-ae78d5c04c52"
      },
      "source": [
        "parameters = {\n",
        "    'clf__max_depth':(5,10,15,20),\n",
        "    'clf__eta':(0.3, 0.5, 0.8)\n",
        "}\n",
        "\n",
        "grid_search = GridSearchCV(pipe,parameters, cv=3, n_jobs=-1, verbose=1)\n",
        "grid_search.fit(X_train_w2v, y_train)"
      ],
      "execution_count": 28,
      "outputs": [
        {
          "output_type": "stream",
          "text": [
            "Fitting 3 folds for each of 12 candidates, totalling 36 fits\n"
          ],
          "name": "stdout"
        },
        {
          "output_type": "stream",
          "text": [
            "[Parallel(n_jobs=-1)]: Using backend LokyBackend with 2 concurrent workers.\n",
            "[Parallel(n_jobs=-1)]: Done  36 out of  36 | elapsed:  7.3min finished\n"
          ],
          "name": "stderr"
        },
        {
          "output_type": "execute_result",
          "data": {
            "text/plain": [
              "GridSearchCV(cv=3, error_score=nan,\n",
              "             estimator=Pipeline(memory=None,\n",
              "                                steps=[('svd',\n",
              "                                        TruncatedSVD(algorithm='randomized',\n",
              "                                                     n_components=100, n_iter=5,\n",
              "                                                     random_state=None,\n",
              "                                                     tol=0.0)),\n",
              "                                       ('clf',\n",
              "                                        XGBClassifier(base_score=0.5,\n",
              "                                                      booster='gbtree',\n",
              "                                                      colsample_bylevel=1,\n",
              "                                                      colsample_bynode=1,\n",
              "                                                      colsample_bytree=1,\n",
              "                                                      gamma=0,\n",
              "                                                      learning_rate=0.1,\n",
              "                                                      max_delta_step=0,\n",
              "                                                      max_depth=3,\n",
              "                                                      min_child_weigh...\n",
              "                                                      n_jobs=1, nthread=None,\n",
              "                                                      objective='multi:softprob',\n",
              "                                                      random_state=0,\n",
              "                                                      reg_alpha=0, reg_lambda=1,\n",
              "                                                      scale_pos_weight=1,\n",
              "                                                      seed=None, silent=None,\n",
              "                                                      subsample=1,\n",
              "                                                      verbosity=1))],\n",
              "                                verbose=False),\n",
              "             iid='deprecated', n_jobs=-1,\n",
              "             param_grid={'clf__eta': (0.3, 0.5, 0.8),\n",
              "                         'clf__max_depth': (5, 10, 15, 20)},\n",
              "             pre_dispatch='2*n_jobs', refit=True, return_train_score=False,\n",
              "             scoring=None, verbose=1)"
            ]
          },
          "metadata": {
            "tags": []
          },
          "execution_count": 28
        }
      ]
    },
    {
      "cell_type": "code",
      "metadata": {
        "id": "AT2vFL3tW7Zj",
        "colab": {
          "base_uri": "https://localhost:8080/"
        },
        "outputId": "62f20b6a-6cee-4bd3-9843-4176aef79839"
      },
      "source": [
        "print(grid_search.best_params_)\n",
        "print(grid_search.best_estimator_)\n",
        "print(grid_search.best_score_)"
      ],
      "execution_count": 29,
      "outputs": [
        {
          "output_type": "stream",
          "text": [
            "{'clf__eta': 0.3, 'clf__max_depth': 5}\n",
            "Pipeline(memory=None,\n",
            "         steps=[('svd',\n",
            "                 TruncatedSVD(algorithm='randomized', n_components=100,\n",
            "                              n_iter=5, random_state=None, tol=0.0)),\n",
            "                ('clf',\n",
            "                 XGBClassifier(base_score=0.5, booster='gbtree',\n",
            "                               colsample_bylevel=1, colsample_bynode=1,\n",
            "                               colsample_bytree=1, eta=0.3, gamma=0,\n",
            "                               learning_rate=0.1, max_delta_step=0, max_depth=5,\n",
            "                               min_child_weight=1, missing=None,\n",
            "                               n_estimators=100, n_jobs=1, nthread=None,\n",
            "                               objective='multi:softprob', random_state=0,\n",
            "                               reg_alpha=0, reg_lambda=1, scale_pos_weight=1,\n",
            "                               seed=None, silent=None, subsample=1,\n",
            "                               verbosity=1))],\n",
            "         verbose=False)\n",
            "0.7406431208115754\n"
          ],
          "name": "stdout"
        }
      ]
    },
    {
      "cell_type": "markdown",
      "metadata": {
        "id": "q0QMHaRwvgn9"
      },
      "source": [
        "### Make a Submission File"
      ]
    },
    {
      "cell_type": "code",
      "metadata": {
        "id": "38OSuG8Mvgn9"
      },
      "source": [
        "# Predictions on test sample\n",
        "pred = pipe.predict(X_test_w2v)"
      ],
      "execution_count": 30,
      "outputs": []
    },
    {
      "cell_type": "code",
      "metadata": {
        "id": "2MMH0TLavgn-"
      },
      "source": [
        "submission = pd.DataFrame({'id': test['id'], 'ratingCategory':pred})\n",
        "submission['ratingCategory'] = submission['ratingCategory'].astype('int64')"
      ],
      "execution_count": 33,
      "outputs": []
    },
    {
      "cell_type": "code",
      "metadata": {
        "id": "F5UkPxwyvgn-",
        "colab": {
          "base_uri": "https://localhost:8080/",
          "height": 202
        },
        "outputId": "ec154025-ad86-40e4-bbe9-afea87550813"
      },
      "source": [
        "# Make Sure the Category is an Integer\n",
        "submission.head()"
      ],
      "execution_count": 32,
      "outputs": [
        {
          "output_type": "execute_result",
          "data": {
            "text/html": [
              "<div>\n",
              "<style scoped>\n",
              "    .dataframe tbody tr th:only-of-type {\n",
              "        vertical-align: middle;\n",
              "    }\n",
              "\n",
              "    .dataframe tbody tr th {\n",
              "        vertical-align: top;\n",
              "    }\n",
              "\n",
              "    .dataframe thead th {\n",
              "        text-align: right;\n",
              "    }\n",
              "</style>\n",
              "<table border=\"1\" class=\"dataframe\">\n",
              "  <thead>\n",
              "    <tr style=\"text-align: right;\">\n",
              "      <th></th>\n",
              "      <th>id</th>\n",
              "      <th>ratingCategory</th>\n",
              "    </tr>\n",
              "  </thead>\n",
              "  <tbody>\n",
              "    <tr>\n",
              "      <th>0</th>\n",
              "      <td>3461</td>\n",
              "      <td>1</td>\n",
              "    </tr>\n",
              "    <tr>\n",
              "      <th>1</th>\n",
              "      <td>2604</td>\n",
              "      <td>1</td>\n",
              "    </tr>\n",
              "    <tr>\n",
              "      <th>2</th>\n",
              "      <td>3341</td>\n",
              "      <td>1</td>\n",
              "    </tr>\n",
              "    <tr>\n",
              "      <th>3</th>\n",
              "      <td>3764</td>\n",
              "      <td>1</td>\n",
              "    </tr>\n",
              "    <tr>\n",
              "      <th>4</th>\n",
              "      <td>2306</td>\n",
              "      <td>1</td>\n",
              "    </tr>\n",
              "  </tbody>\n",
              "</table>\n",
              "</div>"
            ],
            "text/plain": [
              "     id  ratingCategory\n",
              "0  3461               1\n",
              "1  2604               1\n",
              "2  3341               1\n",
              "3  3764               1\n",
              "4  2306               1"
            ]
          },
          "metadata": {
            "tags": []
          },
          "execution_count": 32
        }
      ]
    },
    {
      "cell_type": "code",
      "metadata": {
        "id": "WRWR419-vgn-"
      },
      "source": [
        "# Save your Submission File\n",
        "# Best to Use an Integer or Timestamp for different versions of your model\n",
        "\n",
        "submission.to_csv(f'/content/drive/MyDrive/Colab Notebooks/Lambda DS/04.Unit_4/01.NLP/03.Document_Classification/submission{subNumber}.csv', index=False)\n",
        "subNumber += 1"
      ],
      "execution_count": 34,
      "outputs": []
    },
    {
      "cell_type": "markdown",
      "metadata": {
        "id": "KOmuwnMEvgn-"
      },
      "source": [
        "# Post Lecture Assignment\n",
        "<a id=\"p4\"></a>\n",
        "\n",
        "Your primary assignment this afternoon is to achieve a minimum of 80% accuracy on the Kaggle competition. Once you have achieved 70% accuracy, please work on the following: \n",
        "\n",
        "1. Research \"Sentiment Analysis\". Provide answers in markdown to the following questions: \n",
        "    - What is \"Sentiment Analysis\"? \n",
        "    - Is Document Classification different than \"Sentiment Analysis\"? Provide evidence for your response\n",
        "    - How do create labeled sentiment data? Are those labels really sentiment?\n",
        "    - What are common applications of sentiment analysis?\n",
        "2. Research our why word embeddings worked better for the lecture notebook than on the whiskey competition.\n",
        "    - This [text classification documentation](https://developers.google.com/machine-learning/guides/text-classification/step-2-5) from Google might be of interest\n",
        "    - Neural Networks are becoming more popular for document classification. Why is that the case?"
      ]
    }
  ]
}