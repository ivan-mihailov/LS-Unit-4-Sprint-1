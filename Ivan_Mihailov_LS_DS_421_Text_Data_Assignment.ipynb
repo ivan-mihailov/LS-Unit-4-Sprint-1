{
  "nbformat": 4,
  "nbformat_minor": 0,
  "metadata": {
    "colab": {
      "name": "Ivan_Mihailov_LS_DS_421_Text_Data_Assignment.ipynb",
      "provenance": [],
      "collapsed_sections": []
    },
    "kernelspec": {
      "display_name": "U4-S1-NLP (Python 3)",
      "language": "python",
      "name": "u4-s1-nlp"
    },
    "language_info": {
      "codemirror_mode": {
        "name": "ipython",
        "version": 3
      },
      "file_extension": ".py",
      "mimetype": "text/x-python",
      "name": "python",
      "nbconvert_exporter": "python",
      "pygments_lexer": "ipython3",
      "version": "3.7.3"
    },
    "toc-autonumbering": false
  },
  "cells": [
    {
      "cell_type": "markdown",
      "metadata": {
        "id": "NxdSgbS5ocCN"
      },
      "source": [
        "<img align=\"left\" src=\"https://lever-client-logos.s3.amazonaws.com/864372b1-534c-480e-acd5-9711f850815c-1524247202159.png\" width=200>\n",
        "<br></br>\n",
        "<br></br>\n",
        "\n",
        "# Natural Language Processing (NLP)\n",
        "## *Data Science Unit 4 Sprint 1 Assignment 1*\n",
        "\n",
        "Your goal in this assignment: find the attributes of the best & worst coffee shops in the dataset. The text is fairly raw: dates in the review, extra words in the `star_rating` column, etc. You'll probably want to clean that stuff up for a better analysis. \n",
        "\n",
        "Analyze the corpus of text using text visualizations of token frequency. Try cleaning the data as much as possible. Try the following techniques: \n",
        "- Lemmatization\n",
        "- Custom stopword removal\n",
        "\n",
        "Keep in mind the attributes of good tokens. Once you have a solid baseline, layer in the star rating in your visualization(s). Key part of this assignment - produce a write-up of the attributes of the best and worst coffee shops. Based on your analysis, what makes the best the best and the worst the worst. Use graphs and numbesr from your analysis to support your conclusions. There should be plenty of markdown cells! :coffee:"
      ]
    },
    {
      "cell_type": "code",
      "metadata": {
        "id": "qqBdi-5qocCQ",
        "outputId": "1d08d438-1553-400f-ae7a-19fbff02a5c5"
      },
      "source": [
        "from IPython.display import YouTubeVideo\n",
        "\n",
        "YouTubeVideo('Jml7NVYm8cs')"
      ],
      "execution_count": null,
      "outputs": [
        {
          "output_type": "execute_result",
          "data": {
            "image/jpeg": "[encoded data removed]",
            "text/html": [
              "\n",
              "        <iframe\n",
              "            width=\"400\"\n",
              "            height=\"300\"\n",
              "            src=\"https://www.youtube.com/embed/Jml7NVYm8cs\"\n",
              "            frameborder=\"0\"\n",
              "            allowfullscreen\n",
              "        ></iframe>\n",
              "        "
            ],
            "text/plain": [
              "<IPython.lib.display.YouTubeVideo at 0x1243479e8>"
            ]
          },
          "metadata": {
            "tags": []
          },
          "execution_count": 5
        }
      ]
    },
    {
      "cell_type": "code",
      "metadata": {
        "id": "VTQCT8wdocCS",
        "colab": {
          "base_uri": "https://localhost:8080/"
        },
        "outputId": "46caa84d-259d-405a-d3f8-5cdbb29e283a"
      },
      "source": [
        "!wget https://raw.githubusercontent.com/LambdaSchool/DS-Unit-4-Sprint-1-NLP/main/requirements.txt\n",
        "!pip install -r requirements.txt"
      ],
      "execution_count": 2,
      "outputs": [
        {
          "output_type": "stream",
          "text": [
            "--2021-08-02 21:04:05--  https://raw.githubusercontent.com/LambdaSchool/DS-Unit-4-Sprint-1-NLP/main/requirements.txt\n",
            "Resolving raw.githubusercontent.com (raw.githubusercontent.com)... 185.199.108.133, 185.199.109.133, 185.199.110.133, ...\n",
            "Connecting to raw.githubusercontent.com (raw.githubusercontent.com)|185.199.108.133|:443... connected.\n",
            "HTTP request sent, awaiting response... 200 OK\n",
            "Length: 149 [text/plain]\n",
            "Saving to: ‘requirements.txt’\n",
            "\n",
            "\rrequirements.txt      0%[                    ]       0  --.-KB/s               \rrequirements.txt    100%[===================>]     149  --.-KB/s    in 0s      \n",
            "\n",
            "2021-08-02 21:04:05 (5.84 MB/s) - ‘requirements.txt’ saved [149/149]\n",
            "\n",
            "Collecting gensim==3.8.1\n",
            "  Downloading gensim-3.8.1-cp37-cp37m-manylinux1_x86_64.whl (24.2 MB)\n",
            "\u001b[K     |████████████████████████████████| 24.2 MB 77 kB/s \n",
            "\u001b[?25hCollecting pyLDAvis==2.1.2\n",
            "  Downloading pyLDAvis-2.1.2.tar.gz (1.6 MB)\n",
            "\u001b[K     |████████████████████████████████| 1.6 MB 32.6 MB/s \n",
            "\u001b[?25hCollecting spacy==2.2.3\n",
            "  Downloading spacy-2.2.3-cp37-cp37m-manylinux1_x86_64.whl (10.4 MB)\n",
            "\u001b[K     |████████████████████████████████| 10.4 MB 32.5 MB/s \n",
            "\u001b[?25hCollecting scikit-learn==0.22.2\n",
            "  Downloading scikit_learn-0.22.2-cp37-cp37m-manylinux1_x86_64.whl (7.1 MB)\n",
            "\u001b[K     |████████████████████████████████| 7.1 MB 34.5 MB/s \n",
            "\u001b[?25hCollecting seaborn==0.9.0\n",
            "  Downloading seaborn-0.9.0-py3-none-any.whl (208 kB)\n",
            "\u001b[K     |████████████████████████████████| 208 kB 74.2 MB/s \n",
            "\u001b[?25hCollecting squarify==0.4.3\n",
            "  Downloading squarify-0.4.3-py3-none-any.whl (4.3 kB)\n",
            "Requirement already satisfied: ipykernel in /usr/local/lib/python3.7/dist-packages (from -r requirements.txt (line 7)) (4.10.1)\n",
            "Requirement already satisfied: nltk in /usr/local/lib/python3.7/dist-packages (from -r requirements.txt (line 8)) (3.2.5)\n",
            "Requirement already satisfied: pandas in /usr/local/lib/python3.7/dist-packages (from -r requirements.txt (line 9)) (1.1.5)\n",
            "Requirement already satisfied: scipy in /usr/local/lib/python3.7/dist-packages (from -r requirements.txt (line 10)) (1.4.1)\n",
            "Requirement already satisfied: beautifulsoup4 in /usr/local/lib/python3.7/dist-packages (from -r requirements.txt (line 11)) (4.6.3)\n",
            "Collecting pandarallel\n",
            "  Downloading pandarallel-1.5.2.tar.gz (16 kB)\n",
            "Requirement already satisfied: smart-open>=1.8.1 in /usr/local/lib/python3.7/dist-packages (from gensim==3.8.1->-r requirements.txt (line 1)) (5.1.0)\n",
            "Requirement already satisfied: six>=1.5.0 in /usr/local/lib/python3.7/dist-packages (from gensim==3.8.1->-r requirements.txt (line 1)) (1.15.0)\n",
            "Requirement already satisfied: numpy>=1.11.3 in /usr/local/lib/python3.7/dist-packages (from gensim==3.8.1->-r requirements.txt (line 1)) (1.19.5)\n",
            "Requirement already satisfied: wheel>=0.23.0 in /usr/local/lib/python3.7/dist-packages (from pyLDAvis==2.1.2->-r requirements.txt (line 2)) (0.36.2)\n",
            "Requirement already satisfied: joblib>=0.8.4 in /usr/local/lib/python3.7/dist-packages (from pyLDAvis==2.1.2->-r requirements.txt (line 2)) (1.0.1)\n",
            "Requirement already satisfied: jinja2>=2.7.2 in /usr/local/lib/python3.7/dist-packages (from pyLDAvis==2.1.2->-r requirements.txt (line 2)) (2.11.3)\n",
            "Requirement already satisfied: numexpr in /usr/local/lib/python3.7/dist-packages (from pyLDAvis==2.1.2->-r requirements.txt (line 2)) (2.7.3)\n",
            "Requirement already satisfied: pytest in /usr/local/lib/python3.7/dist-packages (from pyLDAvis==2.1.2->-r requirements.txt (line 2)) (3.6.4)\n",
            "Requirement already satisfied: future in /usr/local/lib/python3.7/dist-packages (from pyLDAvis==2.1.2->-r requirements.txt (line 2)) (0.16.0)\n",
            "Collecting funcy\n",
            "  Downloading funcy-1.16-py2.py3-none-any.whl (32 kB)\n",
            "Requirement already satisfied: plac<1.2.0,>=0.9.6 in /usr/local/lib/python3.7/dist-packages (from spacy==2.2.3->-r requirements.txt (line 3)) (1.1.3)\n",
            "Requirement already satisfied: murmurhash<1.1.0,>=0.28.0 in /usr/local/lib/python3.7/dist-packages (from spacy==2.2.3->-r requirements.txt (line 3)) (1.0.5)\n",
            "Requirement already satisfied: wasabi<1.1.0,>=0.4.0 in /usr/local/lib/python3.7/dist-packages (from spacy==2.2.3->-r requirements.txt (line 3)) (0.8.2)\n",
            "Requirement already satisfied: requests<3.0.0,>=2.13.0 in /usr/local/lib/python3.7/dist-packages (from spacy==2.2.3->-r requirements.txt (line 3)) (2.23.0)\n",
            "Requirement already satisfied: cymem<2.1.0,>=2.0.2 in /usr/local/lib/python3.7/dist-packages (from spacy==2.2.3->-r requirements.txt (line 3)) (2.0.5)\n",
            "Collecting thinc<7.4.0,>=7.3.0\n",
            "  Downloading thinc-7.3.1-cp37-cp37m-manylinux1_x86_64.whl (2.2 MB)\n",
            "\u001b[K     |████████████████████████████████| 2.2 MB 46.4 MB/s \n",
            "\u001b[?25hRequirement already satisfied: catalogue<1.1.0,>=0.0.7 in /usr/local/lib/python3.7/dist-packages (from spacy==2.2.3->-r requirements.txt (line 3)) (1.0.0)\n",
            "Requirement already satisfied: blis<0.5.0,>=0.4.0 in /usr/local/lib/python3.7/dist-packages (from spacy==2.2.3->-r requirements.txt (line 3)) (0.4.1)\n",
            "Requirement already satisfied: setuptools in /usr/local/lib/python3.7/dist-packages (from spacy==2.2.3->-r requirements.txt (line 3)) (57.2.0)\n",
            "Requirement already satisfied: srsly<1.1.0,>=0.1.0 in /usr/local/lib/python3.7/dist-packages (from spacy==2.2.3->-r requirements.txt (line 3)) (1.0.5)\n",
            "Requirement already satisfied: preshed<3.1.0,>=3.0.2 in /usr/local/lib/python3.7/dist-packages (from spacy==2.2.3->-r requirements.txt (line 3)) (3.0.5)\n",
            "Requirement already satisfied: matplotlib>=1.4.3 in /usr/local/lib/python3.7/dist-packages (from seaborn==0.9.0->-r requirements.txt (line 5)) (3.2.2)\n",
            "Requirement already satisfied: pytz>=2017.2 in /usr/local/lib/python3.7/dist-packages (from pandas->-r requirements.txt (line 9)) (2018.9)\n",
            "Requirement already satisfied: python-dateutil>=2.7.3 in /usr/local/lib/python3.7/dist-packages (from pandas->-r requirements.txt (line 9)) (2.8.1)\n",
            "Requirement already satisfied: importlib-metadata>=0.20 in /usr/local/lib/python3.7/dist-packages (from catalogue<1.1.0,>=0.0.7->spacy==2.2.3->-r requirements.txt (line 3)) (4.6.1)\n",
            "Requirement already satisfied: zipp>=0.5 in /usr/local/lib/python3.7/dist-packages (from importlib-metadata>=0.20->catalogue<1.1.0,>=0.0.7->spacy==2.2.3->-r requirements.txt (line 3)) (3.5.0)\n",
            "Requirement already satisfied: typing-extensions>=3.6.4 in /usr/local/lib/python3.7/dist-packages (from importlib-metadata>=0.20->catalogue<1.1.0,>=0.0.7->spacy==2.2.3->-r requirements.txt (line 3)) (3.7.4.3)\n",
            "Requirement already satisfied: MarkupSafe>=0.23 in /usr/local/lib/python3.7/dist-packages (from jinja2>=2.7.2->pyLDAvis==2.1.2->-r requirements.txt (line 2)) (2.0.1)\n",
            "Requirement already satisfied: cycler>=0.10 in /usr/local/lib/python3.7/dist-packages (from matplotlib>=1.4.3->seaborn==0.9.0->-r requirements.txt (line 5)) (0.10.0)\n",
            "Requirement already satisfied: pyparsing!=2.0.4,!=2.1.2,!=2.1.6,>=2.0.1 in /usr/local/lib/python3.7/dist-packages (from matplotlib>=1.4.3->seaborn==0.9.0->-r requirements.txt (line 5)) (2.4.7)\n",
            "Requirement already satisfied: kiwisolver>=1.0.1 in /usr/local/lib/python3.7/dist-packages (from matplotlib>=1.4.3->seaborn==0.9.0->-r requirements.txt (line 5)) (1.3.1)\n",
            "Requirement already satisfied: idna<3,>=2.5 in /usr/local/lib/python3.7/dist-packages (from requests<3.0.0,>=2.13.0->spacy==2.2.3->-r requirements.txt (line 3)) (2.10)\n",
            "Requirement already satisfied: certifi>=2017.4.17 in /usr/local/lib/python3.7/dist-packages (from requests<3.0.0,>=2.13.0->spacy==2.2.3->-r requirements.txt (line 3)) (2021.5.30)\n",
            "Requirement already satisfied: urllib3!=1.25.0,!=1.25.1,<1.26,>=1.21.1 in /usr/local/lib/python3.7/dist-packages (from requests<3.0.0,>=2.13.0->spacy==2.2.3->-r requirements.txt (line 3)) (1.24.3)\n",
            "Requirement already satisfied: chardet<4,>=3.0.2 in /usr/local/lib/python3.7/dist-packages (from requests<3.0.0,>=2.13.0->spacy==2.2.3->-r requirements.txt (line 3)) (3.0.4)\n",
            "Requirement already satisfied: tqdm<5.0.0,>=4.10.0 in /usr/local/lib/python3.7/dist-packages (from thinc<7.4.0,>=7.3.0->spacy==2.2.3->-r requirements.txt (line 3)) (4.41.1)\n",
            "Requirement already satisfied: tornado>=4.0 in /usr/local/lib/python3.7/dist-packages (from ipykernel->-r requirements.txt (line 7)) (5.1.1)\n",
            "Requirement already satisfied: traitlets>=4.1.0 in /usr/local/lib/python3.7/dist-packages (from ipykernel->-r requirements.txt (line 7)) (5.0.5)\n",
            "Requirement already satisfied: jupyter-client in /usr/local/lib/python3.7/dist-packages (from ipykernel->-r requirements.txt (line 7)) (5.3.5)\n",
            "Requirement already satisfied: ipython>=4.0.0 in /usr/local/lib/python3.7/dist-packages (from ipykernel->-r requirements.txt (line 7)) (5.5.0)\n",
            "Requirement already satisfied: pygments in /usr/local/lib/python3.7/dist-packages (from ipython>=4.0.0->ipykernel->-r requirements.txt (line 7)) (2.6.1)\n",
            "Requirement already satisfied: pexpect in /usr/local/lib/python3.7/dist-packages (from ipython>=4.0.0->ipykernel->-r requirements.txt (line 7)) (4.8.0)\n",
            "Requirement already satisfied: pickleshare in /usr/local/lib/python3.7/dist-packages (from ipython>=4.0.0->ipykernel->-r requirements.txt (line 7)) (0.7.5)\n",
            "Requirement already satisfied: simplegeneric>0.8 in /usr/local/lib/python3.7/dist-packages (from ipython>=4.0.0->ipykernel->-r requirements.txt (line 7)) (0.8.1)\n",
            "Requirement already satisfied: decorator in /usr/local/lib/python3.7/dist-packages (from ipython>=4.0.0->ipykernel->-r requirements.txt (line 7)) (4.4.2)\n",
            "Requirement already satisfied: prompt-toolkit<2.0.0,>=1.0.4 in /usr/local/lib/python3.7/dist-packages (from ipython>=4.0.0->ipykernel->-r requirements.txt (line 7)) (1.0.18)\n",
            "Requirement already satisfied: wcwidth in /usr/local/lib/python3.7/dist-packages (from prompt-toolkit<2.0.0,>=1.0.4->ipython>=4.0.0->ipykernel->-r requirements.txt (line 7)) (0.2.5)\n",
            "Requirement already satisfied: ipython-genutils in /usr/local/lib/python3.7/dist-packages (from traitlets>=4.1.0->ipykernel->-r requirements.txt (line 7)) (0.2.0)\n",
            "Requirement already satisfied: dill in /usr/local/lib/python3.7/dist-packages (from pandarallel->-r requirements.txt (line 12)) (0.3.4)\n",
            "Requirement already satisfied: jupyter-core>=4.6.0 in /usr/local/lib/python3.7/dist-packages (from jupyter-client->ipykernel->-r requirements.txt (line 7)) (4.7.1)\n",
            "Requirement already satisfied: pyzmq>=13 in /usr/local/lib/python3.7/dist-packages (from jupyter-client->ipykernel->-r requirements.txt (line 7)) (22.1.0)\n",
            "Requirement already satisfied: ptyprocess>=0.5 in /usr/local/lib/python3.7/dist-packages (from pexpect->ipython>=4.0.0->ipykernel->-r requirements.txt (line 7)) (0.7.0)\n",
            "Requirement already satisfied: py>=1.5.0 in /usr/local/lib/python3.7/dist-packages (from pytest->pyLDAvis==2.1.2->-r requirements.txt (line 2)) (1.10.0)\n",
            "Requirement already satisfied: more-itertools>=4.0.0 in /usr/local/lib/python3.7/dist-packages (from pytest->pyLDAvis==2.1.2->-r requirements.txt (line 2)) (8.8.0)\n",
            "Requirement already satisfied: pluggy<0.8,>=0.5 in /usr/local/lib/python3.7/dist-packages (from pytest->pyLDAvis==2.1.2->-r requirements.txt (line 2)) (0.7.1)\n",
            "Requirement already satisfied: attrs>=17.4.0 in /usr/local/lib/python3.7/dist-packages (from pytest->pyLDAvis==2.1.2->-r requirements.txt (line 2)) (21.2.0)\n",
            "Requirement already satisfied: atomicwrites>=1.0 in /usr/local/lib/python3.7/dist-packages (from pytest->pyLDAvis==2.1.2->-r requirements.txt (line 2)) (1.4.0)\n",
            "Building wheels for collected packages: pyLDAvis, pandarallel\n",
            "  Building wheel for pyLDAvis (setup.py) ... \u001b[?25l\u001b[?25hdone\n",
            "  Created wheel for pyLDAvis: filename=pyLDAvis-2.1.2-py2.py3-none-any.whl size=97738 sha256=14f800ff31a68f5cce5289e21aa5c734537e919305d4fad7143fdbf9371ef36c\n",
            "  Stored in directory: /root/.cache/pip/wheels/3b/fb/41/e32e5312da9f440d34c4eff0d2207b46dc9332a7b931ef1e89\n",
            "  Building wheel for pandarallel (setup.py) ... \u001b[?25l\u001b[?25hdone\n",
            "  Created wheel for pandarallel: filename=pandarallel-1.5.2-py3-none-any.whl size=18398 sha256=1acd436642892ef374cbc560562aa2b533c39e62664bf4839ee0d27b446029c4\n",
            "  Stored in directory: /root/.cache/pip/wheels/b5/6d/51/9ece2eaf007ea3f7fb0ce053c5773b2eb0d308887da3af12c1\n",
            "Successfully built pyLDAvis pandarallel\n",
            "Installing collected packages: thinc, funcy, squarify, spacy, seaborn, scikit-learn, pyLDAvis, pandarallel, gensim\n",
            "  Attempting uninstall: thinc\n",
            "    Found existing installation: thinc 7.4.0\n",
            "    Uninstalling thinc-7.4.0:\n",
            "      Successfully uninstalled thinc-7.4.0\n",
            "  Attempting uninstall: spacy\n",
            "    Found existing installation: spacy 2.2.4\n",
            "    Uninstalling spacy-2.2.4:\n",
            "      Successfully uninstalled spacy-2.2.4\n",
            "  Attempting uninstall: seaborn\n",
            "    Found existing installation: seaborn 0.11.1\n",
            "    Uninstalling seaborn-0.11.1:\n",
            "      Successfully uninstalled seaborn-0.11.1\n",
            "  Attempting uninstall: scikit-learn\n",
            "    Found existing installation: scikit-learn 0.22.2.post1\n",
            "    Uninstalling scikit-learn-0.22.2.post1:\n",
            "      Successfully uninstalled scikit-learn-0.22.2.post1\n",
            "  Attempting uninstall: gensim\n",
            "    Found existing installation: gensim 3.6.0\n",
            "    Uninstalling gensim-3.6.0:\n",
            "      Successfully uninstalled gensim-3.6.0\n",
            "Successfully installed funcy-1.16 gensim-3.8.1 pandarallel-1.5.2 pyLDAvis-2.1.2 scikit-learn-0.22.2 seaborn-0.9.0 spacy-2.2.3 squarify-0.4.3 thinc-7.3.1\n"
          ],
          "name": "stdout"
        }
      ]
    },
    {
      "cell_type": "code",
      "metadata": {
        "colab": {
          "base_uri": "https://localhost:8080/"
        },
        "id": "c-Y5lqgGsQP2",
        "outputId": "250be023-6ad1-424f-f2f0-5bc64b543fb1"
      },
      "source": [
        "!python -m spacy download en_core_web_sm"
      ],
      "execution_count": 3,
      "outputs": [
        {
          "output_type": "stream",
          "text": [
            "Collecting en_core_web_sm==2.2.5\n",
            "  Downloading https://github.com/explosion/spacy-models/releases/download/en_core_web_sm-2.2.5/en_core_web_sm-2.2.5.tar.gz (12.0 MB)\n",
            "\u001b[K     |████████████████████████████████| 12.0 MB 26.5 MB/s \n",
            "\u001b[?25hRequirement already satisfied: spacy>=2.2.2 in /usr/local/lib/python3.7/dist-packages (from en_core_web_sm==2.2.5) (2.2.3)\n",
            "Requirement already satisfied: preshed<3.1.0,>=3.0.2 in /usr/local/lib/python3.7/dist-packages (from spacy>=2.2.2->en_core_web_sm==2.2.5) (3.0.5)\n",
            "Requirement already satisfied: thinc<7.4.0,>=7.3.0 in /usr/local/lib/python3.7/dist-packages (from spacy>=2.2.2->en_core_web_sm==2.2.5) (7.3.1)\n",
            "Requirement already satisfied: catalogue<1.1.0,>=0.0.7 in /usr/local/lib/python3.7/dist-packages (from spacy>=2.2.2->en_core_web_sm==2.2.5) (1.0.0)\n",
            "Requirement already satisfied: srsly<1.1.0,>=0.1.0 in /usr/local/lib/python3.7/dist-packages (from spacy>=2.2.2->en_core_web_sm==2.2.5) (1.0.5)\n",
            "Requirement already satisfied: blis<0.5.0,>=0.4.0 in /usr/local/lib/python3.7/dist-packages (from spacy>=2.2.2->en_core_web_sm==2.2.5) (0.4.1)\n",
            "Requirement already satisfied: numpy>=1.15.0 in /usr/local/lib/python3.7/dist-packages (from spacy>=2.2.2->en_core_web_sm==2.2.5) (1.19.5)\n",
            "Requirement already satisfied: setuptools in /usr/local/lib/python3.7/dist-packages (from spacy>=2.2.2->en_core_web_sm==2.2.5) (57.2.0)\n",
            "Requirement already satisfied: murmurhash<1.1.0,>=0.28.0 in /usr/local/lib/python3.7/dist-packages (from spacy>=2.2.2->en_core_web_sm==2.2.5) (1.0.5)\n",
            "Requirement already satisfied: wasabi<1.1.0,>=0.4.0 in /usr/local/lib/python3.7/dist-packages (from spacy>=2.2.2->en_core_web_sm==2.2.5) (0.8.2)\n",
            "Requirement already satisfied: cymem<2.1.0,>=2.0.2 in /usr/local/lib/python3.7/dist-packages (from spacy>=2.2.2->en_core_web_sm==2.2.5) (2.0.5)\n",
            "Requirement already satisfied: plac<1.2.0,>=0.9.6 in /usr/local/lib/python3.7/dist-packages (from spacy>=2.2.2->en_core_web_sm==2.2.5) (1.1.3)\n",
            "Requirement already satisfied: requests<3.0.0,>=2.13.0 in /usr/local/lib/python3.7/dist-packages (from spacy>=2.2.2->en_core_web_sm==2.2.5) (2.23.0)\n",
            "Requirement already satisfied: importlib-metadata>=0.20 in /usr/local/lib/python3.7/dist-packages (from catalogue<1.1.0,>=0.0.7->spacy>=2.2.2->en_core_web_sm==2.2.5) (4.6.1)\n",
            "Requirement already satisfied: zipp>=0.5 in /usr/local/lib/python3.7/dist-packages (from importlib-metadata>=0.20->catalogue<1.1.0,>=0.0.7->spacy>=2.2.2->en_core_web_sm==2.2.5) (3.5.0)\n",
            "Requirement already satisfied: typing-extensions>=3.6.4 in /usr/local/lib/python3.7/dist-packages (from importlib-metadata>=0.20->catalogue<1.1.0,>=0.0.7->spacy>=2.2.2->en_core_web_sm==2.2.5) (3.7.4.3)\n",
            "Requirement already satisfied: certifi>=2017.4.17 in /usr/local/lib/python3.7/dist-packages (from requests<3.0.0,>=2.13.0->spacy>=2.2.2->en_core_web_sm==2.2.5) (2021.5.30)\n",
            "Requirement already satisfied: chardet<4,>=3.0.2 in /usr/local/lib/python3.7/dist-packages (from requests<3.0.0,>=2.13.0->spacy>=2.2.2->en_core_web_sm==2.2.5) (3.0.4)\n",
            "Requirement already satisfied: idna<3,>=2.5 in /usr/local/lib/python3.7/dist-packages (from requests<3.0.0,>=2.13.0->spacy>=2.2.2->en_core_web_sm==2.2.5) (2.10)\n",
            "Requirement already satisfied: urllib3!=1.25.0,!=1.25.1,<1.26,>=1.21.1 in /usr/local/lib/python3.7/dist-packages (from requests<3.0.0,>=2.13.0->spacy>=2.2.2->en_core_web_sm==2.2.5) (1.24.3)\n",
            "Requirement already satisfied: tqdm<5.0.0,>=4.10.0 in /usr/local/lib/python3.7/dist-packages (from thinc<7.4.0,>=7.3.0->spacy>=2.2.2->en_core_web_sm==2.2.5) (4.41.1)\n",
            "\u001b[38;5;2m✔ Download and installation successful\u001b[0m\n",
            "You can now load the model via spacy.load('en_core_web_sm')\n"
          ],
          "name": "stdout"
        }
      ]
    },
    {
      "cell_type": "code",
      "metadata": {
        "colab": {
          "base_uri": "https://localhost:8080/"
        },
        "id": "qP2UkPzAsbSw",
        "outputId": "4db7613f-2b15-45da-84db-2faded061c2c"
      },
      "source": [
        "\"\"\"\n",
        "Import Statements\n",
        "\"\"\"\n",
        "\n",
        "# Base\n",
        "from collections import Counter\n",
        "import re\n",
        " \n",
        "import pandas as pd\n",
        "\n",
        "# Plotting\n",
        "import squarify\n",
        "import matplotlib.pyplot as plt\n",
        "import seaborn as sns\n",
        "\n",
        "# NLP Libraries\n",
        "import spacy\n",
        "from spacy.tokenizer import Tokenizer\n",
        "from nltk.stem import PorterStemmer\n",
        "\n",
        "# you should be able to load the language model into memory now that you've downloaded it\n",
        "nlp = spacy.load('en_core_web_sm')"
      ],
      "execution_count": 2,
      "outputs": [
        {
          "output_type": "stream",
          "text": [
            "/usr/local/lib/python3.7/dist-packages/statsmodels/tools/_testing.py:19: FutureWarning: pandas.util.testing is deprecated. Use the functions in the public API at pandas.testing instead.\n",
            "  import pandas.util.testing as tm\n"
          ],
          "name": "stderr"
        }
      ]
    },
    {
      "cell_type": "code",
      "metadata": {
        "id": "NZLv_9liocCS",
        "colab": {
          "base_uri": "https://localhost:8080/",
          "height": 202
        },
        "outputId": "8261170e-3e10-4ed9-8673-df9aac0dd8d3"
      },
      "source": [
        "url = \"https://raw.githubusercontent.com/LambdaSchool/DS-Unit-4-Sprint-1-NLP/main/module1-text-data/data/yelp_coffeeshop_review_data.csv\"\n",
        "\n",
        "shops = pd.read_csv(url)\n",
        "shops.head()"
      ],
      "execution_count": 25,
      "outputs": [
        {
          "output_type": "execute_result",
          "data": {
            "text/html": [
              "<div>\n",
              "<style scoped>\n",
              "    .dataframe tbody tr th:only-of-type {\n",
              "        vertical-align: middle;\n",
              "    }\n",
              "\n",
              "    .dataframe tbody tr th {\n",
              "        vertical-align: top;\n",
              "    }\n",
              "\n",
              "    .dataframe thead th {\n",
              "        text-align: right;\n",
              "    }\n",
              "</style>\n",
              "<table border=\"1\" class=\"dataframe\">\n",
              "  <thead>\n",
              "    <tr style=\"text-align: right;\">\n",
              "      <th></th>\n",
              "      <th>coffee_shop_name</th>\n",
              "      <th>full_review_text</th>\n",
              "      <th>star_rating</th>\n",
              "    </tr>\n",
              "  </thead>\n",
              "  <tbody>\n",
              "    <tr>\n",
              "      <th>0</th>\n",
              "      <td>The Factory - Cafe With a Soul</td>\n",
              "      <td>11/25/2016 1 check-in Love love loved the atm...</td>\n",
              "      <td>5.0 star rating</td>\n",
              "    </tr>\n",
              "    <tr>\n",
              "      <th>1</th>\n",
              "      <td>The Factory - Cafe With a Soul</td>\n",
              "      <td>12/2/2016 Listed in Date Night: Austin, Ambia...</td>\n",
              "      <td>4.0 star rating</td>\n",
              "    </tr>\n",
              "    <tr>\n",
              "      <th>2</th>\n",
              "      <td>The Factory - Cafe With a Soul</td>\n",
              "      <td>11/30/2016 1 check-in Listed in Brunch Spots ...</td>\n",
              "      <td>4.0 star rating</td>\n",
              "    </tr>\n",
              "    <tr>\n",
              "      <th>3</th>\n",
              "      <td>The Factory - Cafe With a Soul</td>\n",
              "      <td>11/25/2016 Very cool decor! Good drinks Nice ...</td>\n",
              "      <td>2.0 star rating</td>\n",
              "    </tr>\n",
              "    <tr>\n",
              "      <th>4</th>\n",
              "      <td>The Factory - Cafe With a Soul</td>\n",
              "      <td>12/3/2016 1 check-in They are located within ...</td>\n",
              "      <td>4.0 star rating</td>\n",
              "    </tr>\n",
              "  </tbody>\n",
              "</table>\n",
              "</div>"
            ],
            "text/plain": [
              "                  coffee_shop_name  ...        star_rating\n",
              "0  The Factory - Cafe With a Soul   ...   5.0 star rating \n",
              "1  The Factory - Cafe With a Soul   ...   4.0 star rating \n",
              "2  The Factory - Cafe With a Soul   ...   4.0 star rating \n",
              "3  The Factory - Cafe With a Soul   ...   2.0 star rating \n",
              "4  The Factory - Cafe With a Soul   ...   4.0 star rating \n",
              "\n",
              "[5 rows x 3 columns]"
            ]
          },
          "metadata": {
            "tags": []
          },
          "execution_count": 25
        }
      ]
    },
    {
      "cell_type": "markdown",
      "metadata": {
        "id": "kMt2sf-WocCT"
      },
      "source": [
        "## How do we want to analyze these coffee shop tokens? \n",
        "\n",
        "- Overall Word / Token Count\n",
        "- View Counts by Rating \n",
        "- *Hint:* a 'bad' coffee shops has a rating betweeen 1 & 3 based on the distribution of ratings. A 'good' coffee shop is a 4 or 5. "
      ]
    },
    {
      "cell_type": "code",
      "metadata": {
        "colab": {
          "base_uri": "https://localhost:8080/"
        },
        "id": "KMndtKQ5ukUe",
        "outputId": "70a85d5c-8818-4995-aeaf-4063d5c9e676"
      },
      "source": [
        "shops.shape"
      ],
      "execution_count": 26,
      "outputs": [
        {
          "output_type": "execute_result",
          "data": {
            "text/plain": [
              "(7616, 3)"
            ]
          },
          "metadata": {
            "tags": []
          },
          "execution_count": 26
        }
      ]
    },
    {
      "cell_type": "code",
      "metadata": {
        "colab": {
          "base_uri": "https://localhost:8080/"
        },
        "id": "0uscIMbNvYXg",
        "outputId": "2dbd080c-40ae-4358-916f-fcd3965ea823"
      },
      "source": [
        "shops.info()"
      ],
      "execution_count": 27,
      "outputs": [
        {
          "output_type": "stream",
          "text": [
            "<class 'pandas.core.frame.DataFrame'>\n",
            "RangeIndex: 7616 entries, 0 to 7615\n",
            "Data columns (total 3 columns):\n",
            " #   Column            Non-Null Count  Dtype \n",
            "---  ------            --------------  ----- \n",
            " 0   coffee_shop_name  7616 non-null   object\n",
            " 1   full_review_text  7616 non-null   object\n",
            " 2   star_rating       7616 non-null   object\n",
            "dtypes: object(3)\n",
            "memory usage: 178.6+ KB\n"
          ],
          "name": "stdout"
        }
      ]
    },
    {
      "cell_type": "code",
      "metadata": {
        "colab": {
          "base_uri": "https://localhost:8080/"
        },
        "id": "jUd0z36nwZII",
        "outputId": "4f94c93a-4e93-4c0a-d033-df279c172674"
      },
      "source": [
        "shops['star_rating'].value_counts()"
      ],
      "execution_count": 28,
      "outputs": [
        {
          "output_type": "execute_result",
          "data": {
            "text/plain": [
              " 5.0 star rating     3780\n",
              " 4.0 star rating     2360\n",
              " 3.0 star rating      738\n",
              " 2.0 star rating      460\n",
              " 1.0 star rating      278\n",
              "Name: star_rating, dtype: int64"
            ]
          },
          "metadata": {
            "tags": []
          },
          "execution_count": 28
        }
      ]
    },
    {
      "cell_type": "code",
      "metadata": {
        "id": "xHvG6CUixc4k"
      },
      "source": [
        "# Lambda function to create a ratings column with only float values\n",
        "shops['star_rating_float'] = shops['star_rating'].apply(lambda x: float(str(x).rstrip(' star rating')))"
      ],
      "execution_count": 34,
      "outputs": []
    },
    {
      "cell_type": "code",
      "metadata": {
        "colab": {
          "base_uri": "https://localhost:8080/"
        },
        "id": "AwCczDcTyRKN",
        "outputId": "2b007db3-bd99-4b49-c6a4-6ffc35bf829a"
      },
      "source": [
        "shops['star_rating_float']"
      ],
      "execution_count": 36,
      "outputs": [
        {
          "output_type": "execute_result",
          "data": {
            "text/plain": [
              "0       5.0\n",
              "1       4.0\n",
              "2       4.0\n",
              "3       2.0\n",
              "4       4.0\n",
              "       ... \n",
              "7611    4.0\n",
              "7612    5.0\n",
              "7613    4.0\n",
              "7614    3.0\n",
              "7615    4.0\n",
              "Name: star_rating_float, Length: 7616, dtype: float64"
            ]
          },
          "metadata": {
            "tags": []
          },
          "execution_count": 36
        }
      ]
    },
    {
      "cell_type": "code",
      "metadata": {
        "id": "REjoSiKx-fES"
      },
      "source": [
        "# Lambda function to identify date in full_review_text and create a separate 'date' column\n",
        "shops['date'] = shops['full_review_text'].apply(lambda text: re.findall('\\d+\\/\\d+\\/\\d+', text)[0])"
      ],
      "execution_count": 39,
      "outputs": []
    },
    {
      "cell_type": "code",
      "metadata": {
        "id": "mm0j6A5v-_q7"
      },
      "source": [
        "# Create datetime column for date of review\n",
        "shops['datetime'] = pd.to_datetime(shops['date'], infer_datetime_format=True)"
      ],
      "execution_count": 40,
      "outputs": []
    },
    {
      "cell_type": "code",
      "metadata": {
        "id": "qebwSvzV_VVO"
      },
      "source": [
        "# Remove the dates from the full_review_text\n",
        "shops['review_text'] = shops['full_review_text'].apply(lambda text: re.sub('\\d+\\/\\d+\\/\\d+', '', text))"
      ],
      "execution_count": 41,
      "outputs": []
    },
    {
      "cell_type": "code",
      "metadata": {
        "colab": {
          "base_uri": "https://localhost:8080/",
          "height": 202
        },
        "id": "IILMg1cP_1U6",
        "outputId": "bf489b03-8026-4533-f13b-d837eb30e87a"
      },
      "source": [
        "shops.head()"
      ],
      "execution_count": 42,
      "outputs": [
        {
          "output_type": "execute_result",
          "data": {
            "text/html": [
              "<div>\n",
              "<style scoped>\n",
              "    .dataframe tbody tr th:only-of-type {\n",
              "        vertical-align: middle;\n",
              "    }\n",
              "\n",
              "    .dataframe tbody tr th {\n",
              "        vertical-align: top;\n",
              "    }\n",
              "\n",
              "    .dataframe thead th {\n",
              "        text-align: right;\n",
              "    }\n",
              "</style>\n",
              "<table border=\"1\" class=\"dataframe\">\n",
              "  <thead>\n",
              "    <tr style=\"text-align: right;\">\n",
              "      <th></th>\n",
              "      <th>coffee_shop_name</th>\n",
              "      <th>full_review_text</th>\n",
              "      <th>star_rating</th>\n",
              "      <th>star_rating_float</th>\n",
              "      <th>date</th>\n",
              "      <th>datetime</th>\n",
              "      <th>review_text</th>\n",
              "    </tr>\n",
              "  </thead>\n",
              "  <tbody>\n",
              "    <tr>\n",
              "      <th>0</th>\n",
              "      <td>The Factory - Cafe With a Soul</td>\n",
              "      <td>11/25/2016 1 check-in Love love loved the atm...</td>\n",
              "      <td>5.0 star rating</td>\n",
              "      <td>5.0</td>\n",
              "      <td>11/25/2016</td>\n",
              "      <td>2016-11-25</td>\n",
              "      <td>1 check-in Love love loved the atmosphere! E...</td>\n",
              "    </tr>\n",
              "    <tr>\n",
              "      <th>1</th>\n",
              "      <td>The Factory - Cafe With a Soul</td>\n",
              "      <td>12/2/2016 Listed in Date Night: Austin, Ambia...</td>\n",
              "      <td>4.0 star rating</td>\n",
              "      <td>4.0</td>\n",
              "      <td>12/2/2016</td>\n",
              "      <td>2016-12-02</td>\n",
              "      <td>Listed in Date Night: Austin, Ambiance in Au...</td>\n",
              "    </tr>\n",
              "    <tr>\n",
              "      <th>2</th>\n",
              "      <td>The Factory - Cafe With a Soul</td>\n",
              "      <td>11/30/2016 1 check-in Listed in Brunch Spots ...</td>\n",
              "      <td>4.0 star rating</td>\n",
              "      <td>4.0</td>\n",
              "      <td>11/30/2016</td>\n",
              "      <td>2016-11-30</td>\n",
              "      <td>1 check-in Listed in Brunch Spots I loved th...</td>\n",
              "    </tr>\n",
              "    <tr>\n",
              "      <th>3</th>\n",
              "      <td>The Factory - Cafe With a Soul</td>\n",
              "      <td>11/25/2016 Very cool decor! Good drinks Nice ...</td>\n",
              "      <td>2.0 star rating</td>\n",
              "      <td>2.0</td>\n",
              "      <td>11/25/2016</td>\n",
              "      <td>2016-11-25</td>\n",
              "      <td>Very cool decor! Good drinks Nice seating  H...</td>\n",
              "    </tr>\n",
              "    <tr>\n",
              "      <th>4</th>\n",
              "      <td>The Factory - Cafe With a Soul</td>\n",
              "      <td>12/3/2016 1 check-in They are located within ...</td>\n",
              "      <td>4.0 star rating</td>\n",
              "      <td>4.0</td>\n",
              "      <td>12/3/2016</td>\n",
              "      <td>2016-12-03</td>\n",
              "      <td>1 check-in They are located within the North...</td>\n",
              "    </tr>\n",
              "  </tbody>\n",
              "</table>\n",
              "</div>"
            ],
            "text/plain": [
              "                  coffee_shop_name  ...                                        review_text\n",
              "0  The Factory - Cafe With a Soul   ...    1 check-in Love love loved the atmosphere! E...\n",
              "1  The Factory - Cafe With a Soul   ...    Listed in Date Night: Austin, Ambiance in Au...\n",
              "2  The Factory - Cafe With a Soul   ...    1 check-in Listed in Brunch Spots I loved th...\n",
              "3  The Factory - Cafe With a Soul   ...    Very cool decor! Good drinks Nice seating  H...\n",
              "4  The Factory - Cafe With a Soul   ...    1 check-in They are located within the North...\n",
              "\n",
              "[5 rows x 7 columns]"
            ]
          },
          "metadata": {
            "tags": []
          },
          "execution_count": 42
        }
      ]
    },
    {
      "cell_type": "code",
      "metadata": {
        "id": "mMVvrtsgCQso"
      },
      "source": [
        "def count(tokens):\n",
        "  \"\"\"\n",
        "  Calculates basic statistics for tokens to assist in analysis.\n",
        "  \"\"\"\n",
        "  # Variable to store the count of each token\n",
        "  word_count = Counter()\n",
        "\n",
        "  # Stores the number of documents in which each token appears\n",
        "  appears_in = Counter()\n",
        "\n",
        "  total_docs = len(tokens)\n",
        "\n",
        "  for token in tokens:\n",
        "    # Update the token count\n",
        "    word_count.update(token)\n",
        "    # Update the appearances of each token using set() to avoid duplicates\n",
        "    appears_in.update(set(token))\n",
        "\n",
        "  # Build DF for the word count\n",
        "  temp = zip(word_count.keys(), word_count.values())\n",
        "  wc = pd.DataFrame(data = temp, columns = ['word', 'count'])\n",
        "\n",
        "  # Rank the tokens\n",
        "  wc['rank'] = wc['count'].rank(method = 'first', ascending = False)\n",
        "  total = wc['count'].sum()\n",
        "\n",
        "  # Calculate the percent appearance of each token\n",
        "  wc['pct_total'] = wc['count'].apply(lambda token_count: token_count / total * 100)\n",
        "\n",
        "  # Calculate the cumulative percent total for tokens\n",
        "  wc = wc.sort_values(by='rank')\n",
        "  wc['cul_pct_total'] = wc['pct_total'].cumsum()\n",
        "\n",
        "  # Create DF for the document statistics\n",
        "  temp2 = zip(appears_in.keys(), appears_in.values())\n",
        "  ac = pd.DataFrame(data = temp2, columns = ['word', 'appears_in'])\n",
        "\n",
        "  # Merge DFs for word count and appearance stats\n",
        "  wc = ac.merge(wc, on = 'word')\n",
        "\n",
        "  # Calculate the percentage in appears_in column\n",
        "  wc['appears_in_pct'] = wc['appears_in'].apply(lambda x: x / total_docs * 100)\n",
        "\n",
        "  return wc.sort_values(by = 'rank')"
      ],
      "execution_count": 43,
      "outputs": []
    },
    {
      "cell_type": "code",
      "metadata": {
        "id": "n6_kuDaU__xZ"
      },
      "source": [
        "# Create a SpaCy tokenizer\n",
        "# Corpus level tokens\n",
        "tokens = []\n",
        "\n",
        "for doc in nlp.pipe(shops['review_text']):\n",
        "  # Individual review tokens\n",
        "  doc_tokens = []\n",
        "\n",
        "  for token in doc:\n",
        "    doc_tokens.append(token.text)\n",
        "\n",
        "  tokens.append(doc_tokens)"
      ],
      "execution_count": 46,
      "outputs": []
    },
    {
      "cell_type": "code",
      "metadata": {
        "colab": {
          "base_uri": "https://localhost:8080/",
          "height": 248
        },
        "id": "QhF14WklLUvq",
        "outputId": "022da7ee-5cf0-4136-c1a8-2a2674aa7916"
      },
      "source": [
        "# Create column with the SpaCy tokens\n",
        "shops['spacy_tokens'] = tokens\n",
        "\n",
        "# pass DF through count function for stats\n",
        "wc = count(shops['spacy_tokens'])\n",
        "\n",
        "# sort and keep top 20 tokens for plotting\n",
        "wc_top20 = wc[wc['rank'] <= 20]\n",
        "\n",
        "# plot stats\n",
        "squarify.plot(sizes=wc_top20['pct_total'], label=wc_top20['word'], alpha=.8 )\n",
        "plt.axis('off')\n",
        "plt.show()"
      ],
      "execution_count": 48,
      "outputs": [
        {
          "output_type": "display_data",
          "data": {
            "image/png": "[encoded data removed]",
            "text/plain": [
              "<Figure size 432x288 with 1 Axes>"
            ]
          },
          "metadata": {
            "tags": [],
            "needs_background": "light"
          }
        }
      ]
    },
    {
      "cell_type": "code",
      "metadata": {
        "colab": {
          "base_uri": "https://localhost:8080/",
          "height": 248
        },
        "id": "yyr7UkQULhi7",
        "outputId": "cdc66074-1ef8-48b2-b565-e2a942eef859"
      },
      "source": [
        "# Create a SpaCy tokenizer w/o stop_words\n",
        "# Corpus level tokens\n",
        "tokens = []\n",
        "\n",
        "for doc in nlp.pipe(shops['review_text'], batch_size=500):\n",
        "  # Individual review tokens\n",
        "  doc_tokens = []\n",
        "\n",
        "  for token in doc:\n",
        "    if (token.is_stop == False) & (token.is_punct == False) & \\\n",
        "    (token.is_space == False):\n",
        "      doc_tokens.append(token.text.lower())\n",
        "\n",
        "  tokens.append(doc_tokens)\n",
        "\n",
        "# Create column with the SpaCy tokens\n",
        "shops['spacy_tokens'] = tokens\n",
        "\n",
        "# pass DF through count function for stats\n",
        "wc = count(shops['spacy_tokens'])\n",
        "\n",
        "# sort and keep top 20 tokens for plotting\n",
        "wc_top20 = wc[wc['rank'] <= 20]\n",
        "\n",
        "# plot stats\n",
        "squarify.plot(sizes=wc_top20['pct_total'], label=wc_top20['word'], alpha=.8 )\n",
        "plt.axis('off')\n",
        "plt.show()"
      ],
      "execution_count": 53,
      "outputs": [
        {
          "output_type": "display_data",
          "data": {
            "image/png": "[encoded data removed]",
            "text/plain": [
              "<Figure size 432x288 with 1 Axes>"
            ]
          },
          "metadata": {
            "tags": [],
            "needs_background": "light"
          }
        }
      ]
    },
    {
      "cell_type": "code",
      "metadata": {
        "id": "BhNr8yL0NXj7"
      },
      "source": [
        "wc.head(50)"
      ],
      "execution_count": null,
      "outputs": []
    },
    {
      "cell_type": "code",
      "metadata": {
        "id": "p-hvF7nOMXP7"
      },
      "source": [
        "# Extend the Stop_Words library with stopwords specific to this data\n",
        "STOP_WORDS = nlp.Defaults.stop_words.union(['check','check-in', 'check-ins',\n",
        "                                            'in', 'ins', 'i', 'it', \"it's\",\n",
        "                                            'it.', 'the', 'this', '1'])"
      ],
      "execution_count": 63,
      "outputs": []
    },
    {
      "cell_type": "code",
      "metadata": {
        "colab": {
          "base_uri": "https://localhost:8080/",
          "height": 248
        },
        "id": "KzIXUhnkQzWd",
        "outputId": "ddca10e4-bea2-4d19-9852-30fdd5f61de9"
      },
      "source": [
        "# Create a SpaCy tokenizer w/o Extended Stopwords\n",
        "# Corpus level tokens\n",
        "tokens = []\n",
        "\n",
        "for doc in nlp.pipe(shops['review_text'], batch_size=500):\n",
        "  # Individual review tokens\n",
        "  doc_tokens = []\n",
        "\n",
        "  for token in doc:\n",
        "    if (token.is_punct == False) & (token.is_space == False) & \\\n",
        "    (token.text.lower() not in STOP_WORDS):\n",
        "      doc_tokens.append(token.text.lower())\n",
        "\n",
        "  tokens.append(doc_tokens)\n",
        "\n",
        "# Create column with the SpaCy tokens\n",
        "shops['spacy_tokens'] = tokens\n",
        "\n",
        "# pass DF through count function for stats\n",
        "wc = count(shops['spacy_tokens'])\n",
        "\n",
        "# sort and keep top 20 tokens for plotting\n",
        "wc_top20 = wc[wc['rank'] <= 20]\n",
        "\n",
        "# plot stats\n",
        "squarify.plot(sizes=wc_top20['pct_total'], label=wc_top20['word'], alpha=.8 )\n",
        "plt.axis('off')\n",
        "plt.show()"
      ],
      "execution_count": 64,
      "outputs": [
        {
          "output_type": "display_data",
          "data": {
            "image/png": "[encoded data removed]",
            "text/plain": [
              "<Figure size 432x288 with 1 Axes>"
            ]
          },
          "metadata": {
            "tags": [],
            "needs_background": "light"
          }
        }
      ]
    },
    {
      "cell_type": "code",
      "metadata": {
        "colab": {
          "base_uri": "https://localhost:8080/",
          "height": 510
        },
        "id": "PvpTergwRTJ3",
        "outputId": "4c2ce1fb-f5c6-4e06-bc36-43657274de5b"
      },
      "source": [
        "wc.head(15)"
      ],
      "execution_count": 65,
      "outputs": [
        {
          "output_type": "execute_result",
          "data": {
            "text/html": [
              "<div>\n",
              "<style scoped>\n",
              "    .dataframe tbody tr th:only-of-type {\n",
              "        vertical-align: middle;\n",
              "    }\n",
              "\n",
              "    .dataframe tbody tr th {\n",
              "        vertical-align: top;\n",
              "    }\n",
              "\n",
              "    .dataframe thead th {\n",
              "        text-align: right;\n",
              "    }\n",
              "</style>\n",
              "<table border=\"1\" class=\"dataframe\">\n",
              "  <thead>\n",
              "    <tr style=\"text-align: right;\">\n",
              "      <th></th>\n",
              "      <th>word</th>\n",
              "      <th>appears_in</th>\n",
              "      <th>count</th>\n",
              "      <th>rank</th>\n",
              "      <th>pct_total</th>\n",
              "      <th>cul_pct_total</th>\n",
              "      <th>appears_in_pct</th>\n",
              "    </tr>\n",
              "  </thead>\n",
              "  <tbody>\n",
              "    <tr>\n",
              "      <th>10</th>\n",
              "      <td>coffee</td>\n",
              "      <td>4911</td>\n",
              "      <td>10539</td>\n",
              "      <td>1.0</td>\n",
              "      <td>2.967186</td>\n",
              "      <td>2.967186</td>\n",
              "      <td>64.482668</td>\n",
              "    </tr>\n",
              "    <tr>\n",
              "      <th>71</th>\n",
              "      <td>place</td>\n",
              "      <td>3665</td>\n",
              "      <td>5444</td>\n",
              "      <td>2.0</td>\n",
              "      <td>1.532722</td>\n",
              "      <td>4.499908</td>\n",
              "      <td>48.122374</td>\n",
              "    </tr>\n",
              "    <tr>\n",
              "      <th>153</th>\n",
              "      <td>good</td>\n",
              "      <td>2792</td>\n",
              "      <td>3986</td>\n",
              "      <td>3.0</td>\n",
              "      <td>1.122232</td>\n",
              "      <td>5.622141</td>\n",
              "      <td>36.659664</td>\n",
              "    </tr>\n",
              "    <tr>\n",
              "      <th>129</th>\n",
              "      <td>great</td>\n",
              "      <td>2843</td>\n",
              "      <td>3933</td>\n",
              "      <td>4.0</td>\n",
              "      <td>1.107310</td>\n",
              "      <td>6.729451</td>\n",
              "      <td>37.329307</td>\n",
              "    </tr>\n",
              "    <tr>\n",
              "      <th>167</th>\n",
              "      <td>like</td>\n",
              "      <td>2142</td>\n",
              "      <td>3125</td>\n",
              "      <td>5.0</td>\n",
              "      <td>0.879823</td>\n",
              "      <td>7.609274</td>\n",
              "      <td>28.125000</td>\n",
              "    </tr>\n",
              "    <tr>\n",
              "      <th>42</th>\n",
              "      <td>austin</td>\n",
              "      <td>1838</td>\n",
              "      <td>2341</td>\n",
              "      <td>6.0</td>\n",
              "      <td>0.659093</td>\n",
              "      <td>8.268367</td>\n",
              "      <td>24.133403</td>\n",
              "    </tr>\n",
              "    <tr>\n",
              "      <th>31</th>\n",
              "      <td>love</td>\n",
              "      <td>1499</td>\n",
              "      <td>1942</td>\n",
              "      <td>7.0</td>\n",
              "      <td>0.546757</td>\n",
              "      <td>8.815125</td>\n",
              "      <td>19.682248</td>\n",
              "    </tr>\n",
              "    <tr>\n",
              "      <th>506</th>\n",
              "      <td>time</td>\n",
              "      <td>1487</td>\n",
              "      <td>1905</td>\n",
              "      <td>8.0</td>\n",
              "      <td>0.536340</td>\n",
              "      <td>9.351465</td>\n",
              "      <td>19.524685</td>\n",
              "    </tr>\n",
              "    <tr>\n",
              "      <th>335</th>\n",
              "      <td>food</td>\n",
              "      <td>1389</td>\n",
              "      <td>1868</td>\n",
              "      <td>9.0</td>\n",
              "      <td>0.525923</td>\n",
              "      <td>9.877388</td>\n",
              "      <td>18.237920</td>\n",
              "    </tr>\n",
              "    <tr>\n",
              "      <th>46</th>\n",
              "      <td>nice</td>\n",
              "      <td>1470</td>\n",
              "      <td>1751</td>\n",
              "      <td>10.0</td>\n",
              "      <td>0.492983</td>\n",
              "      <td>10.370370</td>\n",
              "      <td>19.301471</td>\n",
              "    </tr>\n",
              "    <tr>\n",
              "      <th>39</th>\n",
              "      <td>shop</td>\n",
              "      <td>1362</td>\n",
              "      <td>1723</td>\n",
              "      <td>11.0</td>\n",
              "      <td>0.485099</td>\n",
              "      <td>10.855470</td>\n",
              "      <td>17.883403</td>\n",
              "    </tr>\n",
              "    <tr>\n",
              "      <th>174</th>\n",
              "      <td>friendly</td>\n",
              "      <td>1611</td>\n",
              "      <td>1704</td>\n",
              "      <td>12.0</td>\n",
              "      <td>0.479750</td>\n",
              "      <td>11.335220</td>\n",
              "      <td>21.152836</td>\n",
              "    </tr>\n",
              "    <tr>\n",
              "      <th>18</th>\n",
              "      <td>latte</td>\n",
              "      <td>1135</td>\n",
              "      <td>1632</td>\n",
              "      <td>13.0</td>\n",
              "      <td>0.459479</td>\n",
              "      <td>11.794699</td>\n",
              "      <td>14.902836</td>\n",
              "    </tr>\n",
              "    <tr>\n",
              "      <th>624</th>\n",
              "      <td>little</td>\n",
              "      <td>1243</td>\n",
              "      <td>1506</td>\n",
              "      <td>14.0</td>\n",
              "      <td>0.424004</td>\n",
              "      <td>12.218703</td>\n",
              "      <td>16.320903</td>\n",
              "    </tr>\n",
              "    <tr>\n",
              "      <th>432</th>\n",
              "      <td>people</td>\n",
              "      <td>1179</td>\n",
              "      <td>1452</td>\n",
              "      <td>15.0</td>\n",
              "      <td>0.408801</td>\n",
              "      <td>12.627504</td>\n",
              "      <td>15.480567</td>\n",
              "    </tr>\n",
              "  </tbody>\n",
              "</table>\n",
              "</div>"
            ],
            "text/plain": [
              "         word  appears_in  count  ...  pct_total  cul_pct_total  appears_in_pct\n",
              "10     coffee        4911  10539  ...   2.967186       2.967186       64.482668\n",
              "71      place        3665   5444  ...   1.532722       4.499908       48.122374\n",
              "153      good        2792   3986  ...   1.122232       5.622141       36.659664\n",
              "129     great        2843   3933  ...   1.107310       6.729451       37.329307\n",
              "167      like        2142   3125  ...   0.879823       7.609274       28.125000\n",
              "42     austin        1838   2341  ...   0.659093       8.268367       24.133403\n",
              "31       love        1499   1942  ...   0.546757       8.815125       19.682248\n",
              "506      time        1487   1905  ...   0.536340       9.351465       19.524685\n",
              "335      food        1389   1868  ...   0.525923       9.877388       18.237920\n",
              "46       nice        1470   1751  ...   0.492983      10.370370       19.301471\n",
              "39       shop        1362   1723  ...   0.485099      10.855470       17.883403\n",
              "174  friendly        1611   1704  ...   0.479750      11.335220       21.152836\n",
              "18      latte        1135   1632  ...   0.459479      11.794699       14.902836\n",
              "624    little        1243   1506  ...   0.424004      12.218703       16.320903\n",
              "432    people        1179   1452  ...   0.408801      12.627504       15.480567\n",
              "\n",
              "[15 rows x 7 columns]"
            ]
          },
          "metadata": {
            "tags": []
          },
          "execution_count": 65
        }
      ]
    },
    {
      "cell_type": "code",
      "metadata": {
        "id": "rdb-YxsbS3A7"
      },
      "source": [
        "# Function to get lemmas from the review_text with Extended Stopwords\n",
        "def get_lemmas(text):\n",
        "\n",
        "    lemmas = []\n",
        "    \n",
        "    doc = nlp(text)\n",
        "    \n",
        "    ### BEGIN SOLUTION\n",
        "    for token in doc: \n",
        "        if ((token.is_space == False) & (token.is_punct == False) & \n",
        "            (token.pos_ != 'PRON') & (token.text.lower() not in STOP_WORDS)):\n",
        "            lemmas.append(token.lemma_)\n",
        "    ### END SOLUTION\n",
        "    \n",
        "    return lemmas"
      ],
      "execution_count": 70,
      "outputs": []
    },
    {
      "cell_type": "code",
      "metadata": {
        "id": "r0AXquQqTUrR"
      },
      "source": [
        "shops['lemmas'] = shops['review_text'].apply(get_lemmas)"
      ],
      "execution_count": 71,
      "outputs": []
    },
    {
      "cell_type": "code",
      "metadata": {
        "colab": {
          "base_uri": "https://localhost:8080/",
          "height": 248
        },
        "id": "ASUAVCXwTdy5",
        "outputId": "7721cffb-4063-4d9c-9de1-e4fda037b0ee"
      },
      "source": [
        "wc = count(shops['lemmas'])\n",
        "wc_top20 = wc[wc['rank'] <= 20]\n",
        "\n",
        "squarify.plot(sizes=wc_top20['pct_total'], label=wc_top20['word'], alpha=.8 )\n",
        "plt.axis('off')\n",
        "plt.show()"
      ],
      "execution_count": 72,
      "outputs": [
        {
          "output_type": "display_data",
          "data": {
            "image/png": "[encoded data removed]",
            "text/plain": [
              "<Figure size 432x288 with 1 Axes>"
            ]
          },
          "metadata": {
            "tags": [],
            "needs_background": "light"
          }
        }
      ]
    },
    {
      "cell_type": "code",
      "metadata": {
        "colab": {
          "base_uri": "https://localhost:8080/",
          "height": 510
        },
        "id": "hk5nDSPiUHhj",
        "outputId": "2f9c4560-a2d8-4d51-816a-ca1254d9e4e6"
      },
      "source": [
        "wc.head(15)"
      ],
      "execution_count": 73,
      "outputs": [
        {
          "output_type": "execute_result",
          "data": {
            "text/html": [
              "<div>\n",
              "<style scoped>\n",
              "    .dataframe tbody tr th:only-of-type {\n",
              "        vertical-align: middle;\n",
              "    }\n",
              "\n",
              "    .dataframe tbody tr th {\n",
              "        vertical-align: top;\n",
              "    }\n",
              "\n",
              "    .dataframe thead th {\n",
              "        text-align: right;\n",
              "    }\n",
              "</style>\n",
              "<table border=\"1\" class=\"dataframe\">\n",
              "  <thead>\n",
              "    <tr style=\"text-align: right;\">\n",
              "      <th></th>\n",
              "      <th>word</th>\n",
              "      <th>appears_in</th>\n",
              "      <th>count</th>\n",
              "      <th>rank</th>\n",
              "      <th>pct_total</th>\n",
              "      <th>cul_pct_total</th>\n",
              "      <th>appears_in_pct</th>\n",
              "    </tr>\n",
              "  </thead>\n",
              "  <tbody>\n",
              "    <tr>\n",
              "      <th>11</th>\n",
              "      <td>coffee</td>\n",
              "      <td>4856</td>\n",
              "      <td>10176</td>\n",
              "      <td>1.0</td>\n",
              "      <td>2.866511</td>\n",
              "      <td>2.866511</td>\n",
              "      <td>63.760504</td>\n",
              "    </tr>\n",
              "    <tr>\n",
              "      <th>70</th>\n",
              "      <td>place</td>\n",
              "      <td>3873</td>\n",
              "      <td>6018</td>\n",
              "      <td>2.0</td>\n",
              "      <td>1.695230</td>\n",
              "      <td>4.561742</td>\n",
              "      <td>50.853466</td>\n",
              "    </tr>\n",
              "    <tr>\n",
              "      <th>154</th>\n",
              "      <td>good</td>\n",
              "      <td>3556</td>\n",
              "      <td>5291</td>\n",
              "      <td>3.0</td>\n",
              "      <td>1.490439</td>\n",
              "      <td>6.052181</td>\n",
              "      <td>46.691176</td>\n",
              "    </tr>\n",
              "    <tr>\n",
              "      <th>128</th>\n",
              "      <td>great</td>\n",
              "      <td>2839</td>\n",
              "      <td>3920</td>\n",
              "      <td>4.0</td>\n",
              "      <td>1.104238</td>\n",
              "      <td>7.156419</td>\n",
              "      <td>37.276786</td>\n",
              "    </tr>\n",
              "    <tr>\n",
              "      <th>166</th>\n",
              "      <td>like</td>\n",
              "      <td>2274</td>\n",
              "      <td>3380</td>\n",
              "      <td>5.0</td>\n",
              "      <td>0.952123</td>\n",
              "      <td>8.108542</td>\n",
              "      <td>29.858193</td>\n",
              "    </tr>\n",
              "    <tr>\n",
              "      <th>398</th>\n",
              "      <td>come</td>\n",
              "      <td>1932</td>\n",
              "      <td>2638</td>\n",
              "      <td>6.0</td>\n",
              "      <td>0.743107</td>\n",
              "      <td>8.851649</td>\n",
              "      <td>25.367647</td>\n",
              "    </tr>\n",
              "    <tr>\n",
              "      <th>501</th>\n",
              "      <td>time</td>\n",
              "      <td>1761</td>\n",
              "      <td>2381</td>\n",
              "      <td>7.0</td>\n",
              "      <td>0.670712</td>\n",
              "      <td>9.522361</td>\n",
              "      <td>23.122374</td>\n",
              "    </tr>\n",
              "    <tr>\n",
              "      <th>29</th>\n",
              "      <td>love</td>\n",
              "      <td>1797</td>\n",
              "      <td>2332</td>\n",
              "      <td>8.0</td>\n",
              "      <td>0.656909</td>\n",
              "      <td>10.179270</td>\n",
              "      <td>23.595063</td>\n",
              "    </tr>\n",
              "    <tr>\n",
              "      <th>33</th>\n",
              "      <td>drink</td>\n",
              "      <td>1636</td>\n",
              "      <td>2332</td>\n",
              "      <td>9.0</td>\n",
              "      <td>0.656909</td>\n",
              "      <td>10.836178</td>\n",
              "      <td>21.481092</td>\n",
              "    </tr>\n",
              "    <tr>\n",
              "      <th>60</th>\n",
              "      <td>Austin</td>\n",
              "      <td>1785</td>\n",
              "      <td>2274</td>\n",
              "      <td>10.0</td>\n",
              "      <td>0.640571</td>\n",
              "      <td>11.476749</td>\n",
              "      <td>23.437500</td>\n",
              "    </tr>\n",
              "    <tr>\n",
              "      <th>38</th>\n",
              "      <td>shop</td>\n",
              "      <td>1629</td>\n",
              "      <td>2183</td>\n",
              "      <td>11.0</td>\n",
              "      <td>0.614937</td>\n",
              "      <td>12.091686</td>\n",
              "      <td>21.389181</td>\n",
              "    </tr>\n",
              "    <tr>\n",
              "      <th>96</th>\n",
              "      <td>try</td>\n",
              "      <td>1675</td>\n",
              "      <td>2142</td>\n",
              "      <td>12.0</td>\n",
              "      <td>0.603387</td>\n",
              "      <td>12.695073</td>\n",
              "      <td>21.993172</td>\n",
              "    </tr>\n",
              "    <tr>\n",
              "      <th>27</th>\n",
              "      <td>order</td>\n",
              "      <td>1459</td>\n",
              "      <td>2140</td>\n",
              "      <td>13.0</td>\n",
              "      <td>0.602824</td>\n",
              "      <td>13.297896</td>\n",
              "      <td>19.157038</td>\n",
              "    </tr>\n",
              "    <tr>\n",
              "      <th>647</th>\n",
              "      <td>work</td>\n",
              "      <td>1483</td>\n",
              "      <td>1909</td>\n",
              "      <td>14.0</td>\n",
              "      <td>0.537753</td>\n",
              "      <td>13.835649</td>\n",
              "      <td>19.472164</td>\n",
              "    </tr>\n",
              "    <tr>\n",
              "      <th>3</th>\n",
              "      <td>get</td>\n",
              "      <td>1454</td>\n",
              "      <td>1882</td>\n",
              "      <td>15.0</td>\n",
              "      <td>0.530147</td>\n",
              "      <td>14.365796</td>\n",
              "      <td>19.091387</td>\n",
              "    </tr>\n",
              "  </tbody>\n",
              "</table>\n",
              "</div>"
            ],
            "text/plain": [
              "       word  appears_in  count  rank  pct_total  cul_pct_total  appears_in_pct\n",
              "11   coffee        4856  10176   1.0   2.866511       2.866511       63.760504\n",
              "70    place        3873   6018   2.0   1.695230       4.561742       50.853466\n",
              "154    good        3556   5291   3.0   1.490439       6.052181       46.691176\n",
              "128   great        2839   3920   4.0   1.104238       7.156419       37.276786\n",
              "166    like        2274   3380   5.0   0.952123       8.108542       29.858193\n",
              "398    come        1932   2638   6.0   0.743107       8.851649       25.367647\n",
              "501    time        1761   2381   7.0   0.670712       9.522361       23.122374\n",
              "29     love        1797   2332   8.0   0.656909      10.179270       23.595063\n",
              "33    drink        1636   2332   9.0   0.656909      10.836178       21.481092\n",
              "60   Austin        1785   2274  10.0   0.640571      11.476749       23.437500\n",
              "38     shop        1629   2183  11.0   0.614937      12.091686       21.389181\n",
              "96      try        1675   2142  12.0   0.603387      12.695073       21.993172\n",
              "27    order        1459   2140  13.0   0.602824      13.297896       19.157038\n",
              "647    work        1483   1909  14.0   0.537753      13.835649       19.472164\n",
              "3       get        1454   1882  15.0   0.530147      14.365796       19.091387"
            ]
          },
          "metadata": {
            "tags": []
          },
          "execution_count": 73
        }
      ]
    },
    {
      "cell_type": "code",
      "metadata": {
        "colab": {
          "base_uri": "https://localhost:8080/",
          "height": 369
        },
        "id": "tvosu0HmU65E",
        "outputId": "02378c90-d064-4c41-ebc7-4ff7a977e298"
      },
      "source": [
        "shops.head()"
      ],
      "execution_count": 74,
      "outputs": [
        {
          "output_type": "execute_result",
          "data": {
            "text/html": [
              "<div>\n",
              "<style scoped>\n",
              "    .dataframe tbody tr th:only-of-type {\n",
              "        vertical-align: middle;\n",
              "    }\n",
              "\n",
              "    .dataframe tbody tr th {\n",
              "        vertical-align: top;\n",
              "    }\n",
              "\n",
              "    .dataframe thead th {\n",
              "        text-align: right;\n",
              "    }\n",
              "</style>\n",
              "<table border=\"1\" class=\"dataframe\">\n",
              "  <thead>\n",
              "    <tr style=\"text-align: right;\">\n",
              "      <th></th>\n",
              "      <th>coffee_shop_name</th>\n",
              "      <th>full_review_text</th>\n",
              "      <th>star_rating</th>\n",
              "      <th>star_rating_float</th>\n",
              "      <th>date</th>\n",
              "      <th>datetime</th>\n",
              "      <th>review_text</th>\n",
              "      <th>spacy_tokens</th>\n",
              "      <th>lemmas</th>\n",
              "    </tr>\n",
              "  </thead>\n",
              "  <tbody>\n",
              "    <tr>\n",
              "      <th>0</th>\n",
              "      <td>The Factory - Cafe With a Soul</td>\n",
              "      <td>11/25/2016 1 check-in Love love loved the atm...</td>\n",
              "      <td>5.0 star rating</td>\n",
              "      <td>5.0</td>\n",
              "      <td>11/25/2016</td>\n",
              "      <td>2016-11-25</td>\n",
              "      <td>1 check-in Love love loved the atmosphere! E...</td>\n",
              "      <td>[love, love, loved, atmosphere, corner, coffee...</td>\n",
              "      <td>[Love, love, love, atmosphere, corner, coffee,...</td>\n",
              "    </tr>\n",
              "    <tr>\n",
              "      <th>1</th>\n",
              "      <td>The Factory - Cafe With a Soul</td>\n",
              "      <td>12/2/2016 Listed in Date Night: Austin, Ambia...</td>\n",
              "      <td>4.0 star rating</td>\n",
              "      <td>4.0</td>\n",
              "      <td>12/2/2016</td>\n",
              "      <td>2016-12-02</td>\n",
              "      <td>Listed in Date Night: Austin, Ambiance in Au...</td>\n",
              "      <td>[listed, date, night, austin, ambiance, austin...</td>\n",
              "      <td>[list, Date, Night, Austin, Ambiance, Austin, ...</td>\n",
              "    </tr>\n",
              "    <tr>\n",
              "      <th>2</th>\n",
              "      <td>The Factory - Cafe With a Soul</td>\n",
              "      <td>11/30/2016 1 check-in Listed in Brunch Spots ...</td>\n",
              "      <td>4.0 star rating</td>\n",
              "      <td>4.0</td>\n",
              "      <td>11/30/2016</td>\n",
              "      <td>2016-11-30</td>\n",
              "      <td>1 check-in Listed in Brunch Spots I loved th...</td>\n",
              "      <td>[listed, brunch, spots, loved, eclectic, homey...</td>\n",
              "      <td>[list, Brunch, Spots, love, eclectic, homey, p...</td>\n",
              "    </tr>\n",
              "    <tr>\n",
              "      <th>3</th>\n",
              "      <td>The Factory - Cafe With a Soul</td>\n",
              "      <td>11/25/2016 Very cool decor! Good drinks Nice ...</td>\n",
              "      <td>2.0 star rating</td>\n",
              "      <td>2.0</td>\n",
              "      <td>11/25/2016</td>\n",
              "      <td>2016-11-25</td>\n",
              "      <td>Very cool decor! Good drinks Nice seating  H...</td>\n",
              "      <td>[cool, decor, good, drinks, nice, seating, ove...</td>\n",
              "      <td>[cool, decor, good, drink, nice, seating, over...</td>\n",
              "    </tr>\n",
              "    <tr>\n",
              "      <th>4</th>\n",
              "      <td>The Factory - Cafe With a Soul</td>\n",
              "      <td>12/3/2016 1 check-in They are located within ...</td>\n",
              "      <td>4.0 star rating</td>\n",
              "      <td>4.0</td>\n",
              "      <td>12/3/2016</td>\n",
              "      <td>2016-12-03</td>\n",
              "      <td>1 check-in They are located within the North...</td>\n",
              "      <td>[located, northcross, mall, shopping, center, ...</td>\n",
              "      <td>[locate, Northcross, mall, shopping, center, f...</td>\n",
              "    </tr>\n",
              "  </tbody>\n",
              "</table>\n",
              "</div>"
            ],
            "text/plain": [
              "                  coffee_shop_name  ...                                             lemmas\n",
              "0  The Factory - Cafe With a Soul   ...  [Love, love, love, atmosphere, corner, coffee,...\n",
              "1  The Factory - Cafe With a Soul   ...  [list, Date, Night, Austin, Ambiance, Austin, ...\n",
              "2  The Factory - Cafe With a Soul   ...  [list, Brunch, Spots, love, eclectic, homey, p...\n",
              "3  The Factory - Cafe With a Soul   ...  [cool, decor, good, drink, nice, seating, over...\n",
              "4  The Factory - Cafe With a Soul   ...  [locate, Northcross, mall, shopping, center, f...\n",
              "\n",
              "[5 rows x 9 columns]"
            ]
          },
          "metadata": {
            "tags": []
          },
          "execution_count": 74
        }
      ]
    },
    {
      "cell_type": "markdown",
      "metadata": {
        "id": "c2sGPX1aocCU"
      },
      "source": [
        "## Can visualize the words with the greatest difference in counts between 'good' & 'bad'?\n",
        "\n",
        "Couple Notes: \n",
        "- Rel. freq. instead of absolute counts b/c of different numbers of reviews\n",
        "- Only look at the top 5-10 words with the greatest differences\n"
      ]
    },
    {
      "cell_type": "code",
      "metadata": {
        "id": "6mBCycLQocCU",
        "colab": {
          "base_uri": "https://localhost:8080/",
          "height": 336
        },
        "outputId": "d448195d-fd86-4abb-8cf8-c1a7900dd31d"
      },
      "source": [
        "# Isolate bad coffee shops (star_rating less than or equal to 3.0) in separate DF\n",
        "cond_bad = shops['star_rating_float'] <= 3.0\n",
        "shops_bad = shops[cond_bad]\n",
        "shops_bad.head()"
      ],
      "execution_count": 76,
      "outputs": [
        {
          "output_type": "execute_result",
          "data": {
            "text/html": [
              "<div>\n",
              "<style scoped>\n",
              "    .dataframe tbody tr th:only-of-type {\n",
              "        vertical-align: middle;\n",
              "    }\n",
              "\n",
              "    .dataframe tbody tr th {\n",
              "        vertical-align: top;\n",
              "    }\n",
              "\n",
              "    .dataframe thead th {\n",
              "        text-align: right;\n",
              "    }\n",
              "</style>\n",
              "<table border=\"1\" class=\"dataframe\">\n",
              "  <thead>\n",
              "    <tr style=\"text-align: right;\">\n",
              "      <th></th>\n",
              "      <th>coffee_shop_name</th>\n",
              "      <th>full_review_text</th>\n",
              "      <th>star_rating</th>\n",
              "      <th>star_rating_float</th>\n",
              "      <th>date</th>\n",
              "      <th>datetime</th>\n",
              "      <th>review_text</th>\n",
              "      <th>spacy_tokens</th>\n",
              "      <th>lemmas</th>\n",
              "    </tr>\n",
              "  </thead>\n",
              "  <tbody>\n",
              "    <tr>\n",
              "      <th>3</th>\n",
              "      <td>The Factory - Cafe With a Soul</td>\n",
              "      <td>11/25/2016 Very cool decor! Good drinks Nice ...</td>\n",
              "      <td>2.0 star rating</td>\n",
              "      <td>2.0</td>\n",
              "      <td>11/25/2016</td>\n",
              "      <td>2016-11-25</td>\n",
              "      <td>Very cool decor! Good drinks Nice seating  H...</td>\n",
              "      <td>[cool, decor, good, drinks, nice, seating, ove...</td>\n",
              "      <td>[cool, decor, good, drink, nice, seating, over...</td>\n",
              "    </tr>\n",
              "    <tr>\n",
              "      <th>8</th>\n",
              "      <td>The Factory - Cafe With a Soul</td>\n",
              "      <td>10/25/2016 1 check-in Ok, let's try this appr...</td>\n",
              "      <td>3.0 star rating</td>\n",
              "      <td>3.0</td>\n",
              "      <td>10/25/2016</td>\n",
              "      <td>2016-10-25</td>\n",
              "      <td>1 check-in Ok, let's try this approach...  P...</td>\n",
              "      <td>[ok, let, try, approach, pros, music, seating,...</td>\n",
              "      <td>[ok, let, try, approach, pro, music, Seating, ...</td>\n",
              "    </tr>\n",
              "    <tr>\n",
              "      <th>11</th>\n",
              "      <td>The Factory - Cafe With a Soul</td>\n",
              "      <td>11/20/2016 The store has A+ decoration, but h...</td>\n",
              "      <td>3.0 star rating</td>\n",
              "      <td>3.0</td>\n",
              "      <td>11/20/2016</td>\n",
              "      <td>2016-11-20</td>\n",
              "      <td>The store has A+ decoration, but honestly, t...</td>\n",
              "      <td>[store, a+, decoration, honestly, coffee, good...</td>\n",
              "      <td>[store, A+, decoration, honestly, coffee, good...</td>\n",
              "    </tr>\n",
              "    <tr>\n",
              "      <th>12</th>\n",
              "      <td>The Factory - Cafe With a Soul</td>\n",
              "      <td>11/17/2016 1 check-in Listed in 2016 - The Th...</td>\n",
              "      <td>3.0 star rating</td>\n",
              "      <td>3.0</td>\n",
              "      <td>11/17/2016</td>\n",
              "      <td>2016-11-17</td>\n",
              "      <td>1 check-in Listed in 2016 - The Third Time i...</td>\n",
              "      <td>[listed, 2016, time, charm, factory, a+, decor...</td>\n",
              "      <td>[list, 2016, Time, Charm, Factory, A+, decor, ...</td>\n",
              "    </tr>\n",
              "    <tr>\n",
              "      <th>25</th>\n",
              "      <td>The Factory - Cafe With a Soul</td>\n",
              "      <td>12/2/2016 Okay, so after visiting my friends ...</td>\n",
              "      <td>1.0 star rating</td>\n",
              "      <td>1.0</td>\n",
              "      <td>12/2/2016</td>\n",
              "      <td>2016-12-02</td>\n",
              "      <td>Okay, so after visiting my friends in LA and...</td>\n",
              "      <td>[okay, visiting, friends, la, trying, mint, mo...</td>\n",
              "      <td>[okay, visit, friend, LA, try, mint, mojito, i...</td>\n",
              "    </tr>\n",
              "  </tbody>\n",
              "</table>\n",
              "</div>"
            ],
            "text/plain": [
              "                   coffee_shop_name  ...                                             lemmas\n",
              "3   The Factory - Cafe With a Soul   ...  [cool, decor, good, drink, nice, seating, over...\n",
              "8   The Factory - Cafe With a Soul   ...  [ok, let, try, approach, pro, music, Seating, ...\n",
              "11  The Factory - Cafe With a Soul   ...  [store, A+, decoration, honestly, coffee, good...\n",
              "12  The Factory - Cafe With a Soul   ...  [list, 2016, Time, Charm, Factory, A+, decor, ...\n",
              "25  The Factory - Cafe With a Soul   ...  [okay, visit, friend, LA, try, mint, mojito, i...\n",
              "\n",
              "[5 rows x 9 columns]"
            ]
          },
          "metadata": {
            "tags": []
          },
          "execution_count": 76
        }
      ]
    },
    {
      "cell_type": "code",
      "metadata": {
        "colab": {
          "base_uri": "https://localhost:8080/",
          "height": 248
        },
        "id": "3gcCFvQpV2lA",
        "outputId": "eaba5a18-c367-4004-8812-7f93acfe03e2"
      },
      "source": [
        "# Word counts and Visualization of lemmas in bad coffee shops\n",
        "wc_bad = count(shops_bad['lemmas'])\n",
        "wc_bad_top20 = wc_bad[wc_bad['rank'] <= 20]\n",
        "\n",
        "squarify.plot(sizes=wc_bad_top20['pct_total'], label=wc_bad_top20['word'], alpha=.8 )\n",
        "plt.axis('off')\n",
        "plt.show()"
      ],
      "execution_count": 77,
      "outputs": [
        {
          "output_type": "display_data",
          "data": {
            "image/png": "[encoded data removed]",
            "text/plain": [
              "<Figure size 432x288 with 1 Axes>"
            ]
          },
          "metadata": {
            "tags": [],
            "needs_background": "light"
          }
        }
      ]
    },
    {
      "cell_type": "code",
      "metadata": {
        "colab": {
          "base_uri": "https://localhost:8080/",
          "height": 369
        },
        "id": "t1eoSJKhWK3j",
        "outputId": "739c14e8-d519-4cf9-fe6d-b20772d3ee32"
      },
      "source": [
        "#  Isolate good coffee shops (star_rating more than or equal to 4.0) in separate DF\n",
        "cond_good = shops['star_rating_float'] >= 4.0\n",
        "shops_good = shops[cond_good]\n",
        "shops_good.head()"
      ],
      "execution_count": 78,
      "outputs": [
        {
          "output_type": "execute_result",
          "data": {
            "text/html": [
              "<div>\n",
              "<style scoped>\n",
              "    .dataframe tbody tr th:only-of-type {\n",
              "        vertical-align: middle;\n",
              "    }\n",
              "\n",
              "    .dataframe tbody tr th {\n",
              "        vertical-align: top;\n",
              "    }\n",
              "\n",
              "    .dataframe thead th {\n",
              "        text-align: right;\n",
              "    }\n",
              "</style>\n",
              "<table border=\"1\" class=\"dataframe\">\n",
              "  <thead>\n",
              "    <tr style=\"text-align: right;\">\n",
              "      <th></th>\n",
              "      <th>coffee_shop_name</th>\n",
              "      <th>full_review_text</th>\n",
              "      <th>star_rating</th>\n",
              "      <th>star_rating_float</th>\n",
              "      <th>date</th>\n",
              "      <th>datetime</th>\n",
              "      <th>review_text</th>\n",
              "      <th>spacy_tokens</th>\n",
              "      <th>lemmas</th>\n",
              "    </tr>\n",
              "  </thead>\n",
              "  <tbody>\n",
              "    <tr>\n",
              "      <th>0</th>\n",
              "      <td>The Factory - Cafe With a Soul</td>\n",
              "      <td>11/25/2016 1 check-in Love love loved the atm...</td>\n",
              "      <td>5.0 star rating</td>\n",
              "      <td>5.0</td>\n",
              "      <td>11/25/2016</td>\n",
              "      <td>2016-11-25</td>\n",
              "      <td>1 check-in Love love loved the atmosphere! E...</td>\n",
              "      <td>[love, love, loved, atmosphere, corner, coffee...</td>\n",
              "      <td>[Love, love, love, atmosphere, corner, coffee,...</td>\n",
              "    </tr>\n",
              "    <tr>\n",
              "      <th>1</th>\n",
              "      <td>The Factory - Cafe With a Soul</td>\n",
              "      <td>12/2/2016 Listed in Date Night: Austin, Ambia...</td>\n",
              "      <td>4.0 star rating</td>\n",
              "      <td>4.0</td>\n",
              "      <td>12/2/2016</td>\n",
              "      <td>2016-12-02</td>\n",
              "      <td>Listed in Date Night: Austin, Ambiance in Au...</td>\n",
              "      <td>[listed, date, night, austin, ambiance, austin...</td>\n",
              "      <td>[list, Date, Night, Austin, Ambiance, Austin, ...</td>\n",
              "    </tr>\n",
              "    <tr>\n",
              "      <th>2</th>\n",
              "      <td>The Factory - Cafe With a Soul</td>\n",
              "      <td>11/30/2016 1 check-in Listed in Brunch Spots ...</td>\n",
              "      <td>4.0 star rating</td>\n",
              "      <td>4.0</td>\n",
              "      <td>11/30/2016</td>\n",
              "      <td>2016-11-30</td>\n",
              "      <td>1 check-in Listed in Brunch Spots I loved th...</td>\n",
              "      <td>[listed, brunch, spots, loved, eclectic, homey...</td>\n",
              "      <td>[list, Brunch, Spots, love, eclectic, homey, p...</td>\n",
              "    </tr>\n",
              "    <tr>\n",
              "      <th>4</th>\n",
              "      <td>The Factory - Cafe With a Soul</td>\n",
              "      <td>12/3/2016 1 check-in They are located within ...</td>\n",
              "      <td>4.0 star rating</td>\n",
              "      <td>4.0</td>\n",
              "      <td>12/3/2016</td>\n",
              "      <td>2016-12-03</td>\n",
              "      <td>1 check-in They are located within the North...</td>\n",
              "      <td>[located, northcross, mall, shopping, center, ...</td>\n",
              "      <td>[locate, Northcross, mall, shopping, center, f...</td>\n",
              "    </tr>\n",
              "    <tr>\n",
              "      <th>5</th>\n",
              "      <td>The Factory - Cafe With a Soul</td>\n",
              "      <td>11/20/2016 1 check-in Very cute cafe! I think...</td>\n",
              "      <td>4.0 star rating</td>\n",
              "      <td>4.0</td>\n",
              "      <td>11/20/2016</td>\n",
              "      <td>2016-11-20</td>\n",
              "      <td>1 check-in Very cute cafe! I think from the ...</td>\n",
              "      <td>[cute, cafe, think, moment, stepped, find, cut...</td>\n",
              "      <td>[cute, cafe, think, moment, step, find, cute, ...</td>\n",
              "    </tr>\n",
              "  </tbody>\n",
              "</table>\n",
              "</div>"
            ],
            "text/plain": [
              "                  coffee_shop_name  ...                                             lemmas\n",
              "0  The Factory - Cafe With a Soul   ...  [Love, love, love, atmosphere, corner, coffee,...\n",
              "1  The Factory - Cafe With a Soul   ...  [list, Date, Night, Austin, Ambiance, Austin, ...\n",
              "2  The Factory - Cafe With a Soul   ...  [list, Brunch, Spots, love, eclectic, homey, p...\n",
              "4  The Factory - Cafe With a Soul   ...  [locate, Northcross, mall, shopping, center, f...\n",
              "5  The Factory - Cafe With a Soul   ...  [cute, cafe, think, moment, step, find, cute, ...\n",
              "\n",
              "[5 rows x 9 columns]"
            ]
          },
          "metadata": {
            "tags": []
          },
          "execution_count": 78
        }
      ]
    },
    {
      "cell_type": "code",
      "metadata": {
        "colab": {
          "base_uri": "https://localhost:8080/",
          "height": 248
        },
        "id": "YmpgPTo2WzoS",
        "outputId": "f119d1b9-7024-4b4d-f468-c0703da6211e"
      },
      "source": [
        "# Word counts and Visualization of lemmas in good coffee shops\n",
        "wc_good = count(shops_good['lemmas'])\n",
        "wc_good_top20 = wc_good[wc_good['rank'] <= 20]\n",
        "\n",
        "squarify.plot(sizes=wc_good_top20['pct_total'], label=wc_good_top20['word'], alpha=.8 )\n",
        "plt.axis('off')\n",
        "plt.show()"
      ],
      "execution_count": 79,
      "outputs": [
        {
          "output_type": "display_data",
          "data": {
            "image/png": "[encoded data removed]",
            "text/plain": [
              "<Figure size 432x288 with 1 Axes>"
            ]
          },
          "metadata": {
            "tags": [],
            "needs_background": "light"
          }
        }
      ]
    },
    {
      "cell_type": "markdown",
      "metadata": {
        "id": "1dCb1q8XphcP",
        "toc-hr-collapsed": true
      },
      "source": [
        "## Stretch Goals\n",
        "\n",
        "* Analyze another corpus of documents - such as Indeed.com job listings ;).\n",
        "* Play with the Spacy API to\n",
        " - Extract Named Entities\n",
        " - Extracting 'noun chunks'\n",
        " - Attempt Document Classification with just Spacy\n",
        " - *Note:* This [course](https://course.spacy.io/) will be of interesting in helping you with these stretch goals. \n",
        "* Try to build a plotly dash app with your text data \n",
        "\n"
      ]
    }
  ]
}